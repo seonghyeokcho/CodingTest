{
 "cells": [
  {
   "cell_type": "markdown",
   "metadata": {},
   "source": [
    "## 연속된 수의 합\n",
    "- 문제 설명\n",
    "    - 연속된 세 개의 정수를 더해 12가 되는 경우는 3, 4, 5입니다. 두 정수 num과 total이 주어집니다. 연속된 수 num개를 더한 값이 total이 될 때, 정수 배열을 오름차순으로 담아 return하도록 solution함수를 완성해보세요.\n",
    "\n",
    "- 제한사항\n",
    "    - 1 ≤ num ≤ 100\n",
    "    - 0 ≤ total ≤ 1000\n",
    "    - num개의 연속된 수를 더하여 total이 될 수 없는 테스트 케이스는 없습니다."
   ]
  },
  {
   "cell_type": "code",
   "execution_count": 592,
   "metadata": {},
   "outputs": [
    {
     "data": {
      "text/plain": [
       "[5]"
      ]
     },
     "execution_count": 592,
     "metadata": {},
     "output_type": "execute_result"
    }
   ],
   "source": [
    "def solution(num, total):\n",
    "    answer = []\n",
    "    if num & 1:\n",
    "        m = total // num\n",
    "        for i in range(1, (num-1)//2 + 1):\n",
    "            answer.append(m+i)\n",
    "            answer.append(m-i)\n",
    "        answer.append(m)\n",
    "    else:\n",
    "        m = -(-total // num)\n",
    "        for i in range(1, num//2 + 1):\n",
    "            answer.append(m-1+i)\n",
    "            answer.append(m-i)\n",
    "    return sorted(answer)\n",
    "\n",
    "solution(1, 5)"
   ]
  },
  {
   "cell_type": "markdown",
   "metadata": {},
   "source": [
    "## 치킨 쿠폰\n",
    "- 문제 설명\n",
    "    - 프로그래머스 치킨은 치킨을 시켜먹으면 한 마리당 쿠폰을 한 장 발급합니다. 쿠폰을 열 장 모으면 치킨을 한 마리 서비스로 받을 수 있고, 서비스 치킨에도 쿠폰이 발급됩니다. 시켜먹은 치킨의 수 chicken이 매개변수로 주어질 때 받을 수 있는 최대 서비스 치킨의 수를 return하도록 solution 함수를 완성해주세요.\n",
    "\n",
    "- 제한사항\n",
    "    - chicken은 정수입니다.\n",
    "    - 0 ≤ chicken ≤ 1,000,000"
   ]
  },
  {
   "cell_type": "code",
   "execution_count": 694,
   "metadata": {},
   "outputs": [
    {
     "data": {
      "text/plain": [
       "222"
      ]
     },
     "execution_count": 694,
     "metadata": {},
     "output_type": "execute_result"
    }
   ],
   "source": [
    "## 내가 낸 답\n",
    "def solution(chicken):\n",
    "    answer = 0\n",
    "    while chicken // 10 > 0:\n",
    "        q, r = divmod(chicken, 10)\n",
    "        answer += q\n",
    "        chicken = q + r\n",
    "    return answer\n",
    "\n",
    "solution(1999)"
   ]
  },
  {
   "cell_type": "code",
   "execution_count": 2,
   "metadata": {},
   "outputs": [
    {
     "data": {
      "text/plain": [
       "222"
      ]
     },
     "execution_count": 2,
     "metadata": {},
     "output_type": "execute_result"
    }
   ],
   "source": [
    "## 내가 생각한 베스트 답\n",
    "def solution(chicken):\n",
    "    return (max(chicken, 1)-1) // 9\n",
    "\n",
    "solution(1999)"
   ]
  },
  {
   "cell_type": "code",
   "execution_count": 697,
   "metadata": {},
   "outputs": [
    {
     "data": {
      "text/plain": [
       "222"
      ]
     },
     "execution_count": 697,
     "metadata": {},
     "output_type": "execute_result"
    }
   ],
   "source": [
    "## ??\n",
    "def solution(chicken):\n",
    "    return int(chicken*0.11111111111)\n",
    "\n",
    "solution(1999)"
   ]
  },
  {
   "attachments": {},
   "cell_type": "markdown",
   "metadata": {},
   "source": [
    "## 로그인 성공?\n",
    "- 문제 설명\n",
    "    - 머쓱이는 프로그래머스에 로그인하려고 합니다. 머쓱이가 입력한 아이디와 패스워드가 담긴 배열 id_pw와 회원들의 정보가 담긴 2차원 배열 db가 주어질 때, 다음과 같이 로그인 성공, 실패에 따른 메시지를 return하도록 solution 함수를 완성해주세요.\n",
    "    - 아이디와 비밀번호가 모두 일치하는 회원정보가 있으면 \"login\"을 return합니다.\n",
    "    - 로그인이 실패했을 때 아이디가 일치하는 회원이 없다면 “fail”를, 아이디는 일치하지만 비밀번호가 일치하는 회원이 없다면 “wrong pw”를 return 합니다.\n",
    "\n",
    "- 제한사항\n",
    "    - 회원들의 아이디는 문자열입니다.\n",
    "    - 회원들의 아이디는 알파벳 소문자와 숫자로만 이루어져 있습니다.\n",
    "    - 회원들의 패스워드는 숫자로 구성된 문자열입니다.\n",
    "    - 회원들의 비밀번호는 같을 수 있지만 아이디는 같을 수 없습니다.\n",
    "    - id_pw의 길이는 2입니다.\n",
    "    - id_pw와 db의 원소는 [아이디, 패스워드] 형태입니다.\n",
    "    - 1 ≤ 아이디의 길이 ≤ 15\n",
    "    - 1 ≤ 비밀번호의 길이 ≤ 6\n",
    "    - 1 ≤ db의 길이 ≤ 10\n",
    "    - db의 원소의 길이는 2입니다."
   ]
  },
  {
   "cell_type": "code",
   "execution_count": 6,
   "metadata": {},
   "outputs": [
    {
     "data": {
      "text/plain": [
       "'wrong pw'"
      ]
     },
     "execution_count": 6,
     "metadata": {},
     "output_type": "execute_result"
    }
   ],
   "source": [
    "def solution(id_pw, db):\n",
    "    answer = \"\"\n",
    "    for i in db:\n",
    "        if id_pw[0] == i[0]:\n",
    "            if id_pw[1] == i[1]:\n",
    "                return \"login\"\n",
    "            else:\n",
    "                return \"wrong pw\"\n",
    "    else:\n",
    "        return \"fail\"\n",
    "\n",
    "# solution([\"meosseugi\", \"1234\"], [[\"rardss\", \"123\"], [\"yyoom\", \"1234\"], [\"meosseugi\", \"1234\"]])\n",
    "solution([\"programmer01\", \"15789\"], [[\"programmer02\", \"111111\"], [\"programmer00\", \"134\"], [\"programmer01\", \"1145\"]])"
   ]
  },
  {
   "attachments": {},
   "cell_type": "markdown",
   "metadata": {},
   "source": [
    "## 등수 매기기\n",
    "- 문제 설명\n",
    "    - 영어 점수와 수학 점수의 평균 점수를 기준으로 학생들의 등수를 매기려고 합니다. 영어 점수와 수학 점수를 담은 2차원 정수 배열 score가 주어질 때, 영어 점수와 수학 점수의 평균을 기준으로 매긴 등수를 담은 배열을 return하도록 solution 함수를 완성해주세요.\n",
    "\n",
    "- 제한사항\n",
    "    - 0 ≤ score[0], score[1] ≤ 100\n",
    "    - 1 ≤ score의 길이 ≤ 10\n",
    "    - score의 원소 길이는 2입니다.\n",
    "    - score는 중복된 원소를 갖지 않습니다."
   ]
  },
  {
   "cell_type": "code",
   "execution_count": 147,
   "metadata": {},
   "outputs": [
    {
     "name": "stdout",
     "output_type": "stream",
     "text": [
      "13.9 µs ± 48.7 ns per loop (mean ± std. dev. of 7 runs, 100,000 loops each)\n"
     ]
    }
   ],
   "source": [
    "def solution(score):\n",
    "    answer = []\n",
    "    for i in score:\n",
    "        rank = 1\n",
    "        for j in score:\n",
    "            if sum(i) < sum(j):\n",
    "                rank += 1\n",
    "        answer.append(rank)\n",
    "    return answer\n",
    "\n",
    "# solution([[80, 70], [90, 50], [40, 70], [50, 80]])\n",
    "%timeit solution([[80, 70], [70, 80], [30, 50], [90, 100], [100, 90], [100, 100], [10, 30]])"
   ]
  },
  {
   "cell_type": "code",
   "execution_count": 148,
   "metadata": {},
   "outputs": [
    {
     "name": "stdout",
     "output_type": "stream",
     "text": [
      "5.35 µs ± 15.1 ns per loop (mean ± std. dev. of 7 runs, 100,000 loops each)\n"
     ]
    }
   ],
   "source": [
    "def solution(score):\n",
    "    avg = sorted([sum(i) for i in score], reverse=True)\n",
    "    return [avg.index(sum(i))+1 for i in score]\n",
    "\n",
    "# solution([[80, 70], [90, 50], [40, 70], [50, 80]])\n",
    "%timeit solution([[80, 70], [70, 80], [30, 50], [90, 100], [100, 90], [100, 100], [10, 30]])"
   ]
  },
  {
   "attachments": {},
   "cell_type": "markdown",
   "metadata": {},
   "source": [
    "## 문자열 밀기\n",
    "- 문제 설명\n",
    "    - 문자열 \"hello\"에서 각 문자를 오른쪽으로 한 칸씩 밀고 마지막 문자는 맨 앞으로 이동시키면 \"ohell\"이 됩니다. 이것을 문자열을 민다고 정의한다면 문자열 A와 B가 매개변수로 주어질 때, A를 밀어서 B가 될 수 있다면 몇 번 밀어야 하는지 횟수를 return하고 밀어서 B가 될 수 없으면 -1을 return 하도록 solution 함수를 완성해보세요.\n",
    "\n",
    "- 제한사항\n",
    "    - 0 < A의 길이 = B의 길이 < 100\n",
    "    - A, B는 알파벳 소문자로 이루어져 있습니다.\n"
   ]
  },
  {
   "cell_type": "code",
   "execution_count": 144,
   "metadata": {},
   "outputs": [
    {
     "data": {
      "text/plain": [
       "4"
      ]
     },
     "execution_count": 144,
     "metadata": {},
     "output_type": "execute_result"
    }
   ],
   "source": [
    "def solution(A, B):\n",
    "    \n",
    "    for i in range(len(A)):\n",
    "        if A == B: return i\n",
    "        A = A[-1] + A[:-1]\n",
    "    return -1\n",
    "\n",
    "# solution(\"apple\", \"elppa\")\n",
    "# solution(\"hello\", \"ohell\")\n",
    "solution(\"hello\", \"elloh\")"
   ]
  },
  {
   "attachments": {},
   "cell_type": "markdown",
   "metadata": {},
   "source": [
    "## 컨트롤 제트\n",
    "- 문제 설명\n",
    "    - 숫자와 \"Z\"가 공백으로 구분되어 담긴 문자열이 주어집니다. 문자열에 있는 숫자를 차례대로 더하려고 합니다. 이 때 \"Z\"가 나오면 바로 전에 더했던 숫자를 뺀다는 뜻입니다. 숫자와 \"Z\"로 이루어진 문자열 s가 주어질 때, 머쓱이가 구한 값을 return 하도록 solution 함수를 완성해보세요.\n",
    "\n",
    "- 제한사항\n",
    "    - 1 ≤ s의 길이 ≤ 200\n",
    "    - -1,000 < s의 원소 중 숫자 < 1,000\n",
    "    - s는 숫자, \"Z\", 공백으로 이루어져 있습니다.\n",
    "    - s에 있는 숫자와 \"Z\"는 서로 공백으로 구분됩니다.\n",
    "    - 연속된 공백은 주어지지 않습니다.\n",
    "    - 0을 제외하고는 0으로 시작하는 숫자는 없습니다.\n",
    "    - s는 \"Z\"로 시작하지 않습니다.\n",
    "    - s의 시작과 끝에는 공백이 없습니다.\n",
    "    - \"Z\"가 연속해서 나오는 경우는 없습니다."
   ]
  },
  {
   "cell_type": "code",
   "execution_count": 122,
   "metadata": {},
   "outputs": [
    {
     "data": {
      "text/plain": [
       "4"
      ]
     },
     "execution_count": 122,
     "metadata": {},
     "output_type": "execute_result"
    }
   ],
   "source": [
    "def solution(s):\n",
    "    answer = 0\n",
    "    for i in range(len(s := s.split(\" \"))):\n",
    "        if s[i] == \"Z\":\n",
    "            answer -= int(s[i-1])\n",
    "        else:\n",
    "            answer += int(s[i])\n",
    "    return answer\n",
    "\n",
    "solution(\"1 2 Z 3\")  # 4"
   ]
  },
  {
   "cell_type": "code",
   "execution_count": 142,
   "metadata": {},
   "outputs": [
    {
     "data": {
      "text/plain": [
       "4"
      ]
     },
     "execution_count": 142,
     "metadata": {},
     "output_type": "execute_result"
    }
   ],
   "source": [
    "def solution(s):\n",
    "    answer = 0\n",
    "    for i in range(len(s := s.split(\" \"))):\n",
    "        answer += int(s[i]) if s[i] != \"Z\" else -int(s[i-1])\n",
    "    return answer\n",
    "\n",
    "solution(\"1 2 Z 3\")  # 4"
   ]
  },
  {
   "attachments": {},
   "cell_type": "markdown",
   "metadata": {},
   "source": [
    "## 삼각형의 완성조건\n",
    "- 문제 설명\n",
    "    - 선분 세 개로 삼각형을 만들기 위해서는 다음과 같은 조건을 만족해야 합니다.\n",
    "        - 가장 긴 변의 길이는 다른 두 변의 길이의 합보다 작아야 합니다.\n",
    "    - 삼각형의 두 변의 길이가 담긴 배열 sides이 매개변수로 주어집니다. 나머지 한 변이 될 수 있는 정수의 개수를 return하도록 solution 함수를 완성해주세요.\n",
    "\n",
    "- 제한사항\n",
    "    - sides의 원소는 자연수입니다.\n",
    "    - sides의 길이는 2입니다.\n",
    "    - 1 ≤ sides의 원소 ≤ 1,000"
   ]
  },
  {
   "cell_type": "code",
   "execution_count": 137,
   "metadata": {},
   "outputs": [
    {
     "data": {
      "text/plain": [
       "1"
      ]
     },
     "execution_count": 137,
     "metadata": {},
     "output_type": "execute_result"
    }
   ],
   "source": [
    "def solution(sides):\n",
    "    return len(range(max(sides)-min(sides)+1, sum(sides)))\n",
    "\n",
    "# solution([11, 7])\n",
    "solution([1, 2])"
   ]
  },
  {
   "cell_type": "code",
   "execution_count": 135,
   "metadata": {},
   "outputs": [
    {
     "data": {
      "text/plain": [
       "13"
      ]
     },
     "execution_count": 135,
     "metadata": {},
     "output_type": "execute_result"
    }
   ],
   "source": [
    "def solution(sides):\n",
    "    return sum(sides) - max(sides) + min(sides) - 1"
   ]
  },
  {
   "cell_type": "code",
   "execution_count": null,
   "metadata": {},
   "outputs": [],
   "source": [
    "def solution(sides):\n",
    "    return 2 * min(sides) - 1"
   ]
  },
  {
   "attachments": {},
   "cell_type": "markdown",
   "metadata": {},
   "source": [
    "## 케릭터의 좌표\n",
    "- 문제 설명\n",
    "    - 머쓱이는 RPG게임을 하고 있습니다. 게임에는 up, down, left, right 방향키가 있으며 각 키를 누르면 위, 아래, 왼쪽, 오른쪽으로 한 칸씩 이동합니다. 예를 들어 [0,0]에서 up을 누른다면 캐릭터의 좌표는 [0, 1], down을 누른다면 [0, -1], left를 누른다면 [-1, 0], right를 누른다면 [1, 0]입니다. 머쓱이가 입력한 방향키의 배열 keyinput와 맵의 크기 board이 매개변수로 주어집니다. 캐릭터는 항상 [0,0]에서 시작할 때 키 입력이 모두 끝난 뒤에 캐릭터의 좌표 [x, y]를 return하도록 solution 함수를 완성해주세요.\n",
    "    - [0, 0]은 board의 정 중앙에 위치합니다. 예를 들어 board의 가로 크기가 9라면 캐릭터는 왼쪽으로 최대 [-4, 0]까지 오른쪽으로 최대 [4, 0]까지 이동할 수 있습니다.\n",
    "\n",
    "- 제한사항\n",
    "    - board은 [가로 크기, 세로 크기] 형태로 주어집니다.\n",
    "    - board의 가로 크기와 세로 크기는 홀수입니다.\n",
    "    - board의 크기를 벗어난 방향키 입력은 무시합니다.\n",
    "    - 0 ≤ keyinput의 길이 ≤ 50\n",
    "    - 1 ≤ board[0] ≤ 99\n",
    "    - 1 ≤ board[1] ≤ 99\n",
    "    - keyinput은 항상 up, down, left, right만 주어집니다."
   ]
  },
  {
   "cell_type": "code",
   "execution_count": 92,
   "metadata": {},
   "outputs": [
    {
     "data": {
      "text/plain": [
       "[-1, 0]"
      ]
     },
     "execution_count": 92,
     "metadata": {},
     "output_type": "execute_result"
    }
   ],
   "source": [
    "def solution(keyinput, board):\n",
    "    x, y = 0, 0\n",
    "    for key in keyinput:\n",
    "        if key == \"left\" and x > -(board[0]-1)/2:\n",
    "            x -= 1\n",
    "        elif key == \"right\" and x < (board[0]-1)/2:\n",
    "            x += 1\n",
    "        elif key == \"up\" and y < (board[1]-1)/2:\n",
    "            y += 1\n",
    "        elif key == \"down\" and y > -(board[1]-1)/2:\n",
    "            y -= 1\n",
    "    return [x, y]\n",
    "\n",
    "# solution([\"left\", \"right\", \"up\", \"right\", \"right\"], [11, 11])\n",
    "# solution([\"down\", \"down\", \"down\", \"down\", \"down\"], [7, 9])\n",
    "# solution([\"left\", \"right\", \"up\", \"down\"], [1, 1])\n",
    "solution([\"left\", \"left\", \"right\", \"left\"], [3, 3])\n",
    "# solution([\"up\", \"up\", \"up\", \"down\"], [3, 3])"
   ]
  },
  {
   "cell_type": "code",
   "execution_count": 82,
   "metadata": {},
   "outputs": [
    {
     "data": {
      "text/plain": [
       "[0, 0]"
      ]
     },
     "execution_count": 82,
     "metadata": {},
     "output_type": "execute_result"
    }
   ],
   "source": [
    "def solution(keyinput, board):\n",
    "    left = min(keyinput.count(\"left\"), (board[0]-1)//2)\n",
    "    right = min(keyinput.count(\"right\"), (board[0]-1)//2)\n",
    "    up = min(keyinput.count(\"up\"), (board[1]-1)//2)\n",
    "    down = min(keyinput.count(\"down\"), (board[1]-1)//2)\n",
    "    return [right - left, up - down]\n",
    "\n",
    "# 반례: [\"left\", \"left\", \"right\", \"left\"], [3, 3]\n",
    "# 기댓값: [-1, 0]\n",
    "# 리턴값: [0, 0]\n",
    "# 의도: 반복문을 사용하지 않으며, 좀 더 컴팩트한 코드 구현\n",
    "# 결론: 순서가 없는 풀이는 불가능\n",
    "solution([\"left\", \"left\", \"right\", \"left\"], [3, 3])"
   ]
  },
  {
   "attachments": {},
   "cell_type": "markdown",
   "metadata": {},
   "source": [
    "## 외계어 사전\n",
    "- 문제 설명\n",
    "    - PROGRAMMERS-962 행성에 불시착한 우주비행사 머쓱이는 외계행성의 언어를 공부하려고 합니다. 알파벳이 담긴 배열 spell과 외계어 사전 dic이 매개변수로 주어집니다. spell에 담긴 알파벳을 한번씩만 모두 사용한 단어가 dic에 존재한다면 1, 존재하지 않는다면 2를 return하도록 solution 함수를 완성해주세요.\n",
    "\n",
    "- 제한사항\n",
    "    - spell과 dic의 원소는 알파벳 소문자로만 이루어져있습니다.\n",
    "    - 2 ≤ spell의 크기 ≤ 10\n",
    "    - spell의 원소의 길이는 1입니다.\n",
    "    - 1 ≤ dic의 크기 ≤ 10\n",
    "    - 1 ≤ dic의 원소의 길이 ≤ 10\n",
    "    - spell의 원소를 모두 사용해 단어를 만들어야 합니다.\n",
    "    - spell의 원소를 모두 사용해 만들 수 있는 단어는 dic에 두 개 이상 존재하지 않습니다.\n",
    "    - dic과 spell 모두 중복된 원소를 갖지 않습니다."
   ]
  },
  {
   "cell_type": "code",
   "execution_count": 139,
   "metadata": {},
   "outputs": [
    {
     "data": {
      "text/plain": [
       "1"
      ]
     },
     "execution_count": 139,
     "metadata": {},
     "output_type": "execute_result"
    }
   ],
   "source": [
    "from itertools import permutations\n",
    "from math import perm  # 숫자로만 계산가능\n",
    "\n",
    "\n",
    "def solution(spell, dic):\n",
    "    combi = permutations(spell, len(spell))\n",
    "    return int(any([c for c in combi if \"\".join(c) in dic])) or 2\n",
    "\n",
    "# solution([\"p\", \"o\", \"s\"], [\"sod\", \"eocd\", \"qixm\", \"adio\", \"soo\"])\n",
    "solution([\"z\", \"d\", \"x\"], [\"def\", \"dww\", \"dzx\", \"loveaw\"])"
   ]
  },
  {
   "cell_type": "code",
   "execution_count": 140,
   "metadata": {},
   "outputs": [
    {
     "data": {
      "text/plain": [
       "2"
      ]
     },
     "execution_count": 140,
     "metadata": {},
     "output_type": "execute_result"
    }
   ],
   "source": [
    "def solution(spell, dic):\n",
    "    spell = set(spell)\n",
    "    return int(any(d for d in dic if not spell - set(d))) or 2\n",
    "\n",
    "solution([\"p\", \"o\", \"s\"], [\"sod\", \"eocd\", \"qixm\", \"adio\", \"soo\"])\n",
    "# solution([\"z\", \"d\", \"x\"], [\"def\", \"dww\", \"dzx\", \"loveaw\"])"
   ]
  },
  {
   "attachments": {},
   "cell_type": "markdown",
   "metadata": {},
   "source": [
    "## 크기가 작은 부분문자열\n",
    "- 문제 설명\n",
    "    - 숫자로 이루어진 문자열 t와 p가 주어질 때, t에서 p와 길이가 같은 부분문자열 중에서, 이 부분문자열이 나타내는 수가 p가 나타내는 수보다 작거나 같은 것이 나오는 횟수를 return하는 함수 solution을 완성하세요.\n",
    "    - 예를 들어, t=\"3141592\"이고 p=\"271\" 인 경우, t의 길이가 3인 부분 문자열은 314, 141, 415, 159, 592입니다. 이 문자열이 나타내는 수 중 271보다 작거나 같은 수는 141, 159 2개 입니다.\n",
    "\n",
    "- 제한사항\n",
    "    - 1 ≤ p의 길이 ≤ 18\n",
    "    - p의 길이 ≤ t의 길이 ≤ 10,000\n",
    "    - t와 p는 숫자로만 이루어진 문자열이며, 0으로 시작하지 않습니다."
   ]
  },
  {
   "cell_type": "code",
   "execution_count": 104,
   "metadata": {},
   "outputs": [
    {
     "name": "stdout",
     "output_type": "stream",
     "text": [
      "844 µs ± 7.99 µs per loop (mean ± std. dev. of 7 runs, 1,000 loops each)\n"
     ]
    }
   ],
   "source": [
    "def solution(t, p):\n",
    "    answer = 0\n",
    "    for i in range(len(t)-len(p)+1):\n",
    "        answer += 1 if int(t[i:i+len(p)]) <= int(p) else 0\n",
    "    return answer\n",
    "\n",
    "# solution(\"3141592\", \"271\")\n",
    "%timeit solution(\"500220839878\"*100, \"7\")"
   ]
  },
  {
   "cell_type": "code",
   "execution_count": 108,
   "metadata": {},
   "outputs": [
    {
     "data": {
      "text/plain": [
       "8"
      ]
     },
     "execution_count": 108,
     "metadata": {},
     "output_type": "execute_result"
    }
   ],
   "source": [
    "def solution(t, p):\n",
    "    return len([1 for i in range(len(t)-len(p)+1) if t[i:i+len(p)] <= p])\n",
    "\n",
    "# solution(\"3141592\", \"271\")\n",
    "solution(\"500220839878\", \"7\")"
   ]
  },
  {
   "attachments": {},
   "cell_type": "markdown",
   "metadata": {},
   "source": [
    "## 잘라서 배열로 저장하기\n",
    "- 문제 설명\n",
    "    - 문자열 my_str과 n이 매개변수로 주어질 때, my_str을 길이 n씩 잘라서 저장한 배열을 return하도록 solution 함수를 완성해주세요.\n",
    "\n",
    "- 제한사항\n",
    "    - 1 ≤ my_str의 길이 ≤ 100\n",
    "    - 1 ≤ n ≤ my_str의 길이\n",
    "    - my_str은 알파벳 소문자, 대문자, 숫자로 이루어져 있습니다."
   ]
  },
  {
   "cell_type": "code",
   "execution_count": 9,
   "metadata": {},
   "outputs": [
    {
     "data": {
      "text/plain": [
       "['abc1Ad', 'dfggg4', '556b']"
      ]
     },
     "execution_count": 9,
     "metadata": {},
     "output_type": "execute_result"
    }
   ],
   "source": [
    "def solution(my_str, n):\n",
    "    return [my_str[n*i:n*(i+1)] for i in range(-(-len(my_str)//n))]\n",
    "\n",
    "solution(\"abc1Addfggg4556b\", 6)"
   ]
  },
  {
   "cell_type": "code",
   "execution_count": null,
   "metadata": {},
   "outputs": [],
   "source": []
  },
  {
   "cell_type": "code",
   "execution_count": null,
   "metadata": {},
   "outputs": [],
   "source": []
  }
 ],
 "metadata": {
  "kernelspec": {
   "display_name": "base",
   "language": "python",
   "name": "python3"
  },
  "language_info": {
   "codemirror_mode": {
    "name": "ipython",
    "version": 3
   },
   "file_extension": ".py",
   "mimetype": "text/x-python",
   "name": "python",
   "nbconvert_exporter": "python",
   "pygments_lexer": "ipython3",
   "version": "3.8.13 (default, Mar 28 2022, 06:16:26) \n[Clang 12.0.0 ]"
  },
  "orig_nbformat": 4,
  "vscode": {
   "interpreter": {
    "hash": "8a5edab282632443219e051e4ade2d1d5bbc671c781051bf1437897cbdfea0f1"
   }
  }
 },
 "nbformat": 4,
 "nbformat_minor": 2
}
