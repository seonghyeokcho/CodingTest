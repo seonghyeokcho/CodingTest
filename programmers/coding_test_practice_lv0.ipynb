{
 "cells": [
  {
   "attachments": {},
   "cell_type": "markdown",
   "metadata": {},
   "source": [
    "## 연속된 수의 합\n",
    "- 문제 설명\n",
    "    - 연속된 세 개의 정수를 더해 12가 되는 경우는 3, 4, 5입니다. 두 정수 num과 total이 주어집니다. 연속된 수 num개를 더한 값이 total이 될 때, 정수 배열을 오름차순으로 담아 return하도록 solution함수를 완성해보세요.\n",
    "\n",
    "- 제한사항\n",
    "    - 1 ≤ num ≤ 100\n",
    "    - 0 ≤ total ≤ 1000\n",
    "    - num개의 연속된 수를 더하여 total이 될 수 없는 테스트 케이스는 없습니다."
   ]
  },
  {
   "cell_type": "code",
   "execution_count": 6,
   "metadata": {},
   "outputs": [
    {
     "data": {
      "text/plain": [
       "[1, 2, 3, 4]"
      ]
     },
     "execution_count": 6,
     "metadata": {},
     "output_type": "execute_result"
    }
   ],
   "source": [
    "def solution(num, total):\n",
    "    answer = []\n",
    "    if num & 1:\n",
    "        m = total // num\n",
    "        for i in range(1, (num-1)//2 + 1):\n",
    "            answer.append(m+i)\n",
    "            answer.append(m-i)\n",
    "        answer.append(m)\n",
    "    else:\n",
    "        m = -(-total // num)\n",
    "        for i in range(1, num//2 + 1):\n",
    "            answer.append(m-1+i)\n",
    "            answer.append(m-i)\n",
    "    return sorted(answer)\n",
    "\n",
    "# solution(1, 5)\n",
    "# solution(3, 12)\n",
    "solution(4, 10)"
   ]
  },
  {
   "attachments": {},
   "cell_type": "markdown",
   "metadata": {},
   "source": [
    "## 치킨 쿠폰\n",
    "- 문제 설명\n",
    "    - 프로그래머스 치킨은 치킨을 시켜먹으면 한 마리당 쿠폰을 한 장 발급합니다. 쿠폰을 열 장 모으면 치킨을 한 마리 서비스로 받을 수 있고, 서비스 치킨에도 쿠폰이 발급됩니다. 시켜먹은 치킨의 수 chicken이 매개변수로 주어질 때 받을 수 있는 최대 서비스 치킨의 수를 return하도록 solution 함수를 완성해주세요.\n",
    "\n",
    "- 제한사항\n",
    "    - chicken은 정수입니다.\n",
    "    - 0 ≤ chicken ≤ 1,000,000"
   ]
  },
  {
   "cell_type": "code",
   "execution_count": 102,
   "metadata": {},
   "outputs": [
    {
     "data": {
      "text/plain": [
       "222"
      ]
     },
     "execution_count": 102,
     "metadata": {},
     "output_type": "execute_result"
    }
   ],
   "source": [
    "## 내가 낸 답\n",
    "def solution(chicken):\n",
    "    answer = 0\n",
    "    while chicken // 10 > 0:\n",
    "        q, r = divmod(chicken, 10)\n",
    "        answer += q\n",
    "        chicken = q + r\n",
    "    return answer\n",
    "\n",
    "solution(1999)"
   ]
  },
  {
   "cell_type": "code",
   "execution_count": 103,
   "metadata": {},
   "outputs": [
    {
     "data": {
      "text/plain": [
       "222"
      ]
     },
     "execution_count": 103,
     "metadata": {},
     "output_type": "execute_result"
    }
   ],
   "source": [
    "## 내가 생각한 베스트 답\n",
    "def solution(chicken):\n",
    "    return (max(chicken, 1)-1) // 9\n",
    "\n",
    "solution(1999)"
   ]
  },
  {
   "cell_type": "code",
   "execution_count": 104,
   "metadata": {},
   "outputs": [
    {
     "data": {
      "text/plain": [
       "222"
      ]
     },
     "execution_count": 104,
     "metadata": {},
     "output_type": "execute_result"
    }
   ],
   "source": [
    "## ??\n",
    "def solution(chicken):\n",
    "    return int(chicken*0.11111111111)\n",
    "\n",
    "solution(1999)"
   ]
  },
  {
   "attachments": {},
   "cell_type": "markdown",
   "metadata": {},
   "source": [
    "## 로그인 성공?\n",
    "- 문제 설명\n",
    "    - 머쓱이는 프로그래머스에 로그인하려고 합니다. 머쓱이가 입력한 아이디와 패스워드가 담긴 배열 id_pw와 회원들의 정보가 담긴 2차원 배열 db가 주어질 때, 다음과 같이 로그인 성공, 실패에 따른 메시지를 return하도록 solution 함수를 완성해주세요.\n",
    "    - 아이디와 비밀번호가 모두 일치하는 회원정보가 있으면 \"login\"을 return합니다.\n",
    "    - 로그인이 실패했을 때 아이디가 일치하는 회원이 없다면 “fail”를, 아이디는 일치하지만 비밀번호가 일치하는 회원이 없다면 “wrong pw”를 return 합니다.\n",
    "\n",
    "- 제한사항\n",
    "    - 회원들의 아이디는 문자열입니다.\n",
    "    - 회원들의 아이디는 알파벳 소문자와 숫자로만 이루어져 있습니다.\n",
    "    - 회원들의 패스워드는 숫자로 구성된 문자열입니다.\n",
    "    - 회원들의 비밀번호는 같을 수 있지만 아이디는 같을 수 없습니다.\n",
    "    - id_pw의 길이는 2입니다.\n",
    "    - id_pw와 db의 원소는 [아이디, 패스워드] 형태입니다.\n",
    "    - 1 ≤ 아이디의 길이 ≤ 15\n",
    "    - 1 ≤ 비밀번호의 길이 ≤ 6\n",
    "    - 1 ≤ db의 길이 ≤ 10\n",
    "    - db의 원소의 길이는 2입니다."
   ]
  },
  {
   "cell_type": "code",
   "execution_count": 105,
   "metadata": {},
   "outputs": [
    {
     "data": {
      "text/plain": [
       "'wrong pw'"
      ]
     },
     "execution_count": 105,
     "metadata": {},
     "output_type": "execute_result"
    }
   ],
   "source": [
    "def solution(id_pw, db):\n",
    "    for info in db:\n",
    "        if id_pw[0] == info[0]:\n",
    "            if id_pw[1] == info[1]:\n",
    "                return \"login\"\n",
    "            else:\n",
    "                return \"wrong pw\"\n",
    "    else:\n",
    "        return \"fail\"\n",
    "\n",
    "# solution([\"meosseugi\", \"1234\"], [[\"rardss\", \"123\"], [\"yyoom\", \"1234\"], [\"meosseugi\", \"1234\"]])\n",
    "solution([\"programmer01\", \"15789\"], [[\"programmer02\", \"111111\"], [\"programmer00\", \"134\"], [\"programmer01\", \"1145\"]])"
   ]
  },
  {
   "attachments": {},
   "cell_type": "markdown",
   "metadata": {},
   "source": [
    "## 등수 매기기\n",
    "- 문제 설명\n",
    "    - 영어 점수와 수학 점수의 평균 점수를 기준으로 학생들의 등수를 매기려고 합니다. 영어 점수와 수학 점수를 담은 2차원 정수 배열 score가 주어질 때, 영어 점수와 수학 점수의 평균을 기준으로 매긴 등수를 담은 배열을 return하도록 solution 함수를 완성해주세요.\n",
    "\n",
    "- 제한사항\n",
    "    - 0 ≤ score[0], score[1] ≤ 100\n",
    "    - 1 ≤ score의 길이 ≤ 10\n",
    "    - score의 원소 길이는 2입니다.\n",
    "    - score는 중복된 원소를 갖지 않습니다."
   ]
  },
  {
   "cell_type": "code",
   "execution_count": 106,
   "metadata": {},
   "outputs": [
    {
     "name": "stdout",
     "output_type": "stream",
     "text": [
      "13.7 µs ± 234 ns per loop (mean ± std. dev. of 7 runs, 100,000 loops each)\n"
     ]
    }
   ],
   "source": [
    "def solution(score):\n",
    "    answer = []\n",
    "    for i in score:\n",
    "        rank = 1\n",
    "        for j in score:\n",
    "            if sum(i) < sum(j):\n",
    "                rank += 1\n",
    "        answer.append(rank)\n",
    "    return answer\n",
    "\n",
    "# solution([[80, 70], [90, 50], [40, 70], [50, 80]])\n",
    "%timeit solution([[80, 70], [70, 80], [30, 50], [90, 100], [100, 90], [100, 100], [10, 30]])"
   ]
  },
  {
   "cell_type": "code",
   "execution_count": 107,
   "metadata": {},
   "outputs": [
    {
     "name": "stdout",
     "output_type": "stream",
     "text": [
      "4.92 µs ± 8.41 ns per loop (mean ± std. dev. of 7 runs, 100,000 loops each)\n"
     ]
    }
   ],
   "source": [
    "def solution(score):\n",
    "    avg = sorted([sum(i) for i in score], reverse=True)\n",
    "    return [avg.index(sum(i))+1 for i in score]\n",
    "\n",
    "# solution([[80, 70], [90, 50], [40, 70], [50, 80]])\n",
    "%timeit solution([[80, 70], [70, 80], [30, 50], [90, 100], [100, 90], [100, 100], [10, 30]])"
   ]
  },
  {
   "attachments": {},
   "cell_type": "markdown",
   "metadata": {},
   "source": [
    "## 문자열 밀기\n",
    "- 문제 설명\n",
    "    - 문자열 \"hello\"에서 각 문자를 오른쪽으로 한 칸씩 밀고 마지막 문자는 맨 앞으로 이동시키면 \"ohell\"이 됩니다. 이것을 문자열을 민다고 정의한다면 문자열 A와 B가 매개변수로 주어질 때, A를 밀어서 B가 될 수 있다면 몇 번 밀어야 하는지 횟수를 return하고 밀어서 B가 될 수 없으면 -1을 return 하도록 solution 함수를 완성해보세요.\n",
    "\n",
    "- 제한사항\n",
    "    - 0 < A의 길이 = B의 길이 < 100\n",
    "    - A, B는 알파벳 소문자로 이루어져 있습니다.\n"
   ]
  },
  {
   "cell_type": "code",
   "execution_count": 15,
   "metadata": {},
   "outputs": [
    {
     "data": {
      "text/plain": [
       "4"
      ]
     },
     "execution_count": 15,
     "metadata": {},
     "output_type": "execute_result"
    }
   ],
   "source": [
    "def solution(A, B):\n",
    "    \n",
    "    for i in range(len(A)):\n",
    "        if A == B: return i\n",
    "        A = A[-1] + A[:-1]\n",
    "    return -1\n",
    "\n",
    "# solution(\"apple\", \"elppa\")\n",
    "# solution(\"hello\", \"ohell\")\n",
    "solution(\"hello\", \"elloh\")"
   ]
  },
  {
   "cell_type": "code",
   "execution_count": 18,
   "metadata": {},
   "outputs": [
    {
     "data": {
      "text/plain": [
       "-1"
      ]
     },
     "execution_count": 18,
     "metadata": {},
     "output_type": "execute_result"
    }
   ],
   "source": [
    "def solution(A, B):\n",
    "    return (B * 2).find(A)\n",
    "\n",
    "solution(\"apple\", \"elppa\")\n",
    "# solution(\"hello\", \"ohell\")\n",
    "# solution(\"hello\", \"elloh\")"
   ]
  },
  {
   "attachments": {},
   "cell_type": "markdown",
   "metadata": {},
   "source": [
    "## 컨트롤 제트\n",
    "- 문제 설명\n",
    "    - 숫자와 \"Z\"가 공백으로 구분되어 담긴 문자열이 주어집니다. 문자열에 있는 숫자를 차례대로 더하려고 합니다. 이 때 \"Z\"가 나오면 바로 전에 더했던 숫자를 뺀다는 뜻입니다. 숫자와 \"Z\"로 이루어진 문자열 s가 주어질 때, 머쓱이가 구한 값을 return 하도록 solution 함수를 완성해보세요.\n",
    "\n",
    "- 제한사항\n",
    "    - 1 ≤ s의 길이 ≤ 200\n",
    "    - -1,000 < s의 원소 중 숫자 < 1,000\n",
    "    - s는 숫자, \"Z\", 공백으로 이루어져 있습니다.\n",
    "    - s에 있는 숫자와 \"Z\"는 서로 공백으로 구분됩니다.\n",
    "    - 연속된 공백은 주어지지 않습니다.\n",
    "    - 0을 제외하고는 0으로 시작하는 숫자는 없습니다.\n",
    "    - s는 \"Z\"로 시작하지 않습니다.\n",
    "    - s의 시작과 끝에는 공백이 없습니다.\n",
    "    - \"Z\"가 연속해서 나오는 경우는 없습니다."
   ]
  },
  {
   "cell_type": "code",
   "execution_count": 27,
   "metadata": {},
   "outputs": [
    {
     "name": "stdout",
     "output_type": "stream",
     "text": [
      "4.97 ms ± 238 µs per loop (mean ± std. dev. of 7 runs, 100 loops each)\n"
     ]
    }
   ],
   "source": [
    "def solution(s):\n",
    "    answer = 0\n",
    "    for i in range(len(s := s.split(\" \"))):\n",
    "        if s[i] == \"Z\":\n",
    "            answer -= int(s[i-1])\n",
    "        else:\n",
    "            answer += int(s[i])\n",
    "    return answer\n",
    "\n",
    "# solution(\"1 2 Z 3\")  # 4\n",
    "%timeit solution(\"1 2 Z 3\"*5000)"
   ]
  },
  {
   "cell_type": "code",
   "execution_count": 28,
   "metadata": {},
   "outputs": [
    {
     "name": "stdout",
     "output_type": "stream",
     "text": [
      "5.03 ms ± 195 µs per loop (mean ± std. dev. of 7 runs, 100 loops each)\n"
     ]
    }
   ],
   "source": [
    "def solution(s):\n",
    "    answer = 0\n",
    "    for i in range(len(s := s.split(\" \"))):\n",
    "        answer += int(s[i]) if s[i] != \"Z\" else -int(s[i-1])\n",
    "    return answer\n",
    "\n",
    "# solution(\"1 2 Z 3\")  # 4\n",
    "%timeit solution(\"1 2 Z 3\"*5000)"
   ]
  },
  {
   "cell_type": "code",
   "execution_count": 29,
   "metadata": {},
   "outputs": [
    {
     "name": "stdout",
     "output_type": "stream",
     "text": [
      "4.48 ms ± 76.2 µs per loop (mean ± std. dev. of 7 runs, 100 loops each)\n"
     ]
    }
   ],
   "source": [
    "def solution(s):\n",
    "    answer = 0\n",
    "    previous = 0\n",
    "    for i in s.split(\" \"):\n",
    "        if i == \"Z\":\n",
    "            answer -= previous\n",
    "        else:\n",
    "            answer += int(i)\n",
    "            previous = int(i)\n",
    "    return answer\n",
    "\n",
    "# solution(\"1 2 Z 3\")  # 4\n",
    "%timeit solution(\"1 2 Z 3\"*5000)"
   ]
  },
  {
   "attachments": {},
   "cell_type": "markdown",
   "metadata": {},
   "source": [
    "## 삼각형의 완성조건\n",
    "- 문제 설명\n",
    "    - 선분 세 개로 삼각형을 만들기 위해서는 다음과 같은 조건을 만족해야 합니다.\n",
    "        - 가장 긴 변의 길이는 다른 두 변의 길이의 합보다 작아야 합니다.\n",
    "    - 삼각형의 두 변의 길이가 담긴 배열 sides이 매개변수로 주어집니다. 나머지 한 변이 될 수 있는 정수의 개수를 return하도록 solution 함수를 완성해주세요.\n",
    "\n",
    "- 제한사항\n",
    "    - sides의 원소는 자연수입니다.\n",
    "    - sides의 길이는 2입니다.\n",
    "    - 1 ≤ sides의 원소 ≤ 1,000"
   ]
  },
  {
   "cell_type": "code",
   "execution_count": null,
   "metadata": {},
   "outputs": [
    {
     "data": {
      "text/plain": [
       "1"
      ]
     },
     "execution_count": 137,
     "metadata": {},
     "output_type": "execute_result"
    }
   ],
   "source": [
    "def solution(sides):\n",
    "    return len(range(max(sides)-min(sides)+1, sum(sides)))\n",
    "\n",
    "# solution([11, 7])\n",
    "solution([1, 2])"
   ]
  },
  {
   "cell_type": "code",
   "execution_count": null,
   "metadata": {},
   "outputs": [
    {
     "data": {
      "text/plain": [
       "13"
      ]
     },
     "execution_count": 135,
     "metadata": {},
     "output_type": "execute_result"
    }
   ],
   "source": [
    "def solution(sides):\n",
    "    return sum(sides) - max(sides) + min(sides) - 1"
   ]
  },
  {
   "cell_type": "code",
   "execution_count": null,
   "metadata": {},
   "outputs": [],
   "source": [
    "def solution(sides):\n",
    "    return 2 * min(sides) - 1"
   ]
  },
  {
   "attachments": {},
   "cell_type": "markdown",
   "metadata": {},
   "source": [
    "## 케릭터의 좌표\n",
    "- 문제 설명\n",
    "    - 머쓱이는 RPG게임을 하고 있습니다. 게임에는 up, down, left, right 방향키가 있으며 각 키를 누르면 위, 아래, 왼쪽, 오른쪽으로 한 칸씩 이동합니다. 예를 들어 [0,0]에서 up을 누른다면 캐릭터의 좌표는 [0, 1], down을 누른다면 [0, -1], left를 누른다면 [-1, 0], right를 누른다면 [1, 0]입니다. 머쓱이가 입력한 방향키의 배열 keyinput와 맵의 크기 board이 매개변수로 주어집니다. 캐릭터는 항상 [0,0]에서 시작할 때 키 입력이 모두 끝난 뒤에 캐릭터의 좌표 [x, y]를 return하도록 solution 함수를 완성해주세요.\n",
    "    - [0, 0]은 board의 정 중앙에 위치합니다. 예를 들어 board의 가로 크기가 9라면 캐릭터는 왼쪽으로 최대 [-4, 0]까지 오른쪽으로 최대 [4, 0]까지 이동할 수 있습니다.\n",
    "\n",
    "- 제한사항\n",
    "    - board은 [가로 크기, 세로 크기] 형태로 주어집니다.\n",
    "    - board의 가로 크기와 세로 크기는 홀수입니다.\n",
    "    - board의 크기를 벗어난 방향키 입력은 무시합니다.\n",
    "    - 0 ≤ keyinput의 길이 ≤ 50\n",
    "    - 1 ≤ board[0] ≤ 99\n",
    "    - 1 ≤ board[1] ≤ 99\n",
    "    - keyinput은 항상 up, down, left, right만 주어집니다."
   ]
  },
  {
   "cell_type": "code",
   "execution_count": null,
   "metadata": {},
   "outputs": [
    {
     "data": {
      "text/plain": [
       "[-1, 0]"
      ]
     },
     "execution_count": 92,
     "metadata": {},
     "output_type": "execute_result"
    }
   ],
   "source": [
    "def solution(keyinput, board):\n",
    "    x, y = 0, 0\n",
    "    for key in keyinput:\n",
    "        if key == \"left\" and x > -(board[0]-1)/2:\n",
    "            x -= 1\n",
    "        elif key == \"right\" and x < (board[0]-1)/2:\n",
    "            x += 1\n",
    "        elif key == \"up\" and y < (board[1]-1)/2:\n",
    "            y += 1\n",
    "        elif key == \"down\" and y > -(board[1]-1)/2:\n",
    "            y -= 1\n",
    "    return [x, y]\n",
    "\n",
    "# solution([\"left\", \"right\", \"up\", \"right\", \"right\"], [11, 11])\n",
    "# solution([\"down\", \"down\", \"down\", \"down\", \"down\"], [7, 9])\n",
    "# solution([\"left\", \"right\", \"up\", \"down\"], [1, 1])\n",
    "solution([\"left\", \"left\", \"right\", \"left\"], [3, 3])\n",
    "# solution([\"up\", \"up\", \"up\", \"down\"], [3, 3])"
   ]
  },
  {
   "cell_type": "code",
   "execution_count": null,
   "metadata": {},
   "outputs": [
    {
     "data": {
      "text/plain": [
       "[0, 0]"
      ]
     },
     "execution_count": 82,
     "metadata": {},
     "output_type": "execute_result"
    }
   ],
   "source": [
    "def solution(keyinput, board):\n",
    "    left = min(keyinput.count(\"left\"), (board[0]-1)//2)\n",
    "    right = min(keyinput.count(\"right\"), (board[0]-1)//2)\n",
    "    up = min(keyinput.count(\"up\"), (board[1]-1)//2)\n",
    "    down = min(keyinput.count(\"down\"), (board[1]-1)//2)\n",
    "    return [right - left, up - down]\n",
    "\n",
    "# 반례: [\"left\", \"left\", \"right\", \"left\"], [3, 3]\n",
    "# 기댓값: [-1, 0]\n",
    "# 리턴값: [0, 0]\n",
    "# 의도: 반복문을 사용하지 않으며, 좀 더 컴팩트한 코드 구현\n",
    "# 결론: 순서가 없는 풀이는 불가능\n",
    "solution([\"left\", \"left\", \"right\", \"left\"], [3, 3])"
   ]
  },
  {
   "attachments": {},
   "cell_type": "markdown",
   "metadata": {},
   "source": [
    "## 외계어 사전\n",
    "- 문제 설명\n",
    "    - PROGRAMMERS-962 행성에 불시착한 우주비행사 머쓱이는 외계행성의 언어를 공부하려고 합니다. 알파벳이 담긴 배열 spell과 외계어 사전 dic이 매개변수로 주어집니다. spell에 담긴 알파벳을 한번씩만 모두 사용한 단어가 dic에 존재한다면 1, 존재하지 않는다면 2를 return하도록 solution 함수를 완성해주세요.\n",
    "\n",
    "- 제한사항\n",
    "    - spell과 dic의 원소는 알파벳 소문자로만 이루어져있습니다.\n",
    "    - 2 ≤ spell의 크기 ≤ 10\n",
    "    - spell의 원소의 길이는 1입니다.\n",
    "    - 1 ≤ dic의 크기 ≤ 10\n",
    "    - 1 ≤ dic의 원소의 길이 ≤ 10\n",
    "    - spell의 원소를 모두 사용해 단어를 만들어야 합니다.\n",
    "    - spell의 원소를 모두 사용해 만들 수 있는 단어는 dic에 두 개 이상 존재하지 않습니다.\n",
    "    - dic과 spell 모두 중복된 원소를 갖지 않습니다."
   ]
  },
  {
   "cell_type": "code",
   "execution_count": null,
   "metadata": {},
   "outputs": [
    {
     "data": {
      "text/plain": [
       "1"
      ]
     },
     "execution_count": 139,
     "metadata": {},
     "output_type": "execute_result"
    }
   ],
   "source": [
    "from itertools import permutations\n",
    "from math import perm  # 숫자로만 계산가능\n",
    "\n",
    "\n",
    "def solution(spell, dic):\n",
    "    combi = permutations(spell, len(spell))\n",
    "    return int(any([c for c in combi if \"\".join(c) in dic])) or 2\n",
    "\n",
    "# solution([\"p\", \"o\", \"s\"], [\"sod\", \"eocd\", \"qixm\", \"adio\", \"soo\"])\n",
    "solution([\"z\", \"d\", \"x\"], [\"def\", \"dww\", \"dzx\", \"loveaw\"])"
   ]
  },
  {
   "cell_type": "code",
   "execution_count": null,
   "metadata": {},
   "outputs": [
    {
     "data": {
      "text/plain": [
       "2"
      ]
     },
     "execution_count": 140,
     "metadata": {},
     "output_type": "execute_result"
    }
   ],
   "source": [
    "def solution(spell, dic):\n",
    "    spell = set(spell)\n",
    "    return int(any(d for d in dic if not spell - set(d))) or 2\n",
    "\n",
    "solution([\"p\", \"o\", \"s\"], [\"sod\", \"eocd\", \"qixm\", \"adio\", \"soo\"])\n",
    "# solution([\"z\", \"d\", \"x\"], [\"def\", \"dww\", \"dzx\", \"loveaw\"])"
   ]
  },
  {
   "attachments": {},
   "cell_type": "markdown",
   "metadata": {},
   "source": [
    "## 크기가 작은 부분문자열\n",
    "- 문제 설명\n",
    "    - 숫자로 이루어진 문자열 t와 p가 주어질 때, t에서 p와 길이가 같은 부분문자열 중에서, 이 부분문자열이 나타내는 수가 p가 나타내는 수보다 작거나 같은 것이 나오는 횟수를 return하는 함수 solution을 완성하세요.\n",
    "    - 예를 들어, t=\"3141592\"이고 p=\"271\" 인 경우, t의 길이가 3인 부분 문자열은 314, 141, 415, 159, 592입니다. 이 문자열이 나타내는 수 중 271보다 작거나 같은 수는 141, 159 2개 입니다.\n",
    "\n",
    "- 제한사항\n",
    "    - 1 ≤ p의 길이 ≤ 18\n",
    "    - p의 길이 ≤ t의 길이 ≤ 10,000\n",
    "    - t와 p는 숫자로만 이루어진 문자열이며, 0으로 시작하지 않습니다."
   ]
  },
  {
   "cell_type": "code",
   "execution_count": null,
   "metadata": {},
   "outputs": [
    {
     "name": "stdout",
     "output_type": "stream",
     "text": [
      "844 µs ± 7.99 µs per loop (mean ± std. dev. of 7 runs, 1,000 loops each)\n"
     ]
    }
   ],
   "source": [
    "def solution(t, p):\n",
    "    answer = 0\n",
    "    for i in range(len(t)-len(p)+1):\n",
    "        answer += 1 if int(t[i:i+len(p)]) <= int(p) else 0\n",
    "    return answer\n",
    "\n",
    "# solution(\"3141592\", \"271\")\n",
    "%timeit solution(\"500220839878\"*100, \"7\")"
   ]
  },
  {
   "cell_type": "code",
   "execution_count": null,
   "metadata": {},
   "outputs": [
    {
     "data": {
      "text/plain": [
       "8"
      ]
     },
     "execution_count": 108,
     "metadata": {},
     "output_type": "execute_result"
    }
   ],
   "source": [
    "def solution(t, p):\n",
    "    return len([1 for i in range(len(t)-len(p)+1) if t[i:i+len(p)] <= p])\n",
    "\n",
    "# solution(\"3141592\", \"271\")\n",
    "solution(\"500220839878\", \"7\")"
   ]
  },
  {
   "attachments": {},
   "cell_type": "markdown",
   "metadata": {},
   "source": [
    "## 잘라서 배열로 저장하기\n",
    "- 문제 설명\n",
    "    - 문자열 my_str과 n이 매개변수로 주어질 때, my_str을 길이 n씩 잘라서 저장한 배열을 return하도록 solution 함수를 완성해주세요.\n",
    "\n",
    "- 제한사항\n",
    "    - 1 ≤ my_str의 길이 ≤ 100\n",
    "    - 1 ≤ n ≤ my_str의 길이\n",
    "    - my_str은 알파벳 소문자, 대문자, 숫자로 이루어져 있습니다."
   ]
  },
  {
   "cell_type": "code",
   "execution_count": null,
   "metadata": {},
   "outputs": [
    {
     "name": "stdout",
     "output_type": "stream",
     "text": [
      "3\n",
      "2\n"
     ]
    },
    {
     "data": {
      "text/plain": [
       "['abc1Ad', 'dfggg4', '556b']"
      ]
     },
     "execution_count": 5,
     "metadata": {},
     "output_type": "execute_result"
    }
   ],
   "source": [
    "def solution(my_str, n):\n",
    "    return [my_str[n*i:n*(i+1)] for i in range(-(-len(my_str)//n))]\n",
    "\n",
    "solution(\"abc1Addfggg4556b\", 6)"
   ]
  },
  {
   "attachments": {},
   "cell_type": "markdown",
   "metadata": {},
   "source": [
    "## 연속된 수의 합\n",
    "- 문제 설명\n",
    "    - 연속된 세 개의 정수를 더해 12가 되는 경우는 3, 4, 5입니다. 두 정수 num과 total이 주어집니다. 연속된 수 num개를 더한 값이 total이 될 때, 정수 배열을 오름차순으로 담아 return하도록 solution함수를 완성해보세요.\n",
    "\n",
    "- 제한사항\n",
    "    - 1 ≤ num ≤ 100\n",
    "    - 0 ≤ total ≤ 1000\n",
    "    - num개의 연속된 수를 더하여 total이 될 수 없는 테스트 케이스는 없습니다."
   ]
  },
  {
   "cell_type": "code",
   "execution_count": null,
   "metadata": {},
   "outputs": [
    {
     "data": {
      "text/plain": [
       "[3, 4, 5, 6]"
      ]
     },
     "metadata": {},
     "output_type": "display_data"
    }
   ],
   "source": [
    "def solution(num, total):\n",
    "    answer = []\n",
    "    if num & 1:\n",
    "        m = total // num\n",
    "        for i in range(1, (num-1)//2 + 1):\n",
    "            answer.append(m+i)\n",
    "            answer.append(m-i)\n",
    "        answer.append(m)\n",
    "    else:\n",
    "        m = -(-total // num)\n",
    "        for i in range(1, num//2 + 1):\n",
    "            answer.append(m-1+i)\n",
    "            answer.append(m-i)\n",
    "    return sorted(answer)\n",
    "\n",
    "# solution(1, 5)\n",
    "# solution(3, 12)\n",
    "solution(4, 18)"
   ]
  },
  {
   "cell_type": "code",
   "execution_count": null,
   "metadata": {},
   "outputs": [
    {
     "data": {
      "text/plain": [
       "[3, 4, 5, 6]"
      ]
     },
     "metadata": {},
     "output_type": "display_data"
    }
   ],
   "source": [
    "def solution(num, total):\n",
    "    answer = []\n",
    "    m = total / num\n",
    "    for i in range(1, num//2 + 1):\n",
    "        answer.append(int(m - (m - total//num) + i))\n",
    "        answer.append(int(m + (m - total//num) - i))\n",
    "    answer.append(int(m)) if num & 1 else None\n",
    "    return sorted(answer)\n",
    "\n",
    "# solution(1, 5)\n",
    "# solution(3, 12)\n",
    "solution(4, 18)"
   ]
  },
  {
   "attachments": {},
   "cell_type": "markdown",
   "metadata": {},
   "source": [
    "## 문자열 정렬하기\n",
    "\n",
    "- 문제 설명\n",
    "    - 영어 대소문자로 이루어진 문자열 my_string이 매개변수로 주어질 때, my_string을 모두 소문자로 바꾸고 알파벳 순서대로 정렬한 문자열을 return 하도록 solution 함수를 완성해보세요.\n",
    "\n",
    "- 제한사항\n",
    "    - 0 < my_string 길이 < 100"
   ]
  },
  {
   "cell_type": "code",
   "execution_count": null,
   "metadata": {},
   "outputs": [
    {
     "data": {
      "text/plain": [
       "'abcd'"
      ]
     },
     "execution_count": 8,
     "metadata": {},
     "output_type": "execute_result"
    }
   ],
   "source": [
    "def solution(my_string):\n",
    "    return \"\".join(sorted(my_string.lower()))\n",
    "\n",
    "solution(\"Bcad\")"
   ]
  },
  {
   "cell_type": "code",
   "execution_count": null,
   "metadata": {},
   "outputs": [
    {
     "data": {
      "text/plain": [
       "'abcd'"
      ]
     },
     "execution_count": 29,
     "metadata": {},
     "output_type": "execute_result"
    }
   ],
   "source": [
    "def solution(my_string):\n",
    "    my_string = my_string.lower()\n",
    "    \n",
    "    def merge_sort(LIST):\n",
    "        if len(LIST) == 1:\n",
    "            return LIST\n",
    "        L_p = merge_sort(LIST[:len(LIST)//2])\n",
    "        R_p = merge_sort(LIST[len(LIST)//2:])\n",
    "        merged_L = []\n",
    "        L = R = 0\n",
    "        while L < len(L_p) and R < len(R_p):\n",
    "            if L_p[L] > R_p[R]:\n",
    "                merged_L.append(R_p[R])\n",
    "                R += 1\n",
    "            else:\n",
    "                merged_L.append(L_p[L])\n",
    "                L += 1\n",
    "        merged_L += L_p[L:]\n",
    "        merged_L += R_p[R:]\n",
    "        return merged_L\n",
    "    \n",
    "    my_string = merge_sort(my_string)\n",
    "    \n",
    "    return \"\".join(my_string)\n",
    "\n",
    "solution(\"Bcad\")"
   ]
  },
  {
   "attachments": {},
   "cell_type": "markdown",
   "metadata": {},
   "source": [
    "## 제곱수 판별하기\n",
    "\n",
    "- 문제 설명\n",
    "    - 어떤 자연수를 제곱했을 때 나오는 정수를 제곱수라고 합니다. 정수 n이 매개변수로 주어질 때, n이 제곱수라면 1을 아니라면 2를 return하도록 solution 함수를 완성해주세요.\n",
    "\n",
    "- 제한사항\n",
    "    - 1 ≤ n ≤ 1,000,000"
   ]
  },
  {
   "cell_type": "code",
   "execution_count": null,
   "metadata": {},
   "outputs": [
    {
     "data": {
      "text/plain": [
       "2"
      ]
     },
     "execution_count": 46,
     "metadata": {},
     "output_type": "execute_result"
    }
   ],
   "source": [
    "def solution(n):\n",
    "    return int(int(n**0.5) == n**0.5) or 2\n",
    "\n",
    "solution(976)"
   ]
  },
  {
   "cell_type": "code",
   "execution_count": null,
   "metadata": {},
   "outputs": [
    {
     "name": "stdout",
     "output_type": "stream",
     "text": [
      "775 ns ± 30.6 ns per loop (mean ± std. dev. of 7 runs, 1,000,000 loops each)\n"
     ]
    }
   ],
   "source": [
    "def solution(n):\n",
    "    return 1 if int(n**0.5) == n**0.5 else 2\n",
    "\n",
    "%timeit solution(976)"
   ]
  },
  {
   "cell_type": "code",
   "execution_count": null,
   "metadata": {},
   "outputs": [
    {
     "name": "stdout",
     "output_type": "stream",
     "text": [
      "621 ns ± 4.82 ns per loop (mean ± std. dev. of 7 runs, 1,000,000 loops each)\n"
     ]
    }
   ],
   "source": [
    "def solution(n):\n",
    "    return 1 if (n**0.5).is_integer() else 2\n",
    "\n",
    "%timeit solution(976)"
   ]
  },
  {
   "attachments": {},
   "cell_type": "markdown",
   "metadata": {},
   "source": [
    "## 문자열안에 문자열\n",
    "- 문제 설명\n",
    "    - 문자열 str1, str2가 매개변수로 주어집니다. str1 안에 str2가 있다면 1을 없다면 2를 return하도록 solution 함수를 완성해주세요.\n",
    "\n",
    "- 제한사항\n",
    "    - 1 ≤ str1의 길이 ≤ 100\n",
    "    - 1 ≤ str2의 길이 ≤ 100\n",
    "    - 문자열은 알파벳 대문자, 소문자, 숫자로 구성되어 있습니다."
   ]
  },
  {
   "cell_type": "code",
   "execution_count": null,
   "metadata": {},
   "outputs": [
    {
     "name": "stdout",
     "output_type": "stream",
     "text": [
      "672 ns ± 87.6 ns per loop (mean ± std. dev. of 7 runs, 1,000,000 loops each)\n"
     ]
    }
   ],
   "source": [
    "def solution(str1, str2):\n",
    "    return 1 if str1.__contains__(str2) else 2\n",
    "\n",
    "%timeit solution(\"ppprrrogrammers\", \"pppp\")"
   ]
  },
  {
   "cell_type": "code",
   "execution_count": null,
   "metadata": {},
   "outputs": [
    {
     "name": "stdout",
     "output_type": "stream",
     "text": [
      "605 ns ± 23.6 ns per loop (mean ± std. dev. of 7 runs, 1,000,000 loops each)\n"
     ]
    }
   ],
   "source": [
    "def solution(str1, str2):\n",
    "    return 1 + int(str2 not in str1)\n",
    "\n",
    "%timeit solution(\"ppprrrogrammers\", \"pppp\")"
   ]
  },
  {
   "cell_type": "code",
   "execution_count": null,
   "metadata": {},
   "outputs": [
    {
     "name": "stdout",
     "output_type": "stream",
     "text": [
      "610 ns ± 6.64 ns per loop (mean ± std. dev. of 7 runs, 1,000,000 loops each)\n"
     ]
    }
   ],
   "source": [
    "def solution(str1, str2):\n",
    "    return int(str2 in str1) or 2\n",
    "\n",
    "%timeit solution(\"ppprrrogrammers\", \"pppp\")"
   ]
  },
  {
   "cell_type": "code",
   "execution_count": null,
   "metadata": {},
   "outputs": [
    {
     "name": "stdout",
     "output_type": "stream",
     "text": [
      "535 ns ± 8.69 ns per loop (mean ± std. dev. of 7 runs, 1,000,000 loops each)\n"
     ]
    }
   ],
   "source": [
    "def solution(str1, str2):\n",
    "    return 1 if str2 in str1 else 2\n",
    "\n",
    "%timeit solution(\"ppprrrogrammers\", \"pppp\")"
   ]
  },
  {
   "attachments": {},
   "cell_type": "markdown",
   "metadata": {},
   "source": [
    "## 자릿수 더하기\n",
    "- 문제 설명\n",
    "    - 정수 n이 매개변수로 주어질 때 n의 각 자리 숫자의 합을 return하도록 solution 함수를 완성해주세요\n",
    "\n",
    "- 제한사항\n",
    "    - 0 ≤ n ≤ 1,000,000"
   ]
  },
  {
   "cell_type": "code",
   "execution_count": null,
   "metadata": {},
   "outputs": [
    {
     "name": "stdout",
     "output_type": "stream",
     "text": [
      "1.87 µs ± 49.6 ns per loop (mean ± std. dev. of 7 runs, 100,000 loops each)\n"
     ]
    }
   ],
   "source": [
    "def solution(n):\n",
    "    answer = 0\n",
    "    for number in str(n):\n",
    "        answer += int(number)\n",
    "    return answer\n",
    "\n",
    "%timeit solution(930211)"
   ]
  },
  {
   "cell_type": "code",
   "execution_count": null,
   "metadata": {},
   "outputs": [
    {
     "name": "stdout",
     "output_type": "stream",
     "text": [
      "1.43 µs ± 4.54 ns per loop (mean ± std. dev. of 7 runs, 1,000,000 loops each)\n"
     ]
    }
   ],
   "source": [
    "def solution(n):\n",
    "    answer = 0\n",
    "    while n:\n",
    "        answer += n%10\n",
    "        n //= 10\n",
    "    return answer\n",
    "\n",
    "%timeit solution(930211)"
   ]
  },
  {
   "attachments": {},
   "cell_type": "markdown",
   "metadata": {},
   "source": [
    "## n의 배수 고르기\n",
    "\n",
    "- 문제 설명\n",
    "    - 정수 n과 정수 배열 numlist가 매개변수로 주어질 때, numlist에서 n의 배수가 아닌 수들을 제거한 배열을 return하도록 solution 함수를 완성해주세요.\n",
    "\n",
    "- 제한사항\n",
    "    - 1 ≤ n ≤ 10,000\n",
    "    - 1 ≤ numlist의 크기 ≤ 100\n",
    "    - 1 ≤ numlist의 원소 ≤ 100,000"
   ]
  },
  {
   "cell_type": "code",
   "execution_count": null,
   "metadata": {},
   "outputs": [
    {
     "name": "stdout",
     "output_type": "stream",
     "text": [
      "5.23 µs ± 54.2 ns per loop (mean ± std. dev. of 7 runs, 100,000 loops each)\n"
     ]
    }
   ],
   "source": [
    "def solution(n, numlist):\n",
    "    return list(filter(lambda v: v%n==0, numlist))\n",
    "\n",
    "%timeit solution(3, [4, 5, 6, 7, 8, 9, 10, 11, 12])"
   ]
  },
  {
   "cell_type": "code",
   "execution_count": null,
   "metadata": {},
   "outputs": [
    {
     "name": "stdout",
     "output_type": "stream",
     "text": [
      "1.95 µs ± 123 ns per loop (mean ± std. dev. of 7 runs, 100,000 loops each)\n"
     ]
    }
   ],
   "source": [
    "def solution(n, numlist):\n",
    "    return [number for number in numlist if not number % n]\n",
    "\n",
    "%timeit solution(3, [4, 5, 6, 7, 8, 9, 10, 11, 12])"
   ]
  },
  {
   "cell_type": "code",
   "execution_count": null,
   "metadata": {},
   "outputs": [
    {
     "name": "stdout",
     "output_type": "stream",
     "text": [
      "1.65 µs ± 45.9 ns per loop (mean ± std. dev. of 7 runs, 1,000,000 loops each)\n"
     ]
    }
   ],
   "source": [
    "def solution(n, numlist):\n",
    "    answer = []\n",
    "    for number in numlist:\n",
    "        if not number % n:\n",
    "            answer.append(number)\n",
    "    return answer\n",
    "\n",
    "%timeit solution(3, [4, 5, 6, 7, 8, 9, 10, 11, 12])"
   ]
  },
  {
   "attachments": {},
   "cell_type": "markdown",
   "metadata": {},
   "source": [
    "## 숫자 찾기\n",
    "\n",
    "- 문제 설명\n",
    "    - 정수 num과 k가 매개변수로 주어질 때, num을 이루는 숫자 중에 k가 있으면 num의 그 숫자가 있는 자리 수를 return하고 없으면 -1을 return 하도록 solution 함수를 완성해보세요.\n",
    "\n",
    "- 제한사항\n",
    "    - 0 < num < 1,000,000\n",
    "    - 0 ≤ k < 10\n",
    "    - num에 k가 여러 개 있으면 가장 처음 나타나는 자리를 return 합니다."
   ]
  },
  {
   "cell_type": "code",
   "execution_count": null,
   "metadata": {},
   "outputs": [
    {
     "name": "stdout",
     "output_type": "stream",
     "text": [
      "1.27 µs ± 14.1 ns per loop (mean ± std. dev. of 7 runs, 1,000,000 loops each)\n"
     ]
    }
   ],
   "source": [
    "def solution(num, k):\n",
    "    n = len(str(num))\n",
    "    while num > 0:\n",
    "        if num % 10 == k:\n",
    "            return n\n",
    "        num //= 10\n",
    "        n -= 1\n",
    "    return -1\n",
    "\n",
    "%timeit solution(29183, 1)"
   ]
  },
  {
   "cell_type": "code",
   "execution_count": null,
   "metadata": {},
   "outputs": [
    {
     "name": "stdout",
     "output_type": "stream",
     "text": [
      "985 ns ± 4.91 ns per loop (mean ± std. dev. of 7 runs, 1,000,000 loops each)\n"
     ]
    }
   ],
   "source": [
    "def solution(num, k):\n",
    "    n = str(num).find(str(k))\n",
    "    return n+1 if n >= 0 else -1\n",
    "\n",
    "%timeit solution(29183, 1)"
   ]
  },
  {
   "attachments": {},
   "cell_type": "markdown",
   "metadata": {},
   "source": [
    "## 배열의 유사도\n",
    "\n",
    "- 문제 설명\n",
    "    - 두 배열이 얼마나 유사한지 확인해보려고 합니다. 문자열 배열 s1과 s2가 주어질 때 같은 원소의 개수를 return하도록 solution 함수를 완성해주세요.\n",
    "\n",
    "- 제한사항\n",
    "    - 1 ≤ s1, s2의 길이 ≤ 100\n",
    "    - 1 ≤ s1, s2의 원소의 길이 ≤ 10\n",
    "    - s1과 s2의 원소는 알파벳 소문자로만 이루어져 있습니다\n",
    "    - s1과 s2는 각각 중복된 원소를 갖지 않습니다."
   ]
  },
  {
   "cell_type": "code",
   "execution_count": null,
   "metadata": {},
   "outputs": [
    {
     "data": {
      "text/plain": [
       "2"
      ]
     },
     "execution_count": 47,
     "metadata": {},
     "output_type": "execute_result"
    }
   ],
   "source": [
    "def solution(s1, s2):\n",
    "    return len(set(s1) & set(s2))\n",
    "\n",
    "solution([\"a\", \"b\", \"c\"], [\"com\", \"b\", \"d\", \"p\", \"c\"])"
   ]
  },
  {
   "attachments": {},
   "cell_type": "markdown",
   "metadata": {},
   "source": [
    "## 가장 큰 수 찾기\n",
    "\n",
    "- 문제 설명\n",
    "    - 정수 배열 array가 매개변수로 주어질 때, 가장 큰 수와 그 수의 인덱스를 담은 배열을 return 하도록 solution 함수를 완성해보세요.\n",
    "\n",
    "- 제한사항\n",
    "    - 1 ≤ array의 길이 ≤ 100\n",
    "    - 0 ≤ array 원소 ≤ 1,000\n",
    "    - array에 중복된 숫자는 없습니다."
   ]
  },
  {
   "cell_type": "code",
   "execution_count": null,
   "metadata": {},
   "outputs": [
    {
     "name": "stdout",
     "output_type": "stream",
     "text": [
      "876 ns ± 52.4 ns per loop (mean ± std. dev. of 7 runs, 1,000,000 loops each)\n"
     ]
    }
   ],
   "source": [
    "def solution(array):\n",
    "    peak = max(array)\n",
    "    return [peak, array.index(peak)]\n",
    "\n",
    "%timeit solution([1,8,3])"
   ]
  },
  {
   "attachments": {},
   "cell_type": "markdown",
   "metadata": {},
   "source": [
    "## 편지\n",
    "\n",
    "- 문제 설명\n",
    "    - 머쓱이는 할머니께 생신 축하 편지를 쓰려고 합니다. 할머니가 보시기 편하도록 글자 한 자 한 자를 가로 2cm 크기로 적으려고 하며, 편지를 가로로만 적을 때, 축하 문구 message를 적기 위해 필요한 편지지의 최소 가로길이를 return 하도록 solution 함수를 완성해주세요.\n",
    "\n",
    "- 제한사항\n",
    "    - 공백도 하나의 문자로 취급합니다.\n",
    "    - 1 ≤ message의 길이 ≤ 50\n",
    "    - 편지지의 여백은 생각하지 않습니다.\n",
    "    - message는 영문 알파벳 대소문자, ‘!’, ‘~’ 또는 공백으로만 이루어져 있습니다."
   ]
  },
  {
   "cell_type": "code",
   "execution_count": null,
   "metadata": {},
   "outputs": [
    {
     "data": {
      "text/plain": [
       "30"
      ]
     },
     "execution_count": 54,
     "metadata": {},
     "output_type": "execute_result"
    }
   ],
   "source": [
    "def solution(message):\n",
    "    return 2 * len(message)\n",
    "\n",
    "solution(\"happy birthday!\")"
   ]
  },
  {
   "attachments": {},
   "cell_type": "markdown",
   "metadata": {},
   "source": [
    "## 약수 구하기\n",
    "\n",
    "- 문제 설명\n",
    "    - 정수 n이 매개변수로 주어질 때, n의 약수를 오름차순으로 담은 배열을 return하도록 solution 함수를 완성해주세요.\n",
    "\n",
    "- 제한사항\n",
    "    - 1 ≤ n ≤ 10,000"
   ]
  },
  {
   "cell_type": "code",
   "execution_count": null,
   "metadata": {},
   "outputs": [
    {
     "name": "stdout",
     "output_type": "stream",
     "text": [
      "13.5 µs ± 139 ns per loop (mean ± std. dev. of 7 runs, 100,000 loops each)\n"
     ]
    }
   ],
   "source": [
    "def solution(n):\n",
    "    answer = []\n",
    "    for i in range(1, int(n**0.5) + 1):\n",
    "        if not n%i:\n",
    "            answer.append(i)\n",
    "            if i == int(n ** 0.5) == n ** 0.5:\n",
    "                continue\n",
    "            answer.append(n//i)\n",
    "    return sorted(answer)\n",
    "\n",
    "%timeit solution(10000)"
   ]
  },
  {
   "cell_type": "code",
   "execution_count": null,
   "metadata": {},
   "outputs": [
    {
     "name": "stdout",
     "output_type": "stream",
     "text": [
      "11.8 µs ± 25.6 ns per loop (mean ± std. dev. of 7 runs, 100,000 loops each)\n"
     ]
    }
   ],
   "source": [
    "def solution(n):\n",
    "    answer = []\n",
    "    for i in range(1, int(n**0.5) + 1):\n",
    "        if not n%i:\n",
    "            answer.append(i)\n",
    "            answer.append(n//i)\n",
    "    if n ** 0.5 == int(n ** 0.5):\n",
    "        answer.remove(int(n ** 0.5))\n",
    "    return sorted(answer)\n",
    "\n",
    "%timeit solution(10000)"
   ]
  },
  {
   "attachments": {},
   "cell_type": "markdown",
   "metadata": {},
   "source": [
    "## 한번만 등장한 문자\n",
    "\n",
    "- 문제 설명\n",
    "    - 문자열 s가 매개변수로 주어집니다. s에서 한 번만 등장하는 문자를 사전 순으로 정렬한 문자열을 return 하도록 solution 함수를 완성해보세요. 한 번만 등장하는 문자가 없을 경우 빈 문자열을 return 합니다.\n",
    "\n",
    "- 제한사항\n",
    "    - 0 < s의 길이 < 1,000\n",
    "    - s는 소문자로만 이루어져 있습니다."
   ]
  },
  {
   "cell_type": "code",
   "execution_count": 120,
   "metadata": {},
   "outputs": [
    {
     "name": "stdout",
     "output_type": "stream",
     "text": [
      "9.47 µs ± 18.2 ns per loop (mean ± std. dev. of 7 runs, 100,000 loops each)\n"
     ]
    }
   ],
   "source": [
    "def solution(s):\n",
    "    d = {i:0 for i in set(s)}\n",
    "    for i in s:\n",
    "        d[i] += 1\n",
    "    return \"\".join(sorted(i for i in d.keys() if d[i] == 1))\n",
    "\n",
    "%timeit solution(\"abcabcadc\")"
   ]
  },
  {
   "cell_type": "code",
   "execution_count": 121,
   "metadata": {},
   "outputs": [
    {
     "name": "stdout",
     "output_type": "stream",
     "text": [
      "7.84 µs ± 136 ns per loop (mean ± std. dev. of 7 runs, 100,000 loops each)\n"
     ]
    }
   ],
   "source": [
    "def solution(s):\n",
    "    return \"\".join(sorted(i for i in set(s) if s.count(i) == 1))\n",
    "\n",
    "%timeit solution(\"abcabcadc\")"
   ]
  },
  {
   "attachments": {},
   "cell_type": "markdown",
   "metadata": {},
   "source": [
    "## 인덱스 바꾸기\n",
    "\n",
    "- 문제 설명\n",
    "    - 문자열 my_string과 정수 num1, num2가 매개변수로 주어질 때, my_string에서 인덱스 num1과 인덱스 num2에 해당하는 문자를 바꾼 문자열을 return 하도록 solution 함수를 완성해보세요.\n",
    "\n",
    "- 제한사항\n",
    "    - 1 < my_string의 길이 < 100\n",
    "    - 0 ≤ num1, num2 < my_string의 길이\n",
    "    - my_string은 소문자로 이루어져 있습니다.\n",
    "    - num1 ≠ num2"
   ]
  },
  {
   "cell_type": "code",
   "execution_count": 133,
   "metadata": {},
   "outputs": [
    {
     "data": {
      "text/plain": [
       "'hlelo'"
      ]
     },
     "execution_count": 133,
     "metadata": {},
     "output_type": "execute_result"
    }
   ],
   "source": [
    "def solution(my_string, num1, num2):\n",
    "    my_string = list(my_string)\n",
    "    my_string[num1], my_string[num2] = my_string[num2], my_string[num1]\n",
    "    return \"\".join(my_string)\n",
    "\n",
    "solution(\"hello\", 1, 2)"
   ]
  },
  {
   "attachments": {},
   "cell_type": "markdown",
   "metadata": {},
   "source": [
    "## 영어가 싫어요\n",
    "\n",
    "- 문제 설명\n",
    "    - 영어가 싫은 머쓱이는 영어로 표기되어있는 숫자를 수로 바꾸려고 합니다. 문자열 numbers가 매개변수로 주어질 때, numbers를 정수로 바꿔 return 하도록 solution 함수를 완성해 주세요.\n",
    "\n",
    "- 제한사항\n",
    "    - numbers는 소문자로만 구성되어 있습니다.\n",
    "    - numbers는 \"zero\", \"one\", \"two\", \"three\", \"four\", \"five\", \"six\", \"seven\", \"eight\", \"nine\" 들이 공백 없이 조합되어 있습니다.\n",
    "    - 1 ≤ numbers의 길이 ≤ 50\n",
    "    - \"zero\"는 numbers의 맨 앞에 올 수 없습니다."
   ]
  },
  {
   "cell_type": "code",
   "execution_count": 176,
   "metadata": {},
   "outputs": [
    {
     "name": "stdout",
     "output_type": "stream",
     "text": [
      "28.4 µs ± 679 ns per loop (mean ± std. dev. of 7 runs, 10,000 loops each)\n"
     ]
    }
   ],
   "source": [
    "import re\n",
    "\n",
    "def solution(numbers):\n",
    "    answer = 0\n",
    "    prime_numbers = {\n",
    "        \"zero\":0, \"one\":1, \"two\":2, \"three\":3, \"four\":4,\n",
    "        \"five\":5, \"six\":6, \"seven\":7, \"eight\":8, \"nine\":9\n",
    "        }\n",
    "    p = re.compile(\"zero|one|two|three|four|five|six|seven|eight|nine\")\n",
    "    while numbers:\n",
    "        m = re.match(p, numbers)\n",
    "        if m:\n",
    "            numbers = numbers[m.end():]\n",
    "            answer = answer * 10 + prime_numbers[m.group()]\n",
    "    return answer\n",
    "\n",
    "%timeit solution(\"onetwothreefourfivesixseveneightnine\")"
   ]
  },
  {
   "cell_type": "code",
   "execution_count": 175,
   "metadata": {},
   "outputs": [
    {
     "name": "stdout",
     "output_type": "stream",
     "text": [
      "15.8 µs ± 119 ns per loop (mean ± std. dev. of 7 runs, 100,000 loops each)\n"
     ]
    }
   ],
   "source": [
    "def solution(numbers):\n",
    "    answer = 0\n",
    "    prime_numbers = {\n",
    "        \"zero\":0, \"one\":1, \"two\":2, \"three\":3, \"four\":4,\n",
    "        \"five\":5, \"six\":6, \"seven\":7, \"eight\":8, \"nine\":9\n",
    "        }\n",
    "    while numbers:\n",
    "        word = \"\"\n",
    "        for i, k in enumerate(numbers):\n",
    "            word += k\n",
    "            if word in prime_numbers.keys():\n",
    "                answer = answer * 10 + prime_numbers[word]\n",
    "                numbers = numbers[i+1:]\n",
    "                break\n",
    "    return answer\n",
    "\n",
    "%timeit solution(\"onetwothreefourfivesixseveneightnine\")"
   ]
  },
  {
   "cell_type": "code",
   "execution_count": 177,
   "metadata": {},
   "outputs": [
    {
     "name": "stdout",
     "output_type": "stream",
     "text": [
      "4.83 µs ± 265 ns per loop (mean ± std. dev. of 7 runs, 100,000 loops each)\n"
     ]
    }
   ],
   "source": [
    "def solution(numbers):\n",
    "    words = [\"zero\", \"one\", \"two\", \"three\", \"four\", \"five\", \"six\", \"seven\", \"eight\", \"nine\"]\n",
    "    for i, word in enumerate(words):\n",
    "        numbers = numbers.replace(word, str(i))\n",
    "    return int(numbers)\n",
    "\n",
    "%timeit solution(\"onetwothreefourfivesixseveneightnine\")"
   ]
  },
  {
   "attachments": {},
   "cell_type": "markdown",
   "metadata": {},
   "source": [
    "## 대문자와 소문자\n",
    "\n",
    "- 문제 설명\n",
    "    - 문자열 my_string이 매개변수로 주어질 때, 대문자는 소문자로 소문자는 대문자로 변환한 문자열을 return하도록 solution 함수를 완성해주세요.\n",
    "\n",
    "- 제한사항\n",
    "    - 1 ≤ my_string의 길이 ≤ 1,000\n",
    "    - my_string은 영어 대문자와 소문자로만 구성되어 있습니다."
   ]
  },
  {
   "cell_type": "code",
   "execution_count": 181,
   "metadata": {},
   "outputs": [
    {
     "name": "stdout",
     "output_type": "stream",
     "text": [
      "2.34 µs ± 280 ns per loop (mean ± std. dev. of 7 runs, 100,000 loops each)\n"
     ]
    }
   ],
   "source": [
    "def solution(my_string):\n",
    "    answer = \"\"\n",
    "    for i in my_string:\n",
    "        answer += i.lower() if i.isupper() else i.upper()\n",
    "    return answer\n",
    "\n",
    "%timeit solution(\"cccCCC\")"
   ]
  },
  {
   "cell_type": "code",
   "execution_count": 182,
   "metadata": {},
   "outputs": [
    {
     "name": "stdout",
     "output_type": "stream",
     "text": [
      "666 ns ± 29.3 ns per loop (mean ± std. dev. of 7 runs, 1,000,000 loops each)\n"
     ]
    }
   ],
   "source": [
    "def solution(my_string):\n",
    "    return my_string.swapcase()\n",
    "\n",
    "%timeit solution(\"cccCCC\")"
   ]
  },
  {
   "attachments": {},
   "cell_type": "markdown",
   "metadata": {},
   "source": [
    "## 암호 해독\n",
    "\n",
    "- 문제 설명\n",
    "    - 군 전략가 머쓱이는 전쟁 중 적군이 다음과 같은 암호 체계를 사용한다는 것을 알아냈습니다.\n",
    "        - 암호화된 문자열 cipher를 주고받습니다.\n",
    "        - 그 문자열에서 code의 배수 번째 글자만 진짜 암호입니다.\n",
    "    - 문자열 cipher와 정수 code가 매개변수로 주어질 때 해독된 암호 문자열을 return하도록 solution 함수를 완성해주세요.\n",
    "\n",
    "- 제한사항\n",
    "    - 1 ≤ cipher의 길이 ≤ 1,000\n",
    "    - 1 ≤ code ≤ cipher의 길이\n",
    "    - cipher는 소문자와 공백으로만 구성되어 있습니다.\n",
    "    - 공백도 하나의 문자로 취급합니다."
   ]
  },
  {
   "cell_type": "code",
   "execution_count": 212,
   "metadata": {},
   "outputs": [
    {
     "name": "stdout",
     "output_type": "stream",
     "text": [
      "2.5 µs ± 138 ns per loop (mean ± std. dev. of 7 runs, 100,000 loops each)\n"
     ]
    }
   ],
   "source": [
    "def solution(cipher, code):\n",
    "    answer = \"\"\n",
    "    i = 1\n",
    "    while i*code - 1 < len(cipher):\n",
    "        answer += cipher[i*code - 1]\n",
    "        i += 1\n",
    "    return answer\n",
    "\n",
    "%timeit solution(\"dfjardstddetckdaccccdegk\", 4)"
   ]
  },
  {
   "cell_type": "code",
   "execution_count": 213,
   "metadata": {},
   "outputs": [
    {
     "name": "stdout",
     "output_type": "stream",
     "text": [
      "1.75 µs ± 34.5 ns per loop (mean ± std. dev. of 7 runs, 100,000 loops each)\n"
     ]
    }
   ],
   "source": [
    "def solution(cipher, code):\n",
    "    answer = \"\"\n",
    "    for i in range(1, len(cipher)//code+1):\n",
    "        answer += cipher[i*code - 1]\n",
    "    return answer\n",
    "\n",
    "%timeit solution(\"dfjardstddetckdaccccdegk\", 4)"
   ]
  },
  {
   "cell_type": "code",
   "execution_count": 219,
   "metadata": {},
   "outputs": [
    {
     "name": "stdout",
     "output_type": "stream",
     "text": [
      "723 ns ± 38 ns per loop (mean ± std. dev. of 7 runs, 1,000,000 loops each)\n"
     ]
    }
   ],
   "source": [
    "def solution(cipher, code):\n",
    "    return (\" \"+cipher)[::code][1:]\n",
    "\n",
    "# solution(\"dfjardstddetckdaccccdegk\", 4)\n",
    "%timeit solution(\"dfjardstddetckdaccccdegk\", 4)"
   ]
  },
  {
   "cell_type": "code",
   "execution_count": 226,
   "metadata": {},
   "outputs": [
    {
     "name": "stdout",
     "output_type": "stream",
     "text": [
      "610 ns ± 18.9 ns per loop (mean ± std. dev. of 7 runs, 1,000,000 loops each)\n"
     ]
    }
   ],
   "source": [
    "def solution(cipher, code):\n",
    "    return cipher[code-1::code]\n",
    "\n",
    "# solution(\"dfjardstddetckdaccccdegk\", 4)\n",
    "%timeit solution(\"dfjardstddetckdaccccdegk\", 4)"
   ]
  },
  {
   "attachments": {},
   "cell_type": "markdown",
   "metadata": {},
   "source": [
    "## 369 게임\n",
    "\n",
    "- 문제 설명\n",
    "    - 머쓱이는 친구들과 369게임을 하고 있습니다. 369게임은 1부터 숫자를 하나씩 대며 3, 6, 9가 들어가는 숫자는 숫자 대신 3, 6, 9의 개수만큼 박수를 치는 게임입니다. 머쓱이가 말해야하는 숫자 order가 매개변수로 주어질 때, 머쓱이가 쳐야할 박수 횟수를 return 하도록 solution 함수를 완성해보세요.\n",
    "\n",
    "- 제한사항\n",
    "    - 1 ≤ order ≤ 1,000,000\n"
   ]
  },
  {
   "cell_type": "code",
   "execution_count": 247,
   "metadata": {},
   "outputs": [
    {
     "name": "stdout",
     "output_type": "stream",
     "text": [
      "2.23 µs ± 50.2 ns per loop (mean ± std. dev. of 7 runs, 100,000 loops each)\n"
     ]
    }
   ],
   "source": [
    "def solution(order):\n",
    "    order = list(str(order))\n",
    "    return sum([order.count(i) for i in [\"3\",\"6\",\"9\"]])\n",
    "\n",
    "%timeit solution(2942367)"
   ]
  },
  {
   "cell_type": "code",
   "execution_count": 240,
   "metadata": {},
   "outputs": [
    {
     "name": "stdout",
     "output_type": "stream",
     "text": [
      "1.84 µs ± 20.6 ns per loop (mean ± std. dev. of 7 runs, 1,000,000 loops each)\n"
     ]
    }
   ],
   "source": [
    "def solution(order):\n",
    "    answer = 0\n",
    "    while order:\n",
    "        if order % 10 in [3,6,9]:\n",
    "            answer += 1\n",
    "        order //= 10\n",
    "    return answer\n",
    "\n",
    "%timeit solution(2942367)"
   ]
  },
  {
   "cell_type": "code",
   "execution_count": 239,
   "metadata": {},
   "outputs": [
    {
     "name": "stdout",
     "output_type": "stream",
     "text": [
      "1.65 µs ± 40.5 ns per loop (mean ± std. dev. of 7 runs, 1,000,000 loops each)\n"
     ]
    }
   ],
   "source": [
    "def solution(order):\n",
    "    answer = 0\n",
    "    order = list(str(order))\n",
    "    for i in [\"3\",\"6\",\"9\"]:\n",
    "        answer += order.count(i)\n",
    "    return answer\n",
    "\n",
    "%timeit solution(2942367)"
   ]
  },
  {
   "attachments": {},
   "cell_type": "markdown",
   "metadata": {},
   "source": [
    "## 가까운 수\n",
    "\n",
    "- 문제 설명\n",
    "    - 정수 배열 array와 정수 n이 매개변수로 주어질 때, array에 들어있는 정수 중 n과 가장 가까운 수를 return 하도록 solution 함수를 완성해주세요.\n",
    "\n",
    "- 제한사항\n",
    "    - 1 ≤ array의 길이 ≤ 100\n",
    "    - 1 ≤ array의 원소 ≤ 100\n",
    "    - 1 ≤ n ≤ 100\n",
    "    - 가장 가까운 수가 여러 개일 경우 더 작은 수를 return 합니다.\n"
   ]
  },
  {
   "cell_type": "code",
   "execution_count": 302,
   "metadata": {},
   "outputs": [
    {
     "name": "stdout",
     "output_type": "stream",
     "text": [
      "3.49 µs ± 198 ns per loop (mean ± std. dev. of 7 runs, 100,000 loops each)\n"
     ]
    }
   ],
   "source": [
    "def solution(array, n):\n",
    "    return sorted(array, key=lambda x: (abs(x-n), x))[0]\n",
    "\n",
    "# solution([3, 10, 28, 12], 20)\n",
    "%timeit solution([3, 10, 28, 12], 20)"
   ]
  },
  {
   "cell_type": "code",
   "execution_count": 284,
   "metadata": {},
   "outputs": [
    {
     "name": "stdout",
     "output_type": "stream",
     "text": [
      "2.44 µs ± 142 ns per loop (mean ± std. dev. of 7 runs, 100,000 loops each)\n"
     ]
    }
   ],
   "source": [
    "def solution(array, n):\n",
    "    dist = {}\n",
    "    for i in array:\n",
    "        d = abs(i-n)\n",
    "        if dist.get(d) is None:\n",
    "            dist[d] = []\n",
    "        dist[d].append(i)\n",
    "    minimum = dist[min(dist.keys())]\n",
    "    return min(minimum) if len(minimum) > 1 else minimum[0]\n",
    "\n",
    "%timeit solution([3, 10, 28, 12], 20)"
   ]
  },
  {
   "cell_type": "code",
   "execution_count": 297,
   "metadata": {},
   "outputs": [
    {
     "name": "stdout",
     "output_type": "stream",
     "text": [
      "1.9 µs ± 139 ns per loop (mean ± std. dev. of 7 runs, 100,000 loops each)\n"
     ]
    }
   ],
   "source": [
    "def solution(array, n):\n",
    "    answer = 0\n",
    "    dist = float(\"inf\")\n",
    "    for number in array:\n",
    "        d = abs(n - number)\n",
    "        if dist > d:\n",
    "            answer = number\n",
    "            dist = d\n",
    "        elif dist == d and answer > number:\n",
    "            answer = number\n",
    "    return answer\n",
    "\n",
    "%timeit solution([3, 10, 28, 12], 20)"
   ]
  },
  {
   "attachments": {},
   "cell_type": "markdown",
   "metadata": {},
   "source": [
    "## 삼각형의 완성조건\n",
    "\n",
    "- 문제 설명\n",
    "    - 선분 세 개로 삼각형을 만들기 위해서는 다음과 같은 조건을 만족해야 합니다.\n",
    "        - 가장 긴 변의 길이는 다른 두 변의 길이의 합보다 작아야 합니다.\n",
    "    - 삼각형의 세 변의 길이가 담긴 배열 sides이 매개변수로 주어집니다. 세 변으로 삼각형을 만들 수 있다면 1, 만들 수 없다면 2를 return하도록 solution 함수를 완성해주세요.\n",
    "\n",
    "- 제한사항\n",
    "    - sides의 원소는 자연수입니다.\n",
    "    - sides의 길이는 3입니다.\n",
    "    - 1 ≤ sides의 원소 ≤ 1,000"
   ]
  },
  {
   "cell_type": "code",
   "execution_count": 308,
   "metadata": {},
   "outputs": [
    {
     "name": "stdout",
     "output_type": "stream",
     "text": [
      "982 ns ± 11.3 ns per loop (mean ± std. dev. of 7 runs, 1,000,000 loops each)\n"
     ]
    }
   ],
   "source": [
    "def solution(sides):\n",
    "    return 1 if max(sides) < sum(sides) - max(sides) else 2\n",
    "\n",
    "%timeit solution([199, 72, 222])"
   ]
  },
  {
   "attachments": {},
   "cell_type": "markdown",
   "metadata": {},
   "source": [
    "## 중복된 문자 제거\n",
    "\n",
    "- 문제 설명\n",
    "    - 문자열 my_string이 매개변수로 주어집니다. my_string에서 중복된 문자를 제거하고 하나의 문자만 남긴 문자열을 return하도록 solution 함수를 완성해주세요.\n",
    "\n",
    "- 제한사항\n",
    "    - 1 ≤ my_string ≤ 110\n",
    "    - my_string은 대문자, 소문자, 공백으로 구성되어 있습니다.\n",
    "    - 대문자와 소문자를 구분합니다.\n",
    "    - 공백(\" \")도 하나의 문자로 구분합니다.\n",
    "    - 중복된 문자 중 가장 앞에 있는 문자를 남깁니다."
   ]
  },
  {
   "cell_type": "code",
   "execution_count": 336,
   "metadata": {},
   "outputs": [
    {
     "name": "stdout",
     "output_type": "stream",
     "text": [
      "15.1 µs ± 74.1 ns per loop (mean ± std. dev. of 7 runs, 100,000 loops each)\n"
     ]
    }
   ],
   "source": [
    "def solution(my_string):\n",
    "    answer = \"\"\n",
    "    exists = {}\n",
    "    for i in my_string:\n",
    "        if exists.get(i) is None:\n",
    "            exists[i] = True\n",
    "            answer += i\n",
    "    return answer\n",
    "\n",
    "%timeit solution(\"We are the world\"*7)"
   ]
  },
  {
   "cell_type": "code",
   "execution_count": 337,
   "metadata": {},
   "outputs": [
    {
     "name": "stdout",
     "output_type": "stream",
     "text": [
      "11 µs ± 54.2 ns per loop (mean ± std. dev. of 7 runs, 100,000 loops each)\n"
     ]
    }
   ],
   "source": [
    "def solution(my_string):\n",
    "    answer = \"\"\n",
    "    for i in my_string:\n",
    "        if i in answer:\n",
    "            continue\n",
    "        answer += i\n",
    "    return answer\n",
    "\n",
    "# solution(\"We are the world\")\n",
    "%timeit solution(\"We are the world\"*7)"
   ]
  },
  {
   "cell_type": "code",
   "execution_count": 339,
   "metadata": {},
   "outputs": [
    {
     "name": "stdout",
     "output_type": "stream",
     "text": [
      "3.41 µs ± 116 ns per loop (mean ± std. dev. of 7 runs, 100,000 loops each)\n"
     ]
    }
   ],
   "source": [
    "def solution(my_string):\n",
    "    return ''.join(dict.fromkeys(my_string))\n",
    "\n",
    "%timeit solution(\"We are the world\"*7)"
   ]
  },
  {
   "attachments": {},
   "cell_type": "markdown",
   "metadata": {},
   "source": [
    "## k의 개수\n",
    "\n",
    "- 문제 설명\n",
    "    - 1부터 13까지의 수에서, 1은 1, 10, 11, 12, 13 이렇게 총 6번 등장합니다. 정수 i, j, k가 매개변수로 주어질 때, i부터 j까지 k가 몇 번 등장하는지 return 하도록 solution 함수를 완성해주세요.\n",
    "\n",
    "- 제한사항\n",
    "    - 1 ≤ i < j ≤ 100,000\n",
    "    - 0 ≤ k ≤ 9"
   ]
  },
  {
   "cell_type": "code",
   "execution_count": 360,
   "metadata": {},
   "outputs": [
    {
     "name": "stdout",
     "output_type": "stream",
     "text": [
      "19.8 µs ± 1.14 µs per loop (mean ± std. dev. of 7 runs, 10,000 loops each)\n"
     ]
    }
   ],
   "source": [
    "def solution(i, j, k):\n",
    "    answer = 0\n",
    "    for number in range(i, j+1):\n",
    "        answer += str(number).count(str(k))\n",
    "    return answer\n",
    "\n",
    "%timeit solution(10, 50, 5)"
   ]
  },
  {
   "cell_type": "code",
   "execution_count": 359,
   "metadata": {},
   "outputs": [
    {
     "name": "stdout",
     "output_type": "stream",
     "text": [
      "16.1 µs ± 1.18 µs per loop (mean ± std. dev. of 7 runs, 100,000 loops each)\n"
     ]
    }
   ],
   "source": [
    "def solution(i, j, k):\n",
    "    answer = 0\n",
    "    for number in range(i, j+1):\n",
    "        while number:\n",
    "            if number % 10 == k:\n",
    "                answer += 1\n",
    "            number //= 10\n",
    "    return answer\n",
    "\n",
    "# solution(10, 50, 5)\n",
    "%timeit solution(10, 50, 5)"
   ]
  },
  {
   "attachments": {},
   "cell_type": "markdown",
   "metadata": {},
   "source": [
    "## A로 B 만들기\n",
    "\n",
    "- 문제 설명\n",
    "    - 문자열 before와 after가 매개변수로 주어질 때, before의 순서를 바꾸어 after를 만들 수 있으면 1을, 만들 수 없으면 0을 return 하도록 solution 함수를 완성해보세요.\n",
    "\n",
    "- 제한사항\n",
    "    - 0 < before의 길이 == after의 길이 < 1,000\n",
    "    - before와 after는 모두 소문자로 이루어져 있습니다."
   ]
  },
  {
   "cell_type": "code",
   "execution_count": 371,
   "metadata": {},
   "outputs": [
    {
     "name": "stdout",
     "output_type": "stream",
     "text": [
      "1.11 µs ± 9.23 ns per loop (mean ± std. dev. of 7 runs, 1,000,000 loops each)\n"
     ]
    }
   ],
   "source": [
    "def solution(before, after):\n",
    "    return int(sorted(before) == sorted(after))\n",
    "\n",
    "%timeit solution(\"allpe\", \"apple\")"
   ]
  },
  {
   "attachments": {},
   "cell_type": "markdown",
   "metadata": {},
   "source": [
    "## 이진수 더하기\n",
    "\n",
    "- 문제 설명\n",
    "    - 이진수를 의미하는 두 개의 문자열 bin1과 bin2가 매개변수로 주어질 때, 두 이진수의 합을 return하도록 solution 함수를 완성해주세요.\n",
    "\n",
    "- 제한사항\n",
    "    - return 값은 이진수를 의미하는 문자열입니다.\n",
    "    - 1 ≤ bin1, bin2의 길이 ≤ 10\n",
    "    - bin1과 bin2는 0과 1로만 이루어져 있습니다.\n",
    "    - bin1과 bin2는 \"0\"을 제외하고 0으로 시작하지 않습니다."
   ]
  },
  {
   "cell_type": "code",
   "execution_count": 389,
   "metadata": {},
   "outputs": [
    {
     "name": "stdout",
     "output_type": "stream",
     "text": [
      "969 ns ± 4.17 ns per loop (mean ± std. dev. of 7 runs, 1,000,000 loops each)\n"
     ]
    }
   ],
   "source": [
    "def solution(bin1, bin2):\n",
    "    return bin(int(bin1, 2) + int(bin2, 2))[2:]\n",
    "\n",
    "%timeit solution(\"1001\", \"1111\")"
   ]
  },
  {
   "cell_type": "code",
   "execution_count": 390,
   "metadata": {},
   "outputs": [
    {
     "name": "stdout",
     "output_type": "stream",
     "text": [
      "987 ns ± 7.5 ns per loop (mean ± std. dev. of 7 runs, 1,000,000 loops each)\n"
     ]
    }
   ],
   "source": [
    "def solution(bin1, bin2):\n",
    "    return format(int(bin1, 2) + int(bin2, 2), \"b\")\n",
    "\n",
    "%timeit solution(\"1001\", \"1111\")"
   ]
  },
  {
   "attachments": {},
   "cell_type": "markdown",
   "metadata": {},
   "source": [
    "## 유한소수 판별하기\n",
    "\n",
    "- 문제 설명\n",
    "    - 소수점 아래 숫자가 계속되지 않고 유한개인 소수를 유한소수라고 합니다. 분수를 소수로 고칠 때 유한소수로 나타낼 수 있는 분수인지 판별하려고 합니다. 유한소수가 되기 위한 분수의 조건은 다음과 같습니다.\n",
    "        - 기약분수로 나타내었을 때, 분모의 소인수가 2와 5만 존재해야 합니다.\n",
    "    - 두 정수 a와 b가 매개변수로 주어질 때, a/b가 유한소수이면 1을, 무한소수라면 2를 return하도록 solution 함수를 완성해주세요.\n",
    "\n",
    "- 제한사항\n",
    "    - a, b는 정수\n",
    "    - 0 < a ≤ 1,000\n",
    "    - 0 < b ≤ 1,000"
   ]
  },
  {
   "cell_type": "code",
   "execution_count": 12,
   "metadata": {},
   "outputs": [
    {
     "data": {
      "text/plain": [
       "2"
      ]
     },
     "execution_count": 12,
     "metadata": {},
     "output_type": "execute_result"
    }
   ],
   "source": [
    "def solution(a, b):\n",
    "    c, d = a, b\n",
    "    while d > 0:\n",
    "        c, d = d, c%d\n",
    "    gcd = c\n",
    "    if gcd in [1, b] and a % b == 0:\n",
    "        return 1\n",
    "    a, b = a//gcd, b//gcd\n",
    "    prime = set()\n",
    "    i = 2\n",
    "    while i <= b:\n",
    "        if b % i == 0:\n",
    "            prime.add(i)\n",
    "            b //= i\n",
    "        else:\n",
    "            i += 1\n",
    "    return 1 if prime in [{2}, {5}, {2,5}] else 2\n",
    "\n",
    "solution(7, 30)"
   ]
  },
  {
   "cell_type": "code",
   "execution_count": 13,
   "metadata": {},
   "outputs": [
    {
     "data": {
      "text/plain": [
       "2"
      ]
     },
     "execution_count": 13,
     "metadata": {},
     "output_type": "execute_result"
    }
   ],
   "source": [
    "def solution(a, b):\n",
    "    c, d = a, b\n",
    "    while d > 0:\n",
    "        c, d = d, c%d\n",
    "    gcd = c\n",
    "    b //= gcd\n",
    "    while b % 2 == 0:\n",
    "        b //= 2\n",
    "    while b % 5 == 0:\n",
    "        b //= 5\n",
    "    return 1 if b == 1 else 2\n",
    "\n",
    "solution(7, 30)"
   ]
  },
  {
   "cell_type": "code",
   "execution_count": 5,
   "metadata": {},
   "outputs": [
    {
     "data": {
      "text/plain": [
       "[1, 2]"
      ]
     },
     "execution_count": 5,
     "metadata": {},
     "output_type": "execute_result"
    }
   ],
   "source": [
    "def solution(arr, query):\n",
    "    for i in range(len(query)):\n",
    "        arr = arr[:query[i]] if i % 2 == 0 else arr[query[i]:]\n",
    "    return arr if arr else [-1]\n",
    "\n",
    "solution([0, 1, 2, 3, 4, 5], [4, 1, 2])"
   ]
  },
  {
   "cell_type": "markdown",
   "metadata": {},
   "source": [
    "## 코드 처리하기\n",
    "\n",
    "- 문제 설명\n",
    "    - 문자열 code가 주어집니다.\n",
    "    - code를 앞에서부터 읽으면서 만약 문자가 \"1\"이면 mode를 바꿉니다. mode에 따라 code를 읽어가면서 문자열 ret을 만들어냅니다.\n",
    "    - mode는 0과 1이 있으며, idx를 0 부터 code의 길이 - 1 까지 1씩 키워나가면서 code[idx]의 값에 따라 다음과 같이 행동합니다.\n",
    "\n",
    "        - mode가 0일 때\n",
    "            - code[idx]가 \"1\"이 아니면 idx가 짝수일 때만 ret의 맨 뒤에 code[idx]를 추가합니다.\n",
    "            - code[idx]가 \"1\"이면 mode를 0에서 1로 바꿉니다.\n",
    "        - mode가 1일 때\n",
    "            - code[idx]가 \"1\"이 아니면 idx가 홀수일 때만 ret의 맨 뒤에 code[idx]를 추가합니다.\n",
    "            - code[idx]가 \"1\"이면 mode를 1에서 0으로 바꿉니다.\n",
    "    - 문자열 code를 통해 만들어진 문자열 ret를 return 하는 solution 함수를 완성해 주세요.\n",
    "    - 단, 시작할 때 mode는 0이며, return 하려는 ret가 만약 빈 문자열이라면 대신 \"EMPTY\"를 return 합니다.\n",
    "\n",
    "- 제한사항\n",
    "    - 1 ≤ code의 길이 ≤ 100,000\n",
    "    - code는 알파벳 소문자 또는 \"1\"로 이루어진 문자열입니다."
   ]
  },
  {
   "cell_type": "code",
   "execution_count": null,
   "metadata": {},
   "outputs": [],
   "source": [
    "# 내가 제출한 정답\n",
    "\n",
    "def solution(code):\n",
    "    answer = \"\"\n",
    "    mode = 0\n",
    "    for i in range(len(code)):\n",
    "        if code[i] == \"1\":\n",
    "            mode = abs(mode - 1)\n",
    "            continue\n",
    "        \n",
    "        if mode == 0 and i&1 == 0:\n",
    "            answer += code[i]\n",
    "        elif mode == 1 and i&1 == 1:\n",
    "            answer += code[i]\n",
    "    return answer or \"EMPTY\"\n",
    "\n",
    "solution(\"abc1abc1abc\")"
   ]
  },
  {
   "cell_type": "code",
   "execution_count": null,
   "metadata": {},
   "outputs": [],
   "source": [
    "# 다른 사람의 풀이를 참고하여 수정한 최적의 풀이(주관적인)\n",
    "\n",
    "def solution(code):\n",
    "    answer = \"\"\n",
    "    mode = 0\n",
    "    \n",
    "    for i in range(len(code)):\n",
    "        if code[i] == \"1\":\n",
    "            mode ^= 1\n",
    "        else:\n",
    "            if i & 1 == mode:  # 수정: if i % 2 == mode\n",
    "                answer += code[i]\n",
    "    \n",
    "    return answer or \"EMPTY\"  # 수정: answer if answer else \"EMPTY\"\n",
    "\n",
    "solution(\"abc1abc1abc\")"
   ]
  },
  {
   "cell_type": "markdown",
   "metadata": {},
   "source": [
    "## 등차수열의 특정한 항만 더하기\n",
    "\n",
    "- 문제 설명\n",
    "    - 두 정수 a, d와 길이가 n인 boolean 배열 included가 주어집니다. 첫째항이 a, 공차가 d인 등차수열에서 included[i]가 i + 1항을 의미할 때, 이 등차수열의 1항부터 n항까지 included가 true인 항들만 더한 값을 return 하는 solution 함수를 작성해 주세요.\n",
    "\n",
    "- 제한사항\n",
    "    - 1 ≤ a ≤ 100\n",
    "    - 1 ≤ d ≤ 100\n",
    "    - 1 ≤ included의 길이 ≤ 100\n",
    "    - included에는 true가 적어도 하나 존재합니다."
   ]
  },
  {
   "cell_type": "code",
   "execution_count": null,
   "metadata": {},
   "outputs": [
    {
     "data": {
      "text/plain": [
       "37"
      ]
     },
     "execution_count": 6,
     "metadata": {},
     "output_type": "execute_result"
    }
   ],
   "source": [
    "# 내가 작성한 정답 초안\n",
    "\n",
    "def solution(a, d, included):\n",
    "    dp = [0] * len(included)\n",
    "    dp[0] = a\n",
    "    \n",
    "    for i in range(1, len(included)):\n",
    "        dp[i] = dp[i-1] + d\n",
    "        \n",
    "    return sum([dp[i] for i in range(len(dp)) if included[i]])\n",
    "\n",
    "solution(3, 4, [True, False, False, True, True])"
   ]
  },
  {
   "cell_type": "code",
   "execution_count": null,
   "metadata": {},
   "outputs": [
    {
     "name": "stdout",
     "output_type": "stream",
     "text": [
      "718 ns ± 48 ns per loop (mean ± std. dev. of 7 runs, 1,000,000 loops each)\n"
     ]
    }
   ],
   "source": [
    "# 내가 제출한 정답\n",
    "\n",
    "def solution(a, d, included):\n",
    "    answer = 0\n",
    "    \n",
    "    for i in range(1, len(included)+1):\n",
    "        if included[i-1]:\n",
    "            answer += a + (i-1)*d\n",
    "        \n",
    "    return answer\n",
    "\n",
    "%timeit solution(3, 4, [True, False, False, True, True])"
   ]
  },
  {
   "cell_type": "code",
   "execution_count": null,
   "metadata": {},
   "outputs": [
    {
     "name": "stdout",
     "output_type": "stream",
     "text": [
      "986 ns ± 39.9 ns per loop (mean ± std. dev. of 7 runs, 1,000,000 loops each)\n"
     ]
    }
   ],
   "source": [
    "# 다른 사람의 풀이\n",
    "# BUT 이러면 False일때도 덧셈, 곱셈연산 해야되서 기존 풀이보다 느리게 됨\n",
    "\n",
    "def solution(a, d, included):\n",
    "    answer = 0\n",
    "    for i in range(len(included)):\n",
    "        answer += (a + d * i) * int(included[i])  # 조건문을 쓰지 않는 Trick\n",
    "    return answer\n",
    "\n",
    "%timeit solution(3, 4, [True, False, False, True, True])"
   ]
  },
  {
   "cell_type": "markdown",
   "metadata": {},
   "source": [
    "## 원소들의 곱과 합\n",
    "\n",
    "- 문제 설명\n",
    "    - 정수가 담긴 리스트 num_list가 주어질 때, 모든 원소들의 곱이 모든 원소들의 합의 제곱보다 작으면 1을 크면 0을 return하도록 solution 함수를 완성해주세요.\n",
    "\n",
    "- 제한사항\n",
    "    - 2 ≤ num_list의 길이 ≤ 10\n",
    "    - 1 ≤ num_list의 원소 ≤ 9"
   ]
  },
  {
   "cell_type": "code",
   "execution_count": null,
   "metadata": {},
   "outputs": [
    {
     "data": {
      "text/plain": [
       "0"
      ]
     },
     "execution_count": 20,
     "metadata": {},
     "output_type": "execute_result"
    }
   ],
   "source": [
    "# 내가 작성한 초안\n",
    "from functools import reduce\n",
    "\n",
    "\n",
    "def solution(num_list):\n",
    "    add = reduce(lambda x, y: x+y, num_list) ** 2\n",
    "    mul = reduce(lambda x, y: x*y, num_list)\n",
    "    return 1 if add > mul else 0\n",
    "\n",
    "# solution([3, 4, 5, 2, 1])\n",
    "solution([5, 7, 8, 3])"
   ]
  },
  {
   "cell_type": "code",
   "execution_count": null,
   "metadata": {},
   "outputs": [
    {
     "data": {
      "text/plain": [
       "0"
      ]
     },
     "execution_count": 19,
     "metadata": {},
     "output_type": "execute_result"
    }
   ],
   "source": [
    "# 내가 제출한 정답\n",
    "\n",
    "def solution(num_list):\n",
    "    add, mul = 0, 1\n",
    "    for number in num_list:\n",
    "        add += number\n",
    "        mul *= number\n",
    "    return 1 if add**2 > mul else 0\n",
    "\n",
    "# solution([3, 4, 5, 2, 1])\n",
    "solution([5, 7, 8, 3])"
   ]
  },
  {
   "cell_type": "code",
   "execution_count": null,
   "metadata": {},
   "outputs": [],
   "source": []
  },
  {
   "cell_type": "code",
   "execution_count": null,
   "metadata": {},
   "outputs": [],
   "source": []
  }
 ],
 "metadata": {
  "kernelspec": {
   "display_name": "base",
   "language": "python",
   "name": "python3"
  },
  "language_info": {
   "codemirror_mode": {
    "name": "ipython",
    "version": 3
   },
   "file_extension": ".py",
   "mimetype": "text/x-python",
   "name": "python",
   "nbconvert_exporter": "python",
   "pygments_lexer": "ipython3",
   "version": "3.10.13"
  },
  "orig_nbformat": 4,
  "vscode": {
   "interpreter": {
    "hash": "38cc0cca68228d4d18227abe74ed813685db17db46984279e4aabdddebf5f1ba"
   }
  }
 },
 "nbformat": 4,
 "nbformat_minor": 2
}
