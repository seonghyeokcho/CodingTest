{
 "cells": [
  {
   "cell_type": "code",
   "execution_count": 6,
   "metadata": {},
   "outputs": [
    {
     "data": {
      "text/plain": [
       "[2, 4, 200, -198, 2, 4, 6]"
      ]
     },
     "execution_count": 6,
     "metadata": {},
     "output_type": "execute_result"
    }
   ],
   "source": [
    "def solution(numbers):\n",
    "    answer = []\n",
    "    for i in numbers:\n",
    "        answer.append(i * 2)\n",
    "    return answer\n",
    "\n",
    "# numbers = [1,2,3,4,5]\n",
    "numbers = [1, 2, 100, -99, 1, 2, 3]\n",
    "solution(numbers)"
   ]
  },
  {
   "cell_type": "markdown",
   "metadata": {},
   "source": [
    "- 문제 설명\n",
    "    - 머쓱이네 피자가게는 피자를 두 조각에서 열 조각까지 원하는 조각 수로 잘라줍니다. 피자 조각 수 slice와 피자를 먹는 사람의 수 n이 매개변수로 주어질 때, n명의 사람이 최소 한 조각 이상 피자를 먹으려면 최소 몇 판의 피자를 시켜야 하는지를 return 하도록 solution 함수를 완성해보세요.\n",
    "\n",
    "- 제한사항\n",
    "    - 2 ≤ slice ≤ 10\n",
    "    - 1 ≤ n ≤ 100"
   ]
  },
  {
   "cell_type": "code",
   "execution_count": 13,
   "metadata": {},
   "outputs": [
    {
     "data": {
      "text/plain": [
       "3"
      ]
     },
     "execution_count": 13,
     "metadata": {},
     "output_type": "execute_result"
    }
   ],
   "source": [
    "def solution(slice, n):\n",
    "    answer = 1  # 판 수\n",
    "    \n",
    "    pieces = slice\n",
    "    while slice < n:  # 피자 조각이 사람의 수보다 같거나 클때까지\n",
    "        answer += 1  # answer = answer + 1\n",
    "        slice += pieces  # slice = slice + pieces\n",
    "    return answer\n",
    "\n",
    "slice = 4  # 피자 한 판 당 조각의 수\n",
    "n = 12  # 피자 먹는 사람 수\n",
    "solution(slice, n)"
   ]
  },
  {
   "cell_type": "code",
   "execution_count": 22,
   "metadata": {},
   "outputs": [
    {
     "name": "stdout",
     "output_type": "stream",
     "text": [
      "0.38461538461538464\n",
      "0\n",
      "5\n"
     ]
    },
    {
     "data": {
      "text/plain": [
       "1"
      ]
     },
     "execution_count": 22,
     "metadata": {},
     "output_type": "execute_result"
    }
   ],
   "source": [
    "def solution(slice, n):\n",
    "    answer = 0\n",
    "    q, r = divmod(n, slice)\n",
    "    if r:\n",
    "        answer = q + 1\n",
    "    else:\n",
    "        answer = q\n",
    "    return answer\n",
    "\n",
    "print(5 / 13)  # 소수점까지 출력\n",
    "print(5 // 13)  # 몫만 출력\n",
    "print(5 % 13)  # 나머지만 출력\n",
    "\n",
    "slice = 13  # 피자 한 판 당 조각의 수\n",
    "n = 5  # 피자 먹는 사람 수\n",
    "solution(slice, n)"
   ]
  }
 ],
 "metadata": {
  "kernelspec": {
   "display_name": "base",
   "language": "python",
   "name": "python3"
  },
  "language_info": {
   "codemirror_mode": {
    "name": "ipython",
    "version": 3
   },
   "file_extension": ".py",
   "mimetype": "text/x-python",
   "name": "python",
   "nbconvert_exporter": "python",
   "pygments_lexer": "ipython3",
   "version": "3.8.16"
  }
 },
 "nbformat": 4,
 "nbformat_minor": 2
}
