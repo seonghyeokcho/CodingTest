{
 "cells": [
  {
   "cell_type": "markdown",
   "metadata": {},
   "source": [
    "## 소수 만들기\n",
    "- 문제 설명\n",
    "    - 주어진 숫자 중 3개의 수를 더했을 때 소수가 되는 경우의 개수를 구하려고 합니다.\n",
    "    - 숫자들이 들어있는 배열 nums가 매개변수로 주어질 때,\n",
    "    - nums에 있는 숫자들 중 서로 다른 3개를 골라 더했을 때\n",
    "    - 소수가 되는 경우의 개수를 return 하도록 solution 함수를 완성해주세요.\n",
    "- 제한 사항\n",
    "    - nums에 들어있는 숫자의 개수는 3개 이상 50개 이하입니다.\n",
    "    - nums의 각 원소는 1 이상 1,000 이하의 자연수이며, 중복된 숫자가 들어있지 않습니다."
   ]
  },
  {
   "cell_type": "code",
   "execution_count": 3,
   "metadata": {},
   "outputs": [
    {
     "data": {
      "text/plain": [
       "1"
      ]
     },
     "execution_count": 3,
     "metadata": {},
     "output_type": "execute_result"
    }
   ],
   "source": [
    "from itertools import combinations\n",
    "\n",
    "\n",
    "def solution(nums):\n",
    "    answer = 0\n",
    "    for i in map(sum, combinations(nums, 3)):\n",
    "        for j in range(2, int(i**(1/2)) + 1):\n",
    "            if not i%j:\n",
    "                break\n",
    "        else:\n",
    "            answer += 1\n",
    "    return answer\n",
    "\n",
    "solution([1,2,3,4])"
   ]
  },
  {
   "attachments": {},
   "cell_type": "markdown",
   "metadata": {},
   "source": [
    "## 폰켓몬\n",
    "- 문제 설명\n",
    "    - 당신은 폰켓몬을 잡기 위한 오랜 여행 끝에, 홍 박사님의 연구실에 도착했습니다. 홍 박사님은 당신에게 자신의 연구실에 있는 총 N 마리의 폰켓몬 중에서 N/2마리를 가져가도 좋다고 했습니다. 홍 박사님 연구실의 폰켓몬은 종류에 따라 번호를 붙여 구분합니다. 따라서 같은 종류의 폰켓몬은 같은 번호를 가지고 있습니다.\n",
    "    - 예를 들어 연구실에 총 4마리의 폰켓몬이 있고, 각 폰켓몬의 종류 번호가 [3번, 1번, 2번, 3번]이라면 이는 3번 폰켓몬 두 마리, 1번 폰켓몬 한 마리, 2번 폰켓몬 한 마리가 있음을 나타냅니다. 이때, 4마리의 폰켓몬 중 2마리를 고르는 방법은 다음과 같이 6가지가 있습니다.\n",
    "        - 첫 번째(3번), 두 번째(1번) 폰켓몬을 선택\n",
    "        - 첫 번째(3번), 세 번째(2번) 폰켓몬을 선택\n",
    "        - 첫 번째(3번), 네 번째(3번) 폰켓몬을 선택\n",
    "        - 두 번째(1번), 세 번째(2번) 폰켓몬을 선택\n",
    "        - 두 번째(1번), 네 번째(3번) 폰켓몬을 선택\n",
    "        - 세 번째(2번), 네 번째(3번) 폰켓몬을 선택\n",
    "    - 이때, 첫 번째(3번) 폰켓몬과 네 번째(3번) 폰켓몬을 선택하는 방법은 한 종류(3번 폰켓몬 두 마리)의 폰켓몬만 가질 수 있지만, 다른 방법들은 모두 두 종류의 폰켓몬을 가질 수 있습니다. 따라서 위 예시에서 가질 수 있는 폰켓몬 종류 수의 최댓값은 2가 됩니다.\n",
    "    - 당신은 최대한 다양한 종류의 폰켓몬을 가지길 원하기 때문에, 최대한 많은 종류의 폰켓몬을 포함해서 N/2마리를 선택하려 합니다. N마리 폰켓몬의 종류 번호가 담긴 배열 nums가 매개변수로 주어질 때, N/2마리의 폰켓몬을 선택하는 방법 중, 가장 많은 종류의 폰켓몬을 선택하는 방법을 찾아, 그때의 폰켓몬 종류 번호의 개수를 return 하도록 solution 함수를 완성해주세요.\n",
    "\n",
    "- 제한사항\n",
    "    - nums는 폰켓몬의 종류 번호가 담긴 1차원 배열입니다.\n",
    "    - nums의 길이(N)는 1 이상 10,000 이하의 자연수이며, 항상 짝수로 주어집니다.\n",
    "    - 폰켓몬의 종류 번호는 1 이상 200,000 이하의 자연수로 나타냅니다.\n",
    "    - 가장 많은 종류의 폰켓몬을 선택하는 방법이 여러 가지인 경우에도,\n",
    "    - 선택할 수 있는 폰켓몬 종류 개수의 최댓값 하나만 return 하면 됩니다."
   ]
  },
  {
   "cell_type": "code",
   "execution_count": 4,
   "metadata": {},
   "outputs": [
    {
     "data": {
      "text/plain": [
       "3.0"
      ]
     },
     "execution_count": 4,
     "metadata": {},
     "output_type": "execute_result"
    }
   ],
   "source": [
    "def solution(nums):\n",
    "    return e if (e := len(set(nums))) < (r := len(nums)/2) else r\n",
    "\n",
    "# solution([3,1,2,3])\n",
    "solution([3,3,3,2,2,4])"
   ]
  },
  {
   "cell_type": "code",
   "execution_count": 5,
   "metadata": {},
   "outputs": [
    {
     "data": {
      "text/plain": [
       "3.0"
      ]
     },
     "execution_count": 5,
     "metadata": {},
     "output_type": "execute_result"
    }
   ],
   "source": [
    "def solution(nums):\n",
    "    return min(len(nums)/2, len(set(nums)))\n",
    "\n",
    "# solution([3,1,2,3])\n",
    "solution([3,3,3,2,2,4])"
   ]
  },
  {
   "cell_type": "markdown",
   "metadata": {},
   "source": [
    "## 완주하지 못한 선수\n",
    "- 문제 설명\n",
    "    - 수많은 마라톤 선수들이 마라톤에 참여하였습니다.\n",
    "    - 단 한 명의 선수를 제외하고는 모든 선수가 마라톤을 완주하였습니다.\n",
    "    - 마라톤에 참여한 선수들의 이름이 담긴 배열 participant와\n",
    "    - 완주한 선수들의 이름이 담긴 배열 completion이 주어질 때,\n",
    "    - 완주하지 못한 선수의 이름을 return 하도록 solution 함수를 작성해주세요.\n",
    "\n",
    "- 제한사항\n",
    "    - 마라톤 경기에 참여한 선수의 수는 1명 이상 100,000명 이하입니다.\n",
    "    - completion의 길이는 participant의 길이보다 1 작습니다.\n",
    "    - 참가자의 이름은 1개 이상 20개 이하의 알파벳 소문자로 이루어져 있습니다.\n",
    "    - 참가자 중에는 동명이인이 있을 수 있습니다.\n"
   ]
  },
  {
   "cell_type": "code",
   "execution_count": 6,
   "metadata": {},
   "outputs": [
    {
     "data": {
      "text/plain": [
       "'mislav'"
      ]
     },
     "execution_count": 6,
     "metadata": {},
     "output_type": "execute_result"
    }
   ],
   "source": [
    "from collections import Counter\n",
    "\n",
    "def solution(participant, completion):\n",
    "    return list(Counter(participant) - Counter(completion))[0]\n",
    "    \n",
    "# solution([\"leo\", \"kiki\", \"eden\"], [\"eden\", \"kiki\"])\n",
    "solution([\"mislav\", \"stanko\", \"mislav\", \"ana\"], [\"stanko\", \"ana\", \"mislav\"])"
   ]
  },
  {
   "cell_type": "code",
   "execution_count": 7,
   "metadata": {},
   "outputs": [
    {
     "data": {
      "text/plain": [
       "'mislav'"
      ]
     },
     "execution_count": 7,
     "metadata": {},
     "output_type": "execute_result"
    }
   ],
   "source": [
    "def solution(participant, completion):\n",
    "    dic = {}\n",
    "    temp = 0\n",
    "    completion.append(0)\n",
    "    for part, com in zip(participant, completion):\n",
    "        dic[hash(part)] = part\n",
    "        temp += hash(part)\n",
    "        temp -= hash(com)\n",
    "    \n",
    "    answer = dic[temp]\n",
    "    return answer\n",
    "\n",
    "# solution([\"leo\", \"kiki\", \"eden\"], [\"eden\", \"kiki\"])\n",
    "solution([\"mislav\", \"stanko\", \"mislav\", \"ana\"], [\"stanko\", \"ana\", \"mislav\"])"
   ]
  },
  {
   "attachments": {},
   "cell_type": "markdown",
   "metadata": {},
   "source": [
    "## 시저 암호\n",
    "- 문제 설명\n",
    "    - 어떤 문장의 각 알파벳을 일정한 거리만큼 밀어서 다른 알파벳으로 바꾸는 암호화 방식을 시저 암호라고 합니다.\n",
    "    - 예를 들어 \"AB\"는 1만큼 밀면 \"BC\"가 되고, 3만큼 밀면 \"DE\"가 됩니다.\n",
    "    - \"z\"는 1만큼 밀면 \"a\"가 됩니다. 문자열 s와 거리 n을 입력받아 s를 n만큼 민 암호문을 만드는 함수, solution을 완성해 보세요.\n",
    "\n",
    "- 제한 조건\n",
    "    - 공백은 아무리 밀어도 공백입니다.\n",
    "    - s는 알파벳 소문자, 대문자, 공백으로만 이루어져 있습니다.\n",
    "    - s의 길이는 8000이하입니다.\n",
    "    - n은 1 이상, 25이하인 자연수입니다."
   ]
  },
  {
   "cell_type": "code",
   "execution_count": 8,
   "metadata": {},
   "outputs": [
    {
     "data": {
      "text/plain": [
       "'e F d'"
      ]
     },
     "execution_count": 8,
     "metadata": {},
     "output_type": "execute_result"
    }
   ],
   "source": [
    "import string\n",
    "\n",
    "\n",
    "def solution(s, n):\n",
    "    answer = ''\n",
    "    lower = string.ascii_lowercase\n",
    "    upper = string.ascii_uppercase\n",
    "    for i in range(len(s)):\n",
    "        if s[i] in lower:\n",
    "            if lower.index(s[i])+n > 25:\n",
    "                answer += lower[lower.index(s[i])+n-26]\n",
    "            else:\n",
    "                answer += lower[lower.index(s[i])+n]\n",
    "        elif s[i] in upper:\n",
    "            if upper.index(s[i])+n > 25:\n",
    "                answer += upper[upper.index(s[i])+n-26]\n",
    "            else:\n",
    "                answer += upper[upper.index(s[i])+n]\n",
    "        else:\n",
    "            answer += s[i]\n",
    "    return answer\n",
    "\n",
    "solution(\"a B z\", 4)"
   ]
  },
  {
   "cell_type": "code",
   "execution_count": 9,
   "metadata": {},
   "outputs": [
    {
     "data": {
      "text/plain": [
       "'e F d'"
      ]
     },
     "execution_count": 9,
     "metadata": {},
     "output_type": "execute_result"
    }
   ],
   "source": [
    "def solution(s, n):\n",
    "    answer = \"\"\n",
    "    \n",
    "    for i in range(len(s)):\n",
    "        if s[i].islower():\n",
    "            answer += chr((ord(s[i])-ord(\"a\")+n) % 26 + ord(\"a\"))\n",
    "        elif s[i].isupper():\n",
    "            answer += chr((ord(s[i])-ord(\"A\")+n) % 26 + ord(\"A\"))\n",
    "        else:\n",
    "            answer += s[i]\n",
    "    \n",
    "    return answer\n",
    "\n",
    "solution(\"a B z\", 4)\n",
    "# solution(\"AB\", 2)"
   ]
  },
  {
   "cell_type": "markdown",
   "metadata": {},
   "source": [
    "## K번째 수\n",
    "- 문제 설명\n",
    "    - 배열 array의 i번째 숫자부터 j번째 숫자까지 자르고 정렬했을 때, k번째에 있는 수를 구하려 합니다.\n",
    "    - 예를 들어 array가 [1, 5, 2, 6, 3, 7, 4], i = 2, j = 5, k = 3이라면\n",
    "    - array의 2번째부터 5번째까지 자르면 [5, 2, 6, 3]입니다.\n",
    "    - 1에서 나온 배열을 정렬하면 [2, 3, 5, 6]입니다.\n",
    "    - 2에서 나온 배열의 3번째 숫자는 5입니다.\n",
    "    - 배열 array, [i, j, k]를 원소로 가진 2차원 배열 commands가 매개변수로 주어질 때,\n",
    "    - commands의 모든 원소에 대해 앞서 설명한 연산을 적용했을 때 나온 결과를 배열에 담아 return 하도록\n",
    "    - solution 함수를 작성해주세요.\n",
    "\n",
    "- 제한사항\n",
    "    - array의 길이는 1 이상 100 이하입니다.\n",
    "    - array의 각 원소는 1 이상 100 이하입니다.\n",
    "    - commands의 길이는 1 이상 50 이하입니다.\n",
    "    - commands의 각 원소는 길이가 3입니다."
   ]
  },
  {
   "cell_type": "code",
   "execution_count": 10,
   "metadata": {},
   "outputs": [
    {
     "data": {
      "text/plain": [
       "[5, 6, 3]"
      ]
     },
     "execution_count": 10,
     "metadata": {},
     "output_type": "execute_result"
    }
   ],
   "source": [
    "def solution(array, commands):\n",
    "    return [sorted(array[i-1:j])[k-1] for i, j, k in commands]\n",
    "\n",
    "solution([1, 5, 2, 6, 3, 7, 4], [[2, 5, 3], [4, 4, 1], [1, 7, 3]])"
   ]
  },
  {
   "cell_type": "markdown",
   "metadata": {},
   "source": [
    "## 모의고사\n",
    "- 문제 설명\n",
    "    - 수포자는 수학을 포기한 사람의 준말입니다. 수포자 삼인방은 모의고사에 수학 문제를 전부 찍으려 합니다.\n",
    "    - 수포자는 1번 문제부터 마지막 문제까지 다음과 같이 찍습니다.\n",
    "    - 1번 수포자가 찍는 방식: 1, 2, 3, 4, 5, ...\n",
    "    - 2번 수포자가 찍는 방식: 2, 1, 2, 3, 2, 4, 2, 5, ...\n",
    "    - 3번 수포자가 찍는 방식: 3, 3, 1, 1, 2, 2, 4, 4, 5, 5, ...\n",
    "    - 1번 문제부터 마지막 문제까지의 정답이 순서대로 들은 배열 answers가 주어졌을 때,\n",
    "    - 가장 많은 문제를 맞힌 사람이 누구인지 배열에 담아 return 하도록 solution 함수를 작성해주세요.\n",
    "\n",
    "- 제한 조건\n",
    "    - 시험은 최대 10,000 문제로 구성되어있습니다.\n",
    "    - 문제의 정답은 1, 2, 3, 4, 5중 하나입니다.\n",
    "    - 가장 높은 점수를 받은 사람이 여럿일 경우, return하는 값을 오름차순 정렬해주세요."
   ]
  },
  {
   "cell_type": "code",
   "execution_count": 11,
   "metadata": {},
   "outputs": [
    {
     "data": {
      "text/plain": [
       "[1, 2, 3]"
      ]
     },
     "execution_count": 11,
     "metadata": {},
     "output_type": "execute_result"
    }
   ],
   "source": [
    "def solution(answers):\n",
    "    score = [0, 0, 0]\n",
    "    p = [\"12345\", \"21232425\", \"3311224455\"]\n",
    "    \n",
    "    for i in range(3):\n",
    "        q, r = divmod(len(answers), len(p[i]))\n",
    "        pick = p[i]*q + p[i][:r]\n",
    "        score[i] = [score[i] + 1 for j, k in zip(answers, pick) if j == int(k)]\n",
    "    \n",
    "    return [i+1 for i in range(3) if score[i] == max(score)]\n",
    "\n",
    "# solution([1,2,3,4,5])\n",
    "solution([1,3,2,4,2])"
   ]
  },
  {
   "cell_type": "code",
   "execution_count": 12,
   "metadata": {},
   "outputs": [
    {
     "data": {
      "text/plain": [
       "[1, 2, 3]"
      ]
     },
     "execution_count": 12,
     "metadata": {},
     "output_type": "execute_result"
    }
   ],
   "source": [
    "from itertools import cycle\n",
    "\n",
    "def solution(answers):\n",
    "    giveups = [\n",
    "        cycle([1,2,3,4,5]),\n",
    "        cycle([2,1,2,3,2,4,2,5]),\n",
    "        cycle([3,3,1,1,2,2,4,4,5,5]),\n",
    "    ]\n",
    "    \n",
    "    scores = [0, 0, 0]\n",
    "    for num in answers:\n",
    "        for i in range(3):\n",
    "            if next(giveups[i]) == num:\n",
    "                scores[i] += 1\n",
    "    return [i + 1 for i, v in enumerate(scores) if v == max(scores)]\n",
    "\n",
    "# solution([1,2,3,4,5])\n",
    "solution([1,3,2,4,2])"
   ]
  },
  {
   "cell_type": "markdown",
   "metadata": {},
   "source": [
    "## 체육복\n",
    "- 문제 설명\n",
    "    - 점심시간에 도둑이 들어, 일부 학생이 체육복을 도난당했습니다.\n",
    "    - 다행히 여벌 체육복이 있는 학생이 이들에게 체육복을 빌려주려 합니다.\n",
    "    - 학생들의 번호는 체격 순으로 매겨져 있어, 바로 앞번호의 학생이나 바로 뒷번호의 학생에게만 체육복을 빌려줄 수 있습니다.\n",
    "    - 예를 들어, 4번 학생은 3번 학생이나 5번 학생에게만 체육복을 빌려줄 수 있습니다.\n",
    "    - 체육복이 없으면 수업을 들을 수 없기 때문에 체육복을 적절히 빌려 최대한 많은 학생이 체육수업을 들어야 합니다.\n",
    "    - 전체 학생의 수 n, 체육복을 도난당한 학생들의 번호가 담긴 배열 lost, 여벌의 체육복을 가져온 학생들의 번호가 담긴 배열 reserve가 매개변수로 주어질 때,\n",
    "    - 체육수업을 들을 수 있는 학생의 최댓값을 return 하도록 solution 함수를 작성해주세요.\n",
    "\n",
    "- 제한사항\n",
    "    - 전체 학생의 수는 2명 이상 30명 이하입니다.\n",
    "    - 체육복을 도난당한 학생의 수는 1명 이상 n명 이하이고 중복되는 번호는 없습니다.\n",
    "    - 여벌의 체육복을 가져온 학생의 수는 1명 이상 n명 이하이고 중복되는 번호는 없습니다.\n",
    "    - 여벌 체육복이 있는 학생만 다른 학생에게 체육복을 빌려줄 수 있습니다.\n",
    "    - 여벌 체육복을 가져온 학생이 체육복을 도난당했을 수 있습니다. 이때 이 학생은 체육복을 하나만 도난당했다고 가정하며,\n",
    "    - 남은 체육복이 하나이기에 다른 학생에게는 체육복을 빌려줄 수 없습니다."
   ]
  },
  {
   "cell_type": "code",
   "execution_count": 13,
   "metadata": {},
   "outputs": [
    {
     "data": {
      "text/plain": [
       "3"
      ]
     },
     "execution_count": 13,
     "metadata": {},
     "output_type": "execute_result"
    }
   ],
   "source": [
    "def solution(n, lost, reserve):\n",
    "    lost_copy = lost.copy()\n",
    "    for i in lost:\n",
    "        if i in reserve:\n",
    "            lost_copy.remove(i)\n",
    "            reserve.remove(i)\n",
    "    for i in range(1, n+1):\n",
    "        if i in lost_copy and i-1 in reserve:\n",
    "            lost_copy.remove(i)\n",
    "            reserve.remove(i-1)\n",
    "        elif i in lost_copy and i+1 in reserve:\n",
    "            lost_copy.remove(i)\n",
    "            reserve.remove(i+1)\n",
    "    return n - len(lost_copy)\n",
    "\n",
    "# solution(5, [2, 4], [1, 3, 5])\n",
    "# solution(5, [2, 4], [3])\n",
    "solution(4, [2,3], [3,4])\n",
    "# solution(5, [1,2,3,4,5], [1,2,3,4,5])"
   ]
  },
  {
   "cell_type": "code",
   "execution_count": 14,
   "metadata": {},
   "outputs": [
    {
     "data": {
      "text/plain": [
       "3"
      ]
     },
     "execution_count": 14,
     "metadata": {},
     "output_type": "execute_result"
    }
   ],
   "source": [
    "def solution(n, lost, reserve):\n",
    "    lost_ = set(lost) - set(reserve)\n",
    "    reserve_ = set(reserve) - set(lost)\n",
    "    for i in reserve_:\n",
    "        if i-1 in lost_:\n",
    "            lost_.remove(i-1)\n",
    "        elif i+1 in lost_:\n",
    "            lost_.remove(i+1)\n",
    "    return n - len(lost_)\n",
    "\n",
    "# solution(5, [2, 4], [1, 3, 5])\n",
    "# solution(5, [2, 4], [3])\n",
    "solution(4, [2,3], [3,4])\n",
    "# solution(5, [1,2,3,4,5], [1,2,3,4,5])"
   ]
  },
  {
   "cell_type": "markdown",
   "metadata": {},
   "source": [
    "## 약수의 개수와 덧셈\n",
    "- 문제 설명\n",
    "    - 두 정수 left와 right가 매개변수로 주어집니다. left부터 right까지의 모든 수들 중에서,\n",
    "    - 약수의 개수가 짝수인 수는 더하고, 약수의 개수가 홀수인 수는 뺀 수를 return 하도록 solution 함수를 완성해주세요.\n",
    "\n",
    "- 제한사항\n",
    "    - 1 ≤ left ≤ right ≤ 1,000"
   ]
  },
  {
   "cell_type": "code",
   "execution_count": 15,
   "metadata": {},
   "outputs": [
    {
     "data": {
      "text/plain": [
       "43"
      ]
     },
     "execution_count": 15,
     "metadata": {},
     "output_type": "execute_result"
    }
   ],
   "source": [
    "def solution(left, right):\n",
    "    return sum([-i if int(i**0.5) == i**0.5 else i for i in range(left, right+1)])\n",
    "\n",
    "solution(13, 17)\n",
    "# solution(24, 27)"
   ]
  },
  {
   "cell_type": "markdown",
   "metadata": {},
   "source": [
    "## 소수 찾기\n",
    "- 문제 설명\n",
    "    - 1부터 입력받은 숫자 n 사이에 있는 소수의 개수를 반환하는 함수, solution을 만들어 보세요.\n",
    "    - 소수는 1과 자기 자신으로만 나누어지는 수를 의미합니다.\n",
    "    - (1은 소수가 아닙니다.)\n",
    "\n",
    "- 제한 조건\n",
    "    - n은 2이상 1000000이하의 자연수입니다."
   ]
  },
  {
   "cell_type": "code",
   "execution_count": 16,
   "metadata": {},
   "outputs": [
    {
     "data": {
      "text/plain": [
       "4"
      ]
     },
     "execution_count": 16,
     "metadata": {},
     "output_type": "execute_result"
    }
   ],
   "source": [
    "def solution(n):\n",
    "    return list(map(lambda x : all(x%j for j in range(2, int(x**0.5)+1)), range(2, n+1))).count(True)\n",
    "\n",
    "solution(10)\n",
    "# solution(5)"
   ]
  },
  {
   "cell_type": "code",
   "execution_count": 17,
   "metadata": {},
   "outputs": [
    {
     "data": {
      "text/plain": [
       "4"
      ]
     },
     "execution_count": 17,
     "metadata": {},
     "output_type": "execute_result"
    }
   ],
   "source": [
    "# 차집합을 이용한 에라토스테네스의 체 구현\n",
    "def solution(n):\n",
    "    num = set(range(2, n+1))\n",
    "    for i in range(2, n+1):\n",
    "        if i in num:\n",
    "            num -= set(range(2*i, n+1, i))\n",
    "    return len(num)\n",
    "\n",
    "solution(10)"
   ]
  },
  {
   "cell_type": "markdown",
   "metadata": {},
   "source": [
    "## 문자열 내 p와 y의 개수\n",
    "- 문제 설명\n",
    "    - 대문자와 소문자가 섞여있는 문자열 s가 주어집니다.\n",
    "    - s에 'p'의 개수와 'y'의 개수를 비교해 같으면 True, 다르면 False를 return 하는 solution를 완성하세요.\n",
    "    - 'p', 'y' 모두 하나도 없는 경우는 항상 True를 리턴합니다.\n",
    "    - 단, 개수를 비교할 때 대문자와 소문자는 구별하지 않습니다.\n",
    "    - 예를 들어 s가 \"pPoooyY\"면 true를 return하고 \"Pyy\"라면 false를 return합니다.\n",
    "\n",
    "- 제한사항\n",
    "    - 문자열 s의 길이 : 50 이하의 자연수\n",
    "    - 문자열 s는 알파벳으로만 이루어져 있습니다."
   ]
  },
  {
   "cell_type": "code",
   "execution_count": 18,
   "metadata": {},
   "outputs": [
    {
     "data": {
      "text/plain": [
       "True"
      ]
     },
     "execution_count": 18,
     "metadata": {},
     "output_type": "execute_result"
    }
   ],
   "source": [
    "import re\n",
    "\n",
    "\n",
    "def solution(s):\n",
    "    p = re.findall(\"[pP]\", s)\n",
    "    y = re.findall(\"[yY]\", s)\n",
    "    return len(p) == len(y)\n",
    "\n",
    "# solution(\"pPoooyY\")\n",
    "# solution(\"Pyy\")\n",
    "solution(\"abcd\")"
   ]
  },
  {
   "cell_type": "code",
   "execution_count": 19,
   "metadata": {},
   "outputs": [
    {
     "data": {
      "text/plain": [
       "True"
      ]
     },
     "execution_count": 19,
     "metadata": {},
     "output_type": "execute_result"
    }
   ],
   "source": [
    "from collections import Counter\n",
    "\n",
    "\n",
    "def solution(s):\n",
    "    s = Counter(s.lower())\n",
    "    return s[\"p\"] == s[\"y\"]\n",
    "\n",
    "# solution(\"pPoooyY\")\n",
    "# solution(\"Pyy\")\n",
    "solution(\"abcd\")"
   ]
  },
  {
   "cell_type": "code",
   "execution_count": 20,
   "metadata": {},
   "outputs": [
    {
     "data": {
      "text/plain": [
       "True"
      ]
     },
     "execution_count": 20,
     "metadata": {},
     "output_type": "execute_result"
    }
   ],
   "source": [
    "def solution(s):\n",
    "    return s.lower().count(\"p\") == s.lower().count(\"y\")\n",
    "\n",
    "# solution(\"pPoooyY\")\n",
    "# solution(\"Pyy\")\n",
    "solution(\"abcd\")"
   ]
  },
  {
   "cell_type": "markdown",
   "metadata": {},
   "source": [
    "## 문자열을 정수로 바꾸기\n",
    "- 문제 설명\n",
    "    - 문자열 s를 숫자로 변환한 결과를 반환하는 함수, solution을 완성하세요.\n",
    "\n",
    "- 제한 조건\n",
    "    - s의 길이는 1 이상 5이하입니다.\n",
    "    - s의 맨앞에는 부호(+, -)가 올 수 있습니다.\n",
    "    - s는 부호와 숫자로만 이루어져있습니다.\n",
    "    - s는 \"0\"으로 시작하지 않습니다."
   ]
  },
  {
   "cell_type": "code",
   "execution_count": 21,
   "metadata": {},
   "outputs": [
    {
     "data": {
      "text/plain": [
       "1234"
      ]
     },
     "execution_count": 21,
     "metadata": {},
     "output_type": "execute_result"
    }
   ],
   "source": [
    "def solution(s):\n",
    "    return int(s)\n",
    "\n",
    "solution(\"1234\")  # ???"
   ]
  },
  {
   "cell_type": "markdown",
   "metadata": {},
   "source": [
    "## 수박수박수박수박수박수?\n",
    "- 문제 설명\n",
    "    - 길이가 n이고, \"수박수박수박수....\"와 같은 패턴을 유지하는 문자열을 리턴하는 함수,\n",
    "    - solution을 완성하세요. 예를들어 n이 4이면 \"수박수박\"을 리턴하고 3이라면 \"수박수\"를 리턴하면 됩니다.\n",
    "\n",
    "- 제한 조건\n",
    "    - n은 길이 10,000이하인 자연수입니다."
   ]
  },
  {
   "cell_type": "code",
   "execution_count": 22,
   "metadata": {},
   "outputs": [
    {
     "data": {
      "text/plain": [
       "'수'"
      ]
     },
     "execution_count": 22,
     "metadata": {},
     "output_type": "execute_result"
    }
   ],
   "source": [
    "def solution(n):\n",
    "    return \"수박\"*(n//2) + \"수\" if n & 1 else \"수박\"*(n//2)\n",
    "\n",
    "solution(1)"
   ]
  },
  {
   "cell_type": "code",
   "execution_count": 23,
   "metadata": {},
   "outputs": [
    {
     "data": {
      "text/plain": [
       "'수박수박'"
      ]
     },
     "execution_count": 23,
     "metadata": {},
     "output_type": "execute_result"
    }
   ],
   "source": [
    "def solution(n):\n",
    "    return \"수박\"*(n//2) + \"수\"[:n%2]\n",
    "\n",
    "solution(4)"
   ]
  },
  {
   "cell_type": "markdown",
   "metadata": {},
   "source": [
    "## 서울에서 김서방 찾기\n",
    "- 문제 설명\n",
    "    - String형 배열 seoul의 element중 \"Kim\"의 위치 x를 찾아,\n",
    "    - \"김서방은 x에 있다\"는 String을 반환하는 함수, solution을 완성하세요.\n",
    "    - seoul에 \"Kim\"은 오직 한 번만 나타나며 잘못된 값이 입력되는 경우는 없습니다.\n",
    "\n",
    "- 제한 사항\n",
    "    - seoul은 길이 1 이상, 1000 이하인 배열입니다.\n",
    "    - seoul의 원소는 길이 1 이상, 20 이하인 문자열입니다.\n",
    "    - \"Kim\"은 반드시 seoul 안에 포함되어 있습니다."
   ]
  },
  {
   "cell_type": "code",
   "execution_count": 24,
   "metadata": {},
   "outputs": [
    {
     "data": {
      "text/plain": [
       "'김서방은 1에 있다'"
      ]
     },
     "execution_count": 24,
     "metadata": {},
     "output_type": "execute_result"
    }
   ],
   "source": [
    "def solution(seoul):\n",
    "    return \"김서방은 {}에 있다\".format(seoul.index(\"Kim\"))\n",
    "\n",
    "solution([\"Jane\", \"Kim\"])"
   ]
  },
  {
   "cell_type": "code",
   "execution_count": 25,
   "metadata": {},
   "outputs": [
    {
     "data": {
      "text/plain": [
       "'김서방은 1에 있다'"
      ]
     },
     "execution_count": 25,
     "metadata": {},
     "output_type": "execute_result"
    }
   ],
   "source": [
    "def solution(seoul):\n",
    "    return f\"김서방은 {seoul.index('Kim')}에 있다\"\n",
    "\n",
    "solution([\"Jane\", \"Kim\"])"
   ]
  },
  {
   "cell_type": "code",
   "execution_count": 26,
   "metadata": {},
   "outputs": [
    {
     "data": {
      "text/plain": [
       "'김서방은 1에 있다'"
      ]
     },
     "execution_count": 26,
     "metadata": {},
     "output_type": "execute_result"
    }
   ],
   "source": [
    "def solution(seoul):\n",
    "    return \"김서방은 %d에 있다\" %seoul.index('Kim')\n",
    "\n",
    "solution([\"Jane\", \"Kim\"])"
   ]
  },
  {
   "cell_type": "markdown",
   "metadata": {},
   "source": [
    "## 문자열 다루기 기본\n",
    "- 문제 설명\n",
    "    - 문자열 s의 길이가 4 혹은 6이고, 숫자로만 구성돼있는지 확인해주는 함수, solution을 완성하세요.\n",
    "    - 예를 들어 s가 \"a234\"이면 False를 리턴하고 \"1234\"라면 True를 리턴하면 됩니다.\n",
    "\n",
    "- 제한 사항\n",
    "    - s는 길이 1 이상, 길이 8 이하인 문자열입니다.\n",
    "    - s는 영문 알파벳 대소문자 또는 0부터 9까지 숫자로 이루어져 있습니다."
   ]
  },
  {
   "cell_type": "code",
   "execution_count": 27,
   "metadata": {},
   "outputs": [
    {
     "data": {
      "text/plain": [
       "True"
      ]
     },
     "execution_count": 27,
     "metadata": {},
     "output_type": "execute_result"
    }
   ],
   "source": [
    "import re\n",
    "def solution(s):\n",
    "    d = re.findall(\"[a-zA-Z]\", s)\n",
    "    return True if not d and (len(s) == 4 or len(s) == 6) else False\n",
    "\n",
    "solution(\"1234\")"
   ]
  },
  {
   "cell_type": "code",
   "execution_count": 28,
   "metadata": {},
   "outputs": [
    {
     "data": {
      "text/plain": [
       "True"
      ]
     },
     "execution_count": 28,
     "metadata": {},
     "output_type": "execute_result"
    }
   ],
   "source": [
    "def solution(s):\n",
    "    return s.isdigit() and len(s) in [4, 6]\n",
    "\n",
    "solution(\"1234\")"
   ]
  },
  {
   "cell_type": "markdown",
   "metadata": {},
   "source": [
    "## 문자열 내 마음대로 정렬하기\n",
    "- 문제 설명\n",
    "    - 문자열로 구성된 리스트 strings와, 정수 n이 주어졌을 때,각 문자열의 인덱스 n번째 글자를 기준으로 오름차순 정렬하려 합니다.\n",
    "    - 예를 들어 strings가 [\"sun\", \"bed\", \"car\"]이고 n이 1이면 각 단어의 인덱스 1의 문자 \"u\", \"e\", \"a\"로 strings를 정렬합니다.\n",
    "\n",
    "- 제한 조건\n",
    "    - strings는 길이 1 이상, 50이하인 배열입니다.\n",
    "    - strings의 원소는 소문자 알파벳으로 이루어져 있습니다.\n",
    "    - strings의 원소는 길이 1 이상, 100이하인 문자열입니다.\n",
    "    - 모든 strings의 원소의 길이는 n보다 큽니다.\n",
    "    - 인덱스 1의 문자가 같은 문자열이 여럿 일 경우, 사전순으로 앞선 문자열이 앞쪽에 위치합니다."
   ]
  },
  {
   "cell_type": "code",
   "execution_count": 29,
   "metadata": {},
   "outputs": [
    {
     "data": {
      "text/plain": [
       "['abcac', 'abcbc']"
      ]
     },
     "execution_count": 29,
     "metadata": {},
     "output_type": "execute_result"
    }
   ],
   "source": [
    "def solution(strings, n):\n",
    "    return sorted(strings, key=lambda x:(x[n], x[:n], x[n:]))\n",
    "\n",
    "solution([\"abcbc\", \"abcac\"], 2)"
   ]
  },
  {
   "cell_type": "markdown",
   "metadata": {},
   "source": [
    "## 삼진법 뒤집기\n",
    "- 문제 설명\n",
    "    - 자연수 n이 매개변수로 주어집니다.\n",
    "    - n을 3진법 상에서 앞뒤로 뒤집은 후, 이를 다시 10진법으로 표현한 수를 return 하도록 solution 함수를 완성해주세요.\n",
    "\n",
    "- 제한사항\n",
    "    - n은 1 이상 100,000,000 이하인 자연수입니다."
   ]
  },
  {
   "cell_type": "code",
   "execution_count": 30,
   "metadata": {},
   "outputs": [
    {
     "data": {
      "text/plain": [
       "229"
      ]
     },
     "execution_count": 30,
     "metadata": {},
     "output_type": "execute_result"
    }
   ],
   "source": [
    "def solution(n):\n",
    "    trit = \"\"\n",
    "    while n > 0:\n",
    "        n, r = divmod(n, 3)\n",
    "        trit += str(r)\n",
    "    # 3진법 -> 10진법으로 직접 바꾸기\n",
    "    # answer = 0\n",
    "    # for i in range(len(str(int(trit)))):\n",
    "    #     answer += int(trit[-(i+1)]) * 3**i\n",
    "    return int(trit, 3)\n",
    "\n",
    "# solution(45)\n",
    "solution(125)"
   ]
  },
  {
   "cell_type": "markdown",
   "metadata": {},
   "source": [
    "## 콜라츠 추측\n",
    "- 문제 설명\n",
    "    - 1937년 Collatz란 사람에 의해 제기된 이 추측은, 주어진 수가 1이 될 때까지 다음 작업을 반복하면,\n",
    "    - 모든 수를 1로 만들 수 있다는 추측입니다. 작업은 다음과 같습니다.\n",
    "        - 1-1 입력된 수가 짝수라면 2로 나눕니다. \n",
    "        - 1-2 입력된 수가 홀수라면 3을 곱하고 1을 더합니다. \n",
    "        - 2 결과로 나온 수에 같은 작업을 1이 될 때까지 반복합니다. \n",
    "    - 예를 들어, 주어진 수가 6이라면 6 → 3 → 10 → 5 → 16 → 8 → 4 → 2 → 1 이 되어 총 8번 만에 1이 됩니다.\n",
    "    - 위 작업을 몇 번이나 반복해야 하는지 반환하는 함수, solution을 완성해 주세요.\n",
    "    - 단, 주어진 수가 1인 경우에는 0을, 작업을 500번 반복할 때까지 1이 되지 않는다면 –1을 반환해 주세요.\n",
    "\n",
    "- 제한 사항\n",
    "    - 입력된 수, num은 1 이상 8,000,000 미만인 정수입니다."
   ]
  },
  {
   "cell_type": "code",
   "execution_count": 31,
   "metadata": {},
   "outputs": [
    {
     "data": {
      "text/plain": [
       "261"
      ]
     },
     "execution_count": 31,
     "metadata": {},
     "output_type": "execute_result"
    }
   ],
   "source": [
    "def solution(num):\n",
    "    answer = 0\n",
    "    for i in range(500):\n",
    "        if num == 1:\n",
    "            return answer\n",
    "        elif num % 2:\n",
    "            num = num * 3 + 1\n",
    "            answer += 1\n",
    "        else:\n",
    "            num //= 2\n",
    "            answer += 1\n",
    "    return -1\n",
    "\n",
    "solution(7999999)"
   ]
  },
  {
   "cell_type": "markdown",
   "metadata": {},
   "source": [
    "## 예산\n",
    "- 문제 설명\n",
    "    - S사에서는 각 부서에 필요한 물품을 지원해 주기 위해 부서별로 물품을 구매하는데 필요한 금액을 조사했습니다.\n",
    "    - 그러나, 전체 예산이 정해져 있기 때문에 모든 부서의 물품을 구매해 줄 수는 없습니다.\n",
    "    - 그래서 최대한 많은 부서의 물품을 구매해 줄 수 있도록 하려고 합니다.\n",
    "    - 물품을 구매해 줄 때는 각 부서가 신청한 금액만큼을 모두 지원해 줘야 합니다.\n",
    "    - 예를 들어 1,000원을 신청한 부서에는 정확히 1,000원을 지원해야 하며,\n",
    "    - 1,000원보다 적은 금액을 지원해 줄 수는 없습니다.\n",
    "    - 부서별로 신청한 금액이 들어있는 배열 d와 예산 budget이 매개변수로 주어질 때,\n",
    "    - 최대 몇 개의 부서에 물품을 지원할 수 있는지 return 하도록 solution 함수를 완성해주세요.\n",
    "\n",
    "- 제한사항\n",
    "    - d는 부서별로 신청한 금액이 들어있는 배열이며, 길이(전체 부서의 개수)는 1 이상 100 이하입니다.\n",
    "    - d의 각 원소는 부서별로 신청한 금액을 나타내며, 부서별 신청 금액은 1 이상 100,000 이하의 자연수입니다.\n",
    "    - budget은 예산을 나타내며, 1 이상 10,000,000 이하의 자연수입니다."
   ]
  },
  {
   "cell_type": "code",
   "execution_count": 32,
   "metadata": {},
   "outputs": [
    {
     "data": {
      "text/plain": [
       "3"
      ]
     },
     "execution_count": 32,
     "metadata": {},
     "output_type": "execute_result"
    }
   ],
   "source": [
    "def solution(d, budget):\n",
    "    answer = 0\n",
    "    for i in sorted(d):\n",
    "        if budget < i:\n",
    "            break\n",
    "        budget -= i\n",
    "        answer += 1\n",
    "    return answer\n",
    "\n",
    "solution([1,3,2,5,4], 9)\n",
    "# solution([2,2,3,3], 10)"
   ]
  },
  {
   "cell_type": "markdown",
   "metadata": {},
   "source": [
    "## 부족한 금액 계산하기\n",
    "- 문제 설명\n",
    "    - 새로 생긴 놀이기구는 인기가 매우 많아 줄이 끊이질 않습니다. 이 놀이기구의 원래 이용료는 price원 인데,\n",
    "    - 놀이기구를 N 번 째 이용한다면 원래 이용료의 N배를 받기로 하였습니다.\n",
    "    - 즉, 처음 이용료가 100이었다면 2번째에는 200, 3번째에는 300으로 요금이 인상됩니다.\n",
    "    - 놀이기구를 count번 타게 되면 현재 자신이 가지고 있는 금액에서 얼마가 모자라는지를 return 하도록 solution 함수를 완성하세요.\n",
    "    - 단, 금액이 부족하지 않으면 0을 return 하세요.\n",
    "\n",
    "- 제한사항\n",
    "    - 놀이기구의 이용료 price : 1 ≤ price ≤ 2,500, price는 자연수\n",
    "    - 처음 가지고 있던 금액 money : 1 ≤ money ≤ 1,000,000,000, money는 자연수\n",
    "    - 놀이기구의 이용 횟수 count : 1 ≤ count ≤ 2,500, count는 자연수\n"
   ]
  },
  {
   "cell_type": "code",
   "execution_count": 33,
   "metadata": {},
   "outputs": [
    {
     "data": {
      "text/plain": [
       "10"
      ]
     },
     "execution_count": 33,
     "metadata": {},
     "output_type": "execute_result"
    }
   ],
   "source": [
    "# abs(money) if money < 0 else 0 -> abs(min(money, 0))\n",
    "def solution(price, money, count):\n",
    "    for i in range(1, count+1):\n",
    "        money -= (price * i)\n",
    "    return abs(min(money, 0))\n",
    "\n",
    "solution(3, 20, 4)"
   ]
  },
  {
   "cell_type": "code",
   "execution_count": 34,
   "metadata": {},
   "outputs": [
    {
     "data": {
      "text/plain": [
       "10"
      ]
     },
     "execution_count": 34,
     "metadata": {},
     "output_type": "execute_result"
    }
   ],
   "source": [
    "# 등차수열의 합 공식: n(a1 + an) / 2\n",
    "def solution(price, money, count):\n",
    "    return max(0, count * price*(count+1) // 2 - money)\n",
    "\n",
    "solution(3, 20, 4)"
   ]
  },
  {
   "cell_type": "markdown",
   "metadata": {},
   "source": [
    "## 약수의 합\n",
    "- 문제 설명\n",
    "    - 정수 n을 입력받아 n의 약수를 모두 더한 값을 리턴하는 함수, solution을 완성해주세요.\n",
    "\n",
    "- 제한 사항\n",
    "    - n은 0 이상 3000이하인 정수입니다."
   ]
  },
  {
   "cell_type": "code",
   "execution_count": 35,
   "metadata": {},
   "outputs": [
    {
     "data": {
      "text/plain": [
       "9360"
      ]
     },
     "execution_count": 35,
     "metadata": {},
     "output_type": "execute_result"
    }
   ],
   "source": [
    "# n // 2 만큼까지 검사하는 방법\n",
    "def solution(n):\n",
    "    return n + sum([i for i in range(1, n//2 + 1) if not n % i])\n",
    "\n",
    "solution(3000)"
   ]
  },
  {
   "cell_type": "code",
   "execution_count": 36,
   "metadata": {},
   "outputs": [
    {
     "data": {
      "text/plain": [
       "9360"
      ]
     },
     "execution_count": 36,
     "metadata": {},
     "output_type": "execute_result"
    }
   ],
   "source": [
    "# n ** 0.5(n의 제곱근) 만큼까지 검사하는 방법 -> n이 커질수록 효율적\n",
    "def solution(n):\n",
    "    answer = 0\n",
    "    for i in range(1, int(n**0.5)+1):\n",
    "        if not n%i:\n",
    "            answer += i + n//i\n",
    "    return answer - n**0.5 if int(n**0.5) == n**0.5 else answer\n",
    "\n",
    "solution(3000)"
   ]
  },
  {
   "cell_type": "markdown",
   "metadata": {},
   "source": [
    "## 이상한 문자 만들기\n",
    "- 문제 설명\n",
    "    - 문자열 s는 한 개 이상의 단어로 구성되어 있습니다. 각 단어는 하나 이상의 공백문자로 구분되어 있습니다.\n",
    "    - 각 단어의 짝수번째 알파벳은 대문자로, 홀수번째 알파벳은 소문자로 바꾼 문자열을 리턴하는 함수, solution을 완성하세요.\n",
    "\n",
    "- 제한 사항\n",
    "    - 문자열 전체의 짝/홀수 인덱스가 아니라, 단어(공백을 기준)별로 짝/홀수 인덱스를 판단해야합니다.\n",
    "    - 첫 번째 글자는 0번째 인덱스로 보아 짝수번째 알파벳으로 처리해야 합니다.\n",
    "    - 문자열 s은 0개 이상의 공백으로 시작합니다.(즉, 공백으로 시작할 수도, 하지 않을 수도 있습니다.)\n",
    "    - 문자열 s의 마지막 또한 공백으로 시작할 수도, 하지 않을 수도 있습니다."
   ]
  },
  {
   "cell_type": "code",
   "execution_count": 37,
   "metadata": {},
   "outputs": [
    {
     "data": {
      "text/plain": [
       "' LlHlLl LhLl '"
      ]
     },
     "execution_count": 37,
     "metadata": {},
     "output_type": "execute_result"
    }
   ],
   "source": [
    "# O(n)\n",
    "import re\n",
    "def solution(s):\n",
    "    answer = \"\"\n",
    "    while s[0] == \" \":\n",
    "        answer += \" \"\n",
    "        s = s[1:]\n",
    "    for i in re.findall(\"\\w+\\s+|\\w+\", s):\n",
    "        for j in range(len(i)):\n",
    "            if not j%2 and i[j] != \" \":\n",
    "                answer += i[j].upper()\n",
    "            elif j%2 and i[j] != \" \":\n",
    "                answer += i[j].lower()\n",
    "            else:\n",
    "                answer += \" \"\n",
    "            \n",
    "    return answer\n",
    "\n",
    "# solution(\"try hello world\")\n",
    "# solution(\"try  hello  world abdcefgh abcd\")\n",
    "# solution(\"abc abcd abcde\")\n",
    "# solution(\"LLHLLL lHlL \")\n",
    "solution(\" LLHLLL lHlL \")"
   ]
  },
  {
   "cell_type": "code",
   "execution_count": 38,
   "metadata": {},
   "outputs": [
    {
     "data": {
      "text/plain": [
       "' LlHlLl LhLl '"
      ]
     },
     "execution_count": 38,
     "metadata": {},
     "output_type": "execute_result"
    }
   ],
   "source": [
    "# O(n)\n",
    "import re\n",
    "def solution(s):\n",
    "    return \" \".join(map(lambda x: \"\".join([a.lower() if i % 2 else a.upper() for i, a in enumerate(x)]), s.split(\" \")))\n",
    "\n",
    "# solution(\"try hello world\")\n",
    "# solution(\"try  hello  world abdcefgh abcd\")\n",
    "# solution(\"abc abcd abcde\")\n",
    "# solution(\"LLHLLL lHlL \")\n",
    "solution(\" LLHLLL lHlL \")"
   ]
  },
  {
   "cell_type": "markdown",
   "metadata": {},
   "source": [
    "## 최대 공약수와 최소 공배수\n",
    "- 문제 설명\n",
    "    - 두 수를 입력받아 두 수의 최대공약수와 최소공배수를 반환하는 함수,\n",
    "    - solution을 완성해 보세요. 배열의 맨 앞에 최대공약수, 그다음 최소공배수를 넣어 반환하면 됩니다.\n",
    "    - 예를 들어 두 수 3, 12의 최대공약수는 3, 최소공배수는 12이므로 solution(3, 12)는 [3, 12]를 반환해야 합니다.\n",
    "\n",
    "- 제한 사항\n",
    "    - 두 수는 1이상 1000000이하의 자연수입니다."
   ]
  },
  {
   "cell_type": "code",
   "execution_count": 39,
   "metadata": {},
   "outputs": [
    {
     "data": {
      "text/plain": [
       "[6, 121638]"
      ]
     },
     "execution_count": 39,
     "metadata": {},
     "output_type": "execute_result"
    }
   ],
   "source": [
    "# 유클리드 호제법 a x b = gcd x lcm\n",
    "def solution(n, m):\n",
    "    nm = n*m\n",
    "    while m > 0:\n",
    "        n, m = m, n%m\n",
    "    g = n\n",
    "    return [g, nm//g]\n",
    "\n",
    "solution(1254, 582)"
   ]
  },
  {
   "cell_type": "markdown",
   "metadata": {},
   "source": [
    "## 명예의 전당\n",
    "- 문제 설명\n",
    "    - \"명예의 전당\"이라는 TV 프로그램에서는 매일 1명의 가수가 노래를 부르고, 시청자들의 문자 투표수로 가수에게 점수를 부여합니다. 매일 출연한 가수의 점수가 지금까지 출연 가수들의 점수 중 상위 k번째 이내이면 해당 가수의 점수를 명예의 전당이라는 목록에 올려 기념합니다. 즉 프로그램 시작 이후 초기에 k일까지는 모든 출연 가수의 점수가 명예의 전당에 오르게 됩니다. k일 다음부터는 출연 가수의 점수가 기존의 명예의 전당 목록의 k번째 순위의 가수 점수보다 더 높으면, 출연 가수의 점수가 명예의 전당에 오르게 되고 기존의 k번째 순위의 점수는 명예의 전당에서 내려오게 됩니다.\n",
    "    - 이 프로그램에서는 매일 \"명예의 전당\"의 최하위 점수를 발표합니다. 예를 들어, k = 3이고, 7일 동안 진행된 가수의 점수가 [10, 100, 20, 150, 1, 100, 200]이라면, 명예의 전당에서 발표된 점수는 아래의 그림과 같이 [10, 10, 10, 20, 20, 100, 100]입니다.\n",
    "    - 명예의 전당 목록의 점수의 개수 k, 1일부터 마지막 날까지 출연한 가수들의 점수인 score가 주어졌을 때, 매일 발표된 명예의 전당의 최하위 점수를 return하는 solution 함수를 완성해주세요.\n",
    "\n",
    "- 제한사항\n",
    "    - 3 ≤ k ≤ 100\n",
    "    - 7 ≤ score의 길이 ≤ 1,000\n",
    "    - 0 ≤ score[i] ≤ 2,000"
   ]
  },
  {
   "cell_type": "code",
   "execution_count": 40,
   "metadata": {},
   "outputs": [
    {
     "data": {
      "text/plain": [
       "[0, 0, 0, 0, 20, 40, 70, 70, 150, 300]"
      ]
     },
     "execution_count": 40,
     "metadata": {},
     "output_type": "execute_result"
    }
   ],
   "source": [
    "import heapq\n",
    "\n",
    "def solution(k, score):\n",
    "    answer = []\n",
    "    heapq.heapify(HOF := [])\n",
    "    \n",
    "    for s in score:\n",
    "        if len(HOF) < k:\n",
    "            heapq.heappush(HOF, s)\n",
    "        elif len(HOF) == k and s > smallest:\n",
    "            heapq.heappop(HOF)\n",
    "            heapq.heappush(HOF, s)\n",
    "        answer.append((smallest := heapq.nsmallest(1, HOF)[0]))\n",
    "    \n",
    "    return answer\n",
    "\n",
    "# %timeit solution(3, [10, 100, 20, 150, 1, 100, 200])\n",
    "solution(4, [0, 300, 40, 300, 20, 70, 150, 50, 500, 1000])"
   ]
  },
  {
   "cell_type": "markdown",
   "metadata": {},
   "source": [
    "## 기사단원의 무기\n",
    "- 문제 설명\n",
    "    - 숫자나라 기사단의 각 기사에게는 1번부터 number까지 번호가 지정되어 있습니다. 기사들은 무기점에서 무기를 구매하려고 합니다.\n",
    "    - 각 기사는 자신의 기사 번호의 약수 개수에 해당하는 공격력을 가진 무기를 구매하려 합니다. 단, 이웃나라와의 협약에 의해 공격력의 제한수치를 정하고, 제한수치보다 큰 공격력을 가진 무기를 구매해야 하는 기사는 협약기관에서 정한 공격력을 가지는 무기를 구매해야 합니다.\n",
    "    - 예를 들어, 15번으로 지정된 기사단원은 15의 약수가 1, 3, 5, 15로 4개 이므로, 공격력이 4인 무기를 구매합니다. 만약, 이웃나라와의 협약으로 정해진 공격력의 제한수치가 3이고 제한수치를 초과한 기사가 사용할 무기의 공격력이 2라면, 15번으로 지정된 기사단원은 무기점에서 공격력이 2인 무기를 구매합니다. 무기를 만들 때, 무기의 공격력 1당 1kg의 철이 필요합니다. 그래서 무기점에서 무기를 모두 만들기 위해 필요한 철의 무게를 미리 계산하려 합니다.\n",
    "    - 기사단원의 수를 나타내는 정수 number와 이웃나라와 협약으로 정해진 공격력의 제한수치를 나타내는 정수 limit와 제한수치를 초과한 기사가 사용할 무기의 공격력을 나타내는 정수 power가 주어졌을 때, 무기점의 주인이 무기를 모두 만들기 위해 필요한 철의 무게를 return 하는 solution 함수를 완성하시오.\n",
    "\n",
    "- 제한사항\n",
    "    - 1 ≤ number ≤ 100,000\n",
    "    - 2 ≤ limit ≤ 100\n",
    "    - 1 ≤ power ≤ limit"
   ]
  },
  {
   "cell_type": "code",
   "execution_count": 41,
   "metadata": {},
   "outputs": [
    {
     "data": {
      "text/plain": [
       "21"
      ]
     },
     "execution_count": 41,
     "metadata": {},
     "output_type": "execute_result"
    }
   ],
   "source": [
    "# O(n*sqrt(n))\n",
    "def solution(number, limit, power):\n",
    "    answer = 0\n",
    "    for num in range(1, number+1):\n",
    "        divisors = 0\n",
    "        for i in range(1, int(num**0.5)+1):\n",
    "            if not num%i:\n",
    "                divisors += 2\n",
    "        if int(num**0.5) == num**0.5:\n",
    "            divisors -= 1\n",
    "        if divisors > limit:\n",
    "            answer += power\n",
    "        else:\n",
    "            answer += divisors\n",
    "    return answer\n",
    "\n",
    "# solution(5, 3, 2)\n",
    "solution(10, 3, 2)"
   ]
  },
  {
   "cell_type": "markdown",
   "metadata": {},
   "source": [
    "## 과일 장수\n",
    "- 문제 설명\n",
    "    - 과일 장수가 사과 상자를 포장하고 있습니다. 사과는 상태에 따라 1점부터 k점까지의 점수로 분류하며, k점이 최상품의 사과이고 1점이 최하품의 사과입니다. 사과 한 상자의 가격은 다음과 같이 결정됩니다.\n",
    "    - 한 상자에 사과를 m개씩 담아 포장합니다.\n",
    "    - 상자에 담긴 사과 중 가장 낮은 점수가 p (1 ≤ p ≤ k)점인 경우, 사과 한 상자의 가격은 p * m 입니다.\n",
    "    - 과일 장수가 가능한 많은 사과를 팔았을 때, 얻을 수 있는 최대 이익을 계산하고자 합니다.(사과는 상자 단위로만 판매하며, 남는 사과는 버립니다)\n",
    "    - 예를 들어, k = 3, m = 4, 사과 7개의 점수가 [1, 2, 3, 1, 2, 3, 1]이라면, 다음과 같이 [2, 3, 2, 3]으로 구성된 사과 상자 1개를 만들어 판매하여 최대 이익을 얻을 수 있습니다.\n",
    "    - (최저 사과 점수) x (한 상자에 담긴 사과 개수) x (상자의 개수) = 2 x 4 x 1 = 8\n",
    "    - 사과의 최대 점수 k, 한 상자에 들어가는 사과의 수 m, 사과들의 점수 score가 주어졌을 때, 과일 장수가 얻을 수 있는 최대 이익을 return하는 solution 함수를 완성해주세요.\n",
    "\n",
    "- 제한사항\n",
    "    - 3 ≤ k ≤ 9\n",
    "    - 3 ≤ m ≤ 10\n",
    "    - 7 ≤ score의 길이 ≤ 1,000,000\n",
    "    - 1 ≤ score[i] ≤ k\n",
    "    - 이익이 발생하지 않는 경우에는 0을 return 해주세요."
   ]
  },
  {
   "cell_type": "code",
   "execution_count": 42,
   "metadata": {},
   "outputs": [
    {
     "data": {
      "text/plain": [
       "33"
      ]
     },
     "execution_count": 42,
     "metadata": {},
     "output_type": "execute_result"
    }
   ],
   "source": [
    "def solution(k, m, score):\n",
    "    answer = 0\n",
    "    score = sorted(score, reverse=True)\n",
    "    \n",
    "    for i in range(1, len(score)//m + 1):\n",
    "        answer += score[i*m - 1] * m\n",
    "    \n",
    "    return answer\n",
    "\n",
    "# solution(3, 4, [1, 2, 3, 1, 2, 3, 1])\n",
    "solution(4, 3, [4, 1, 2, 2, 4, 4, 4, 4, 1, 2, 4, 2])"
   ]
  },
  {
   "cell_type": "markdown",
   "metadata": {},
   "source": [
    "## 푸드 파이터 대회\n",
    "- 문제 설명\n",
    "    - 수웅이는 매달 주어진 음식을 빨리 먹는 푸드 파이트 대회를 개최합니다. 이 대회에서 선수들은 1대 1로 대결하며, 매 대결마다 음식의 종류와 양이 바뀝니다. 대결은 준비된 음식들을 일렬로 배치한 뒤, 한 선수는 제일 왼쪽에 있는 음식부터 오른쪽으로, 다른 선수는 제일 오른쪽에 있는 음식부터 왼쪽으로 순서대로 먹는 방식으로 진행됩니다. 중앙에는 물을 배치하고, 물을 먼저 먹는 선수가 승리하게 됩니다.\n",
    "    - 이때, 대회의 공정성을 위해 두 선수가 먹는 음식의 종류와 양이 같아야 하며, 음식을 먹는 순서도 같아야 합니다. 또한, 이번 대회부터는 칼로리가 낮은 음식을 먼저 먹을 수 있게 배치하여 선수들이 음식을 더 잘 먹을 수 있게 하려고 합니다. 이번 대회를 위해 수웅이는 음식을 주문했는데, 대회의 조건을 고려하지 않고 음식을 주문하여 몇 개의 음식은 대회에 사용하지 못하게 되었습니다.\n",
    "    - 예를 들어, 3가지의 음식이 준비되어 있으며, 칼로리가 적은 순서대로 1번 음식을 3개, 2번 음식을 4개, 3번 음식을 6개 준비했으며, 물을 편의상 0번 음식이라고 칭한다면, 두 선수는 1번 음식 1개, 2번 음식 2개, 3번 음식 3개씩을 먹게 되므로 음식의 배치는 \"1223330333221\"이 됩니다. 따라서 1번 음식 1개는 대회에 사용하지 못합니다.\n",
    "    - 수웅이가 준비한 음식의 양을 칼로리가 적은 순서대로 나타내는 정수 배열 food가 주어졌을 때, 대회를 위한 음식의 배치를 나타내는 문자열을 return 하는 solution 함수를 완성해주세요.\n",
    "\n",
    "- 제한사항\n",
    "    - 2 ≤ food의 길이 ≤ 9\n",
    "    - 1 ≤ food의 각 원소 ≤ 1,000\n",
    "    - food에는 칼로리가 적은 순서대로 음식의 양이 담겨 있습니다.\n",
    "    - food[i]는 i번 음식의 수입니다.\n",
    "    - food[0]은 수웅이가 준비한 물의 양이며, 항상 1입니다.\n",
    "    - 정답의 길이가 3 이상인 경우만 입력으로 주어집니다."
   ]
  },
  {
   "cell_type": "code",
   "execution_count": 43,
   "metadata": {},
   "outputs": [
    {
     "data": {
      "text/plain": [
       "'111303111'"
      ]
     },
     "execution_count": 43,
     "metadata": {},
     "output_type": "execute_result"
    }
   ],
   "source": [
    "def solution(food):\n",
    "    answer = \"\"\n",
    "    for i in range(1, len(food)):\n",
    "        answer += str(i) * (food[i]//2)\n",
    "    return answer + \"0\" + answer[::-1]\n",
    "\n",
    "# solution([1, 3, 4, 6])\n",
    "solution([1, 7, 1, 2])"
   ]
  },
  {
   "cell_type": "markdown",
   "metadata": {},
   "source": [
    "## 햄버거 만들기\n",
    "- 문제 설명\n",
    "    - 햄버거 가게에서 일을 하는 상수는 햄버거를 포장하는 일을 합니다. 함께 일을 하는 다른 직원들이 햄버거에 들어갈 재료를 조리해 주면 조리된 순서대로 상수의 앞에 아래서부터 위로 쌓이게 되고, 상수는 순서에 맞게 쌓여서 완성된 햄버거를 따로 옮겨 포장을 하게 됩니다. 상수가 일하는 가게는 정해진 순서(아래서부터, 빵 – 야채 – 고기 - 빵)로 쌓인 햄버거만 포장을 합니다. 상수는 손이 굉장히 빠르기 때문에 상수가 포장하는 동안 속 재료가 추가적으로 들어오는 일은 없으며, 재료의 높이는 무시하여 재료가 높이 쌓여서 일이 힘들어지는 경우는 없습니다.\n",
    "    - 예를 들어, 상수의 앞에 쌓이는 재료의 순서가 [야채, 빵, 빵, 야채, 고기, 빵, 야채, 고기, 빵]일 때, 상수는 여섯 번째 재료가 쌓였을 때, 세 번째 재료부터 여섯 번째 재료를 이용하여 햄버거를 포장하고, 아홉 번째 재료가 쌓였을 때, 두 번째 재료와 일곱 번째 재료부터 아홉 번째 재료를 이용하여 햄버거를 포장합니다. 즉, 2개의 햄버거를 포장하게 됩니다.\n",
    "    - 상수에게 전해지는 재료의 정보를 나타내는 정수 배열 ingredient가 주어졌을 때, 상수가 포장하는 햄버거의 개수를 return 하도록 solution 함수를 완성하시오.\n",
    "\n",
    "- 제한사항\n",
    "    - 1 ≤ ingredient의 길이 ≤ 1,000,000\n",
    "    - ingredient의 원소는 1, 2, 3 중 하나의 값이며, 순서대로 빵, 야채, 고기를 의미합니다."
   ]
  },
  {
   "cell_type": "code",
   "execution_count": 44,
   "metadata": {},
   "outputs": [],
   "source": [
    "# 23.01.08\n",
    "# if len(table) >= 4 and table[-4:] == [1,2,3,1]: -> table[-4:] == [1,2,3,1]:"
   ]
  },
  {
   "cell_type": "code",
   "execution_count": 45,
   "metadata": {},
   "outputs": [
    {
     "data": {
      "text/plain": [
       "3"
      ]
     },
     "execution_count": 45,
     "metadata": {},
     "output_type": "execute_result"
    }
   ],
   "source": [
    "def solution(ingredient):\n",
    "    answer = 0\n",
    "    table = []\n",
    "    for i in ingredient:\n",
    "        table.append(i)\n",
    "        if table[-4:] == [1,2,3,1]:\n",
    "            for _ in range(4): table.pop()\n",
    "            answer += 1\n",
    "    return answer\n",
    "\n",
    "# solution([2, 1, 1, 2, 3, 1, 2, 3, 1])\n",
    "# solution([1,2,3,2])\n",
    "solution([1, 1, 1, 2, 3, 1, 2, 3, 1, 2, 3, 1])"
   ]
  },
  {
   "cell_type": "markdown",
   "metadata": {},
   "source": [
    "## 삼총사\n",
    "- 문제 설명\n",
    "    - 한국중학교에 다니는 학생들은 각자 정수 번호를 갖고 있습니다. 이 학교 학생 3명의 정수 번호를 더했을 때 0이 되면 3명의 학생은 삼총사라고 합니다. 예를 들어, 5명의 학생이 있고, 각각의 정수 번호가 순서대로 -2, 3, 0, 2, -5일 때, 첫 번째, 세 번째, 네 번째 학생의 정수 번호를 더하면 0이므로 세 학생은 삼총사입니다. 또한, 두 번째, 네 번째, 다섯 번째 학생의 정수 번호를 더해도 0이므로 세 학생도 삼총사입니다. 따라서 이 경우 한국중학교에서는 두 가지 방법으로 삼총사를 만들 수 있습니다.\n",
    "    - 한국중학교 학생들의 번호를 나타내는 정수 배열 number가 매개변수로 주어질 때, 학생들 중 삼총사를 만들 수 있는 방법의 수를 return 하도록 solution 함수를 완성하세요.\n",
    "\n",
    "- 제한사항\n",
    "    - 3 ≤ number의 길이 ≤ 13\n",
    "    - -1,000 ≤ number의 각 원소 ≤ 1,000\n",
    "    - 서로 다른 학생의 정수 번호가 같을 수 있습니다."
   ]
  },
  {
   "cell_type": "code",
   "execution_count": 46,
   "metadata": {},
   "outputs": [
    {
     "data": {
      "text/plain": [
       "5"
      ]
     },
     "execution_count": 46,
     "metadata": {},
     "output_type": "execute_result"
    }
   ],
   "source": [
    "from itertools import combinations\n",
    "\n",
    "\n",
    "def solution(number):\n",
    "    answer = 0\n",
    "    for i in combinations(number, 3):\n",
    "        if not sum(i):\n",
    "            answer += 1\n",
    "            # print(i)\n",
    "    return answer\n",
    "\n",
    "# solution([-2, 3, 0, 2, -5])\n",
    "solution([-3, -2, -1, 0, 1, 2, 3])"
   ]
  },
  {
   "cell_type": "code",
   "execution_count": 47,
   "metadata": {},
   "outputs": [
    {
     "data": {
      "text/plain": [
       "5"
      ]
     },
     "execution_count": 47,
     "metadata": {},
     "output_type": "execute_result"
    }
   ],
   "source": [
    "# 람다 함수를 이용한 한 줄 풀이\n",
    "from itertools import combinations\n",
    "solution = lambda number: len([i for i in combinations(number, 3) if not sum(i)])\n",
    "\n",
    "# solution([-2, 3, 0, 2, -5])\n",
    "solution([-3, -2, -1, 0, 1, 2, 3])"
   ]
  },
  {
   "cell_type": "markdown",
   "metadata": {},
   "source": [
    "## 숫자 짝꿍\n",
    "- 문제 설명\n",
    "    - 두 정수 X, Y의 임의의 자리에서 공통으로 나타나는 정수 k(0 ≤ k ≤ 9)들을 이용하여 만들 수 있는 가장 큰 정수를 두 수의 짝꿍이라 합니다(단, 공통으로 나타나는 정수 중 서로 짝지을 수 있는 숫자만 사용합니다). X, Y의 짝꿍이 존재하지 않으면, 짝꿍은 -1입니다. X, Y의 짝꿍이 0으로만 구성되어 있다면, 짝꿍은 0입니다.\n",
    "    - 예를 들어, X = 3403이고 Y = 13203이라면, X와 Y의 짝꿍은 X와 Y에서 공통으로 나타나는 3, 0, 3으로 만들 수 있는 가장 큰 정수인 330입니다. 다른 예시로 X = 5525이고 Y = 1255이면 X와 Y의 짝꿍은 X와 Y에서 공통으로 나타나는 2, 5, 5로 만들 수 있는 가장 큰 정수인 552입니다(X에는 5가 3개, Y에는 5가 2개 나타나므로 남는 5 한 개는 짝 지을 수 없습니다.)\n",
    "    - 두 정수 X, Y가 주어졌을 때, X, Y의 짝꿍을 return하는 solution 함수를 완성해주세요.\n",
    "\n",
    "- 제한사항\n",
    "    - 3 ≤ X, Y의 길이(자릿수) ≤ 3,000,000입니다.\n",
    "    - X, Y는 0으로 시작하지 않습니다.\n",
    "    - X, Y의 짝꿍은 상당히 큰 정수일 수 있으므로, 문자열로 반환합니다."
   ]
  },
  {
   "cell_type": "code",
   "execution_count": 48,
   "metadata": {},
   "outputs": [
    {
     "data": {
      "text/plain": [
       "'321'"
      ]
     },
     "execution_count": 48,
     "metadata": {},
     "output_type": "execute_result"
    }
   ],
   "source": [
    "from collections import Counter\n",
    "\n",
    "\n",
    "def solution(X, Y):\n",
    "    intersect = Counter(X) & Counter(Y)\n",
    "    if len(keys := list(intersect.keys())) == 1 and keys[0] == \"0\":\n",
    "        return \"0\"\n",
    "    return \"-1\" if not len(intersect) else \"\".join(sorted(intersect.elements(), reverse=True))\n",
    "\n",
    "solution(\"12321\", \"42531\")\n",
    "# solution(\"100\", \"203045\")\n",
    "# solution(\"5525\", \"1255\")\n",
    "# solution(\"100\", \"2345\")"
   ]
  },
  {
   "cell_type": "code",
   "execution_count": 49,
   "metadata": {},
   "outputs": [
    {
     "data": {
      "text/plain": [
       "'321'"
      ]
     },
     "execution_count": 49,
     "metadata": {},
     "output_type": "execute_result"
    }
   ],
   "source": [
    "# 정렬 작업이 필요 없도록 하기 위해 9 ~ 0 으로 반복문 순환,\n",
    "# X 와 Y에 각각의 숫자를 카운팅,\n",
    "# 둘 중 적은 수를 추가\n",
    "def solution(X, Y):\n",
    "    answer = \"\"\n",
    "    for i in range(9,-1,-1):\n",
    "        answer += str(i) * min(X.count(str(i)), Y.count(str(i)))\n",
    "    if answer == \"\":\n",
    "        return \"-1\"\n",
    "    elif len(answer) == answer.count(\"0\"):\n",
    "        return \"0\"\n",
    "    else:\n",
    "        return answer\n",
    "\n",
    "# solution(\"100\", \"203045\")\n",
    "solution(\"12321\", \"42531\")"
   ]
  },
  {
   "cell_type": "markdown",
   "metadata": {},
   "source": [
    "## 가장 가까운 같은 글자\n",
    "- 문제 설명\n",
    "    - 문자열 s가 주어졌을 때, s의 각 위치마다 자신보다 앞에 나왔으면서, 자신과 가장 가까운 곳에 있는 같은 글자가 어디 있는지 알고 싶습니다.\n",
    "    - 예를 들어, s=\"banana\"라고 할 때,  각 글자들을 왼쪽부터 오른쪽으로 읽어 나가면서 다음과 같이 진행할 수 있습니다.\n",
    "        - b는 처음 나왔기 때문에 자신의 앞에 같은 글자가 없습니다. 이는 -1로 표현합니다.\n",
    "        - a는 처음 나왔기 때문에 자신의 앞에 같은 글자가 없습니다. 이는 -1로 표현합니다.\n",
    "        - n은 처음 나왔기 때문에 자신의 앞에 같은 글자가 없습니다. 이는 -1로 표현합니다.\n",
    "        - a는 자신보다 두 칸 앞에 a가 있습니다. 이는 2로 표현합니다.\n",
    "        - n도 자신보다 두 칸 앞에 n이 있습니다. 이는 2로 표현합니다.\n",
    "        - a는 자신보다 두 칸, 네 칸 앞에 a가 있습니다. 이 중 가까운 것은 두 칸 앞이고, 이는 2로 표현합니다.\n",
    "        - 따라서 최종 결과물은 [-1, -1, -1, 2, 2, 2]가 됩니다.\n",
    "    - 문자열 s이 주어질 때, 위와 같이 정의된 연산을 수행하는 함수 solution을 완성해주세요.\n",
    "\n",
    "- 제한사항\n",
    "    - 1 ≤ s의 길이 ≤ 10,000\n",
    "    - s은 영어 소문자로만 이루어져 있습니다.\n"
   ]
  },
  {
   "cell_type": "code",
   "execution_count": 50,
   "metadata": {},
   "outputs": [
    {
     "data": {
      "text/plain": [
       "[-1, -1, -1, 2, 2, 2]"
      ]
     },
     "execution_count": 50,
     "metadata": {},
     "output_type": "execute_result"
    }
   ],
   "source": [
    "def solution(s):\n",
    "    answer = []\n",
    "    stack = {}\n",
    "    for i in range(len(s)):\n",
    "        if stack.get(s[i]) == None:\n",
    "            answer.append(-1)\n",
    "        else:\n",
    "            answer.append(i - stack[s[i]])\n",
    "        stack[s[i]] = i\n",
    "    return answer\n",
    "\n",
    "solution(\"banana\")\n",
    "# solution(\"foobar\")\n",
    "# solution(\"aaabbbccc\")"
   ]
  },
  {
   "cell_type": "code",
   "execution_count": 51,
   "metadata": {},
   "outputs": [
    {
     "data": {
      "text/plain": [
       "[-1, -1, -1, 2, 2, 2]"
      ]
     },
     "execution_count": 51,
     "metadata": {},
     "output_type": "execute_result"
    }
   ],
   "source": [
    "def solution(s):\n",
    "    answer, stack = [], {}\n",
    "    for i in range(len(s)):\n",
    "        answer.append(-1 if stack.get(s[i]) == None else i - stack[s[i]])\n",
    "        stack[s[i]] = i\n",
    "    return answer\n",
    "\n",
    "solution(\"banana\")\n",
    "# solution(\"foobar\")\n",
    "# solution(\"aaabbbccc\")"
   ]
  },
  {
   "cell_type": "markdown",
   "metadata": {},
   "source": [
    "## 치킨 쿠폰\n",
    "- 문제 설명\n",
    "    - 프로그래머스 치킨은 치킨을 시켜먹으면 한 마리당 쿠폰을 한 장 발급합니다. 쿠폰을 열 장 모으면 치킨을 한 마리 서비스로 받을 수 있고, 서비스 치킨에도 쿠폰이 발급됩니다. 시켜먹은 치킨의 수 chicken이 매개변수로 주어질 때 받을 수 있는 최대 서비스 치킨의 수를 return하도록 solution 함수를 완성해주세요.\n",
    "\n",
    "- 제한사항\n",
    "    - chicken은 정수입니다.\n",
    "    - 0 ≤ chicken ≤ 1,000,000"
   ]
  },
  {
   "cell_type": "code",
   "execution_count": 52,
   "metadata": {},
   "outputs": [
    {
     "data": {
      "text/plain": [
       "222"
      ]
     },
     "execution_count": 52,
     "metadata": {},
     "output_type": "execute_result"
    }
   ],
   "source": [
    "## 내가 낸 답\n",
    "def solution(chicken):\n",
    "    answer = 0\n",
    "    while chicken // 10 > 0:\n",
    "        q, r = divmod(chicken, 10)\n",
    "        answer += q\n",
    "        chicken = q + r\n",
    "    return answer\n",
    "\n",
    "solution(1999)"
   ]
  },
  {
   "cell_type": "code",
   "execution_count": 53,
   "metadata": {},
   "outputs": [
    {
     "data": {
      "text/plain": [
       "222"
      ]
     },
     "execution_count": 53,
     "metadata": {},
     "output_type": "execute_result"
    }
   ],
   "source": [
    "## 내가 생각한 베스트 답\n",
    "def solution(chicken):\n",
    "    return (max(chicken, 1)-1) // 9\n",
    "\n",
    "solution(1999)"
   ]
  },
  {
   "cell_type": "code",
   "execution_count": 54,
   "metadata": {},
   "outputs": [
    {
     "data": {
      "text/plain": [
       "222"
      ]
     },
     "execution_count": 54,
     "metadata": {},
     "output_type": "execute_result"
    }
   ],
   "source": [
    "## ??\n",
    "def solution(chicken):\n",
    "    return int(chicken*0.11111111111)\n",
    "\n",
    "solution(1999)"
   ]
  },
  {
   "attachments": {},
   "cell_type": "markdown",
   "metadata": {},
   "source": [
    "## 로그인 성공?\n",
    "- 문제 설명\n",
    "    - 머쓱이는 프로그래머스에 로그인하려고 합니다. 머쓱이가 입력한 아이디와 패스워드가 담긴 배열 id_pw와 회원들의 정보가 담긴 2차원 배열 db가 주어질 때, 다음과 같이 로그인 성공, 실패에 따른 메시지를 return하도록 solution 함수를 완성해주세요.\n",
    "    - 아이디와 비밀번호가 모두 일치하는 회원정보가 있으면 \"login\"을 return합니다.\n",
    "    - 로그인이 실패했을 때 아이디가 일치하는 회원이 없다면 “fail”를, 아이디는 일치하지만 비밀번호가 일치하는 회원이 없다면 “wrong pw”를 return 합니다.\n",
    "\n",
    "- 제한사항\n",
    "    - 회원들의 아이디는 문자열입니다.\n",
    "    - 회원들의 아이디는 알파벳 소문자와 숫자로만 이루어져 있습니다.\n",
    "    - 회원들의 패스워드는 숫자로 구성된 문자열입니다.\n",
    "    - 회원들의 비밀번호는 같을 수 있지만 아이디는 같을 수 없습니다.\n",
    "    - id_pw의 길이는 2입니다.\n",
    "    - id_pw와 db의 원소는 [아이디, 패스워드] 형태입니다.\n",
    "    - 1 ≤ 아이디의 길이 ≤ 15\n",
    "    - 1 ≤ 비밀번호의 길이 ≤ 6\n",
    "    - 1 ≤ db의 길이 ≤ 10\n",
    "    - db의 원소의 길이는 2입니다."
   ]
  },
  {
   "cell_type": "code",
   "execution_count": 55,
   "metadata": {},
   "outputs": [
    {
     "data": {
      "text/plain": [
       "'wrong pw'"
      ]
     },
     "execution_count": 55,
     "metadata": {},
     "output_type": "execute_result"
    }
   ],
   "source": [
    "def solution(id_pw, db):\n",
    "    answer = \"\"\n",
    "    for i in db:\n",
    "        if id_pw[0] == i[0]:\n",
    "            if id_pw[1] == i[1]:\n",
    "                return \"login\"\n",
    "            else:\n",
    "                return \"wrong pw\"\n",
    "    else:\n",
    "        return \"fail\"\n",
    "\n",
    "# solution([\"meosseugi\", \"1234\"], [[\"rardss\", \"123\"], [\"yyoom\", \"1234\"], [\"meosseugi\", \"1234\"]])\n",
    "solution([\"programmer01\", \"15789\"], [[\"programmer02\", \"111111\"], [\"programmer00\", \"134\"], [\"programmer01\", \"1145\"]])"
   ]
  },
  {
   "attachments": {},
   "cell_type": "markdown",
   "metadata": {},
   "source": [
    "## 등수 매기기\n",
    "- 문제 설명\n",
    "    - 영어 점수와 수학 점수의 평균 점수를 기준으로 학생들의 등수를 매기려고 합니다. 영어 점수와 수학 점수를 담은 2차원 정수 배열 score가 주어질 때, 영어 점수와 수학 점수의 평균을 기준으로 매긴 등수를 담은 배열을 return하도록 solution 함수를 완성해주세요.\n",
    "\n",
    "- 제한사항\n",
    "    - 0 ≤ score[0], score[1] ≤ 100\n",
    "    - 1 ≤ score의 길이 ≤ 10\n",
    "    - score의 원소 길이는 2입니다.\n",
    "    - score는 중복된 원소를 갖지 않습니다."
   ]
  },
  {
   "cell_type": "code",
   "execution_count": 56,
   "metadata": {},
   "outputs": [
    {
     "ename": "KeyboardInterrupt",
     "evalue": "",
     "output_type": "error",
     "traceback": [
      "\u001b[0;31m---------------------------------------------------------------------------\u001b[0m",
      "\u001b[0;31mKeyboardInterrupt\u001b[0m                         Traceback (most recent call last)",
      "Cell \u001b[0;32mIn[56], line 12\u001b[0m\n\u001b[1;32m      9\u001b[0m     \u001b[39mreturn\u001b[39;00m answer\n\u001b[1;32m     11\u001b[0m \u001b[39m# solution([[80, 70], [90, 50], [40, 70], [50, 80]])\u001b[39;00m\n\u001b[0;32m---> 12\u001b[0m get_ipython()\u001b[39m.\u001b[39;49mrun_line_magic(\u001b[39m'\u001b[39;49m\u001b[39mtimeit\u001b[39;49m\u001b[39m'\u001b[39;49m, \u001b[39m'\u001b[39;49m\u001b[39msolution([[80, 70], [70, 80], [30, 50], [90, 100], [100, 90], [100, 100], [10, 30]])\u001b[39;49m\u001b[39m'\u001b[39;49m)\n",
      "File \u001b[0;32m~/opt/anaconda3/lib/python3.8/site-packages/IPython/core/interactiveshell.py:2369\u001b[0m, in \u001b[0;36mInteractiveShell.run_line_magic\u001b[0;34m(self, magic_name, line, _stack_depth)\u001b[0m\n\u001b[1;32m   2367\u001b[0m     kwargs[\u001b[39m'\u001b[39m\u001b[39mlocal_ns\u001b[39m\u001b[39m'\u001b[39m] \u001b[39m=\u001b[39m \u001b[39mself\u001b[39m\u001b[39m.\u001b[39mget_local_scope(stack_depth)\n\u001b[1;32m   2368\u001b[0m \u001b[39mwith\u001b[39;00m \u001b[39mself\u001b[39m\u001b[39m.\u001b[39mbuiltin_trap:\n\u001b[0;32m-> 2369\u001b[0m     result \u001b[39m=\u001b[39m fn(\u001b[39m*\u001b[39;49margs, \u001b[39m*\u001b[39;49m\u001b[39m*\u001b[39;49mkwargs)\n\u001b[1;32m   2371\u001b[0m \u001b[39m# The code below prevents the output from being displayed\u001b[39;00m\n\u001b[1;32m   2372\u001b[0m \u001b[39m# when using magics with decodator @output_can_be_silenced\u001b[39;00m\n\u001b[1;32m   2373\u001b[0m \u001b[39m# when the last Python token in the expression is a ';'.\u001b[39;00m\n\u001b[1;32m   2374\u001b[0m \u001b[39mif\u001b[39;00m \u001b[39mgetattr\u001b[39m(fn, magic\u001b[39m.\u001b[39mMAGIC_OUTPUT_CAN_BE_SILENCED, \u001b[39mFalse\u001b[39;00m):\n",
      "File \u001b[0;32m~/opt/anaconda3/lib/python3.8/site-packages/IPython/core/magics/execution.py:1167\u001b[0m, in \u001b[0;36mExecutionMagics.timeit\u001b[0;34m(self, line, cell, local_ns)\u001b[0m\n\u001b[1;32m   1164\u001b[0m         \u001b[39mif\u001b[39;00m time_number \u001b[39m>\u001b[39m\u001b[39m=\u001b[39m \u001b[39m0.2\u001b[39m:\n\u001b[1;32m   1165\u001b[0m             \u001b[39mbreak\u001b[39;00m\n\u001b[0;32m-> 1167\u001b[0m all_runs \u001b[39m=\u001b[39m timer\u001b[39m.\u001b[39;49mrepeat(repeat, number)\n\u001b[1;32m   1168\u001b[0m best \u001b[39m=\u001b[39m \u001b[39mmin\u001b[39m(all_runs) \u001b[39m/\u001b[39m number\n\u001b[1;32m   1169\u001b[0m worst \u001b[39m=\u001b[39m \u001b[39mmax\u001b[39m(all_runs) \u001b[39m/\u001b[39m number\n",
      "File \u001b[0;32m~/opt/anaconda3/lib/python3.8/timeit.py:205\u001b[0m, in \u001b[0;36mTimer.repeat\u001b[0;34m(self, repeat, number)\u001b[0m\n\u001b[1;32m    203\u001b[0m r \u001b[39m=\u001b[39m []\n\u001b[1;32m    204\u001b[0m \u001b[39mfor\u001b[39;00m i \u001b[39min\u001b[39;00m \u001b[39mrange\u001b[39m(repeat):\n\u001b[0;32m--> 205\u001b[0m     t \u001b[39m=\u001b[39m \u001b[39mself\u001b[39;49m\u001b[39m.\u001b[39;49mtimeit(number)\n\u001b[1;32m    206\u001b[0m     r\u001b[39m.\u001b[39mappend(t)\n\u001b[1;32m    207\u001b[0m \u001b[39mreturn\u001b[39;00m r\n",
      "File \u001b[0;32m~/opt/anaconda3/lib/python3.8/site-packages/IPython/core/magics/execution.py:157\u001b[0m, in \u001b[0;36mTimer.timeit\u001b[0;34m(self, number)\u001b[0m\n\u001b[1;32m    155\u001b[0m gc\u001b[39m.\u001b[39mdisable()\n\u001b[1;32m    156\u001b[0m \u001b[39mtry\u001b[39;00m:\n\u001b[0;32m--> 157\u001b[0m     timing \u001b[39m=\u001b[39m \u001b[39mself\u001b[39;49m\u001b[39m.\u001b[39;49minner(it, \u001b[39mself\u001b[39;49m\u001b[39m.\u001b[39;49mtimer)\n\u001b[1;32m    158\u001b[0m \u001b[39mfinally\u001b[39;00m:\n\u001b[1;32m    159\u001b[0m     \u001b[39mif\u001b[39;00m gcold:\n",
      "File \u001b[0;32m<magic-timeit>:1\u001b[0m, in \u001b[0;36minner\u001b[0;34m(_it, _timer)\u001b[0m\n",
      "Cell \u001b[0;32mIn[56], line 6\u001b[0m, in \u001b[0;36msolution\u001b[0;34m(score)\u001b[0m\n\u001b[1;32m      4\u001b[0m rank \u001b[39m=\u001b[39m \u001b[39m1\u001b[39m\n\u001b[1;32m      5\u001b[0m \u001b[39mfor\u001b[39;00m j \u001b[39min\u001b[39;00m score:\n\u001b[0;32m----> 6\u001b[0m     \u001b[39mif\u001b[39;00m \u001b[39msum\u001b[39m(i) \u001b[39m<\u001b[39m \u001b[39msum\u001b[39;49m(j):\n\u001b[1;32m      7\u001b[0m         rank \u001b[39m+\u001b[39m\u001b[39m=\u001b[39m \u001b[39m1\u001b[39m\n\u001b[1;32m      8\u001b[0m answer\u001b[39m.\u001b[39mappend(rank)\n",
      "\u001b[0;31mKeyboardInterrupt\u001b[0m: "
     ]
    }
   ],
   "source": [
    "def solution(score):\n",
    "    answer = []\n",
    "    for i in score:\n",
    "        rank = 1\n",
    "        for j in score:\n",
    "            if sum(i) < sum(j):\n",
    "                rank += 1\n",
    "        answer.append(rank)\n",
    "    return answer\n",
    "\n",
    "# solution([[80, 70], [90, 50], [40, 70], [50, 80]])\n",
    "%timeit solution([[80, 70], [70, 80], [30, 50], [90, 100], [100, 90], [100, 100], [10, 30]])"
   ]
  },
  {
   "cell_type": "code",
   "execution_count": null,
   "metadata": {},
   "outputs": [
    {
     "name": "stdout",
     "output_type": "stream",
     "text": [
      "5.35 µs ± 15.1 ns per loop (mean ± std. dev. of 7 runs, 100,000 loops each)\n"
     ]
    }
   ],
   "source": [
    "def solution(score):\n",
    "    avg = sorted([sum(i) for i in score], reverse=True)\n",
    "    return [avg.index(sum(i))+1 for i in score]\n",
    "\n",
    "# solution([[80, 70], [90, 50], [40, 70], [50, 80]])\n",
    "%timeit solution([[80, 70], [70, 80], [30, 50], [90, 100], [100, 90], [100, 100], [10, 30]])"
   ]
  },
  {
   "attachments": {},
   "cell_type": "markdown",
   "metadata": {},
   "source": [
    "## 문자열 밀기\n",
    "- 문제 설명\n",
    "    - 문자열 \"hello\"에서 각 문자를 오른쪽으로 한 칸씩 밀고 마지막 문자는 맨 앞으로 이동시키면 \"ohell\"이 됩니다. 이것을 문자열을 민다고 정의한다면 문자열 A와 B가 매개변수로 주어질 때, A를 밀어서 B가 될 수 있다면 몇 번 밀어야 하는지 횟수를 return하고 밀어서 B가 될 수 없으면 -1을 return 하도록 solution 함수를 완성해보세요.\n",
    "\n",
    "- 제한사항\n",
    "    - 0 < A의 길이 = B의 길이 < 100\n",
    "    - A, B는 알파벳 소문자로 이루어져 있습니다.\n"
   ]
  },
  {
   "cell_type": "code",
   "execution_count": null,
   "metadata": {},
   "outputs": [
    {
     "data": {
      "text/plain": [
       "4"
      ]
     },
     "execution_count": 144,
     "metadata": {},
     "output_type": "execute_result"
    }
   ],
   "source": [
    "def solution(A, B):\n",
    "    for i in range(len(A)):\n",
    "        if A == B: return i\n",
    "        A = A[-1] + A[:-1]\n",
    "    return -1\n",
    "\n",
    "# solution(\"apple\", \"elppa\")\n",
    "# solution(\"hello\", \"ohell\") \n",
    "solution(\"hello\", \"elloh\")"
   ]
  },
  {
   "attachments": {},
   "cell_type": "markdown",
   "metadata": {},
   "source": [
    "## 컨트롤 제트\n",
    "- 문제 설명\n",
    "    - 숫자와 \"Z\"가 공백으로 구분되어 담긴 문자열이 주어집니다. 문자열에 있는 숫자를 차례대로 더하려고 합니다. 이 때 \"Z\"가 나오면 바로 전에 더했던 숫자를 뺀다는 뜻입니다. 숫자와 \"Z\"로 이루어진 문자열 s가 주어질 때, 머쓱이가 구한 값을 return 하도록 solution 함수를 완성해보세요.\n",
    "\n",
    "- 제한사항\n",
    "    - 1 ≤ s의 길이 ≤ 200\n",
    "    - -1,000 < s의 원소 중 숫자 < 1,000\n",
    "    - s는 숫자, \"Z\", 공백으로 이루어져 있습니다.\n",
    "    - s에 있는 숫자와 \"Z\"는 서로 공백으로 구분됩니다.\n",
    "    - 연속된 공백은 주어지지 않습니다.\n",
    "    - 0을 제외하고는 0으로 시작하는 숫자는 없습니다.\n",
    "    - s는 \"Z\"로 시작하지 않습니다.\n",
    "    - s의 시작과 끝에는 공백이 없습니다.\n",
    "    - \"Z\"가 연속해서 나오는 경우는 없습니다."
   ]
  },
  {
   "cell_type": "code",
   "execution_count": null,
   "metadata": {},
   "outputs": [
    {
     "data": {
      "text/plain": [
       "4"
      ]
     },
     "execution_count": 122,
     "metadata": {},
     "output_type": "execute_result"
    }
   ],
   "source": [
    "def solution(s):\n",
    "    answer = 0\n",
    "    for i in range(len(s := s.split(\" \"))):\n",
    "        if s[i] == \"Z\":\n",
    "            answer -= int(s[i-1])\n",
    "        else:\n",
    "            answer += int(s[i])\n",
    "    return answer\n",
    "\n",
    "solution(\"1 2 Z 3\")  # 4"
   ]
  },
  {
   "cell_type": "code",
   "execution_count": null,
   "metadata": {},
   "outputs": [
    {
     "data": {
      "text/plain": [
       "4"
      ]
     },
     "execution_count": 142,
     "metadata": {},
     "output_type": "execute_result"
    }
   ],
   "source": [
    "def solution(s):\n",
    "    answer = 0\n",
    "    for i in range(len(s := s.split(\" \"))):\n",
    "        answer += int(s[i]) if s[i] != \"Z\" else -int(s[i-1])\n",
    "    return answer\n",
    "\n",
    "solution(\"1 2 Z 3\")  # 4"
   ]
  },
  {
   "attachments": {},
   "cell_type": "markdown",
   "metadata": {},
   "source": [
    "## 삼각형의 완성조건\n",
    "- 문제 설명\n",
    "    - 선분 세 개로 삼각형을 만들기 위해서는 다음과 같은 조건을 만족해야 합니다.\n",
    "        - 가장 긴 변의 길이는 다른 두 변의 길이의 합보다 작아야 합니다.\n",
    "    - 삼각형의 두 변의 길이가 담긴 배열 sides이 매개변수로 주어집니다. 나머지 한 변이 될 수 있는 정수의 개수를 return하도록 solution 함수를 완성해주세요.\n",
    "\n",
    "- 제한사항\n",
    "    - sides의 원소는 자연수입니다.\n",
    "    - sides의 길이는 2입니다.\n",
    "    - 1 ≤ sides의 원소 ≤ 1,000"
   ]
  },
  {
   "cell_type": "code",
   "execution_count": 1,
   "metadata": {},
   "outputs": [
    {
     "data": {
      "text/plain": [
       "13"
      ]
     },
     "execution_count": 1,
     "metadata": {},
     "output_type": "execute_result"
    }
   ],
   "source": [
    "def solution(sides):\n",
    "    return len(range(max(sides)-min(sides)+1, sum(sides)))\n",
    "\n",
    "solution([11, 7])\n",
    "# solution([1, 2])"
   ]
  },
  {
   "cell_type": "code",
   "execution_count": null,
   "metadata": {},
   "outputs": [
    {
     "data": {
      "text/plain": [
       "13"
      ]
     },
     "execution_count": 135,
     "metadata": {},
     "output_type": "execute_result"
    }
   ],
   "source": [
    "def solution(sides):\n",
    "    return sum(sides) - max(sides) + min(sides) - 1"
   ]
  },
  {
   "cell_type": "code",
   "execution_count": 2,
   "metadata": {},
   "outputs": [
    {
     "data": {
      "text/plain": [
       "13"
      ]
     },
     "execution_count": 2,
     "metadata": {},
     "output_type": "execute_result"
    }
   ],
   "source": [
    "def solution(sides):\n",
    "    return 2 * min(sides) - 1\n",
    "\n",
    "solution([11, 7])"
   ]
  },
  {
   "attachments": {},
   "cell_type": "markdown",
   "metadata": {},
   "source": [
    "## 케릭터의 좌표\n",
    "- 문제 설명\n",
    "    - 머쓱이는 RPG게임을 하고 있습니다. 게임에는 up, down, left, right 방향키가 있으며 각 키를 누르면 위, 아래, 왼쪽, 오른쪽으로 한 칸씩 이동합니다. 예를 들어 [0,0]에서 up을 누른다면 캐릭터의 좌표는 [0, 1], down을 누른다면 [0, -1], left를 누른다면 [-1, 0], right를 누른다면 [1, 0]입니다. 머쓱이가 입력한 방향키의 배열 keyinput와 맵의 크기 board이 매개변수로 주어집니다. 캐릭터는 항상 [0,0]에서 시작할 때 키 입력이 모두 끝난 뒤에 캐릭터의 좌표 [x, y]를 return하도록 solution 함수를 완성해주세요.\n",
    "    - [0, 0]은 board의 정 중앙에 위치합니다. 예를 들어 board의 가로 크기가 9라면 캐릭터는 왼쪽으로 최대 [-4, 0]까지 오른쪽으로 최대 [4, 0]까지 이동할 수 있습니다.\n",
    "\n",
    "- 제한사항\n",
    "    - board은 [가로 크기, 세로 크기] 형태로 주어집니다.\n",
    "    - board의 가로 크기와 세로 크기는 홀수입니다.\n",
    "    - board의 크기를 벗어난 방향키 입력은 무시합니다.\n",
    "    - 0 ≤ keyinput의 길이 ≤ 50\n",
    "    - 1 ≤ board[0] ≤ 99\n",
    "    - 1 ≤ board[1] ≤ 99\n",
    "    - keyinput은 항상 up, down, left, right만 주어집니다."
   ]
  },
  {
   "cell_type": "code",
   "execution_count": null,
   "metadata": {},
   "outputs": [
    {
     "data": {
      "text/plain": [
       "[-1, 0]"
      ]
     },
     "execution_count": 92,
     "metadata": {},
     "output_type": "execute_result"
    }
   ],
   "source": [
    "def solution(keyinput, board):\n",
    "    x, y = 0, 0\n",
    "    for key in keyinput:\n",
    "        if key == \"left\" and x > -(board[0]-1)/2:\n",
    "            x -= 1\n",
    "        elif key == \"right\" and x < (board[0]-1)/2:\n",
    "            x += 1\n",
    "        elif key == \"up\" and y < (board[1]-1)/2:\n",
    "            y += 1\n",
    "        elif key == \"down\" and y > -(board[1]-1)/2:\n",
    "            y -= 1\n",
    "    return [x, y]\n",
    "\n",
    "# solution([\"left\", \"right\", \"up\", \"right\", \"right\"], [11, 11])\n",
    "# solution([\"down\", \"down\", \"down\", \"down\", \"down\"], [7, 9])\n",
    "# solution([\"left\", \"right\", \"up\", \"down\"], [1, 1])\n",
    "solution([\"left\", \"left\", \"right\", \"left\"], [3, 3])\n",
    "# solution([\"up\", \"up\", \"up\", \"down\"], [3, 3])"
   ]
  },
  {
   "cell_type": "code",
   "execution_count": null,
   "metadata": {},
   "outputs": [
    {
     "data": {
      "text/plain": [
       "[0, 0]"
      ]
     },
     "execution_count": 82,
     "metadata": {},
     "output_type": "execute_result"
    }
   ],
   "source": [
    "def solution(keyinput, board):\n",
    "    left = min(keyinput.count(\"left\"), (board[0]-1)//2)\n",
    "    right = min(keyinput.count(\"right\"), (board[0]-1)//2)\n",
    "    up = min(keyinput.count(\"up\"), (board[1]-1)//2)\n",
    "    down = min(keyinput.count(\"down\"), (board[1]-1)//2)\n",
    "    return [right - left, up - down]\n",
    "\n",
    "# 반례: [\"left\", \"left\", \"right\", \"left\"], [3, 3]\n",
    "# 기댓값: [-1, 0]\n",
    "# 리턴값: [0, 0]\n",
    "# 의도: 반복문을 사용하지 않으며, 좀 더 컴팩트한 코드 구현\n",
    "# 결론: 순서가 없는 풀이는 불가능\n",
    "solution([\"left\", \"left\", \"right\", \"left\"], [3, 3])"
   ]
  },
  {
   "attachments": {},
   "cell_type": "markdown",
   "metadata": {},
   "source": [
    "## 외계어 사전\n",
    "- 문제 설명\n",
    "    - PROGRAMMERS-962 행성에 불시착한 우주비행사 머쓱이는 외계행성의 언어를 공부하려고 합니다. 알파벳이 담긴 배열 spell과 외계어 사전 dic이 매개변수로 주어집니다. spell에 담긴 알파벳을 한번씩만 모두 사용한 단어가 dic에 존재한다면 1, 존재하지 않는다면 2를 return하도록 solution 함수를 완성해주세요.\n",
    "\n",
    "- 제한사항\n",
    "    - spell과 dic의 원소는 알파벳 소문자로만 이루어져있습니다.\n",
    "    - 2 ≤ spell의 크기 ≤ 10\n",
    "    - spell의 원소의 길이는 1입니다.\n",
    "    - 1 ≤ dic의 크기 ≤ 10\n",
    "    - 1 ≤ dic의 원소의 길이 ≤ 10\n",
    "    - spell의 원소를 모두 사용해 단어를 만들어야 합니다.\n",
    "    - spell의 원소를 모두 사용해 만들 수 있는 단어는 dic에 두 개 이상 존재하지 않습니다.\n",
    "    - dic과 spell 모두 중복된 원소를 갖지 않습니다."
   ]
  },
  {
   "cell_type": "code",
   "execution_count": null,
   "metadata": {},
   "outputs": [
    {
     "data": {
      "text/plain": [
       "1"
      ]
     },
     "execution_count": 139,
     "metadata": {},
     "output_type": "execute_result"
    }
   ],
   "source": [
    "from itertools import permutations\n",
    "from math import perm  # 숫자로만 계산가능\n",
    "\n",
    "\n",
    "def solution(spell, dic):\n",
    "    combi = permutations(spell, len(spell))\n",
    "    return int(any([c for c in combi if \"\".join(c) in dic])) or 2\n",
    "\n",
    "# solution([\"p\", \"o\", \"s\"], [\"sod\", \"eocd\", \"qixm\", \"adio\", \"soo\"])\n",
    "solution([\"z\", \"d\", \"x\"], [\"def\", \"dww\", \"dzx\", \"loveaw\"])"
   ]
  },
  {
   "cell_type": "code",
   "execution_count": null,
   "metadata": {},
   "outputs": [
    {
     "data": {
      "text/plain": [
       "2"
      ]
     },
     "execution_count": 140,
     "metadata": {},
     "output_type": "execute_result"
    }
   ],
   "source": [
    "def solution(spell, dic):\n",
    "    spell = set(spell)\n",
    "    return int(any(d for d in dic if not spell - set(d))) or 2\n",
    "\n",
    "solution([\"p\", \"o\", \"s\"], [\"sod\", \"eocd\", \"qixm\", \"adio\", \"soo\"])\n",
    "# solution([\"z\", \"d\", \"x\"], [\"def\", \"dww\", \"dzx\", \"loveaw\"])"
   ]
  },
  {
   "attachments": {},
   "cell_type": "markdown",
   "metadata": {},
   "source": [
    "## 크기가 작은 부분문자열\n",
    "- 문제 설명\n",
    "    - 숫자로 이루어진 문자열 t와 p가 주어질 때, t에서 p와 길이가 같은 부분문자열 중에서, 이 부분문자열이 나타내는 수가 p가 나타내는 수보다 작거나 같은 것이 나오는 횟수를 return하는 함수 solution을 완성하세요.\n",
    "    - 예를 들어, t=\"3141592\"이고 p=\"271\" 인 경우, t의 길이가 3인 부분 문자열은 314, 141, 415, 159, 592입니다. 이 문자열이 나타내는 수 중 271보다 작거나 같은 수는 141, 159 2개 입니다.\n",
    "\n",
    "- 제한사항\n",
    "    - 1 ≤ p의 길이 ≤ 18\n",
    "    - p의 길이 ≤ t의 길이 ≤ 10,000\n",
    "    - t와 p는 숫자로만 이루어진 문자열이며, 0으로 시작하지 않습니다."
   ]
  },
  {
   "cell_type": "code",
   "execution_count": null,
   "metadata": {},
   "outputs": [
    {
     "name": "stdout",
     "output_type": "stream",
     "text": [
      "521 µs ± 26.8 µs per loop (mean ± std. dev. of 7 runs, 1,000 loops each)\n"
     ]
    }
   ],
   "source": [
    "def solution(t, p):\n",
    "    answer = 0\n",
    "    for i in range(len(t)-len(p)+1):\n",
    "        answer += 1 if int(t[i:i+len(p)]) <= int(p) else 0\n",
    "    return answer\n",
    "\n",
    "# solution(\"3141592\", \"271\")\n",
    "%timeit solution(\"500220839878\"*100, \"7\")"
   ]
  },
  {
   "cell_type": "code",
   "execution_count": null,
   "metadata": {},
   "outputs": [
    {
     "name": "stdout",
     "output_type": "stream",
     "text": [
      "210 µs ± 22.2 µs per loop (mean ± std. dev. of 7 runs, 1,000 loops each)\n"
     ]
    }
   ],
   "source": [
    "def solution(t, p):\n",
    "    return len([1 for i in range(len(t)-len(p)+1) if t[i:i+len(p)] <= p])\n",
    "\n",
    "# solution(\"3141592\", \"271\")\n",
    "%timeit solution(\"500220839878\"*100, \"7\")"
   ]
  },
  {
   "attachments": {},
   "cell_type": "markdown",
   "metadata": {},
   "source": [
    "## 개인정보 수집 유효기간\n",
    "- 문제 설명\n",
    "    - 고객의 약관 동의를 얻어서 수집된 1~n번으로 분류되는 개인정보 n개가 있습니다. 약관 종류는 여러 가지 있으며 각 약관마다 개인정보 보관 유효기간이 정해져 있습니다. 당신은 각 개인정보가 어떤 약관으로 수집됐는지 알고 있습니다. 수집된 개인정보는 유효기간 전까지만 보관 가능하며, 유효기간이 지났다면 반드시 파기해야 합니다.\n",
    "    - 예를 들어, A라는 약관의 유효기간이 12 달이고, 2021년 1월 5일에 수집된 개인정보가 A약관으로 수집되었다면 해당 개인정보는 2022년 1월 4일까지 보관 가능하며 2022년 1월 5일부터 파기해야 할 개인정보입니다.\n",
    "    - 당신은 오늘 날짜로 파기해야 할 개인정보 번호들을 구하려 합니다.\n",
    "    - 모든 달은 28일까지 있다고 가정합니다.\n",
    "    - 다음은 오늘 날짜가 2022.05.19일 때의 예시입니다.\n",
    "    \n",
    "|약관 종류|유효기간|\n",
    "|:--:|:--:|\n",
    "|A|6 달|\n",
    "|B|12 달|\n",
    "|C|3 달|\n",
    "\n",
    "|번호|개인정보 수집 일자|약관 종류|\n",
    "|:--:|:--:|:--:|\n",
    "|1|2021.05.02|A|\n",
    "|2|2021.07.01|B|\n",
    "|3|2022.02.19|C|\n",
    "|4|2022.02.20|C|\n",
    "\n",
    "        - 첫 번째 개인정보는 A약관에 의해 2021년 11월 1일까지 보관 가능하며, 유효기간이 지났으므로 파기해야 할 개인정보입니다.\n",
    "        - 두 번째 개인정보는 B약관에 의해 2022년 6월 28일까지 보관 가능하며, 유효기간이 지나지 않았으므로 아직 보관 가능합니다.\n",
    "        - 세 번째 개인정보는 C약관에 의해 2022년 5월 18일까지 보관 가능하며, 유효기간이 지났으므로 파기해야 할 개인정보입니다.\n",
    "        - 네 번째 개인정보는 C약관에 의해 2022년 5월 19일까지 보관 가능하며, 유효기간이 지나지 않았으므로 아직 보관 가능합니다.\n",
    "    - 따라서 파기해야 할 개인정보 번호는 [1, 3]입니다.\n",
    "    - 오늘 날짜를 의미하는 문자열 today, 약관의 유효기간을 담은 1차원 문자열 배열 terms와 수집된 개인정보의 정보를 담은 1차원 문자열 배열 privacies가 매개변수로 주어집니다. 이때 파기해야 할 개인정보의 번호를 오름차순으로 1차원 정수 배열에 담아 return 하도록 solution 함수를 완성해 주세요.\n",
    "\n",
    "- 제한사항\n",
    "    - today는 \"YYYY.MM.DD\" 형태로 오늘 날짜를 나타냅니다.\n",
    "    - 1 ≤ terms의 길이 ≤ 20\n",
    "        - terms의 원소는 \"약관 종류 유효기간\" 형태의 약관 종류와 유효기간을 공백 하나로 구분한 문자열입니다.\n",
    "        - 약관 종류는 A~Z중 알파벳 대문자 하나이며, terms 배열에서 약관 종류는 중복되지 않습니다.\n",
    "        - 유효기간은 개인정보를 보관할 수 있는 달 수를 나타내는 정수이며, 1 이상 100 이하입니다.\n",
    "    - 1 ≤ privacies의 길이 ≤ 100\n",
    "        - privacies[i]는 i+1번 개인정보의 수집 일자와 약관 종류를 나타냅니다.\n",
    "        - privacies의 원소는 \"날짜 약관 종류\" 형태의 날짜와 약관 종류를 공백 하나로 구분한 문자열입니다.\n",
    "        - 날짜는 \"YYYY.MM.DD\" 형태의 개인정보가 수집된 날짜를 나타내며, today 이전의 날짜만 주어집니다.\n",
    "        -privacies의 약관 종류는 항상 terms에 나타난 약관 종류만 주어집니다.\n",
    "    - today와 privacies에 등장하는 날짜의 YYYY는 연도, MM은 월, DD는 일을 나타내며 점(.) 하나로 구분되어 있습니다.\n",
    "        - 2000 ≤ YYYY ≤ 2022\n",
    "        - 1 ≤ MM ≤ 12\n",
    "        - MM이 한 자릿수인 경우 앞에 0이 붙습니다.\n",
    "        - 1 ≤ DD ≤ 28\n",
    "        - DD가 한 자릿수인 경우 앞에 0이 붙습니다.\n",
    "    - 파기해야 할 개인정보가 하나 이상 존재하는 입력만 주어집니다."
   ]
  },
  {
   "cell_type": "code",
   "execution_count": null,
   "metadata": {},
   "outputs": [
    {
     "data": {
      "text/plain": [
       "[1, 4, 5]"
      ]
     },
     "execution_count": 97,
     "metadata": {},
     "output_type": "execute_result"
    }
   ],
   "source": [
    "# 날짜 형식을 유지하면서 비교하기\n",
    "def solution(today, terms, privacies):\n",
    "    answer = []\n",
    "    terms = {i[0]:int(i[2:]) for i in terms}\n",
    "    for i, p in enumerate(privacies):\n",
    "        date, kind = p.split(\" \")\n",
    "        y, m, d = date.split(\".\")\n",
    "        y = int(y) + (int(m)+terms[kind]-1)//12\n",
    "        m = (int(m)+terms[kind])%12 or 12\n",
    "        date = \".\".join([f\"{y}\", f\"{m:02}\", d])\n",
    "        if today >= date:\n",
    "            answer.append(i+1)\n",
    "    return answer\n",
    "\n",
    "# solution(\"2022.05.19\", [\"A 6\", \"B 12\", \"C 3\"], [\"2021.05.02 A\", \"2021.07.01 B\", \"2022.02.19 C\", \"2022.02.20 C\"])\n",
    "solution(\"2020.01.01\", [\"Z 3\", \"D 5\"], [\"2019.01.01 D\", \"2019.11.15 Z\", \"2019.08.02 D\", \"2019.07.01 D\", \"2018.12.28 Z\"])"
   ]
  },
  {
   "cell_type": "code",
   "execution_count": null,
   "metadata": {},
   "outputs": [
    {
     "data": {
      "text/plain": [
       "[1, 4, 5]"
      ]
     },
     "execution_count": 98,
     "metadata": {},
     "output_type": "execute_result"
    }
   ],
   "source": [
    "# 날짜를 일 수로 치환하여 비교하기\n",
    "def solution(today, terms, privacies):\n",
    "    answer = []\n",
    "    terms = {i[0]:int(i[2:])*28 for i in terms}\n",
    "    today = int(today[:4])*12*28 + int(today[5:7])*28 + int(today[-2:])\n",
    "    for i, p in enumerate(privacies):\n",
    "        date, category = p.split(\" \")\n",
    "        days = int(date[:4])*12*28 + int(date[5:7])*28 + int(date[-2:]) + terms[category]\n",
    "        if today >= days:\n",
    "            answer.append(i+1)\n",
    "    return answer\n",
    "\n",
    "# solution(\"2022.05.19\", [\"A 6\", \"B 12\", \"C 3\"], [\"2021.05.02 A\", \"2021.07.01 B\", \"2022.02.19 C\", \"2022.02.20 C\"])\n",
    "solution(\"2020.01.01\", [\"Z 3\", \"D 5\"], [\"2019.01.01 D\", \"2019.11.15 Z\", \"2019.08.02 D\", \"2019.07.01 D\", \"2018.12.28 Z\"])"
   ]
  },
  {
   "attachments": {},
   "cell_type": "markdown",
   "metadata": {},
   "source": [
    "## 옹알이\n",
    "- 문제 설명\n",
    "    - 머쓱이는 태어난 지 11개월 된 조카를 돌보고 있습니다. 조카는 아직 \"aya\", \"ye\", \"woo\", \"ma\" 네 가지 발음과 네 가지 발음을 조합해서 만들 수 있는 발음밖에 하지 못하고 연속해서 같은 발음을 하는 것을 어려워합니다. 문자열 배열 babbling이 매개변수로 주어질 때, 머쓱이의 조카가 발음할 수 있는 단어의 개수를 return하도록 solution 함수를 완성해주세요.\n",
    "\n",
    "- 제한사항\n",
    "    - 1 ≤ babbling의 길이 ≤ 100\n",
    "    - 1 ≤ babbling[i]의 길이 ≤ 30\n",
    "    - 문자열은 알파벳 소문자로만 이루어져 있습니다."
   ]
  },
  {
   "cell_type": "code",
   "execution_count": null,
   "metadata": {},
   "outputs": [
    {
     "data": {
      "text/plain": [
       "1"
      ]
     },
     "execution_count": 18,
     "metadata": {},
     "output_type": "execute_result"
    }
   ],
   "source": [
    "def solution(babbling):\n",
    "    answer = 0\n",
    "    for i in babbling:\n",
    "        i = i.replace(\"aya\", \"\", 1)\n",
    "        i = i.replace(\"ye\", \"\", 1)\n",
    "        i = i.replace(\"woo\", \"\", 1)\n",
    "        i = i.replace(\"ma\", \"\", 1)\n",
    "        if not len(i):\n",
    "            answer += 1\n",
    "    return answer\n",
    "\n",
    "solution([\"aya\", \"yee\", \"u\", \"maa\", \"woomawoo\"])  # 2\n",
    "# solution([\"ayaye\", \"uuu\", \"yeye\", \"yemawoo\", \"ayaayaa\"])"
   ]
  },
  {
   "attachments": {},
   "cell_type": "markdown",
   "metadata": {},
   "source": [
    "## 둘만의 암호\n",
    "\n",
    "- 문제 설명\n",
    "    - 두 문자열 s와 skip, 그리고 자연수 index가 주어질 때, 다음 규칙에 따라 문자열을 만들려 합니다. 암호의 규칙은 다음과 같습니다.\n",
    "        - 문자열 s의 각 알파벳을 index만큼 뒤의 알파벳으로 바꿔줍니다.\n",
    "        - index만큼의 뒤의 알파벳이 z를 넘어갈 경우 다시 a로 돌아갑니다.\n",
    "        - skip에 있는 알파벳은 제외하고 건너뜁니다.\n",
    "    - 예를 들어 s = \"aukks\", skip = \"wbqd\", index = 5일 때, a에서 5만큼 뒤에 있는 알파벳은 f지만 [b, c, d, e, f]에서 'b'와 'd'는 skip에 포함되므로 세지 않습니다. 따라서 'b', 'd'를 제외하고 'a'에서 5만큼 뒤에 있는 알파벳은 [c, e, f, g, h] 순서에 의해 'h'가 됩니다. 나머지 \"ukks\" 또한 위 규칙대로 바꾸면 \"appy\"가 되며 결과는 \"happy\"가 됩니다.\n",
    "    - 두 문자열 s와 skip, 그리고 자연수 index가 매개변수로 주어질 때 위 규칙대로 s를 변환한 결과를 return하도록 solution 함수를 완성해주세요.\n",
    "\n",
    "- 제한사항\n",
    "    - 5 ≤ s의 길이 ≤ 50\n",
    "    - 1 ≤ skip의 길이 ≤ 10\n",
    "    - s와 skip은 알파벳 소문자로만 이루어져 있습니다.\n",
    "    - skip에 포함되는 알파벳은 s에 포함되지 않습니다.\n",
    "    - 1 ≤ index ≤ 20"
   ]
  },
  {
   "cell_type": "code",
   "execution_count": 17,
   "metadata": {},
   "outputs": [
    {
     "data": {
      "text/plain": [
       "'fhassykxzf'"
      ]
     },
     "execution_count": 17,
     "metadata": {},
     "output_type": "execute_result"
    }
   ],
   "source": [
    "def solution(s, skip, index):\n",
    "    answer = \"\"\n",
    "    stride = 0\n",
    "    skip = set(skip)\n",
    "    for i in s:\n",
    "        if i in skip:\n",
    "            answer += i\n",
    "        else:\n",
    "            new_chars = {chr((ord(i) - ord(\"a\") + j) % 26 + ord(\"a\")) for j in range(1, index+1)}\n",
    "            while len(skip_chars := skip & new_chars) > 0:\n",
    "                new_chars -= skip_chars\n",
    "                for k in range(1, len(skip_chars)+1):\n",
    "                    new_chars |= set(chr((ord(i)-ord(\"a\")+index+stride+k) % 26 + ord(\"a\")))\n",
    "                stride += len(skip_chars)\n",
    "            answer += chr((ord(i)-ord(\"a\")+index+stride) % 26 + ord(\"a\"))\n",
    "            stride = 0\n",
    "    return answer\n",
    "\n",
    "solution(\"yaukkserty\", \"wbqdjop\", 5)"
   ]
  },
  {
   "cell_type": "code",
   "execution_count": 23,
   "metadata": {},
   "outputs": [
    {
     "data": {
      "text/plain": [
       "'fhassykxzf'"
      ]
     },
     "execution_count": 23,
     "metadata": {},
     "output_type": "execute_result"
    }
   ],
   "source": [
    "def solution(s, skip, index):\n",
    "    result = \"\"\n",
    "    a_to_z = {chr(i) for i in range(97, 123)}\n",
    "    a_to_z -= set(skip)\n",
    "    a_to_z = sorted(a_to_z)\n",
    "    l = len(a_to_z)\n",
    "    dic_alpha = {alpha:idx for idx, alpha in enumerate(a_to_z)}\n",
    "    for i in s:\n",
    "        result += a_to_z[(dic_alpha[i] + index) % l]\n",
    "    return result\n",
    "\n",
    "solution(\"yaukkserty\", \"wbqdjop\", 5)"
   ]
  },
  {
   "attachments": {},
   "cell_type": "markdown",
   "metadata": {},
   "source": [
    "## 바탕화면 정리\n",
    "\n",
    "- 문제 설명\n",
    "    - 코딩테스트를 준비하는 머쓱이는 프로그래머스에서 문제를 풀고 나중에 다시 코드를 보면서 공부하려고 작성한 코드를 컴퓨터 바탕화면에 아무 위치에나 저장해 둡니다. 저장한 코드가 많아지면서 머쓱이는 본인의 컴퓨터 바탕화면이 너무 지저분하다고 생각했습니다. 프로그래머스에서 작성했던 코드는 그 문제에 가서 다시 볼 수 있기 때문에 저장해 둔 파일들을 전부 삭제하기로 했습니다.\n",
    "    - 컴퓨터 바탕화면은 각 칸이 정사각형인 격자판입니다. 이때 컴퓨터 바탕화면의 상태를 나타낸 문자열 배열 wallpaper가 주어집니다. 파일들은 바탕화면의 격자칸에 위치하고 바탕화면의 격자점들은 바탕화면의 가장 왼쪽 위를 (0, 0)으로 시작해 (세로 좌표, 가로 좌표)로 표현합니다. 빈칸은 \".\", 파일이 있는 칸은 \"#\"의 값을 가집니다. 드래그를 하면 파일들을 선택할 수 있고, 선택된 파일들을 삭제할 수 있습니다. 머쓱이는 최소한의 이동거리를 갖는 한 번의 드래그로 모든 파일을 선택해서 한 번에 지우려고 하며 드래그로 파일들을 선택하는 방법은 다음과 같습니다.\n",
    "        - 드래그는 바탕화면의 격자점 S(lux, luy)를 마우스 왼쪽 버튼으로 클릭한 상태로 격자점 E(rdx, rdy)로 이동한 뒤 마우스 왼쪽 버튼을 떼는 행동입니다. 이때, \"점 S에서 점 E로 드래그한다\"고 표현하고 점 S와 점 E를 각각 드래그의 시작점, 끝점이라고 표현합니다.\n",
    "        - 점 S(lux, luy)에서 점 E(rdx, rdy)로 드래그를 할 때, \"드래그 한 거리\"는 |rdx - lux| + |rdy - luy|로 정의합니다.\n",
    "        - 점 S에서 점 E로 드래그를 하면 바탕화면에서 두 격자점을 각각 왼쪽 위, 오른쪽 아래로 하는 직사각형 내부에 있는 모든 파일이 선택됩니다.\n",
    "    - 예를 들어 wallpaper = [\".#...\", \"..#..\", \"...#.\"]인 바탕화면을 그림으로 나타내면 다음과 같습니다.\n",
    "    - <img src=\"eg1.png\" width=300>\n",
    "    - 이러한 바탕화면에서 다음 그림과 같이 S(0, 1)에서 E(3, 4)로 드래그하면 세 개의 파일이 모두 선택되므로 드래그 한 거리 (3 - 0) + (4 - 1) = 6을 최솟값으로 모든 파일을 선택 가능합니다.\n",
    "    - <img src=\"eg1-2.png\" width=300>\n",
    "    - (0, 0)에서 (3, 5)로 드래그해도 모든 파일을 선택할 수 있지만 이때 드래그 한 거리는 (3 - 0) + (5 - 0) = 8이고 이전의 방법보다 거리가 늘어납니다.\n",
    "    - 머쓱이의 컴퓨터 바탕화면의 상태를 나타내는 문자열 배열 wallpaper가 매개변수로 주어질 때 바탕화면의 파일들을 한 번에 삭제하기 위해 최소한의 이동거리를 갖는 드래그의 시작점과 끝점을 담은 정수 배열을 return하는 solution 함수를 작성해 주세요. 드래그의 시작점이 (lux, luy), 끝점이 (rdx, rdy)라면 정수 배열 [lux, luy, rdx, rdy]를 return하면 됩니다.\n",
    "\n",
    "- 제한사항\n",
    "    - 1 ≤ wallpaper의 길이 ≤ 50\n",
    "    - 1 ≤ wallpaper[i]의 길이 ≤ 50\n",
    "        - wallpaper의 모든 원소의 길이는 동일합니다.\n",
    "    - wallpaper[i][j]는 바탕화면에서 i + 1행 j + 1열에 해당하는 칸의 상태를 나타냅니다.\n",
    "    - wallpaper[i][j]는 \"#\" 또는 \".\"의 값만 가집니다.\n",
    "    - 바탕화면에는 적어도 하나의 파일이 있습니다.\n",
    "    - 드래그 시작점 (lux, luy)와 끝점 (rdx, rdy)는 lux < rdx, luy < rdy를 만족해야 합니다."
   ]
  },
  {
   "cell_type": "code",
   "execution_count": 1,
   "metadata": {},
   "outputs": [
    {
     "data": {
      "text/plain": [
       "[1, 3, 5, 8]"
      ]
     },
     "execution_count": 1,
     "metadata": {},
     "output_type": "execute_result"
    }
   ],
   "source": [
    "def solution(wallpaper):\n",
    "    lux, luy, rdx, rdy = float(\"inf\"), float(\"inf\"), float(\"-inf\"), float(\"-inf\")\n",
    "    for x, row in enumerate(wallpaper):\n",
    "        for y, col in enumerate(row):\n",
    "            if col == \"#\":\n",
    "                lux = min(x, lux)\n",
    "                luy = min(y, luy)\n",
    "                rdx = max(x, rdx)\n",
    "                rdy = max(y, rdy)\n",
    "    return [lux, luy, rdx+1, rdy+1]\n",
    "\n",
    "# solution([\".#...\", \"..#..\", \"...#.\"])\n",
    "solution([\"..........\", \".....#....\", \"......##..\", \"...##.....\", \"....#.....\"])"
   ]
  },
  {
   "attachments": {},
   "cell_type": "markdown",
   "metadata": {},
   "source": [
    "## 대충 만든 자판\n",
    "\n",
    "- 문제 설명\n",
    "    - 휴대폰의 자판은 컴퓨터 키보드 자판과는 다르게 하나의 키에 여러 개의 문자가 할당될 수 있습니다. 키 하나에 여러 문자가 할당된 경우, 동일한 키를 연속해서 빠르게 누르면 할당된 순서대로 문자가 바뀝니다.\n",
    "    - 예를 들어, 1번 키에 \"A\", \"B\", \"C\" 순서대로 문자가 할당되어 있다면 1번 키를 한 번 누르면 \"A\", 두 번 누르면 \"B\", 세 번 누르면 \"C\"가 되는 식입니다.\n",
    "    - 같은 규칙을 적용해 아무렇게나 만든 휴대폰 자판이 있습니다. 이 휴대폰 자판은 키의 개수가 1개부터 최대 100개까지 있을 수 있으며, 특정 키를 눌렀을 때 입력되는 문자들도 무작위로 배열되어 있습니다. 또, 같은 문자가 자판 전체에 여러 번 할당된 경우도 있고, 키 하나에 같은 문자가 여러 번 할당된 경우도 있습니다. 심지어 아예 할당되지 않은 경우도 있습니다. 따라서 몇몇 문자열은 작성할 수 없을 수도 있습니다.\n",
    "    - 이 휴대폰 자판을 이용해 특정 문자열을 작성할 때, 키를 최소 몇 번 눌러야 그 문자열을 작성할 수 있는지 알아보고자 합니다.\n",
    "    - 1번 키부터 차례대로 할당된 문자들이 순서대로 담긴 문자열배열 keymap과 입력하려는 문자열들이 담긴 문자열 배열 targets가 주어질 때, 각 문자열을 작성하기 위해 키를 최소 몇 번씩 눌러야 하는지 순서대로 배열에 담아 return 하는 solution 함수를 완성해 주세요.\n",
    "    - 단, 목표 문자열을 작성할 수 없을 때는 -1을 저장합니다.\n",
    "\n",
    "- 제한사항\n",
    "    - 1 ≤ keymap의 길이 ≤ 100\n",
    "        - 1 ≤ keymap의 원소의 길이 ≤ 100\n",
    "        - keymap[i]는 i + 1번 키를 눌렀을 때 순서대로 바뀌는 문자를 의미합니다.\n",
    "            - 예를 들어 keymap[0] = \"ABACD\" 인 경우 1번 키를 한 번 누르면 A, 두 번 누르면 B, 세 번 누르면 A 가 됩니다.\n",
    "        - keymap의 원소의 길이는 서로 다를 수 있습니다.\n",
    "        - keymap의 원소는 알파벳 대문자로만 이루어져 있습니다.\n",
    "    - 1 ≤ targets의 길이 ≤ 100\n",
    "        - 1 ≤ targets의 원소의 길이 ≤ 100\n",
    "        - targets의 원소는 알파벳 대문자로만 이루어져 있습니다."
   ]
  },
  {
   "cell_type": "code",
   "execution_count": 51,
   "metadata": {},
   "outputs": [
    {
     "name": "stdout",
     "output_type": "stream",
     "text": [
      "7.22 µs ± 1.01 µs per loop (mean ± std. dev. of 7 runs, 100,000 loops each)\n"
     ]
    }
   ],
   "source": [
    "def solution(keymap, targets):\n",
    "    answer = [0] * len(targets)\n",
    "    count = float(\"inf\")\n",
    "    for i, word in enumerate(targets):\n",
    "        for letter in word:\n",
    "            for key in keymap:\n",
    "                if (distance := key.find(letter)) >= 0:\n",
    "                    count = min(distance+1, count)\n",
    "            if count == float(\"inf\"):\n",
    "                answer[i] = -1\n",
    "                count = float(\"inf\")\n",
    "                break\n",
    "            else:\n",
    "                answer[i] += count\n",
    "                count = float(\"inf\")\n",
    "    return answer\n",
    "\n",
    "solution([\"ABACD\", \"BCEFD\"], [\"ABCD\",\"AABB\"])\n",
    "# solution([\"AA\"], [\"B\"])"
   ]
  },
  {
   "cell_type": "code",
   "execution_count": 62,
   "metadata": {},
   "outputs": [
    {
     "data": {
      "text/plain": [
       "[9, 4]"
      ]
     },
     "execution_count": 62,
     "metadata": {},
     "output_type": "execute_result"
    }
   ],
   "source": [
    "def solution(keymap, targets):\n",
    "    answer = []\n",
    "    dist_map = {}\n",
    "    \n",
    "    for i in keymap:\n",
    "        for j in i:\n",
    "            if j not in dist_map:\n",
    "                dist_map[j] = i.find(j) + 1\n",
    "            else:\n",
    "                dist_map[j] = min(dist_map[j], i.find(j) + 1)\n",
    "    \n",
    "    for i in targets:\n",
    "        count = 0\n",
    "        for j in i:\n",
    "            if j in dist_map:\n",
    "                count += dist_map[j]\n",
    "            else:\n",
    "                count = -1\n",
    "                break\n",
    "        answer.append(count)\n",
    "    \n",
    "    return answer\n",
    "\n",
    "solution([\"ABACD\", \"BCEFD\"], [\"ABCD\",\"AABB\"])\n",
    "# solution([\"AA\"], [\"B\"])\n",
    "# solution([\"AGZ\", \"BSSS\"], [\"ASA\",\"BGZ\"])"
   ]
  },
  {
   "cell_type": "markdown",
   "metadata": {},
   "source": [
    "## 공원 산책"
   ]
  },
  {
   "cell_type": "code",
   "execution_count": 1,
   "metadata": {},
   "outputs": [
    {
     "name": "stdout",
     "output_type": "stream",
     "text": [
      "[0, 1]\n"
     ]
    },
    {
     "data": {
      "text/plain": [
       "[0, 0]"
      ]
     },
     "execution_count": 1,
     "metadata": {},
     "output_type": "execute_result"
    }
   ],
   "source": [
    "def solution(park, routes):\n",
    "    for h, x in enumerate(park):\n",
    "        if x.find(\"S\") >= 0:\n",
    "            loc = [h, x.find(\"S\")]\n",
    "    print(loc)\n",
    "    direction = {\"E\":[0,1], \"W\":[0,-1], \"S\":[1,0], \"N\":[-1,0]}\n",
    "    \n",
    "    for i in routes:\n",
    "        op, n = i[0], int(i[-1])\n",
    "        is_SN = direction[op][0]\n",
    "        is_EW = direction[op][1]\n",
    "        obstacle = 0\n",
    "        if is_EW and loc[1] + n*is_EW >= len(park[loc[0]]):\n",
    "            continue\n",
    "        elif is_SN and loc[0] + n*is_SN >= len(park):\n",
    "            continue\n",
    "        for h in range(0 if not is_SN else 1, 1 if not is_SN else len(park)):\n",
    "            for w in range(1 if not is_EW else abs(n)):\n",
    "                if park[loc[0]+h*is_SN][loc[1]+w*is_EW] == \"X\":\n",
    "                    obstacle = 1\n",
    "                    break\n",
    "            if obstacle:\n",
    "                break\n",
    "        else:\n",
    "            loc[0], loc[1] = loc[0]+n*is_SN, loc[1]+n*is_EW\n",
    "        \n",
    "    return loc\n",
    "\n",
    "# solution([\"SOO\",\"OOO\",\"OOO\"], [\"E 2\",\"S 2\",\"W 1\"])\n",
    "solution([\"OSO\",\"OOO\",\"OXO\",\"OOO\"], [\"E 2\",\"S 3\",\"W 1\"])"
   ]
  },
  {
   "cell_type": "code",
   "execution_count": 41,
   "metadata": {},
   "outputs": [
    {
     "name": "stdout",
     "output_type": "stream",
     "text": [
      "[0, 0] [[True, True, False], [False, False, False], [False, False, False]]\n",
      "deque([[0, 1]])\n",
      "[[True, True, True], [False, False, False], [False, False, False]]\n",
      "deque([[0, 1], [0, 2]])\n",
      "[0, 1] [0, 2] "
     ]
    }
   ],
   "source": [
    "from collections import deque\n",
    "def solution(park, routes):\n",
    "    for h, x in enumerate(park):\n",
    "        if x.find(\"S\") >= 0:\n",
    "            root = [h, x.find(\"S\")]\n",
    "    queue = deque([root])\n",
    "    visited = [[False] * len(park[0]) for _ in range(len(park))]\n",
    "    visited[root[0]][root[1]] = True\n",
    "    \n",
    "    while queue:\n",
    "        v = queue.popleft()\n",
    "        print(v, end=\" \")\n",
    "        for i in range(len(park[v[0]])):\n",
    "            if not visited[v[0]][i]:\n",
    "                queue.append([v[0], i])\n",
    "                visited[v[0]][i] = True\n",
    "                print(visited)\n",
    "                print(queue)\n",
    "    return\n",
    "\n",
    "solution([\"SOO\",\"OOO\",\"OOO\"], [\"E 2\",\"S 2\",\"W 1\"])\n",
    "# solution([\"OSO\",\"OOO\",\"OXO\",\"OOO\"], [\"E 2\",\"S 3\",\"W 1\"])"
   ]
  },
  {
   "attachments": {},
   "cell_type": "markdown",
   "metadata": {},
   "source": [
    "## 추억 점수\n",
    "\n",
    "- 문제 설명\n",
    "    - 사진들을 보며 추억에 젖어 있던 루는 사진별로 추억 점수를 매길려고 합니다. 사진 속에 나오는 인물의 그리움 점수를 모두 합산한 값이 해당 사진의 추억 점수가 됩니다. 예를 들어 사진 속 인물의 이름이 [\"may\", \"kein\", \"kain\"]이고 각 인물의 그리움 점수가 [5점, 10점, 1점]일 때 해당 사진의 추억 점수는 16(5 + 10 + 1)점이 됩니다. 다른 사진 속 인물의 이름이 [\"kali\", \"mari\", \"don\", \"tony\"]이고 [\"kali\", \"mari\", \"don\"]의 그리움 점수가 각각 [11점, 1점, 55점]]이고, \"tony\"는 그리움 점수가 없을 때, 이 사진의 추억 점수는 3명의 그리움 점수를 합한 67(11 + 1 + 55)점입니다.\n",
    "    - 그리워하는 사람의 이름을 담은 문자열 배열 name, 각 사람별 그리움 점수를 담은 정수 배열 yearning, 각 사진에 찍힌 인물의 이름을 담은 이차원 문자열 배열 photo가 매개변수로 주어질 때, 사진들의 추억 점수를 photo에 주어진 순서대로 배열에 담아 return하는 solution 함수를 완성해주세요.\n",
    "\n",
    "- 제한사항\n",
    "    - 3 ≤ name의 길이 = yearning의 길이≤ 100\n",
    "        - 3 ≤ name의 원소의 길이 ≤ 7\n",
    "        - name의 원소들은 알파벳 소문자로만 이루어져 있습니다.\n",
    "        - name에는 중복된 값이 들어가지 않습니다.\n",
    "        - 1 ≤ yearning[i] ≤ 100\n",
    "        - yearning[i]는 i번째 사람의 그리움 점수입니다.\n",
    "    - 3 ≤ photo의 길이 ≤ 100\n",
    "        - 1 ≤ photo[i]의 길이 ≤ 100\n",
    "        - 3 ≤ photo[i]의 원소(문자열)의 길이 ≤ 7\n",
    "        - photo[i]의 원소들은 알파벳 소문자로만 이루어져 있습니다.\n",
    "        - photo[i]의 원소들은 중복된 값이 들어가지 않습니다.\n"
   ]
  },
  {
   "cell_type": "code",
   "execution_count": 64,
   "metadata": {},
   "outputs": [
    {
     "data": {
      "text/plain": [
       "[19, 15, 6]"
      ]
     },
     "execution_count": 64,
     "metadata": {},
     "output_type": "execute_result"
    }
   ],
   "source": [
    "def solution(name, yearning, photo):\n",
    "    answer = []\n",
    "    name_map = {n:y for n, y in zip(name, yearning)}\n",
    "    \n",
    "    for picture in photo:\n",
    "        score = 0\n",
    "        for char in picture:\n",
    "            if char in name_map:\n",
    "                score += name_map[char]\n",
    "        answer.append(score)\n",
    "    \n",
    "    return answer\n",
    "\n",
    "solution([\"may\", \"kein\", \"kain\", \"radi\"], [5, 10, 1, 3], [[\"may\", \"kein\", \"kain\", \"radi\"],[\"may\", \"kein\", \"brin\", \"deny\"], [\"kon\", \"kain\", \"may\", \"coni\"]])"
   ]
  },
  {
   "attachments": {},
   "cell_type": "markdown",
   "metadata": {},
   "source": [
    "## 덧칠하기\n",
    "\n",
    "- 문제 설명\n",
    "    - 어느 학교에 페인트가 칠해진 길이가 n미터인 벽이 있습니다. 벽에 동아리 · 학회 홍보나 회사 채용 공고 포스터 등을 게시하기 위해 테이프로 붙였다가 철거할 때 떼는 일이 많고 그 과정에서 페인트가 벗겨지곤 합니다. 페인트가 벗겨진 벽이 보기 흉해져 학교는 벽에 페인트를 덧칠하기로 했습니다.\n",
    "    - 넓은 벽 전체에 페인트를 새로 칠하는 대신, 구역을 나누어 일부만 페인트를 새로 칠 함으로써 예산을 아끼려 합니다. 이를 위해 벽을 1미터 길이의 구역 n개로 나누고, 각 구역에 왼쪽부터 순서대로 1번부터 n번까지 번호를 붙였습니다. 그리고 페인트를 다시 칠해야 할 구역들을 정했습니다.\n",
    "    - 벽에 페인트를 칠하는 롤러의 길이는 m미터이고, 롤러로 벽에 페인트를 한 번 칠하는 규칙은 다음과 같습니다.\n",
    "        - 롤러가 벽에서 벗어나면 안 됩니다.\n",
    "        - 구역의 일부분만 포함되도록 칠하면 안 됩니다.\n",
    "    - 즉, 롤러의 좌우측 끝을 구역의 경계선 혹은 벽의 좌우측 끝부분에 맞춘 후 롤러를 위아래로 움직이면서 벽을 칠합니다. 현재 페인트를 칠하는 구역들을 완전히 칠한 후 벽에서 롤러를 떼며, 이를 벽을 한 번 칠했다고 정의합니다.\n",
    "    - 한 구역에 페인트를 여러 번 칠해도 되고 다시 칠해야 할 구역이 아닌 곳에 페인트를 칠해도 되지만 다시 칠하기로 정한 구역은 적어도 한 번 페인트칠을 해야 합니다. 예산을 아끼기 위해 다시 칠할 구역을 정했듯 마찬가지로 롤러로 페인트칠을 하는 횟수를 최소화하려고 합니다.\n",
    "    - 정수 n, m과 다시 페인트를 칠하기로 정한 구역들의 번호가 담긴 정수 배열 section이 매개변수로 주어질 때 롤러로 페인트칠해야 하는 최소 횟수를 return 하는 solution 함수를 작성해 주세요.\n",
    "\n",
    "- 제한사항\n",
    "    - 1 ≤ m ≤ n ≤ 100,000\n",
    "    - 1 ≤ section의 길이 ≤ n\n",
    "        - 1 ≤ section의 원소 ≤ n\n",
    "        - section의 원소는 페인트를 다시 칠해야 하는 구역의 번호입니다.\n",
    "        - section에서 같은 원소가 두 번 이상 나타나지 않습니다.\n",
    "        - section의 원소는 오름차순으로 정렬되어 있습니다."
   ]
  },
  {
   "cell_type": "code",
   "execution_count": 18,
   "metadata": {},
   "outputs": [
    {
     "data": {
      "text/plain": [
       "2"
      ]
     },
     "execution_count": 18,
     "metadata": {},
     "output_type": "execute_result"
    }
   ],
   "source": [
    "def solution(n, m, section):\n",
    "    answer = 0\n",
    "    painted = 0\n",
    "    \n",
    "    for i in section:\n",
    "        if i > painted:\n",
    "            painted = i + m - 1\n",
    "            answer += 1\n",
    "    return answer\n",
    "\n",
    "solution(8, 4, [2, 3, 6])"
   ]
  },
  {
   "attachments": {},
   "cell_type": "markdown",
   "metadata": {},
   "source": [
    "## 카드 뭉치\n",
    "\n",
    "- 문제 설명\n",
    "    - 코니는 영어 단어가 적힌 카드 뭉치 두 개를 선물로 받았습니다. 코니는 다음과 같은 규칙으로 카드에 적힌 단어들을 사용해 원하는 순서의 단어 배열을 만들 수 있는지 알고 싶습니다.\n",
    "        - 원하는 카드 뭉치에서 카드를 순서대로 한 장씩 사용합니다.\n",
    "        - 한 번 사용한 카드는 다시 사용할 수 없습니다.\n",
    "        - 카드를 사용하지 않고 다음 카드로 넘어갈 수 없습니다.\n",
    "        - 기존에 주어진 카드 뭉치의 단어 순서는 바꿀 수 없습니다.\n",
    "    - 예를 들어 첫 번째 카드 뭉치에 순서대로 [\"i\", \"drink\", \"water\"], 두 번째 카드 뭉치에 순서대로 [\"want\", \"to\"]가 적혀있을 때 [\"i\", \"want\", \"to\", \"drink\", \"water\"] 순서의 단어 배열을 만들려고 한다면 첫 번째 카드 뭉치에서 \"i\"를 사용한 후 두 번째 카드 뭉치에서 \"want\"와 \"to\"를 사용하고 첫 번째 카드뭉치에 \"drink\"와 \"water\"를 차례대로 사용하면 원하는 순서의 단어 배열을 만들 수 있습니다.\n",
    "    - 문자열로 이루어진 배열 cards1, cards2와 원하는 단어 배열 goal이 매개변수로 주어질 때, cards1과 cards2에 적힌 단어들로 goal를 만들 있다면 \"Yes\"를, 만들 수 없다면 \"No\"를 return하는 solution 함수를 완성해주세요.\n",
    "\n",
    "- 제한사항\n",
    "    - 1 ≤ cards1의 길이, cards2의 길이 ≤ 10\n",
    "        - 1 ≤ cards1[i]의 길이, cards2[i]의 길이 ≤ 10\n",
    "        - cards1과 cards2에는 서로 다른 단어만 존재합니다.\n",
    "    - 2 ≤ goal의 길이 ≤ cards1의 길이 + cards2의 길이\n",
    "        - 1 ≤ goal[i]의 길이 ≤ 10\n",
    "        - goal의 원소는 cards1과 cards2의 원소들로만 이루어져 있습니다.\n",
    "    - cards1, cards2, goal의 문자열들은 모두 알파벳 소문자로만 이루어져 있습니다."
   ]
  },
  {
   "cell_type": "code",
   "execution_count": 21,
   "metadata": {},
   "outputs": [
    {
     "name": "stdout",
     "output_type": "stream",
     "text": [
      "3.64 µs ± 403 ns per loop (mean ± std. dev. of 7 runs, 100,000 loops each)\n"
     ]
    }
   ],
   "source": [
    "def solution(cards1, cards2, goal):\n",
    "    sentence = []\n",
    "    for word in goal:\n",
    "        if [word] == cards1[:1]:\n",
    "            sentence.append(cards1.pop(0))\n",
    "        elif [word] == cards2[:1]:\n",
    "            sentence.append(cards2.pop(0))\n",
    "    return \"Yes\" if sentence == goal else \"No\"\n",
    "\n",
    "%timeit solution([\"i\", \"drink\", \"water\"], [\"want\", \"to\"], [\"i\", \"want\", \"to\", \"drink\", \"water\"])\n",
    "# solution([\"i\", \"water\", \"drink\"], [\"want\", \"to\"], [\"i\", \"want\", \"to\", \"drink\", \"water\"])"
   ]
  },
  {
   "cell_type": "code",
   "execution_count": 22,
   "metadata": {},
   "outputs": [
    {
     "name": "stdout",
     "output_type": "stream",
     "text": [
      "2.7 µs ± 234 ns per loop (mean ± std. dev. of 7 runs, 100,000 loops each)\n"
     ]
    }
   ],
   "source": [
    "def solution(cards1, cards2, goal):\n",
    "    for word in goal:\n",
    "        if [word] == cards1[:1]:\n",
    "            cards1.pop(0)\n",
    "        elif [word] == cards2[:1]:\n",
    "            cards2.pop(0)\n",
    "        else:\n",
    "            return \"No\"\n",
    "    return \"Yes\"\n",
    "\n",
    "%timeit solution([\"i\", \"drink\", \"water\"], [\"want\", \"to\"], [\"i\", \"want\", \"to\", \"drink\", \"water\"])\n",
    "# solution([\"i\", \"water\", \"drink\"], [\"want\", \"to\"], [\"i\", \"want\", \"to\", \"drink\", \"water\"])"
   ]
  },
  {
   "cell_type": "code",
   "execution_count": 23,
   "metadata": {},
   "outputs": [
    {
     "name": "stdout",
     "output_type": "stream",
     "text": [
      "2.24 µs ± 17.9 ns per loop (mean ± std. dev. of 7 runs, 100,000 loops each)\n"
     ]
    }
   ],
   "source": [
    "def solution(cards1, cards2, goal):\n",
    "    idx1, idx2 = 0, 0\n",
    "    for word in goal:\n",
    "        if word == cards1[idx1]:\n",
    "            idx1 += int(len(cards1) - 1 > idx1)\n",
    "        elif word == cards2[idx2]:\n",
    "            idx2 += int(len(cards2) - 1 > idx2)\n",
    "        else:\n",
    "            return \"No\"\n",
    "    return \"Yes\"\n",
    "\n",
    "%timeit solution([\"i\", \"drink\", \"water\"], [\"want\", \"to\"], [\"i\", \"want\", \"to\", \"drink\", \"water\"])\n",
    "# solution([\"i\", \"water\", \"drink\"], [\"want\", \"to\"], [\"i\", \"want\", \"to\", \"drink\", \"water\"])"
   ]
  },
  {
   "attachments": {},
   "cell_type": "markdown",
   "metadata": {},
   "source": [
    "## 공원 산책\n",
    "- 문제 설명\n",
    "    - 지나다니는 길을 'O', 장애물을 'X'로 나타낸 직사각형 격자 모양의 공원에서 로봇 강아지가 산책을 하려합니다. 산책은 로봇 강아지에 미리 입력된 명령에 따라 진행하며, 명령은 다음과 같은 형식으로 주어집니다.\n",
    "        - [\"방향 거리\", \"방향 거리\" … ]\n",
    "    - 예를 들어 \"E 5\"는 로봇 강아지가 현재 위치에서 동쪽으로 5칸 이동했다는 의미입니다. 로봇 강아지는 명령을 수행하기 전에 다음 두 가지를 먼저 확인합니다.\n",
    "        - 주어진 방향으로 이동할 때 공원을 벗어나는지 확인합니다.\n",
    "        - 주어진 방향으로 이동 중 장애물을 만나는지 확인합니다.\n",
    "    - 위 두 가지중 어느 하나라도 해당된다면, 로봇 강아지는 해당 명령을 무시하고 다음 명령을 수행합니다. 공원의 가로 길이가 W, 세로 길이가 H라고 할 때, 공원의 좌측 상단의 좌표는 (0, 0), 우측 하단의 좌표는 (H - 1, W - 1) 입니다. 공원을 나타내는 문자열 배열 park, 로봇 강아지가 수행할 명령이 담긴 문자열 배열 routes가 매개변수로 주어질 때, 로봇 강아지가 모든 명령을 수행 후 놓인 위치를 [세로 방향 좌표, 가로 방향 좌표] 순으로 배열에 담아 return 하도록 solution 함수를 완성해주세요.\n",
    "\n",
    "- 제한사항\n",
    "    - 3 ≤ park의 길이 ≤ 50\n",
    "        - 3 ≤ park[i]의 길이 ≤ 50\n",
    "            - park[i]는 다음 문자들로 이루어져 있으며 시작지점은 하나만 주어집니다.\n",
    "                - S : 시작 지점\n",
    "                - O : 이동 가능한 통로\n",
    "                - X : 장애물\n",
    "        - park는 직사각형 모양입니다.\n",
    "    - 1 ≤ routes의 길이 ≤ 50\n",
    "        - routes의 각 원소는 로봇 강아지가 수행할 명령어를 나타냅니다.\n",
    "        - 로봇 강아지는 routes의 첫 번째 원소부터 순서대로 명령을 수행합니다.\n",
    "        - routes의 원소는 \"op n\"과 같은 구조로 이루어져 있으며, op는 이동할 방향, n은 이동할 칸의 수를 의미합니다.\n",
    "            - op는 다음 네 가지중 하나로 이루어져 있습니다.\n",
    "                - N : 북쪽으로 주어진 칸만큼 이동합니다.\n",
    "                - S : 남쪽으로 주어진 칸만큼 이동합니다.\n",
    "                - W : 서쪽으로 주어진 칸만큼 이동합니다.\n",
    "                - E : 동쪽으로 주어진 칸만큼 이동합니다.\n",
    "            - 1 ≤ n ≤ 9"
   ]
  },
  {
   "cell_type": "code",
   "execution_count": 1,
   "metadata": {},
   "outputs": [
    {
     "data": {
      "text/plain": [
       "[2, 1]"
      ]
     },
     "execution_count": 1,
     "metadata": {},
     "output_type": "execute_result"
    }
   ],
   "source": [
    "## 첫번째 시도\n",
    "def solution(park, routes):\n",
    "    for h, x in enumerate(park):\n",
    "        for w, y in enumerate(x):\n",
    "            if y == \"S\":\n",
    "                loc = [h, w]\n",
    "                \n",
    "    direction = {\"E\":[0,1], \"W\":[0,-1], \"S\":[1,0], \"N\":[-1,0]}\n",
    "    \n",
    "    for i in routes:\n",
    "        op, n = i[0], int(i[-1])\n",
    "        is_SN = direction[op][0]\n",
    "        is_EW = direction[op][1]\n",
    "        obstacle = 0\n",
    "        if is_EW and loc[1] + n*is_EW >= len(park[loc[0]]):\n",
    "            continue\n",
    "        elif is_SN and loc[0] + n*is_SN >= len(park):\n",
    "            continue\n",
    "        for h in range(0 if not is_SN else 1, 1 if not is_SN else len(park)):\n",
    "            for w in range(1 if not is_EW else abs(n)):\n",
    "                if park[loc[0]+h*is_SN][loc[1]+w*is_EW] == \"X\":\n",
    "                    obstacle = 1\n",
    "                    break\n",
    "            if obstacle:\n",
    "                break\n",
    "        else:\n",
    "            loc[0], loc[1] = loc[0]+n*is_SN, loc[1]+n*is_EW\n",
    "        \n",
    "    return loc\n",
    "\n",
    "solution([\"SOO\",\"OOO\",\"OOO\"], [\"E 2\",\"S 2\",\"W 1\"])"
   ]
  },
  {
   "cell_type": "code",
   "execution_count": 34,
   "metadata": {},
   "outputs": [
    {
     "data": {
      "text/plain": [
       "[2, 1]"
      ]
     },
     "execution_count": 34,
     "metadata": {},
     "output_type": "execute_result"
    }
   ],
   "source": [
    "## 두번째 시도(BFS) -> 통과\n",
    "def solution(park, routes):\n",
    "    logics = {\"E\":[0, 1], \"W\":[0, -1], \"S\":[1, 0], \"N\":[-1, 0]}\n",
    "    height, width = len(park), len(park[0])\n",
    "    \n",
    "    S = \"\".join(park).find(\"S\")\n",
    "    current = divmod(S, width)\n",
    "    \n",
    "    for route in routes:\n",
    "        direction, n = route.split(\" \")\n",
    "        y, x = current\n",
    "        for _ in range(int(n)):\n",
    "            y += logics[direction][0]\n",
    "            x += logics[direction][1]\n",
    "            if (y < 0 or y > height-1 or x < 0 or x > width-1) or park[y][x] == \"X\":\n",
    "                y, x = current\n",
    "                break\n",
    "        current = [y, x]\n",
    "    \n",
    "    return current\n",
    "\n",
    "solution([\"SOO\",\"OOO\",\"OOO\"], [\"E 2\",\"S 2\",\"W 1\"])\n",
    "# solution([\"OSO\",\"OOO\",\"OXO\",\"OOO\"], [\"E 2\",\"S 3\",\"W 1\"])"
   ]
  },
  {
   "cell_type": "code",
   "execution_count": null,
   "metadata": {},
   "outputs": [],
   "source": []
  },
  {
   "cell_type": "code",
   "execution_count": null,
   "metadata": {},
   "outputs": [],
   "source": []
  },
  {
   "cell_type": "code",
   "execution_count": null,
   "metadata": {},
   "outputs": [],
   "source": []
  },
  {
   "cell_type": "code",
   "execution_count": null,
   "metadata": {},
   "outputs": [],
   "source": []
  }
 ],
 "metadata": {
  "kernelspec": {
   "display_name": "base",
   "language": "python",
   "name": "python3"
  },
  "language_info": {
   "codemirror_mode": {
    "name": "ipython",
    "version": 3
   },
   "file_extension": ".py",
   "mimetype": "text/x-python",
   "name": "python",
   "nbconvert_exporter": "python",
   "pygments_lexer": "ipython3",
   "version": "3.8.16"
  },
  "orig_nbformat": 4,
  "vscode": {
   "interpreter": {
    "hash": "38cc0cca68228d4d18227abe74ed813685db17db46984279e4aabdddebf5f1ba"
   }
  }
 },
 "nbformat": 4,
 "nbformat_minor": 2
}
