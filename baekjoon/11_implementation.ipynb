{
 "cells": [
  {
   "cell_type": "markdown",
   "metadata": {},
   "source": [
    "#### 구슬 탈출 2(난이도: 골드 1)\n",
    "\n",
    "- 문제\n",
    "    - 스타트링크에서 판매하는 어린이용 장난감 중에서 가장 인기가 많은 제품은 구슬 탈출이다. 구슬 탈출은 직사각형 보드에 빨간 구슬과 파란 구슬을 하나씩 넣은 다음, 빨간 구슬을 구멍을 통해 빼내는 게임이다.\n",
    "    - 보드의 세로 크기는 N, 가로 크기는 M이고, 편의상 1×1크기의 칸으로 나누어져 있다. 가장 바깥 행과 열은 모두 막혀져 있고, 보드에는 구멍이 하나 있다. 빨간 구슬과 파란 구슬의 크기는 보드에서 1×1크기의 칸을 가득 채우는 사이즈이고, 각각 하나씩 들어가 있다. 게임의 목표는 빨간 구슬을 구멍을 통해서 빼내는 것이다. 이때, 파란 구슬이 구멍에 들어가면 안 된다.\n",
    "    - 이때, 구슬을 손으로 건드릴 수는 없고, 중력을 이용해서 이리 저리 굴려야 한다. 왼쪽으로 기울이기, 오른쪽으로 기울이기, 위쪽으로 기울이기, 아래쪽으로 기울이기와 같은 네 가지 동작이 가능하다.\n",
    "    - 각각의 동작에서 공은 동시에 움직인다. 빨간 구슬이 구멍에 빠지면 성공이지만, 파란 구슬이 구멍에 빠지면 실패이다. 빨간 구슬과 파란 구슬이 동시에 구멍에 빠져도 실패이다. 빨간 구슬과 파란 구슬은 동시에 같은 칸에 있을 수 없다. 또, 빨간 구슬과 파란 구슬의 크기는 한 칸을 모두 차지한다. 기울이는 동작을 그만하는 것은 더 이상 구슬이 움직이지 않을 때 까지이다.\n",
    "    - 보드의 상태가 주어졌을 때, 최소 몇 번 만에 빨간 구슬을 구멍을 통해 빼낼 수 있는지 구하는 프로그램을 작성하시오.\n",
    "\n",
    "- 입력\n",
    "    - 첫 번째 줄에는 보드의 세로, 가로 크기를 의미하는 두 정수 N, M (3 ≤ N, M ≤ 10)이 주어진다. 다음 N개의 줄에 보드의 모양을 나타내는 길이 M의 문자열이 주어진다. 이 문자열은 '.', '#', 'O', 'R', 'B' 로 이루어져 있다. '.'은 빈 칸을 의미하고, '#'은 공이 이동할 수 없는 장애물 또는 벽을 의미하며, 'O'는 구멍의 위치를 의미한다. 'R'은 빨간 구슬의 위치, 'B'는 파란 구슬의 위치이다.\n",
    "    - 입력되는 모든 보드의 가장자리에는 모두 '#'이 있다. 구멍의 개수는 한 개 이며, 빨간 구슬과 파란 구슬은 항상 1개가 주어진다.\n",
    "\n",
    "- 출력\n",
    "    - 최소 몇 번 만에 빨간 구슬을 구멍을 통해 빼낼 수 있는지 출력한다. 만약, 10번 이하로 움직여서 빨간 구슬을 구멍을 통해 빼낼 수 없으면 -1을 출력한다."
   ]
  },
  {
   "cell_type": "code",
   "execution_count": 6,
   "metadata": {},
   "outputs": [
    {
     "name": "stdout",
     "output_type": "stream",
     "text": [
      "5\n"
     ]
    }
   ],
   "source": [
    "import sys\n",
    "from collections import deque\n",
    "\n",
    "# input = sys.stdin.readline\n",
    "n, m = input().split()\n",
    "\n",
    "graph = []\n",
    "for i in range(int(n)):\n",
    "    graph.append(list(input()))\n",
    "    for j in range(int(m)):\n",
    "        if graph[i][j] == \"R\":  # 빨간 구슬 위치\n",
    "            rx, ry = i, j\n",
    "        elif graph[i][j] == \"B\":  # 파란 구슬 위치\n",
    "            bx, by = i, j\n",
    "\n",
    "# 상, 하, 좌, 우 순서로 탐색\n",
    "dx = [-1, 1, 0, 0]\n",
    "dy = [0, 0, -1, 1]\n",
    "\n",
    "def bfs(rx, ry, bx, by):\n",
    "    q = deque()\n",
    "    q.append((rx, ry, bx, by))\n",
    "    visited = []  # 방문 노드를 기록할 리스트\n",
    "    visited.append((rx, ry, bx, by))\n",
    "    count = 0\n",
    "\n",
    "    while q:\n",
    "        for _ in range(len(q)):\n",
    "            rx, ry, bx, by = q.popleft()\n",
    "            if count > 10:  # 움직인 횟수 10번 초과시 실패\n",
    "                return print(-1)\n",
    "            if graph[rx][ry] == \"O\":\n",
    "                return print(count)\n",
    "            for i in range(4):\n",
    "                nrx, nry = rx, ry\n",
    "                while 1:\n",
    "                    nrx, nry = nrx + dx[i], nry + dy[i]\n",
    "                    if graph[nrx][nry] == \"#\":\n",
    "                        nrx, nry = nrx - dx[i], nry - dy[i]\n",
    "                        break\n",
    "                    if graph[nrx][nry] == \"O\":\n",
    "                        break\n",
    "                nbx, nby = bx, by\n",
    "                while 1:\n",
    "                    nbx, nby = nbx + dx[i], nby + dy[i]\n",
    "                    if graph[nbx][nby] == \"#\":\n",
    "                        nbx, nby = nbx - dx[i], nby - dy[i]\n",
    "                        break\n",
    "                    if graph[nbx][nby] == \"O\":\n",
    "                        break\n",
    "                if graph[nbx][nby] == \"O\":\n",
    "                    continue\n",
    "                if nrx == nbx and nry == nby:\n",
    "                    if abs(nrx - rx) + abs(nry - ry) > abs(nbx - bx) + abs(nby - by):\n",
    "                        nrx, nry = nrx - dx[i], nry - dy[i]\n",
    "                    else:\n",
    "                        nbx, nby = nbx - dx[i], nby - dy[i]\n",
    "                if (nrx, nry, nbx, nby) not in visited:\n",
    "                    q.append((nrx, nry, nbx, nby))\n",
    "                    visited.append((nrx, nry, nbx, nby))\n",
    "        count += 1\n",
    "    print(-1)  # 움직인 횟수가 10번 이하, 그리고 더이상 방문할 노드가 없는 경우\n",
    "\n",
    "bfs(rx, ry, bx, by)"
   ]
  },
  {
   "cell_type": "markdown",
   "metadata": {},
   "source": [
    "#### 뱀(난이도: 골드4)\n",
    "\n",
    "- 문제\n",
    "    - 'Dummy' 라는 도스게임이 있다. 이 게임에는 뱀이 나와서 기어다니는데, 사과를 먹으면 뱀 길이가 늘어난다. 뱀이 이리저리 기어다니다가 벽 또는 자기자신의 몸과 부딪히면 게임이 끝난다.\n",
    "    - 게임은 NxN 정사각 보드위에서 진행되고, 몇몇 칸에는 사과가 놓여져 있다. 보드의 상하좌우 끝에 벽이 있다. 게임이 시작할때 뱀은 맨위 맨좌측에 위치하고 뱀의 길이는 1 이다. 뱀은 처음에 오른쪽을 향한다.\n",
    "    - 뱀은 매 초마다 이동을 하는데 다음과 같은 규칙을 따른다.\n",
    "    - 먼저 뱀은 몸길이를 늘려 머리를 다음칸에 위치시킨다.\n",
    "    - 만약 벽이나 자기자신의 몸과 부딪히면 게임이 끝난다.\n",
    "    - 만약 이동한 칸에 사과가 있다면, 그 칸에 있던 사과가 없어지고 꼬리는 움직이지 않는다.\n",
    "    - 만약 이동한 칸에 사과가 없다면, 몸길이를 줄여서 꼬리가 위치한 칸을 비워준다. 즉, 몸길이는 변하지 않는다.\n",
    "    - 사과의 위치와 뱀의 이동경로가 주어질 때 이 게임이 몇 초에 끝나는지 계산하라.\n",
    "\n",
    "- 입력\n",
    "    - 첫째 줄에 보드의 크기 N이 주어진다. (2 ≤ N ≤ 100) 다음 줄에 사과의 개수 K가 주어진다. (0 ≤ K ≤ 100)\n",
    "    - 다음 K개의 줄에는 사과의 위치가 주어지는데, 첫 번째 정수는 행, 두 번째 정수는 열 위치를 의미한다. 사과의 위치는 모두 다르며, 맨 위 맨 좌측 (1행 1열) 에는 사과가 없다.\n",
    "    - 다음 줄에는 뱀의 방향 변환 횟수 L 이 주어진다. (1 ≤ L ≤ 100)\n",
    "    - 다음 L개의 줄에는 뱀의 방향 변환 정보가 주어지는데, 정수 X와 문자 C로 이루어져 있으며. 게임 시작 시간으로부터 X초가 끝난 뒤에 왼쪽(C가 'L') 또는 오른쪽(C가 'D')로 90도 방향을 회전시킨다는 뜻이다. X는 10,000 이하의 양의 정수이며, 방향 전환 정보는 X가 증가하는 순으로 주어진다.\n",
    "\n",
    "- 출력\n",
    "    - 첫째 줄에 게임이 몇 초에 끝나는지 출력한다."
   ]
  },
  {
   "cell_type": "code",
   "execution_count": 9,
   "metadata": {},
   "outputs": [
    {
     "data": {
      "text/plain": [
       "[[0, 0, 0, 0, 0, 0, 0, 0, 0, 0],\n",
       " [0, 0, 0, 0, 0, 0, 0, 0, 0, 0],\n",
       " [0, 0, 0, 0, 0, 0, 0, 0, 0, 0],\n",
       " [0, 0, 0, 0, 0, 0, 0, 0, 0, 0],\n",
       " [0, 0, 0, 0, 0, 0, 0, 0, 0, 0],\n",
       " [0, 0, 0, 0, 0, 0, 0, 0, 0, 0],\n",
       " [0, 0, 0, 0, 0, 0, 0, 0, 0, 0],\n",
       " [0, 0, 0, 0, 0, 0, 0, 0, 0, 0],\n",
       " [0, 0, 0, 0, 0, 0, 0, 0, 0, 0],\n",
       " [0, 0, 0, 0, 0, 0, 0, 0, 0, 0]]"
      ]
     },
     "execution_count": 9,
     "metadata": {},
     "output_type": "execute_result"
    }
   ],
   "source": []
  },
  {
   "cell_type": "code",
   "execution_count": 5,
   "metadata": {},
   "outputs": [
    {
     "data": {
      "text/plain": [
       "6"
      ]
     },
     "execution_count": 5,
     "metadata": {},
     "output_type": "execute_result"
    }
   ],
   "source": [
    "from collections import deque\n",
    "\n",
    "\n",
    "def solution(number):\n",
    "    answer = 0\n",
    "    number_list = deque(number)\n",
    "    current = []\n",
    "    \n",
    "    while number_list:\n",
    "        input_key = int(number_list.popleft())\n",
    "        if input_key == 9:\n",
    "            current.append(str(input_key))\n",
    "            current.append(\"0\")\n",
    "        elif input_key == 0:\n",
    "            current.append(str(input_key))\n",
    "        else:\n",
    "            current.append(str(input_key))\n",
    "            current.append(str(input_key+1))\n",
    "        answer += 1\n",
    "        if number_list:\n",
    "            if current[-1] != \"0\" and current[-1] == number_list[0]:\n",
    "                number_list.popleft()\n",
    "            else:\n",
    "                current.pop()\n",
    "                answer += 1\n",
    "        else:\n",
    "            current.pop()\n",
    "            answer += 1\n",
    "    return answer\n",
    "\n",
    "# solution(\"1234567\")\n",
    "solution(\"100\")"
   ]
  }
 ],
 "metadata": {
  "kernelspec": {
   "display_name": "base",
   "language": "python",
   "name": "python3"
  },
  "language_info": {
   "codemirror_mode": {
    "name": "ipython",
    "version": 3
   },
   "file_extension": ".py",
   "mimetype": "text/x-python",
   "name": "python",
   "nbconvert_exporter": "python",
   "pygments_lexer": "ipython3",
   "version": "3.8.16"
  },
  "orig_nbformat": 4
 },
 "nbformat": 4,
 "nbformat_minor": 2
}
