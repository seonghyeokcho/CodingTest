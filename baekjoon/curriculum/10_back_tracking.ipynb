{
 "cells": [
  {
   "cell_type": "markdown",
   "metadata": {},
   "source": [
    "#### 백트래킹 기본 형태"
   ]
  },
  {
   "cell_type": "markdown",
   "metadata": {},
   "source": [
    "```python\n",
    "def 백트래킹(n):\n",
    "    if 정답:\n",
    "        출력 or 저장\n",
    "    for 모든 자식 모드에 대해:\n",
    "        if 유망한지확인(m):\n",
    "            자식 노드로 이동  # 탐색 후보\n",
    "            백트래킹(n+1)\n",
    "            부모 노드로 이동  # 원상 복구\n",
    "\n",
    "def 유망한지확인(m):\n",
    "    if 조건에 맞지 않다면:\n",
    "        return False\n",
    "    return True\n",
    "```"
   ]
  },
  {
   "cell_type": "markdown",
   "metadata": {},
   "source": [
    "#### N과 M 시리즈"
   ]
  },
  {
   "cell_type": "markdown",
   "metadata": {},
   "source": [
    "##### 15649"
   ]
  },
  {
   "cell_type": "code",
   "execution_count": 29,
   "metadata": {},
   "outputs": [
    {
     "name": "stdout",
     "output_type": "stream",
     "text": [
      "1 2\n",
      "1 3\n",
      "1 4\n",
      "2 1\n",
      "2 3\n",
      "2 4\n",
      "3 1\n",
      "3 2\n",
      "3 4\n",
      "4 1\n",
      "4 2\n",
      "4 3\n"
     ]
    }
   ],
   "source": [
    "import sys\n",
    "\n",
    "\n",
    "# input = sys.stdin.readline\n",
    "\n",
    "\n",
    "def back_tracking(n, m, k):\n",
    "    if k == m:\n",
    "        print(*arr)\n",
    "        return\n",
    "    for i in range(1, n+1):\n",
    "        if not is_used[i]:\n",
    "            arr[k] = i\n",
    "            is_used[i] = True\n",
    "            back_tracking(n, m, k+1)\n",
    "            is_used[i] = False\n",
    "\n",
    "\n",
    "n, m = map(int, input().split())\n",
    "arr = [0]*m\n",
    "is_used = [False]*(n+1)\n",
    "back_tracking(n, m, 0)"
   ]
  },
  {
   "cell_type": "markdown",
   "metadata": {},
   "source": [
    "##### 15650"
   ]
  },
  {
   "cell_type": "code",
   "execution_count": 30,
   "metadata": {},
   "outputs": [
    {
     "name": "stdout",
     "output_type": "stream",
     "text": [
      "1 2\n",
      "1 3\n",
      "1 4\n",
      "2 3\n",
      "2 4\n",
      "3 4\n"
     ]
    }
   ],
   "source": [
    "import sys\n",
    "\n",
    "\n",
    "# input = sys.stdin.readline\n",
    "\n",
    "def back_tracking(k):\n",
    "    if k == m:\n",
    "        if not hash_table.get(hash(str(set(perm)))):\n",
    "            print(*perm)\n",
    "            hash_table[hash(str(set(perm)))] = True\n",
    "        return\n",
    "    for i in range(1, n+1):\n",
    "        if not is_used[i]:\n",
    "            perm[k] = i\n",
    "            is_used[i] = True\n",
    "            back_tracking(k+1)\n",
    "            is_used[i] = False\n",
    "\n",
    "\n",
    "n, m = map(int, input().split())\n",
    "perm = [0] * m\n",
    "is_used = [False] * (n+1)\n",
    "hash_table = dict()\n",
    "back_tracking(0)"
   ]
  },
  {
   "cell_type": "code",
   "execution_count": 39,
   "metadata": {},
   "outputs": [
    {
     "name": "stdout",
     "output_type": "stream",
     "text": [
      "1 2\n",
      "1 3\n",
      "1 4\n",
      "2 3\n",
      "2 4\n",
      "3 4\n"
     ]
    }
   ],
   "source": [
    "import sys\n",
    "\n",
    "\n",
    "# input = sys.stdin.readline\n",
    "\n",
    "def back_tracking(k):\n",
    "    if len(perm) == m:\n",
    "        print(*perm)\n",
    "        return\n",
    "    for i in range(k, n+1):\n",
    "        if not is_used[i]:\n",
    "            perm.append(i)\n",
    "            is_used[i] = True\n",
    "            back_tracking(i)\n",
    "            perm.pop()\n",
    "            is_used[i] = False\n",
    "\n",
    "\n",
    "n, m = map(int, input().split())\n",
    "perm = []\n",
    "is_used = [False] * (n+1)\n",
    "back_tracking(1)"
   ]
  },
  {
   "cell_type": "markdown",
   "metadata": {},
   "source": [
    "##### 15651"
   ]
  },
  {
   "cell_type": "code",
   "execution_count": 44,
   "metadata": {},
   "outputs": [
    {
     "name": "stdout",
     "output_type": "stream",
     "text": [
      "1 1\n",
      "1 2\n",
      "2 1\n",
      "2 2\n"
     ]
    }
   ],
   "source": [
    "import sys\n",
    "\n",
    "\n",
    "# input = sys.stdin.readline\n",
    "\n",
    "def back_tracking(k):\n",
    "    if k == m:\n",
    "        print(*perm)\n",
    "        return\n",
    "    for i in range(1, n+1):\n",
    "        perm.append(i)\n",
    "        back_tracking(k+1)\n",
    "        perm.pop()\n",
    "\n",
    "\n",
    "n, m = map(int, input().split())\n",
    "perm = []\n",
    "back_tracking(0)"
   ]
  },
  {
   "cell_type": "code",
   "execution_count": 45,
   "metadata": {},
   "outputs": [
    {
     "name": "stdout",
     "output_type": "stream",
     "text": [
      "1 1\n",
      "1 2\n",
      "2 1\n",
      "2 2\n"
     ]
    }
   ],
   "source": [
    "import sys\n",
    "\n",
    "\n",
    "# input = sys.stdin.readline\n",
    "\n",
    "def back_tracking(k):\n",
    "    if k == m:\n",
    "        print(*perm)\n",
    "        return\n",
    "    for i in range(1, n+1):\n",
    "        perm[k] = i\n",
    "        back_tracking(k+1)\n",
    "\n",
    "\n",
    "n, m = map(int, input().split())\n",
    "perm = [0]*m\n",
    "back_tracking(0)"
   ]
  },
  {
   "cell_type": "markdown",
   "metadata": {},
   "source": [
    "##### 15652"
   ]
  },
  {
   "cell_type": "code",
   "execution_count": 47,
   "metadata": {},
   "outputs": [
    {
     "name": "stdout",
     "output_type": "stream",
     "text": [
      "1 1\n",
      "1 2\n",
      "1 3\n",
      "1 4\n",
      "2 2\n",
      "2 3\n",
      "2 4\n",
      "3 3\n",
      "3 4\n",
      "4 4\n"
     ]
    }
   ],
   "source": [
    "import sys\n",
    "\n",
    "\n",
    "# input = sys.stdin.readline\n",
    "\n",
    "def back_tracking(k):\n",
    "    if len(perm) == m:\n",
    "        print(*perm)\n",
    "        return\n",
    "    for i in range(k, n+1):\n",
    "        perm.append(i)\n",
    "        back_tracking(i)\n",
    "        perm.pop()\n",
    "\n",
    "\n",
    "n, m = map(int, input().split())\n",
    "perm = []\n",
    "back_tracking(1)"
   ]
  },
  {
   "cell_type": "markdown",
   "metadata": {},
   "source": [
    "##### 15654"
   ]
  },
  {
   "cell_type": "code",
   "execution_count": 57,
   "metadata": {},
   "outputs": [
    {
     "name": "stdout",
     "output_type": "stream",
     "text": [
      "1 7\n",
      "1 8\n",
      "1 9\n",
      "7 1\n",
      "7 8\n",
      "7 9\n",
      "8 1\n",
      "8 7\n",
      "8 9\n",
      "9 1\n",
      "9 7\n",
      "9 8\n"
     ]
    }
   ],
   "source": [
    "import sys\n",
    "\n",
    "\n",
    "# input = sys.stdin.readline\n",
    "\n",
    "def back_tracking(k):\n",
    "    if k == m:\n",
    "        print(*perm)\n",
    "        return\n",
    "    for i in range(len(numbers)):\n",
    "        if not is_used[i]:\n",
    "            perm[k] = numbers[i]\n",
    "            is_used[i] = True\n",
    "            back_tracking(k+1)\n",
    "            is_used[i] = False\n",
    "\n",
    "n, m = map(int, input().split())\n",
    "perm = [0] * m\n",
    "numbers = sorted(map(int, input().split()))\n",
    "is_used = [False] * len(numbers)\n",
    "back_tracking(0)"
   ]
  },
  {
   "cell_type": "markdown",
   "metadata": {},
   "source": [
    "##### 15655"
   ]
  },
  {
   "cell_type": "code",
   "execution_count": null,
   "metadata": {},
   "outputs": [
    {
     "name": "stdout",
     "output_type": "stream",
     "text": [
      "1 1\n",
      "1 7\n",
      "1 8\n",
      "1 9\n",
      "7 1\n",
      "7 7\n",
      "7 8\n",
      "7 9\n",
      "8 1\n",
      "8 7\n",
      "8 8\n",
      "8 9\n",
      "9 1\n",
      "9 7\n",
      "9 8\n",
      "9 9\n"
     ]
    }
   ],
   "source": [
    "import sys\n",
    "\n",
    "\n",
    "# input = sys.stdin.readline\n",
    "\n",
    "def back_tracking(k):\n",
    "    if k == m:\n",
    "        print(*perm)\n",
    "        return\n",
    "    for i in range(len(numbers)):\n",
    "        perm.append(numbers[i])\n",
    "        back_tracking(k+1)\n",
    "        perm.pop()\n",
    "\n",
    "n, m = map(int, input().split())\n",
    "perm = []\n",
    "numbers = sorted(map(int, input().split()))\n",
    "back_tracking(0)"
   ]
  },
  {
   "cell_type": "code",
   "execution_count": 65,
   "metadata": {},
   "outputs": [
    {
     "name": "stdout",
     "output_type": "stream",
     "text": [
      "1 1\n",
      "1 7\n",
      "1 8\n",
      "1 9\n",
      "7 1\n",
      "7 7\n",
      "7 8\n",
      "7 9\n",
      "8 1\n",
      "8 7\n",
      "8 8\n",
      "8 9\n",
      "9 1\n",
      "9 7\n",
      "9 8\n",
      "9 9\n"
     ]
    }
   ],
   "source": [
    "import sys\n",
    "\n",
    "\n",
    "# input = sys.stdin.readline\n",
    "\n",
    "def back_tracking(k):\n",
    "    if k == m:\n",
    "        print(*perm)\n",
    "        return\n",
    "    for i in range(len(numbers)):\n",
    "        perm[k] = numbers[i]\n",
    "        back_tracking(k+1)\n",
    "\n",
    "n, m = map(int, input().split())\n",
    "perm = [0] * m\n",
    "numbers = sorted(map(int, input().split()))\n",
    "back_tracking(0)"
   ]
  },
  {
   "cell_type": "markdown",
   "metadata": {},
   "source": [
    "##### 15657"
   ]
  },
  {
   "cell_type": "code",
   "execution_count": 66,
   "metadata": {},
   "outputs": [
    {
     "name": "stdout",
     "output_type": "stream",
     "text": [
      "1 1\n",
      "1 7\n",
      "1 8\n",
      "1 9\n",
      "7 7\n",
      "7 8\n",
      "7 9\n",
      "8 8\n",
      "8 9\n",
      "9 9\n"
     ]
    }
   ],
   "source": [
    "import sys\n",
    "\n",
    "\n",
    "# input = sys.stdin.readline\n",
    "\n",
    "def back_tracking(k):\n",
    "    if len(perm) == m:\n",
    "        print(*perm)\n",
    "        return\n",
    "    for i in range(k, len(numbers)):\n",
    "        perm.append(numbers[i])\n",
    "        back_tracking(i)\n",
    "        perm.pop()\n",
    "\n",
    "n, m = map(int, input().split())\n",
    "perm = []\n",
    "numbers = sorted(map(int, input().split()))\n",
    "back_tracking(0)"
   ]
  },
  {
   "cell_type": "markdown",
   "metadata": {},
   "source": [
    "##### 15663"
   ]
  },
  {
   "cell_type": "code",
   "execution_count": null,
   "metadata": {},
   "outputs": [
    {
     "name": "stdout",
     "output_type": "stream",
     "text": [
      "1 7\n",
      "1 9\n",
      "7 1\n",
      "7 9\n",
      "9 1\n",
      "9 7\n",
      "9 9\n"
     ]
    }
   ],
   "source": [
    "import sys\n",
    "\n",
    "\n",
    "# input = sys.stdin.readline\n",
    "\n",
    "def back_tracking(k):\n",
    "    previous = 0\n",
    "    if k == m:\n",
    "        print(*perm)\n",
    "        return\n",
    "    for i in range(len(numbers)):\n",
    "        if numbers[i] != previous and not is_used[i]:\n",
    "            perm[k] = numbers[i]\n",
    "            is_used[i] = True\n",
    "            previous = numbers[i]\n",
    "            back_tracking(k+1)\n",
    "            is_used[i] = False\n",
    "\n",
    "n, m = map(int, input().split())\n",
    "perm = [0] * m\n",
    "numbers = sorted(map(int, input().split()))\n",
    "is_used = [False] * len(numbers)\n",
    "back_tracking(0)"
   ]
  },
  {
   "cell_type": "markdown",
   "metadata": {},
   "source": [
    "##### 15664"
   ]
  },
  {
   "cell_type": "code",
   "execution_count": 5,
   "metadata": {},
   "outputs": [
    {
     "name": "stdout",
     "output_type": "stream",
     "text": [
      "1 7\n",
      "1 9\n",
      "7 9\n",
      "9 9\n"
     ]
    }
   ],
   "source": [
    "import sys\n",
    "\n",
    "\n",
    "# input = sys.stdin.readline\n",
    "\n",
    "def back_tracking(k):\n",
    "    previous = 0\n",
    "    if len(perm) == m:\n",
    "        print(*perm)\n",
    "        return\n",
    "    for i in range(k, len(numbers)):\n",
    "        if numbers[i] != previous and not is_used[i]:\n",
    "            previous = numbers[i]\n",
    "            perm.append(numbers[i])\n",
    "            is_used[i] = True\n",
    "            back_tracking(i)\n",
    "            perm.pop()\n",
    "            is_used[i] = False\n",
    "\n",
    "\n",
    "n, m = map(int, input().split())\n",
    "numbers = sorted(map(int, input().split()))\n",
    "perm = []\n",
    "is_used = [False] * len(numbers)\n",
    "back_tracking(0)"
   ]
  },
  {
   "cell_type": "markdown",
   "metadata": {},
   "source": [
    "##### 15665"
   ]
  },
  {
   "cell_type": "code",
   "execution_count": 9,
   "metadata": {},
   "outputs": [
    {
     "name": "stdout",
     "output_type": "stream",
     "text": [
      "1 1\n",
      "1 7\n",
      "1 9\n",
      "7 1\n",
      "7 7\n",
      "7 9\n",
      "9 1\n",
      "9 7\n",
      "9 9\n"
     ]
    }
   ],
   "source": [
    "import sys\n",
    "\n",
    "\n",
    "# input = sys.stdin.readline\n",
    "\n",
    "def back_tracking(k):\n",
    "    previous = 0\n",
    "    if k == m:\n",
    "        print(*perm)\n",
    "        return\n",
    "    for i in range(len(numbers)):\n",
    "        if numbers[i] != previous:\n",
    "            previous = numbers[i]\n",
    "            perm[k] = numbers[i]\n",
    "            back_tracking(k+1)\n",
    "\n",
    "\n",
    "n, m = map(int, input().split())\n",
    "numbers = sorted(map(int, input().split()))\n",
    "perm = [0] * m\n",
    "is_used = [False] * len(numbers)\n",
    "back_tracking(0)"
   ]
  },
  {
   "cell_type": "markdown",
   "metadata": {},
   "source": [
    "##### 15666"
   ]
  },
  {
   "cell_type": "code",
   "execution_count": 11,
   "metadata": {},
   "outputs": [
    {
     "name": "stdout",
     "output_type": "stream",
     "text": [
      "1 1\n",
      "1 7\n",
      "1 9\n",
      "7 7\n",
      "7 9\n",
      "9 9\n"
     ]
    }
   ],
   "source": [
    "import sys\n",
    "\n",
    "\n",
    "# input = sys.stdin.readline\n",
    "\n",
    "def back_tracking(k):\n",
    "    previous = 0\n",
    "    if len(perm) == m:\n",
    "        print(*perm)\n",
    "        return\n",
    "    for i in range(k, len(numbers)):\n",
    "        if numbers[i] != previous:\n",
    "            previous = numbers[i]\n",
    "            perm.append(numbers[i])\n",
    "            back_tracking(i)\n",
    "            perm.pop()\n",
    "\n",
    "\n",
    "n, m = map(int, input().split())\n",
    "numbers = sorted(map(int, input().split()))\n",
    "perm = []\n",
    "back_tracking(0)"
   ]
  },
  {
   "cell_type": "markdown",
   "metadata": {},
   "source": [
    "#### 9663"
   ]
  },
  {
   "cell_type": "code",
   "execution_count": 6,
   "metadata": {},
   "outputs": [
    {
     "name": "stdout",
     "output_type": "stream",
     "text": [
      "92\n"
     ]
    }
   ],
   "source": [
    "def back_tracking(k, n):\n",
    "    global count\n",
    "    if k == n:\n",
    "        count += 1\n",
    "        return\n",
    "    for i in range(n):\n",
    "        if queen_check(k, i):\n",
    "            queens.append((k, i))\n",
    "            back_tracking(k+1, n)\n",
    "            queens.pop()\n",
    "\n",
    "\n",
    "def queen_check(x, y):\n",
    "    for a, b in queens:\n",
    "        if b == y or x+y == a+b or x-y == a-b:\n",
    "            return False\n",
    "    return True\n",
    "\n",
    "\n",
    "n = int(input())\n",
    "queens = []\n",
    "count = 0\n",
    "back_tracking(0, n)\n",
    "print(count)"
   ]
  },
  {
   "cell_type": "code",
   "execution_count": 17,
   "metadata": {},
   "outputs": [
    {
     "name": "stdout",
     "output_type": "stream",
     "text": [
      "92\n"
     ]
    }
   ],
   "source": [
    "def back_tracking(k, n):\n",
    "    global count\n",
    "    if k == n:\n",
    "        count += 1\n",
    "        return\n",
    "    for i in range(n):\n",
    "        if not is_used1[i] and not is_used2[k+i] and not is_used3[k-i+n-1]:\n",
    "            is_used1[i] = True\n",
    "            is_used2[k+i] = True\n",
    "            is_used3[k-i+n-1] = True\n",
    "            back_tracking(k+1, n)\n",
    "            is_used1[i] = False\n",
    "            is_used2[k+i] = False\n",
    "            is_used3[k-i+n-1] = False\n",
    "\n",
    "\n",
    "n = int(input())\n",
    "is_used1 = [False] * n\n",
    "is_used2 = [False] * (n+n-1)\n",
    "is_used3 = [False] * (n+n-1)\n",
    "count = 0\n",
    "back_tracking(0, n)\n",
    "print(count)"
   ]
  },
  {
   "cell_type": "code",
   "execution_count": null,
   "metadata": {},
   "outputs": [],
   "source": [
    "results = [0, 1, 0, 0, 2, 10, 4, 40, 92, 352, 724, 2680, 14200, 73712, 365596]\n",
    "print(results[int(input())])"
   ]
  },
  {
   "cell_type": "markdown",
   "metadata": {},
   "source": [
    "#### 1182"
   ]
  },
  {
   "cell_type": "code",
   "execution_count": null,
   "metadata": {},
   "outputs": [
    {
     "name": "stdout",
     "output_type": "stream",
     "text": [
      "1\n"
     ]
    }
   ],
   "source": [
    "import sys\n",
    "\n",
    "\n",
    "# input = sys.stdin.readline\n",
    "\n",
    "def back_tracking(k, n, s, total):\n",
    "    global count\n",
    "    if k == n:\n",
    "        if total == s:\n",
    "            count += 1\n",
    "        return\n",
    "    back_tracking(k+1, n, s, total)\n",
    "    back_tracking(k+1, n, s, total+perm[k])\n",
    "\n",
    "\n",
    "count = 0\n",
    "n, s = map(int, input().split())\n",
    "perm = list(map(int, input().split()))\n",
    "back_tracking(0, n, s, 0)\n",
    "if s == 0:\n",
    "    count -= 1\n",
    "print(count)"
   ]
  },
  {
   "cell_type": "code",
   "execution_count": null,
   "metadata": {},
   "outputs": [],
   "source": [
    "import sys\n",
    "\n",
    "\n",
    "# input = sys.stdin.readline\n",
    "\n",
    "def back_tracking(k, total):\n",
    "    global count, n, s\n",
    "    if k == n:\n",
    "        if total == s:\n",
    "            count += 1\n",
    "        return\n",
    "    back_tracking(k+1, total)\n",
    "    back_tracking(k+1, total+perm[k])\n",
    "\n",
    "\n",
    "count = 0\n",
    "n, s = map(int, input().split())\n",
    "perm = list(map(int, input().split()))\n",
    "back_tracking(0, 0)\n",
    "if s == 0:\n",
    "    count -= 1\n",
    "print(count)"
   ]
  },
  {
   "cell_type": "markdown",
   "metadata": {},
   "source": [
    "#### 6603"
   ]
  },
  {
   "cell_type": "code",
   "execution_count": null,
   "metadata": {},
   "outputs": [
    {
     "name": "stdout",
     "output_type": "stream",
     "text": [
      "1 2 3 4 5 6\n",
      "1 2 3 4 5 7\n",
      "1 2 3 4 6 7\n",
      "1 2 3 5 6 7\n",
      "1 2 4 5 6 7\n",
      "1 3 4 5 6 7\n",
      "2 3 4 5 6 7\n",
      "\n",
      "1 2 3 5 8 13\n",
      "1 2 3 5 8 21\n",
      "1 2 3 5 8 34\n",
      "1 2 3 5 13 21\n",
      "1 2 3 5 13 34\n",
      "1 2 3 5 21 34\n",
      "1 2 3 8 13 21\n",
      "1 2 3 8 13 34\n",
      "1 2 3 8 21 34\n",
      "1 2 3 13 21 34\n",
      "1 2 5 8 13 21\n",
      "1 2 5 8 13 34\n",
      "1 2 5 8 21 34\n",
      "1 2 5 13 21 34\n",
      "1 2 8 13 21 34\n",
      "1 3 5 8 13 21\n",
      "1 3 5 8 13 34\n",
      "1 3 5 8 21 34\n",
      "1 3 5 13 21 34\n",
      "1 3 8 13 21 34\n",
      "1 5 8 13 21 34\n",
      "2 3 5 8 13 21\n",
      "2 3 5 8 13 34\n",
      "2 3 5 8 21 34\n",
      "2 3 5 13 21 34\n",
      "2 3 8 13 21 34\n",
      "2 5 8 13 21 34\n",
      "3 5 8 13 21 34\n",
      "\n"
     ]
    }
   ],
   "source": [
    "import sys\n",
    "\n",
    "\n",
    "# input = sys.stdin.readline\n",
    "\n",
    "\n",
    "def back_tracking(n):\n",
    "    if len(perm) == 6:\n",
    "        print(*perm)\n",
    "        return\n",
    "    for i in range(n, k):\n",
    "        perm.append(S[i])\n",
    "        back_tracking(i+1)\n",
    "        perm.pop()\n",
    "\n",
    "\n",
    "while (case := list(map(int, input().split()))) != [0]:\n",
    "    k = case[0]\n",
    "    S = case[1:]\n",
    "    perm = []\n",
    "    back_tracking(0)\n",
    "    print()"
   ]
  },
  {
   "cell_type": "markdown",
   "metadata": {},
   "source": [
    "#### 1759"
   ]
  },
  {
   "cell_type": "code",
   "execution_count": null,
   "metadata": {},
   "outputs": [
    {
     "name": "stdout",
     "output_type": "stream",
     "text": [
      "acis\n",
      "acit\n",
      "aciw\n",
      "acst\n",
      "acsw\n",
      "actw\n",
      "aist\n",
      "aisw\n",
      "aitw\n",
      "astw\n",
      "cist\n",
      "cisw\n",
      "citw\n",
      "istw\n"
     ]
    }
   ],
   "source": [
    "import sys\n",
    "\n",
    "\n",
    "# input = sys.stdin.readline\n",
    "\n",
    "def back_tracking(k):\n",
    "    if len(password) == L:\n",
    "        if len(used_vowels) >= 1 and len(used_consonants) >= 2:\n",
    "            print(*password, sep=\"\")\n",
    "        return\n",
    "    for i in range(k, C):\n",
    "        if letters[i] in vowels:  # 사용한 자음/모음을 구분하여 저장\n",
    "            used_vowels.append(letters[i])\n",
    "        else:\n",
    "            used_consonants.append(letters[i])\n",
    "            \n",
    "        password.append(letters[i])\n",
    "        back_tracking(i+1)\n",
    "        password.pop()\n",
    "        \n",
    "        if letters[i] in vowels:  # 사용한 자음/모음을 제거\n",
    "            used_vowels.pop()\n",
    "        else:\n",
    "            used_consonants.pop()\n",
    "\n",
    "\n",
    "L, C = map(int, input().split())\n",
    "letters = sorted(input().rstrip().split())\n",
    "password, used_consonants, used_vowels = [], [], []\n",
    "vowels = {\"a\", \"e\", \"i\", \"o\", \"u\"}\n",
    "back_tracking(0)"
   ]
  },
  {
   "cell_type": "code",
   "execution_count": null,
   "metadata": {},
   "outputs": [
    {
     "name": "stdout",
     "output_type": "stream",
     "text": [
      "acis\n",
      "acit\n",
      "aciw\n",
      "acst\n",
      "acsw\n",
      "actw\n",
      "aist\n",
      "aisw\n",
      "aitw\n",
      "astw\n",
      "cist\n",
      "cisw\n",
      "citw\n",
      "istw\n"
     ]
    }
   ],
   "source": [
    "import sys\n",
    "\n",
    "\n",
    "# input = sys.stdin.readline\n",
    "\n",
    "def back_tracking(k):\n",
    "    if len(password) == L:\n",
    "        if len(used_vowels) >= 1 and len(used_consonants) >= 2:\n",
    "            print(*password, sep=\"\")\n",
    "        return\n",
    "    for i in range(k, C):\n",
    "        # 사용한 자음/모음을 구분하여 저장\n",
    "        append_letter[letters[i] in vowels](letters[i])\n",
    "        \n",
    "        password.append(letters[i])\n",
    "        back_tracking(i+1)\n",
    "        password.pop()\n",
    "        \n",
    "        # 사용한 자음/모음을 제거\n",
    "        pop_letter[letters[i] in vowels]()\n",
    "\n",
    "\n",
    "L, C = map(int, input().split())\n",
    "letters = sorted(input().rstrip().split())\n",
    "password, used_consonants, used_vowels = [], [], []\n",
    "append_letter = [used_consonants.append, used_vowels.append]\n",
    "pop_letter = [used_consonants.pop, used_vowels.pop]\n",
    "vowels = {\"a\", \"e\", \"i\", \"o\", \"u\"}\n",
    "back_tracking(0)"
   ]
  },
  {
   "cell_type": "code",
   "execution_count": null,
   "metadata": {},
   "outputs": [
    {
     "name": "stdout",
     "output_type": "stream",
     "text": [
      "acis\n",
      "acit\n",
      "aciw\n",
      "acst\n",
      "acsw\n",
      "actw\n",
      "aist\n",
      "aisw\n",
      "aitw\n",
      "astw\n",
      "cist\n",
      "cisw\n",
      "citw\n",
      "istw\n"
     ]
    }
   ],
   "source": [
    "import sys\n",
    "\n",
    "\n",
    "# input = sys.stdin.readline\n",
    "\n",
    "def back_tracking(k, password):\n",
    "    if len(password) == L:\n",
    "        if len(used_vowels) >= 1 and len(used_consonants) >= 2:\n",
    "            print(password)\n",
    "        return\n",
    "    \n",
    "    for i in range(k, C):\n",
    "        append_letter[letters[i] in vowels](letters[i])\n",
    "        back_tracking(i+1, password+letters[i])\n",
    "        pop_letter[letters[i] in vowels]()\n",
    "\n",
    "\n",
    "L, C = map(int, input().split())\n",
    "letters = sorted(input().rstrip().split())\n",
    "used_consonants, used_vowels = [], []\n",
    "append_letter = [used_consonants.append, used_vowels.append]\n",
    "pop_letter = [used_consonants.pop, used_vowels.pop]\n",
    "vowels = {\"a\", \"e\", \"i\", \"o\", \"u\"}\n",
    "back_tracking(0, \"\")"
   ]
  },
  {
   "cell_type": "code",
   "execution_count": null,
   "metadata": {},
   "outputs": [],
   "source": []
  },
  {
   "cell_type": "code",
   "execution_count": null,
   "metadata": {},
   "outputs": [],
   "source": []
  },
  {
   "cell_type": "code",
   "execution_count": null,
   "metadata": {},
   "outputs": [],
   "source": []
  },
  {
   "cell_type": "code",
   "execution_count": null,
   "metadata": {},
   "outputs": [],
   "source": []
  }
 ],
 "metadata": {
  "kernelspec": {
   "display_name": "base",
   "language": "python",
   "name": "python3"
  },
  "language_info": {
   "codemirror_mode": {
    "name": "ipython",
    "version": 3
   },
   "file_extension": ".py",
   "mimetype": "text/x-python",
   "name": "python",
   "nbconvert_exporter": "python",
   "pygments_lexer": "ipython3",
   "version": "3.10.13"
  }
 },
 "nbformat": 4,
 "nbformat_minor": 2
}
