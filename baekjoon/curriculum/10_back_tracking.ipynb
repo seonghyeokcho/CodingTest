{
 "cells": [
  {
   "cell_type": "markdown",
   "metadata": {},
   "source": [
    "#### 백트래킹 기본 형태"
   ]
  },
  {
   "cell_type": "markdown",
   "metadata": {},
   "source": [
    "```python\n",
    "def 백트래킹(n):\n",
    "    if 정답:\n",
    "        출력 or 저장\n",
    "    for 모든 자식 모드에 대해:\n",
    "        if 유망한지확인(m):\n",
    "            자식 노드로 이동  # 탐색 후보\n",
    "            백트래킹(n+1)\n",
    "            부모 노드로 이동  # 원상 복구\n",
    "\n",
    "def 유망한지확인(m):\n",
    "    if 조건에 맞지 않다면:\n",
    "        return False\n",
    "    return True\n",
    "```"
   ]
  },
  {
   "cell_type": "markdown",
   "metadata": {},
   "source": [
    "#### 15649"
   ]
  },
  {
   "cell_type": "code",
   "execution_count": 1,
   "metadata": {},
   "outputs": [
    {
     "name": "stdout",
     "output_type": "stream",
     "text": [
      "1 2\n",
      "1 3\n",
      "2 1\n",
      "2 3\n",
      "3 1\n",
      "3 2\n"
     ]
    }
   ],
   "source": [
    "import sys\n",
    "\n",
    "\n",
    "# input = sys.stdin.readline\n",
    "\n",
    "\n",
    "def back_tracking(n, m, k):\n",
    "    if k == m:\n",
    "        print(*arr)\n",
    "        return\n",
    "    for i in range(1, n+1):\n",
    "        if not is_used[i]:\n",
    "            arr[k] = i\n",
    "            is_used[i] = True\n",
    "            back_tracking(n, m, k+1)\n",
    "            is_used[i] = False\n",
    "\n",
    "\n",
    "n, m = map(int, input().split())\n",
    "arr = [0]*m\n",
    "is_used = [False]*(n+1)\n",
    "back_tracking(n, m, 0)"
   ]
  },
  {
   "cell_type": "markdown",
   "metadata": {},
   "source": [
    "#### 9663"
   ]
  },
  {
   "cell_type": "code",
   "execution_count": null,
   "metadata": {},
   "outputs": [
    {
     "name": "stdout",
     "output_type": "stream",
     "text": [
      "92\n"
     ]
    }
   ],
   "source": [
    "def back_tracking(k, n):\n",
    "    global count\n",
    "    if k == n:\n",
    "        count += 1\n",
    "        return\n",
    "    for i in range(n):\n",
    "        if queen_check(queens, k, i):\n",
    "            queens.append((k, i))\n",
    "            back_tracking(k+1, n)\n",
    "            queens.pop()\n",
    "\n",
    "\n",
    "def queen_check(queens, x, y):\n",
    "    for a, b in queens:\n",
    "        if b == y or x+y == a+b or x-y == a-b:\n",
    "            return False\n",
    "    return True\n",
    "\n",
    "\n",
    "n = int(input())\n",
    "queens = []\n",
    "count = 0\n",
    "back_tracking(0, n)\n",
    "print(count)"
   ]
  },
  {
   "cell_type": "code",
   "execution_count": 5,
   "metadata": {},
   "outputs": [
    {
     "name": "stdout",
     "output_type": "stream",
     "text": [
      "92\n"
     ]
    }
   ],
   "source": [
    "def back_tracking(k, n):\n",
    "    global count\n",
    "    if k == n:\n",
    "        count += 1\n",
    "        return\n",
    "    for i in range(n):\n",
    "        if not is_used1[i] and not is_used2[k+i] and not is_used3[k-i+n-1]:\n",
    "            is_used1[i] = True\n",
    "            is_used2[k+i] = True\n",
    "            is_used3[k-i+n-1] = True\n",
    "            back_tracking(k+1, n)\n",
    "            is_used1[i] = False\n",
    "            is_used2[k+i] = False\n",
    "            is_used3[k-i+n-1] = False\n",
    "\n",
    "\n",
    "n = int(input())\n",
    "is_used1 = [False] * n\n",
    "is_used2 = [False] * (n+n-1)\n",
    "is_used3 = [False] * (n+n-1)\n",
    "count = 0\n",
    "back_tracking(0, n)\n",
    "print(count)"
   ]
  },
  {
   "cell_type": "code",
   "execution_count": null,
   "metadata": {},
   "outputs": [],
   "source": []
  },
  {
   "cell_type": "code",
   "execution_count": null,
   "metadata": {},
   "outputs": [],
   "source": []
  }
 ],
 "metadata": {
  "kernelspec": {
   "display_name": "base",
   "language": "python",
   "name": "python3"
  },
  "language_info": {
   "codemirror_mode": {
    "name": "ipython",
    "version": 3
   },
   "file_extension": ".py",
   "mimetype": "text/x-python",
   "name": "python",
   "nbconvert_exporter": "python",
   "pygments_lexer": "ipython3",
   "version": "3.10.13"
  }
 },
 "nbformat": 4,
 "nbformat_minor": 2
}
