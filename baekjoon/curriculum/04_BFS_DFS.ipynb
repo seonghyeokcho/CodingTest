{
 "cells": [
  {
   "cell_type": "markdown",
   "metadata": {},
   "source": [
    "#### 2583"
   ]
  },
  {
   "cell_type": "markdown",
   "metadata": {},
   "source": [
    "- DFS"
   ]
  },
  {
   "cell_type": "code",
   "execution_count": 8,
   "metadata": {},
   "outputs": [
    {
     "name": "stdout",
     "output_type": "stream",
     "text": [
      "3\n",
      "1 7 13\n"
     ]
    }
   ],
   "source": [
    "# import sys\n",
    "# input = sys.stdin.readline\n",
    "# sys.setrecursionlimit(10**6)\n",
    "\n",
    "m, n, k = map(int, input().split())\n",
    "graph = [[0]*n for _ in range(m)]\n",
    "\n",
    "for _ in range(k):\n",
    "    x1, y1, x2, y2 = map(int, input().split())\n",
    "    for i in range(y1, y2):\n",
    "        for j in range(x1, x2):\n",
    "            graph[i][j] = 1\n",
    "\n",
    "def dfs(x, y, m, n, graph):\n",
    "    if x < 0 or x > m-1 or y < 0 or y > n-1:\n",
    "        return False\n",
    "    \n",
    "    if graph[x][y] == 0:\n",
    "        graph[x][y] = 1\n",
    "        \n",
    "        global area\n",
    "        area += 1\n",
    "        \n",
    "        dfs(x-1, y, m, n, graph)\n",
    "        dfs(x, y-1, m, n, graph)\n",
    "        dfs(x+1, y, m, n, graph)\n",
    "        dfs(x, y+1, m, n, graph)\n",
    "        \n",
    "        return True\n",
    "    return False\n",
    "\n",
    "count = 0\n",
    "area_list = []\n",
    "area = 0\n",
    "for i in range(m):\n",
    "    for j in range(n):\n",
    "        if dfs(i, j, m, n, graph) == True:\n",
    "            area_list.append(area)\n",
    "            area = 0\n",
    "            count += 1\n",
    "\n",
    "print(count)\n",
    "print(*sorted(area_list))"
   ]
  },
  {
   "cell_type": "markdown",
   "metadata": {},
   "source": [
    "- BFS"
   ]
  },
  {
   "cell_type": "code",
   "execution_count": 20,
   "metadata": {},
   "outputs": [
    {
     "name": "stdout",
     "output_type": "stream",
     "text": [
      "3\n",
      "1 7 13\n"
     ]
    }
   ],
   "source": [
    "# import sys\n",
    "# input = sys.stdin.readline\n",
    "\n",
    "m, n, k = map(int, input().split())\n",
    "graph = [[0]*n for _ in range(m)]\n",
    "\n",
    "for _ in range(k):\n",
    "    x1, y1, x2, y2 = map(int, input().split())\n",
    "    for i in range(y1, y2):\n",
    "        for j in range(x1, x2):\n",
    "            graph[i][j] = 1\n",
    "\n",
    "count = 0\n",
    "area = 0\n",
    "area_list = []\n",
    "\n",
    "from collections import deque\n",
    "\n",
    "dx = [-1, 1, 0, 0]\n",
    "dy = [0, 0, -1, 1]\n",
    "queue = deque()\n",
    "\n",
    "for i in range(m):\n",
    "    for j in range(n):\n",
    "        if graph[i][j] == 1:\n",
    "            continue\n",
    "        queue.append((i, j))\n",
    "        while queue:\n",
    "            x, y = queue.popleft()\n",
    "            for k in range(4):\n",
    "                nx = x + dx[k]\n",
    "                ny = y + dy[k]\n",
    "                if nx < 0 or nx > m-1 or ny < 0 or ny > n-1:\n",
    "                    continue\n",
    "                if graph[nx][ny] == 0:\n",
    "                    graph[nx][ny] = 1\n",
    "                    queue.append((nx, ny))\n",
    "                    area += 1\n",
    "        if graph[i][j] == 0:\n",
    "            graph[nx][ny] = 1\n",
    "            area += 1\n",
    "        count += 1\n",
    "        area_list.append(area)\n",
    "        area = 0\n",
    "            \n",
    "print(count)\n",
    "print(*sorted(area_list))"
   ]
  },
  {
   "cell_type": "markdown",
   "metadata": {},
   "source": [
    "#### 10026"
   ]
  },
  {
   "cell_type": "code",
   "execution_count": null,
   "metadata": {},
   "outputs": [],
   "source": []
  },
  {
   "cell_type": "code",
   "execution_count": null,
   "metadata": {},
   "outputs": [],
   "source": []
  },
  {
   "cell_type": "code",
   "execution_count": null,
   "metadata": {},
   "outputs": [],
   "source": []
  },
  {
   "cell_type": "code",
   "execution_count": null,
   "metadata": {},
   "outputs": [],
   "source": []
  },
  {
   "cell_type": "code",
   "execution_count": null,
   "metadata": {},
   "outputs": [],
   "source": []
  },
  {
   "cell_type": "code",
   "execution_count": null,
   "metadata": {},
   "outputs": [],
   "source": []
  },
  {
   "cell_type": "code",
   "execution_count": null,
   "metadata": {},
   "outputs": [],
   "source": []
  }
 ],
 "metadata": {
  "kernelspec": {
   "display_name": "base",
   "language": "python",
   "name": "python3"
  },
  "language_info": {
   "codemirror_mode": {
    "name": "ipython",
    "version": 3
   },
   "file_extension": ".py",
   "mimetype": "text/x-python",
   "name": "python",
   "nbconvert_exporter": "python",
   "pygments_lexer": "ipython3",
   "version": "3.10.13"
  }
 },
 "nbformat": 4,
 "nbformat_minor": 2
}
