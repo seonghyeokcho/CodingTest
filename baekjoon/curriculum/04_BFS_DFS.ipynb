{
 "cells": [
  {
   "cell_type": "markdown",
   "metadata": {},
   "source": [
    "#### 2583"
   ]
  },
  {
   "cell_type": "markdown",
   "metadata": {},
   "source": [
    "- DFS"
   ]
  },
  {
   "cell_type": "code",
   "execution_count": 8,
   "metadata": {},
   "outputs": [
    {
     "name": "stdout",
     "output_type": "stream",
     "text": [
      "3\n",
      "1 7 13\n"
     ]
    }
   ],
   "source": [
    "# import sys\n",
    "# input = sys.stdin.readline\n",
    "# sys.setrecursionlimit(10**6)\n",
    "\n",
    "m, n, k = map(int, input().split())\n",
    "graph = [[0]*n for _ in range(m)]\n",
    "\n",
    "for _ in range(k):\n",
    "    x1, y1, x2, y2 = map(int, input().split())\n",
    "    for i in range(y1, y2):\n",
    "        for j in range(x1, x2):\n",
    "            graph[i][j] = 1\n",
    "\n",
    "def dfs(x, y, m, n, graph):\n",
    "    if x < 0 or x > m-1 or y < 0 or y > n-1:\n",
    "        return False\n",
    "    \n",
    "    if graph[x][y] == 0:\n",
    "        graph[x][y] = 1\n",
    "        \n",
    "        global area\n",
    "        area += 1\n",
    "        \n",
    "        dfs(x-1, y, m, n, graph)\n",
    "        dfs(x, y-1, m, n, graph)\n",
    "        dfs(x+1, y, m, n, graph)\n",
    "        dfs(x, y+1, m, n, graph)\n",
    "        \n",
    "        return True\n",
    "    return False\n",
    "\n",
    "count = 0\n",
    "area_list = []\n",
    "area = 0\n",
    "for i in range(m):\n",
    "    for j in range(n):\n",
    "        if dfs(i, j, m, n, graph) == True:\n",
    "            area_list.append(area)\n",
    "            area = 0\n",
    "            count += 1\n",
    "\n",
    "print(count)\n",
    "print(*sorted(area_list))"
   ]
  },
  {
   "cell_type": "markdown",
   "metadata": {},
   "source": [
    "- BFS"
   ]
  },
  {
   "cell_type": "code",
   "execution_count": 20,
   "metadata": {},
   "outputs": [
    {
     "name": "stdout",
     "output_type": "stream",
     "text": [
      "3\n",
      "1 7 13\n"
     ]
    }
   ],
   "source": [
    "# import sys\n",
    "# input = sys.stdin.readline\n",
    "\n",
    "m, n, k = map(int, input().split())\n",
    "graph = [[0]*n for _ in range(m)]\n",
    "\n",
    "for _ in range(k):\n",
    "    x1, y1, x2, y2 = map(int, input().split())\n",
    "    for i in range(y1, y2):\n",
    "        for j in range(x1, x2):\n",
    "            graph[i][j] = 1\n",
    "\n",
    "count = 0\n",
    "area = 0\n",
    "area_list = []\n",
    "\n",
    "from collections import deque\n",
    "\n",
    "dx = [-1, 1, 0, 0]\n",
    "dy = [0, 0, -1, 1]\n",
    "queue = deque()\n",
    "\n",
    "for i in range(m):\n",
    "    for j in range(n):\n",
    "        if graph[i][j] == 1:\n",
    "            continue\n",
    "        queue.append((i, j))\n",
    "        while queue:\n",
    "            x, y = queue.popleft()\n",
    "            for k in range(4):\n",
    "                nx = x + dx[k]\n",
    "                ny = y + dy[k]\n",
    "                if nx < 0 or nx > m-1 or ny < 0 or ny > n-1:\n",
    "                    continue\n",
    "                if graph[nx][ny] == 0:\n",
    "                    graph[nx][ny] = 1\n",
    "                    queue.append((nx, ny))\n",
    "                    area += 1\n",
    "        if graph[i][j] == 0:\n",
    "            graph[nx][ny] = 1\n",
    "            area += 1\n",
    "        count += 1\n",
    "        area_list.append(area)\n",
    "        area = 0\n",
    "            \n",
    "print(count)\n",
    "print(*sorted(area_list))"
   ]
  },
  {
   "cell_type": "markdown",
   "metadata": {},
   "source": [
    "#### 10026"
   ]
  },
  {
   "cell_type": "markdown",
   "metadata": {},
   "source": [
    "- DFS"
   ]
  },
  {
   "cell_type": "code",
   "execution_count": null,
   "metadata": {},
   "outputs": [],
   "source": [
    "# 초기 버전\n",
    "\n",
    "import sys\n",
    "# input = sys.stdin.readline\n",
    "sys.setrecursionlimit(10**6)\n",
    "\n",
    "\n",
    "def dfs(x, y, n, graph, color, mode, visited):\n",
    "    if x < 0 or x > n-1 or y < 0 or y > n-1:\n",
    "        return False\n",
    "    \n",
    "    if visited[x][y]:\n",
    "        return False\n",
    "    \n",
    "    if mode == \"R-GB\":\n",
    "        if graph[x][y] == \"G\" and color == \"R\":\n",
    "            graph[x][y] = \"R\"\n",
    "        elif graph[x][y] == \"R\" and color == \"G\":\n",
    "            graph[x][y] = \"G\"\n",
    "    \n",
    "    if graph[x][y] == color:\n",
    "        visited[x][y] = True\n",
    "        dfs(x-1, y, n, graph, color, mode, visited)\n",
    "        dfs(x, y-1, n, graph, color, mode, visited)\n",
    "        dfs(x+1, y, n, graph, color, mode, visited)\n",
    "        dfs(x, y+1, n, graph, color, mode, visited)\n",
    "        return True\n",
    "    return False\n",
    "\n",
    "n = int(input())\n",
    "graph = [[i for i in input().rstrip()] for _ in range(n)]\n",
    "answer = []\n",
    "for mode in [\"RGB\", \"R-GB\"]:\n",
    "    count = 0\n",
    "    visited = [[False]*n for _ in range(n)]\n",
    "    for color in [\"R\", \"G\", \"B\"]:\n",
    "        area = 0\n",
    "        for i in range(n):\n",
    "            for j in range(n):\n",
    "                if dfs(i, j, n, graph, color, mode, visited) == True:\n",
    "                    area += 1\n",
    "        count += area\n",
    "    answer.append(count)\n",
    "\n",
    "print(*answer)"
   ]
  },
  {
   "cell_type": "code",
   "execution_count": 21,
   "metadata": {},
   "outputs": [
    {
     "name": "stdout",
     "output_type": "stream",
     "text": [
      "4 3\n"
     ]
    }
   ],
   "source": [
    "# 두번째 버전\n",
    "\n",
    "import sys\n",
    "# input = sys.stdin.readline\n",
    "sys.setrecursionlimit(10**6)\n",
    "\n",
    "\n",
    "def color_checker(a, b, RG_blind=False):\n",
    "    if RG_blind:\n",
    "        return (a > 66) ^ (b > 66)\n",
    "    else:\n",
    "        return a != b\n",
    "\n",
    "def solution(n, graph, visited, blind):\n",
    "    def dfs(x, y, n, graph, color, visited, blind, func):\n",
    "        if x < 0 or x > n-1 or y < 0 or y > n-1:\n",
    "            return False\n",
    "        \n",
    "        if visited[x][y] or func(graph[x][y], color, blind):\n",
    "            return False\n",
    "        else:\n",
    "            visited[x][y] = True\n",
    "            dfs(x-1, y, n, graph, color, visited, blind, func)\n",
    "            dfs(x, y-1, n, graph, color, visited, blind, func)\n",
    "            dfs(x+1, y, n, graph, color, visited, blind, func)\n",
    "            dfs(x, y+1, n, graph, color, visited, blind, func)\n",
    "            return True\n",
    "\n",
    "    count = 0\n",
    "    for i in range(n):\n",
    "        for j in range(n):\n",
    "            current_color = graph[i][j]\n",
    "            if dfs(i, j, n, graph, current_color, visited, blind, color_checker) == True:\n",
    "                count += 1\n",
    "    \n",
    "    return count\n",
    "\n",
    "n = int(input())\n",
    "graph = [[ord(i) for i in input().rstrip()] for _ in range(n)]\n",
    "visited = [[False]*n for _ in range(n)]\n",
    "\n",
    "print(solution(n, graph, visited), solution(n, graph, visited, True))"
   ]
  },
  {
   "cell_type": "markdown",
   "metadata": {},
   "source": [
    "- BFS"
   ]
  },
  {
   "cell_type": "code",
   "execution_count": 70,
   "metadata": {},
   "outputs": [
    {
     "name": "stdout",
     "output_type": "stream",
     "text": [
      "4 3\n"
     ]
    }
   ],
   "source": [
    "# import sys\n",
    "# input = sys.stdin.readline\n",
    "from collections import deque\n",
    "\n",
    "\n",
    "def color_checker(a, b, RG_blind):\n",
    "    if RG_blind:\n",
    "        return (a > 66) ^ (b > 66)\n",
    "    else:\n",
    "        return a != b\n",
    "\n",
    "\n",
    "def bfs(n, graph, RG_blind):\n",
    "    visited = [[False]*n for _ in range(n)]\n",
    "    \n",
    "    dx = [-1, 0, 1, 0]\n",
    "    dy = [0, -1, 0, 1]\n",
    "    \n",
    "    queue = deque()\n",
    "    count = 0\n",
    "    \n",
    "    for i in range(n):\n",
    "        for j in range(n):\n",
    "            if visited[i][j]:\n",
    "                continue\n",
    "            queue.append((i, j))\n",
    "            color = graph[i][j]\n",
    "            while queue:\n",
    "                x, y = queue.popleft()\n",
    "                for k in range(4):\n",
    "                    nx = x + dx[k]\n",
    "                    ny = y + dy[k]\n",
    "                    if nx < 0 or nx > n-1 or ny < 0 or ny > n-1:\n",
    "                        continue\n",
    "                    if visited[nx][ny] or color_checker(graph[nx][ny], color, RG_blind):\n",
    "                        continue\n",
    "                    visited[nx][ny] = True\n",
    "                    queue.append((nx, ny))\n",
    "            count += 1\n",
    "    return count\n",
    "\n",
    "\n",
    "n = int(input())\n",
    "graph = [[ord(i) for i in input().rstrip()] for _ in range(n)]\n",
    "print(bfs(n, graph, False), bfs(n, graph, True))"
   ]
  },
  {
   "cell_type": "markdown",
   "metadata": {},
   "source": [
    "#### 7562"
   ]
  },
  {
   "cell_type": "code",
   "execution_count": 90,
   "metadata": {},
   "outputs": [
    {
     "name": "stdout",
     "output_type": "stream",
     "text": [
      "5\n",
      "28\n",
      "0\n"
     ]
    }
   ],
   "source": [
    "# import sys\n",
    "# input = sys.stdin.readline\n",
    "from collections import deque\n",
    "\n",
    "\n",
    "def bfs(l, grid, start, goal, visited):\n",
    "    dx = [-2, -1, 1, 2, 2, 1, -1, -2]\n",
    "    dy = [-1, -2, -2, -1, 1, 2, 2, 1]\n",
    "    \n",
    "    queue = deque()\n",
    "    queue.append(start)\n",
    "    visited[start[0]][start[1]] = 1\n",
    "    \n",
    "    while queue:\n",
    "        x, y = queue.popleft()\n",
    "        count = grid[x][y]\n",
    "        for k in range(8):\n",
    "            nx = x + dx[k]\n",
    "            ny = y + dy[k]\n",
    "            if nx < 0 or nx > l-1 or ny < 0 or ny > l-1 or visited[nx][ny]:\n",
    "                continue\n",
    "            if [nx, ny] == goal:\n",
    "                return count+1  # success\n",
    "            visited[nx][ny] = 1\n",
    "            grid[nx][ny] = count+1\n",
    "            queue.append([nx, ny])\n",
    "    return 0  # fail\n",
    "\n",
    "\n",
    "for _ in range(int(input())):\n",
    "    l = int(input())\n",
    "    grid = [[0]*l for _ in range(l)]\n",
    "    visited = [[0]*l for _ in range(l)]\n",
    "    \n",
    "    start = list(map(int, input().rstrip().split()))\n",
    "    goal = list(map(int, input().rstrip().split()))\n",
    "    \n",
    "    print(bfs(l, grid, start, goal, visited))"
   ]
  },
  {
   "cell_type": "code",
   "execution_count": null,
   "metadata": {},
   "outputs": [
    {
     "name": "stdout",
     "output_type": "stream",
     "text": [
      "5\n",
      "28\n",
      "0\n"
     ]
    }
   ],
   "source": [
    "# import sys\n",
    "# input = sys.stdin.readline\n",
    "from collections import deque\n",
    "\n",
    "\n",
    "def bfs(l, grid, start, goal):\n",
    "    dx = [-2, -1, 1, 2, 2, 1, -1, -2]\n",
    "    dy = [-1, -2, -2, -1, 1, 2, 2, 1]\n",
    "    \n",
    "    queue = deque()\n",
    "    queue.append(start)\n",
    "    grid[start[0]][start[1]] = -1\n",
    "    \n",
    "    while queue:\n",
    "        x, y = queue.popleft()\n",
    "        if [x, y] == goal:\n",
    "            return grid[x][y]+1  # success\n",
    "        for k in range(8):\n",
    "            nx = x + dx[k]\n",
    "            ny = y + dy[k]\n",
    "            if nx < 0 or nx > l-1 or ny < 0 or ny > l-1 or grid[nx][ny]:\n",
    "                continue\n",
    "            grid[nx][ny] = grid[x][y]+1\n",
    "            queue.append([nx, ny])\n",
    "    return 0  # fail\n",
    "\n",
    "\n",
    "for _ in range(int(input())):\n",
    "    l = int(input())\n",
    "    grid = [[0]*l for _ in range(l)]\n",
    "    \n",
    "    start = list(map(int, input().rstrip().split()))\n",
    "    goal = list(map(int, input().rstrip().split()))\n",
    "    \n",
    "    print(bfs(l, grid, start, goal))"
   ]
  },
  {
   "cell_type": "code",
   "execution_count": 111,
   "metadata": {},
   "outputs": [
    {
     "name": "stdout",
     "output_type": "stream",
     "text": [
      "5\n",
      "28\n",
      "0\n"
     ]
    }
   ],
   "source": [
    "# import sys\n",
    "# input = sys.stdin.readline\n",
    "from collections import deque\n",
    "\n",
    "\n",
    "def bfs(l, grid, start, goal):\n",
    "    dx = [-2, -1, 1, 2, 2, 1, -1, -2]\n",
    "    dy = [-1, -2, -2, -1, 1, 2, 2, 1]\n",
    "    \n",
    "    queue = deque()\n",
    "    queue.append(start)\n",
    "    grid[start[0]][start[1]] = -1\n",
    "    \n",
    "    while queue:\n",
    "        x, y = queue.popleft()\n",
    "        if [x, y] == goal:\n",
    "            return grid[x][y]+1  # success\n",
    "        for k in range(8):\n",
    "            nx = x + dx[k]\n",
    "            ny = y + dy[k]\n",
    "            if grid[nx][ny]:\n",
    "                continue\n",
    "            grid[nx][ny] = grid[x][y]+1\n",
    "            queue.append([nx, ny])\n",
    "    return 0  # fail\n",
    "\n",
    "\n",
    "for _ in range(int(input())):\n",
    "    l = int(input())\n",
    "    grid = [[1]*(l+4) for _ in range(2)]\n",
    "    grid += [[1, 1] + [0]*l + [1, 1] for _ in range(l)]\n",
    "    grid += [[1]*(l+4) for _ in range(2)]\n",
    "    \n",
    "    start = list(map(lambda x: int(x)+2, input().rstrip().split()))\n",
    "    goal = list(map(lambda x: int(x)+2, input().rstrip().split()))\n",
    "    \n",
    "    print(bfs(l, grid, start, goal))"
   ]
  },
  {
   "cell_type": "markdown",
   "metadata": {},
   "source": [
    "#### 1926"
   ]
  },
  {
   "cell_type": "code",
   "execution_count": null,
   "metadata": {},
   "outputs": [],
   "source": [
    "## 방문 여부 표시하지 않고 해결\n",
    "\n",
    "# import sys\n",
    "# input = sys.stdin.readline\n",
    "from collections import deque\n",
    "\n",
    "\n",
    "def bfs(n, m, grid):\n",
    "    dx = [-1, 0, 1, 0]\n",
    "    dy = [0, -1, 0, 1]\n",
    "    \n",
    "    area_list = []\n",
    "    area = 0\n",
    "    queue = deque()\n",
    "    for i in range(1, n+1):\n",
    "        for j in range(1, m+1):\n",
    "            if grid[i][j] == 1:\n",
    "                grid[i][j] += 1\n",
    "                area += 1\n",
    "                queue.append((i, j))\n",
    "                while queue:\n",
    "                    x, y = queue.popleft()\n",
    "                    for k in range(4):\n",
    "                        nx = x + dx[k]\n",
    "                        ny = y + dy[k]\n",
    "                        if grid[nx][ny] == 1:\n",
    "                            grid[nx][ny] += 1\n",
    "                            area += 1\n",
    "                            queue.append((nx, ny))\n",
    "                area_list.append(area)\n",
    "                area = 0\n",
    "    if not area_list:\n",
    "        return [0, 0]\n",
    "    return [len(area_list), max(area_list)]\n",
    "\n",
    "\n",
    "n, m = 6, 5\n",
    "sample = [\"1 1 0 1 1\",\"0 1 1 0 0\",\"0 0 0 0 0\",\"1 0 1 1 1\",\"0 0 1 1 1\",\"0 0 1 1 1\"]\n",
    "grid = [[0]*(m+2)]\n",
    "grid += [[0]+[int(i) for i in j.split()]+[0] for j in sample]\n",
    "grid += [[0]*(m+2)]\n",
    "# n, m = map(int, input().rstrip().split())\n",
    "# grid = [[0]*(m+2)]\n",
    "# grid += [[0]+[int(i) for i in input().rstrip().split()]+[0] for _ in range(n)]\n",
    "# grid += [[0]*(m+2)]\n",
    "print(*bfs(n, m, grid))"
   ]
  },
  {
   "cell_type": "code",
   "execution_count": 13,
   "metadata": {},
   "outputs": [
    {
     "name": "stdout",
     "output_type": "stream",
     "text": [
      "8 7\n",
      "8 7\n",
      "4 9\n"
     ]
    }
   ],
   "source": [
    "## 현재 좌표 방문 여부 확인\n",
    "\n",
    "# import sys\n",
    "# input = sys.stdin.readline\n",
    "from collections import deque\n",
    "\n",
    "\n",
    "def bfs(n, m, grid, visited):\n",
    "    dx = [-1, 0, 1, 0]\n",
    "    dy = [0, -1, 0, 1]\n",
    "    \n",
    "    area_list = []\n",
    "    area = 0\n",
    "    queue = deque()\n",
    "    for i in range(1, n+1):\n",
    "        for j in range(1, m+1):\n",
    "            if not grid[i][j] or visited[i][j]:\n",
    "                continue\n",
    "            visited[i][j] = 1\n",
    "            area += 1\n",
    "            queue.append((i, j))\n",
    "            while queue:\n",
    "                x, y = queue.popleft()\n",
    "                for k in range(4):\n",
    "                    nx = x + dx[k]\n",
    "                    ny = y + dy[k]\n",
    "                    if not grid[nx][ny] or visited[nx][ny]:\n",
    "                        continue\n",
    "                    visited[nx][ny] = 1\n",
    "                    area += 1\n",
    "                    queue.append((nx, ny))\n",
    "            area_list.append(area)\n",
    "            area = 0\n",
    "    if not area_list:\n",
    "        return [0, 0]\n",
    "    return [len(area_list), max(area_list)]\n",
    "\n",
    "\n",
    "n, m = 6, 5\n",
    "sample = [\"1 1 0 1 1\",\"0 1 1 0 0\",\"0 0 0 0 0\",\"1 0 1 1 1\",\"0 0 1 1 1\",\"0 0 1 1 1\"]\n",
    "grid = [[0]*(m+2)]\n",
    "grid += [[0]+[int(i) for i in j.split()]+[0] for j in sample]\n",
    "grid += [[0]*(m+2)]\n",
    "visited = [[1]*(m+2)]\n",
    "visited += [[1]+[0]*m+[1] for _ in range(n)]\n",
    "visited += [[1]*(m+2)]\n",
    "\n",
    "print(len(grid), len(grid[0]))\n",
    "print(len(visited), len(visited[0]))\n",
    "# n, m = map(int, input().rstrip().split())\n",
    "# grid = [[0]*(m+2)]\n",
    "# grid += [[0]+[int(i) for i in input().rstrip().split()]+[0] for _ in range(n)]\n",
    "# grid += [[0]*(m+2)]\n",
    "print(*bfs(n, m, grid, visited))"
   ]
  },
  {
   "cell_type": "markdown",
   "metadata": {},
   "source": [
    "#### 2178"
   ]
  },
  {
   "cell_type": "code",
   "execution_count": 23,
   "metadata": {},
   "outputs": [
    {
     "name": "stdout",
     "output_type": "stream",
     "text": [
      "13\n"
     ]
    }
   ],
   "source": [
    "# import sys\n",
    "# input = sys.stdin.readline\n",
    "from collections import deque\n",
    "\n",
    "\n",
    "def bfs(n, m, maze, dp):\n",
    "    dx = [-1, 0, 1, 0]\n",
    "    dy = [0, -1, 0, 1]\n",
    "    queue = deque()\n",
    "    for i in range(1, n+1):\n",
    "        for j in range(1, m+1):\n",
    "            if not maze[i][j] or dp[i][j]:\n",
    "                continue\n",
    "            dp[i][j] = 1\n",
    "            queue.append((i, j))\n",
    "            while queue:\n",
    "                x, y = queue.popleft()\n",
    "                for k in range(4):\n",
    "                    nx = x + dx[k]\n",
    "                    ny = y + dy[k]\n",
    "                    if not maze[nx][ny] or dp[nx][ny]:\n",
    "                        continue\n",
    "                    dp[nx][ny] = dp[x][y] + 1\n",
    "                    queue.append((nx, ny))\n",
    "    return dp[n][m]\n",
    "\n",
    "\n",
    "n, m = 7, 7\n",
    "sample = [\"1011111\", \"1110001\", \"1000001\", \"1000001\", \"1000001\", \"1000001\", \"1111111\"]\n",
    "maze = [[0]*(m+2)]\n",
    "maze += [[0]+[int(i) for i in j]+[0] for j in sample]\n",
    "maze += [[0]*(m+2)]\n",
    "# n, m = map(int, input().strip().split())\n",
    "# maze = [[0]*(m+2)]\n",
    "# maze += [[0]+[int(i) for i in input().rstrip()]+[0] for _ in range(n)]\n",
    "# maze += [[0]*(m+2)]\n",
    "dp = [[1]*(m+2)]\n",
    "dp += [[1]+[0]*m+[1] for _ in range(n)]\n",
    "dp += [[1]*(m+2)]\n",
    "\n",
    "print(bfs(n, m, maze, dp))"
   ]
  },
  {
   "cell_type": "code",
   "execution_count": null,
   "metadata": {},
   "outputs": [],
   "source": [
    "# import sys\n",
    "# input = sys.stdin.readline\n",
    "\n",
    "\n",
    "def dfs():\n",
    "    pass\n",
    "\n",
    "\n",
    "n, m = 7, 7\n",
    "sample = [\"1011111\", \"1110001\", \"1000001\", \"1000001\", \"1000001\", \"1000001\", \"1111111\"]\n",
    "maze = [[0]*(m+2)]\n",
    "maze += [[0]+[int(i) for i in j]+[0] for j in sample]\n",
    "maze += [[0]*(m+2)]\n",
    "# n, m = map(int, input().strip().split())\n",
    "# maze = [[0]*(m+2)]\n",
    "# maze += [[0]+[int(i) for i in input().rstrip()]+[0] for _ in range(n)]\n",
    "# maze += [[0]*(m+2)]\n",
    "dp = [[1]*(m+2)]\n",
    "dp += [[1]+[0]*m+[1] for _ in range(n)]\n",
    "dp += [[1]*(m+2)]\n",
    "\n",
    "print(bfs(n, m, maze, dp))"
   ]
  },
  {
   "cell_type": "code",
   "execution_count": null,
   "metadata": {},
   "outputs": [],
   "source": [
    "7 7\n",
    "1011111\n",
    "1110001\n",
    "1000001\n",
    "1000001\n",
    "1000001\n",
    "1000001\n",
    "1111111"
   ]
  },
  {
   "cell_type": "code",
   "execution_count": 24,
   "metadata": {},
   "outputs": [
    {
     "data": {
      "text/plain": [
       "1713.0434782608695"
      ]
     },
     "execution_count": 24,
     "metadata": {},
     "output_type": "execute_result"
    }
   ],
   "source": [
    "197000/115"
   ]
  },
  {
   "cell_type": "code",
   "execution_count": 27,
   "metadata": {},
   "outputs": [
    {
     "data": {
      "text/plain": [
       "171304.34782608695"
      ]
     },
     "execution_count": 27,
     "metadata": {},
     "output_type": "execute_result"
    }
   ],
   "source": [
    "1713.0434782608695*100"
   ]
  },
  {
   "cell_type": "code",
   "execution_count": null,
   "metadata": {},
   "outputs": [],
   "source": []
  }
 ],
 "metadata": {
  "kernelspec": {
   "display_name": "base",
   "language": "python",
   "name": "python3"
  },
  "language_info": {
   "codemirror_mode": {
    "name": "ipython",
    "version": 3
   },
   "file_extension": ".py",
   "mimetype": "text/x-python",
   "name": "python",
   "nbconvert_exporter": "python",
   "pygments_lexer": "ipython3",
   "version": "3.10.13"
  }
 },
 "nbformat": 4,
 "nbformat_minor": 2
}
