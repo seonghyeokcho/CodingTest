{
 "cells": [
  {
   "cell_type": "markdown",
   "metadata": {},
   "source": [
    "#### 2583"
   ]
  },
  {
   "cell_type": "markdown",
   "metadata": {},
   "source": [
    "- DFS"
   ]
  },
  {
   "cell_type": "code",
   "execution_count": 8,
   "metadata": {},
   "outputs": [
    {
     "name": "stdout",
     "output_type": "stream",
     "text": [
      "3\n",
      "1 7 13\n"
     ]
    }
   ],
   "source": [
    "# import sys\n",
    "# input = sys.stdin.readline\n",
    "# sys.setrecursionlimit(10**6)\n",
    "\n",
    "m, n, k = map(int, input().split())\n",
    "graph = [[0]*n for _ in range(m)]\n",
    "\n",
    "for _ in range(k):\n",
    "    x1, y1, x2, y2 = map(int, input().split())\n",
    "    for i in range(y1, y2):\n",
    "        for j in range(x1, x2):\n",
    "            graph[i][j] = 1\n",
    "\n",
    "def dfs(x, y, m, n, graph):\n",
    "    if x < 0 or x > m-1 or y < 0 or y > n-1:\n",
    "        return False\n",
    "    \n",
    "    if graph[x][y] == 0:\n",
    "        graph[x][y] = 1\n",
    "        \n",
    "        global area\n",
    "        area += 1\n",
    "        \n",
    "        dfs(x-1, y, m, n, graph)\n",
    "        dfs(x, y-1, m, n, graph)\n",
    "        dfs(x+1, y, m, n, graph)\n",
    "        dfs(x, y+1, m, n, graph)\n",
    "        \n",
    "        return True\n",
    "    return False\n",
    "\n",
    "count = 0\n",
    "area_list = []\n",
    "area = 0\n",
    "for i in range(m):\n",
    "    for j in range(n):\n",
    "        if dfs(i, j, m, n, graph) == True:\n",
    "            area_list.append(area)\n",
    "            area = 0\n",
    "            count += 1\n",
    "\n",
    "print(count)\n",
    "print(*sorted(area_list))"
   ]
  },
  {
   "cell_type": "markdown",
   "metadata": {},
   "source": [
    "- BFS"
   ]
  },
  {
   "cell_type": "code",
   "execution_count": 20,
   "metadata": {},
   "outputs": [
    {
     "name": "stdout",
     "output_type": "stream",
     "text": [
      "3\n",
      "1 7 13\n"
     ]
    }
   ],
   "source": [
    "# import sys\n",
    "# input = sys.stdin.readline\n",
    "\n",
    "m, n, k = map(int, input().split())\n",
    "graph = [[0]*n for _ in range(m)]\n",
    "\n",
    "for _ in range(k):\n",
    "    x1, y1, x2, y2 = map(int, input().split())\n",
    "    for i in range(y1, y2):\n",
    "        for j in range(x1, x2):\n",
    "            graph[i][j] = 1\n",
    "\n",
    "count = 0\n",
    "area = 0\n",
    "area_list = []\n",
    "\n",
    "from collections import deque\n",
    "\n",
    "dx = [-1, 1, 0, 0]\n",
    "dy = [0, 0, -1, 1]\n",
    "queue = deque()\n",
    "\n",
    "for i in range(m):\n",
    "    for j in range(n):\n",
    "        if graph[i][j] == 1:\n",
    "            continue\n",
    "        queue.append((i, j))\n",
    "        while queue:\n",
    "            x, y = queue.popleft()\n",
    "            for k in range(4):\n",
    "                nx = x + dx[k]\n",
    "                ny = y + dy[k]\n",
    "                if nx < 0 or nx > m-1 or ny < 0 or ny > n-1:\n",
    "                    continue\n",
    "                if graph[nx][ny] == 0:\n",
    "                    graph[nx][ny] = 1\n",
    "                    queue.append((nx, ny))\n",
    "                    area += 1\n",
    "        if graph[i][j] == 0:\n",
    "            graph[nx][ny] = 1\n",
    "            area += 1\n",
    "        count += 1\n",
    "        area_list.append(area)\n",
    "        area = 0\n",
    "            \n",
    "print(count)\n",
    "print(*sorted(area_list))"
   ]
  },
  {
   "cell_type": "markdown",
   "metadata": {},
   "source": [
    "#### 10026"
   ]
  },
  {
   "cell_type": "markdown",
   "metadata": {},
   "source": [
    "- DFS"
   ]
  },
  {
   "cell_type": "code",
   "execution_count": null,
   "metadata": {},
   "outputs": [],
   "source": [
    "# 초기 버전\n",
    "\n",
    "import sys\n",
    "# input = sys.stdin.readline\n",
    "sys.setrecursionlimit(10**6)\n",
    "\n",
    "\n",
    "def dfs(x, y, n, graph, color, mode, visited):\n",
    "    if x < 0 or x > n-1 or y < 0 or y > n-1:\n",
    "        return False\n",
    "    \n",
    "    if visited[x][y]:\n",
    "        return False\n",
    "    \n",
    "    if mode == \"R-GB\":\n",
    "        if graph[x][y] == \"G\" and color == \"R\":\n",
    "            graph[x][y] = \"R\"\n",
    "        elif graph[x][y] == \"R\" and color == \"G\":\n",
    "            graph[x][y] = \"G\"\n",
    "    \n",
    "    if graph[x][y] == color:\n",
    "        visited[x][y] = True\n",
    "        dfs(x-1, y, n, graph, color, mode, visited)\n",
    "        dfs(x, y-1, n, graph, color, mode, visited)\n",
    "        dfs(x+1, y, n, graph, color, mode, visited)\n",
    "        dfs(x, y+1, n, graph, color, mode, visited)\n",
    "        return True\n",
    "    return False\n",
    "\n",
    "n = int(input())\n",
    "graph = [[i for i in input().rstrip()] for _ in range(n)]\n",
    "answer = []\n",
    "for mode in [\"RGB\", \"R-GB\"]:\n",
    "    count = 0\n",
    "    visited = [[False]*n for _ in range(n)]\n",
    "    for color in [\"R\", \"G\", \"B\"]:\n",
    "        area = 0\n",
    "        for i in range(n):\n",
    "            for j in range(n):\n",
    "                if dfs(i, j, n, graph, color, mode, visited) == True:\n",
    "                    area += 1\n",
    "        count += area\n",
    "    answer.append(count)\n",
    "\n",
    "print(*answer)"
   ]
  },
  {
   "cell_type": "code",
   "execution_count": 21,
   "metadata": {},
   "outputs": [
    {
     "name": "stdout",
     "output_type": "stream",
     "text": [
      "4 3\n"
     ]
    }
   ],
   "source": [
    "# 두번째 버전\n",
    "\n",
    "import sys\n",
    "# input = sys.stdin.readline\n",
    "sys.setrecursionlimit(10**6)\n",
    "\n",
    "\n",
    "def color_checker(a, b, RG_blind=False):\n",
    "    if RG_blind:\n",
    "        return (a > 66) ^ (b > 66)\n",
    "    else:\n",
    "        return a != b\n",
    "\n",
    "def solution(n, graph, visited, blind):\n",
    "    def dfs(x, y, n, graph, color, visited, blind, func):\n",
    "        if x < 0 or x > n-1 or y < 0 or y > n-1:\n",
    "            return False\n",
    "        \n",
    "        if visited[x][y] or func(graph[x][y], color, blind):\n",
    "            return False\n",
    "        else:\n",
    "            visited[x][y] = True\n",
    "            dfs(x-1, y, n, graph, color, visited, blind, func)\n",
    "            dfs(x, y-1, n, graph, color, visited, blind, func)\n",
    "            dfs(x+1, y, n, graph, color, visited, blind, func)\n",
    "            dfs(x, y+1, n, graph, color, visited, blind, func)\n",
    "            return True\n",
    "\n",
    "    count = 0\n",
    "    for i in range(n):\n",
    "        for j in range(n):\n",
    "            current_color = graph[i][j]\n",
    "            if dfs(i, j, n, graph, current_color, visited, blind, color_checker) == True:\n",
    "                count += 1\n",
    "    \n",
    "    return count\n",
    "\n",
    "n = int(input())\n",
    "graph = [[ord(i) for i in input().rstrip()] for _ in range(n)]\n",
    "visited = [[False]*n for _ in range(n)]\n",
    "\n",
    "print(solution(n, graph, visited), solution(n, graph, visited, True))"
   ]
  },
  {
   "cell_type": "markdown",
   "metadata": {},
   "source": [
    "- BFS"
   ]
  },
  {
   "cell_type": "code",
   "execution_count": 70,
   "metadata": {},
   "outputs": [
    {
     "name": "stdout",
     "output_type": "stream",
     "text": [
      "4 3\n"
     ]
    }
   ],
   "source": [
    "# import sys\n",
    "# input = sys.stdin.readline\n",
    "from collections import deque\n",
    "\n",
    "\n",
    "def color_checker(a, b, RG_blind):\n",
    "    if RG_blind:\n",
    "        return (a > 66) ^ (b > 66)\n",
    "    else:\n",
    "        return a != b\n",
    "\n",
    "\n",
    "def bfs(n, graph, RG_blind):\n",
    "    visited = [[False]*n for _ in range(n)]\n",
    "    \n",
    "    dx = [-1, 0, 1, 0]\n",
    "    dy = [0, -1, 0, 1]\n",
    "    \n",
    "    queue = deque()\n",
    "    count = 0\n",
    "    \n",
    "    for i in range(n):\n",
    "        for j in range(n):\n",
    "            if visited[i][j]:\n",
    "                continue\n",
    "            queue.append((i, j))\n",
    "            color = graph[i][j]\n",
    "            while queue:\n",
    "                x, y = queue.popleft()\n",
    "                for k in range(4):\n",
    "                    nx = x + dx[k]\n",
    "                    ny = y + dy[k]\n",
    "                    if nx < 0 or nx > n-1 or ny < 0 or ny > n-1:\n",
    "                        continue\n",
    "                    if visited[nx][ny] or color_checker(graph[nx][ny], color, RG_blind):\n",
    "                        continue\n",
    "                    visited[nx][ny] = True\n",
    "                    queue.append((nx, ny))\n",
    "            count += 1\n",
    "    return count\n",
    "\n",
    "\n",
    "n = int(input())\n",
    "graph = [[ord(i) for i in input().rstrip()] for _ in range(n)]\n",
    "print(bfs(n, graph, False), bfs(n, graph, True))"
   ]
  },
  {
   "cell_type": "markdown",
   "metadata": {},
   "source": [
    "#### 7562"
   ]
  },
  {
   "cell_type": "code",
   "execution_count": null,
   "metadata": {},
   "outputs": [],
   "source": [
    "# import sys\n",
    "# input = sys.stdin.readline\n",
    "from collections import deque\n",
    "\n",
    "\n",
    "n = int(input())\n",
    "for _ in range(n):\n",
    "    l = int(input())\n",
    "    # ---- 여기부터 함수로\n",
    "    grid = [[0]*l for _ in range(l)]\n",
    "    dp = [[0]*l for _ in range(l)]\n",
    "    \n",
    "    start = list(map(int, input().rstrip().split()))\n",
    "    goal = list(map(int, input().rstrip().split()))\n",
    "    \n",
    "    dx = [-2, -1, 1, 2, 2, 1, -1, -2]\n",
    "    dy = [-1, -2, -2, -1, 1, 2, 2, 1]\n",
    "    \n",
    "    answer = 0\n",
    "    queue = deque()\n",
    "    queue.append(start)\n",
    "    for i in range(l):\n",
    "        for j in range(l):\n",
    "            count = dp[i][j]\n",
    "            while queue:\n",
    "                x, y = queue.popleft()\n",
    "                for k in range(8):\n",
    "                    nx = x + dx[k]\n",
    "                    ny = x + dy[k]\n",
    "                    if nx < 0 or nx > l-1 or ny < 0 or ny > l-1:\n",
    "                        continue\n",
    "                    if [nx, ny] == goal:\n",
    "                        answer = count + 1  # return\n",
    "                        \n",
    "                    queue.append([nx, ny])\n",
    "                    dp[nx][ny] = min(dp[nx][ny], count+1)"
   ]
  },
  {
   "cell_type": "code",
   "execution_count": null,
   "metadata": {},
   "outputs": [],
   "source": []
  },
  {
   "cell_type": "code",
   "execution_count": null,
   "metadata": {},
   "outputs": [],
   "source": []
  },
  {
   "cell_type": "code",
   "execution_count": null,
   "metadata": {},
   "outputs": [],
   "source": []
  },
  {
   "cell_type": "code",
   "execution_count": null,
   "metadata": {},
   "outputs": [],
   "source": []
  },
  {
   "cell_type": "code",
   "execution_count": null,
   "metadata": {},
   "outputs": [],
   "source": []
  },
  {
   "cell_type": "code",
   "execution_count": null,
   "metadata": {},
   "outputs": [],
   "source": []
  }
 ],
 "metadata": {
  "kernelspec": {
   "display_name": "base",
   "language": "python",
   "name": "python3"
  },
  "language_info": {
   "codemirror_mode": {
    "name": "ipython",
    "version": 3
   },
   "file_extension": ".py",
   "mimetype": "text/x-python",
   "name": "python",
   "nbconvert_exporter": "python",
   "pygments_lexer": "ipython3",
   "version": "3.10.13"
  }
 },
 "nbformat": 4,
 "nbformat_minor": 2
}
