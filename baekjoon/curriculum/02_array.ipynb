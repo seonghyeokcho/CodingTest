{
 "cells": [
  {
   "cell_type": "markdown",
   "metadata": {},
   "source": [
    "#### 10808"
   ]
  },
  {
   "cell_type": "code",
   "execution_count": 28,
   "metadata": {},
   "outputs": [
    {
     "name": "stdout",
     "output_type": "stream",
     "text": [
      "1 1 0 0 1 0 0 0 0 1 1 0 0 1 2 0 0 0 0 0 0 0 0 0 0 0\n"
     ]
    }
   ],
   "source": [
    "# word = input()\n",
    "word = \"baekjoon\"\n",
    "alphabet = [0] * 26\n",
    "\n",
    "for i in word:\n",
    "    alphabet[ord(i) - 97] += 1\n",
    "\n",
    "print(*alphabet)"
   ]
  },
  {
   "cell_type": "code",
   "execution_count": 29,
   "metadata": {},
   "outputs": [
    {
     "name": "stdout",
     "output_type": "stream",
     "text": [
      "1 1 0 0 1 0 0 0 0 1 1 0 0 1 2 0 0 0 0 0 0 0 0 0 0 0\n"
     ]
    }
   ],
   "source": [
    "# word = input()\n",
    "word = \"baekjoon\"\n",
    "alphabet = [0] * 26\n",
    "\n",
    "for i in range(97, 123):\n",
    "    alphabet[i - 97] += word.count(chr(i))\n",
    "\n",
    "print(*alphabet)"
   ]
  },
  {
   "cell_type": "code",
   "execution_count": 27,
   "metadata": {},
   "outputs": [
    {
     "name": "stdout",
     "output_type": "stream",
     "text": [
      "1 1 0 0 1 0 0 0 0 1 1 0 0 1 2 0 0 0 0 0 0 0 0 0 0 0\n"
     ]
    }
   ],
   "source": [
    "from collections import Counter\n",
    "\n",
    "\n",
    "# word = input()\n",
    "word = \"baekjoon\"\n",
    "alphabet = [0] * 26\n",
    "\n",
    "for key, value in Counter(word).items():\n",
    "    alphabet[ord(key)-97] += value\n",
    "\n",
    "print(*alphabet)"
   ]
  },
  {
   "cell_type": "markdown",
   "metadata": {},
   "source": [
    "#### 10807"
   ]
  },
  {
   "cell_type": "code",
   "execution_count": 52,
   "metadata": {},
   "outputs": [
    {
     "name": "stdout",
     "output_type": "stream",
     "text": [
      "3\n"
     ]
    }
   ],
   "source": [
    "# n = int(input())\n",
    "n = 11\n",
    "# integers = list(map(int, input().split()))\n",
    "integers = list(map(int, \"1 4 1 2 4 2 4 2 3 4 4\".split()))\n",
    "# v = int(input())\n",
    "v = 2\n",
    "\n",
    "print(integers.count(v))"
   ]
  },
  {
   "cell_type": "code",
   "execution_count": 53,
   "metadata": {},
   "outputs": [
    {
     "name": "stdout",
     "output_type": "stream",
     "text": [
      "3\n"
     ]
    }
   ],
   "source": [
    "# n = int(input())\n",
    "n = 11\n",
    "# integers = map(int, input().split())\n",
    "integers = map(int, \"1 4 1 2 4 2 4 2 3 4 4\".split())\n",
    "# v = int(input())\n",
    "v = 2\n",
    "answer = 0\n",
    "\n",
    "for i in integers:\n",
    "    if i == v:\n",
    "        answer += 1\n",
    "\n",
    "print(answer)"
   ]
  },
  {
   "cell_type": "markdown",
   "metadata": {},
   "source": [
    "#### 13300"
   ]
  },
  {
   "cell_type": "code",
   "execution_count": 69,
   "metadata": {},
   "outputs": [
    {
     "name": "stdout",
     "output_type": "stream",
     "text": [
      "[[0, 0], [0, 0], [0, 0], [0, 0], [0, 0], [0, 0]]\n",
      "[[0, 16], [0, 0], [0, 0], [0, 0], [0, 0], [0, 0]]\n",
      "8\n"
     ]
    }
   ],
   "source": [
    "# import sys\n",
    "# input = sys.stdin.readline\n",
    "\n",
    "n, k = map(int, input().split())\n",
    "students = [[0, 0] for _ in range(6)]\n",
    "print(students)\n",
    "for _ in range(n):\n",
    "    s, y = map(int, input().split())\n",
    "    students[y-1][s] += 1\n",
    "\n",
    "print(students)\n",
    "\n",
    "rooms = 0\n",
    "for grade in students:\n",
    "    for gender in grade:\n",
    "        rooms += -(-gender//k)\n",
    "\n",
    "print(rooms)"
   ]
  },
  {
   "cell_type": "markdown",
   "metadata": {},
   "source": [
    "#### 1919"
   ]
  },
  {
   "cell_type": "code",
   "execution_count": 93,
   "metadata": {},
   "outputs": [
    {
     "name": "stdout",
     "output_type": "stream",
     "text": [
      "8\n"
     ]
    }
   ],
   "source": [
    "from collections import Counter\n",
    "\n",
    "# word_A, word_B = input(), input()\n",
    "word_A, word_B = \"aabbcc\", \"xxbbyy\"\n",
    "hash_A, hash_B = Counter(word_A), Counter(word_B)\n",
    "\n",
    "intersection_keys = set(hash_A.keys()) & set(hash_B.keys())\n",
    "\n",
    "common_letters = 0\n",
    "for letter in intersection_keys:\n",
    "    common_letters += hash_A[letter] + hash_B[letter] - abs(hash_A[letter] - hash_B[letter])\n",
    "    \n",
    "print(len(word_A)+len(word_B)-common_letters)"
   ]
  },
  {
   "cell_type": "code",
   "execution_count": 95,
   "metadata": {},
   "outputs": [
    {
     "name": "stdout",
     "output_type": "stream",
     "text": [
      "8\n"
     ]
    }
   ],
   "source": [
    "# word_A, word_B = input(), input()\n",
    "word_A, word_B = \"aabbcc\", \"xxbbyy\"\n",
    "hash_A, hash_B = dict.fromkeys(set(word_A), 0), dict.fromkeys(set(word_B), 0)\n",
    "for letter_A in word_A:\n",
    "    hash_A[letter_A] += 1\n",
    "for letter_B in word_B:\n",
    "    hash_B[letter_B] += 1\n",
    "\n",
    "common_keys = set(hash_A.keys()) & set(hash_B.keys())\n",
    "\n",
    "common_letters = 0\n",
    "for key in common_keys:\n",
    "    common_letters += hash_A[key] + hash_B[key] - abs(hash_A[key] - hash_B[key])\n",
    "    \n",
    "print(len(word_A)+len(word_B)-common_letters)"
   ]
  },
  {
   "cell_type": "markdown",
   "metadata": {},
   "source": [
    "#### 1475"
   ]
  },
  {
   "cell_type": "code",
   "execution_count": 43,
   "metadata": {},
   "outputs": [
    {
     "name": "stdout",
     "output_type": "stream",
     "text": [
      "3\n"
     ]
    }
   ],
   "source": [
    "from collections import Counter\n",
    "\n",
    "\n",
    "counts = Counter(input())\n",
    "\n",
    "six, nine = 0, 0\n",
    "if counts.get(\"9\"):\n",
    "    nine += counts.pop(\"9\")\n",
    "if counts.get(\"6\"):\n",
    "    six += counts.pop(\"6\")\n",
    "counts[\"69\"] = -(-(six + nine)//2)\n",
    "\n",
    "most = counts.most_common(1)[0]\n",
    "\n",
    "print(most[1])"
   ]
  },
  {
   "cell_type": "code",
   "execution_count": 54,
   "metadata": {},
   "outputs": [
    {
     "name": "stdout",
     "output_type": "stream",
     "text": [
      "2\n"
     ]
    }
   ],
   "source": [
    "room_number = input()\n",
    "\n",
    "numbers = [0] * 10\n",
    "for i in range(10):\n",
    "    numbers[i] += room_number.count(str(i))\n",
    "\n",
    "numbers[6] = -(-(numbers[6] + numbers.pop())//2)\n",
    "\n",
    "print(max(numbers))"
   ]
  },
  {
   "cell_type": "markdown",
   "metadata": {},
   "source": [
    "#### 11328"
   ]
  },
  {
   "cell_type": "code",
   "execution_count": 4,
   "metadata": {},
   "outputs": [
    {
     "name": "stdout",
     "output_type": "stream",
     "text": [
      "Possible\n",
      "Possible\n",
      "Possible\n",
      "Impossible\n"
     ]
    }
   ],
   "source": [
    "# import sys\n",
    "# input = sys.stdin.readline\n",
    "\n",
    "n = int(input())\n",
    "alphabet_A, alphabet_B = [0] * 26, [0] * 26\n",
    "\n",
    "for _ in range(n):\n",
    "    str_A, str_B = input().split()\n",
    "    if len(str_A) != len(str_B):\n",
    "        print(\"Impossible\")\n",
    "        continue\n",
    "    for i in range(97, 123):\n",
    "        alphabet_A[i - 97] += str_A.count(chr(i))\n",
    "        alphabet_B[i - 97] += str_B.count(chr(i))\n",
    "\n",
    "    if alphabet_A == alphabet_B:\n",
    "        print(\"Possible\")\n",
    "    else:\n",
    "        print(\"Impossible\")\n",
    "        \n",
    "    alphabet_A, alphabet_B = [0] * 26, [0] * 26"
   ]
  },
  {
   "cell_type": "markdown",
   "metadata": {},
   "source": [
    "#### 3273"
   ]
  },
  {
   "cell_type": "code",
   "execution_count": 9,
   "metadata": {},
   "outputs": [
    {
     "name": "stdout",
     "output_type": "stream",
     "text": [
      "3\n"
     ]
    }
   ],
   "source": [
    "# import sys\n",
    "# input = sys.stdin.readline\n",
    "\n",
    "\n",
    "n = int(input())\n",
    "perm = sorted(map(int, input().split()))\n",
    "x = int(input())\n",
    "\n",
    "count = 0\n",
    "left, right = 0, len(perm)-1\n",
    "while left != right:\n",
    "    candidate = perm[left] + perm[right]\n",
    "    if candidate < x:\n",
    "        left += 1\n",
    "    elif candidate > x:\n",
    "        right -= 1\n",
    "    else:\n",
    "        count += 1\n",
    "        left += 1\n",
    "\n",
    "print(count)"
   ]
  },
  {
   "cell_type": "code",
   "execution_count": 3,
   "metadata": {},
   "outputs": [
    {
     "name": "stdout",
     "output_type": "stream",
     "text": [
      "3\n"
     ]
    }
   ],
   "source": [
    "# import sys\n",
    "# input = sys.stdin.readline\n",
    "\n",
    "\n",
    "n = int(input())\n",
    "perm = set(map(int, input().split()))\n",
    "x = int(input())\n",
    "\n",
    "count = 0\n",
    "for i in perm:\n",
    "    j = x - i\n",
    "    if j in perm:\n",
    "        count += 1\n",
    "\n",
    "print(count//2)"
   ]
  }
 ],
 "metadata": {
  "kernelspec": {
   "display_name": "base",
   "language": "python",
   "name": "python3"
  },
  "language_info": {
   "codemirror_mode": {
    "name": "ipython",
    "version": 3
   },
   "file_extension": ".py",
   "mimetype": "text/x-python",
   "name": "python",
   "nbconvert_exporter": "python",
   "pygments_lexer": "ipython3",
   "version": "3.10.13"
  }
 },
 "nbformat": 4,
 "nbformat_minor": 2
}
