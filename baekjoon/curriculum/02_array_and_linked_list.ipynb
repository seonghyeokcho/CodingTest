{
 "cells": [
  {
   "cell_type": "markdown",
   "metadata": {},
   "source": [
    "#### 10808"
   ]
  },
  {
   "cell_type": "code",
   "execution_count": 28,
   "metadata": {},
   "outputs": [
    {
     "name": "stdout",
     "output_type": "stream",
     "text": [
      "1 1 0 0 1 0 0 0 0 1 1 0 0 1 2 0 0 0 0 0 0 0 0 0 0 0\n"
     ]
    }
   ],
   "source": [
    "# word = input()\n",
    "word = \"baekjoon\"\n",
    "alphabet = [0] * 26\n",
    "\n",
    "for i in word:\n",
    "    alphabet[ord(i) - 97] += 1\n",
    "\n",
    "print(*alphabet)"
   ]
  },
  {
   "cell_type": "code",
   "execution_count": 29,
   "metadata": {},
   "outputs": [
    {
     "name": "stdout",
     "output_type": "stream",
     "text": [
      "1 1 0 0 1 0 0 0 0 1 1 0 0 1 2 0 0 0 0 0 0 0 0 0 0 0\n"
     ]
    }
   ],
   "source": [
    "# word = input()\n",
    "word = \"baekjoon\"\n",
    "alphabet = [0] * 26\n",
    "\n",
    "for i in range(97, 123):\n",
    "    alphabet[i - 97] += word.count(chr(i))\n",
    "\n",
    "print(*alphabet)"
   ]
  },
  {
   "cell_type": "code",
   "execution_count": 27,
   "metadata": {},
   "outputs": [
    {
     "name": "stdout",
     "output_type": "stream",
     "text": [
      "1 1 0 0 1 0 0 0 0 1 1 0 0 1 2 0 0 0 0 0 0 0 0 0 0 0\n"
     ]
    }
   ],
   "source": [
    "from collections import Counter\n",
    "\n",
    "\n",
    "# word = input()\n",
    "word = \"baekjoon\"\n",
    "alphabet = [0] * 26\n",
    "\n",
    "for key, value in Counter(word).items():\n",
    "    alphabet[ord(key)-97] += value\n",
    "\n",
    "print(*alphabet)"
   ]
  },
  {
   "cell_type": "markdown",
   "metadata": {},
   "source": [
    "#### 10807"
   ]
  },
  {
   "cell_type": "code",
   "execution_count": 52,
   "metadata": {},
   "outputs": [
    {
     "name": "stdout",
     "output_type": "stream",
     "text": [
      "3\n"
     ]
    }
   ],
   "source": [
    "# n = int(input())\n",
    "n = 11\n",
    "# integers = list(map(int, input().split()))\n",
    "integers = list(map(int, \"1 4 1 2 4 2 4 2 3 4 4\".split()))\n",
    "# v = int(input())\n",
    "v = 2\n",
    "\n",
    "print(integers.count(v))"
   ]
  },
  {
   "cell_type": "code",
   "execution_count": 53,
   "metadata": {},
   "outputs": [
    {
     "name": "stdout",
     "output_type": "stream",
     "text": [
      "3\n"
     ]
    }
   ],
   "source": [
    "# n = int(input())\n",
    "n = 11\n",
    "# integers = map(int, input().split())\n",
    "integers = map(int, \"1 4 1 2 4 2 4 2 3 4 4\".split())\n",
    "# v = int(input())\n",
    "v = 2\n",
    "answer = 0\n",
    "\n",
    "for i in integers:\n",
    "    if i == v:\n",
    "        answer += 1\n",
    "\n",
    "print(answer)"
   ]
  },
  {
   "cell_type": "markdown",
   "metadata": {},
   "source": [
    "#### 13300"
   ]
  },
  {
   "cell_type": "code",
   "execution_count": 69,
   "metadata": {},
   "outputs": [
    {
     "name": "stdout",
     "output_type": "stream",
     "text": [
      "[[0, 0], [0, 0], [0, 0], [0, 0], [0, 0], [0, 0]]\n",
      "[[0, 16], [0, 0], [0, 0], [0, 0], [0, 0], [0, 0]]\n",
      "8\n"
     ]
    }
   ],
   "source": [
    "# import sys\n",
    "# input = sys.stdin.readline\n",
    "\n",
    "n, k = map(int, input().split())\n",
    "students = [[0, 0] for _ in range(6)]\n",
    "print(students)\n",
    "for _ in range(n):\n",
    "    s, y = map(int, input().split())\n",
    "    students[y-1][s] += 1\n",
    "\n",
    "print(students)\n",
    "\n",
    "rooms = 0\n",
    "for grade in students:\n",
    "    for gender in grade:\n",
    "        rooms += -(-gender//k)\n",
    "\n",
    "print(rooms)"
   ]
  },
  {
   "cell_type": "markdown",
   "metadata": {},
   "source": [
    "#### 1919"
   ]
  },
  {
   "cell_type": "code",
   "execution_count": 93,
   "metadata": {},
   "outputs": [
    {
     "name": "stdout",
     "output_type": "stream",
     "text": [
      "8\n"
     ]
    }
   ],
   "source": [
    "from collections import Counter\n",
    "\n",
    "# word_A, word_B = input(), input()\n",
    "word_A, word_B = \"aabbcc\", \"xxbbyy\"\n",
    "hash_A, hash_B = Counter(word_A), Counter(word_B)\n",
    "\n",
    "intersection_keys = set(hash_A.keys()) & set(hash_B.keys())\n",
    "\n",
    "common_letters = 0\n",
    "for letter in intersection_keys:\n",
    "    common_letters += hash_A[letter] + hash_B[letter] - abs(hash_A[letter] - hash_B[letter])\n",
    "    \n",
    "print(len(word_A)+len(word_B)-common_letters)"
   ]
  },
  {
   "cell_type": "code",
   "execution_count": 95,
   "metadata": {},
   "outputs": [
    {
     "name": "stdout",
     "output_type": "stream",
     "text": [
      "8\n"
     ]
    }
   ],
   "source": [
    "# word_A, word_B = input(), input()\n",
    "word_A, word_B = \"aabbcc\", \"xxbbyy\"\n",
    "hash_A, hash_B = dict.fromkeys(set(word_A), 0), dict.fromkeys(set(word_B), 0)\n",
    "for letter_A in word_A:\n",
    "    hash_A[letter_A] += 1\n",
    "for letter_B in word_B:\n",
    "    hash_B[letter_B] += 1\n",
    "\n",
    "common_keys = set(hash_A.keys()) & set(hash_B.keys())\n",
    "\n",
    "common_letters = 0\n",
    "for key in common_keys:\n",
    "    common_letters += hash_A[key] + hash_B[key] - abs(hash_A[key] - hash_B[key])\n",
    "    \n",
    "print(len(word_A)+len(word_B)-common_letters)"
   ]
  },
  {
   "cell_type": "markdown",
   "metadata": {},
   "source": [
    "#### 1158\n",
    "\n",
    "- 참고\n",
    "    - 요세푸스 순열의 마지막 수 구하는 점화식: $f(n,k)=((f(n−1,k)+k−1)\\ mod\\ n)+1$\n",
    "\n",
    "```python3\n",
    "n = 7\n",
    "k = 3\n",
    "dp = [0] * n\n",
    "\n",
    "for i in range(1, n):\n",
    "    dp[i] = (dp[i-1] + k - 1) % n + 1\n",
    "\n",
    "print(dp[-1])\n",
    "```"
   ]
  },
  {
   "cell_type": "code",
   "execution_count": 7,
   "metadata": {},
   "outputs": [
    {
     "name": "stdout",
     "output_type": "stream",
     "text": [
      "<3, 6, 2, 7, 5, 1, 4>\n"
     ]
    }
   ],
   "source": [
    "from collections import deque\n",
    "\n",
    "\n",
    "# n, k = map(int, input().split())\n",
    "n, k = 7, 3\n",
    "q = deque(range(1, n+1))\n",
    "\n",
    "perm = []\n",
    "while q:\n",
    "    for _ in range(k):\n",
    "        q.append(q.popleft())\n",
    "    perm.append(str(q.pop()))\n",
    "    \n",
    "print(f\"<{', '.join(perm)}>\")"
   ]
  },
  {
   "cell_type": "code",
   "execution_count": 6,
   "metadata": {},
   "outputs": [
    {
     "name": "stdout",
     "output_type": "stream",
     "text": [
      "<3, 6, 2, 7, 5, 1, 4>\n"
     ]
    }
   ],
   "source": [
    "# n, k = map(int, input().split())\n",
    "n, k = 7, 3\n",
    "q = list(range(1, n+1))\n",
    "\n",
    "perm = []\n",
    "i = 0\n",
    "while q:\n",
    "    i = (i + k - 1) % len(q)\n",
    "    perm.append(str(q.pop(i)))\n",
    "        \n",
    "print(f\"<{', '.join(perm)}>\")"
   ]
  },
  {
   "cell_type": "markdown",
   "metadata": {},
   "source": [
    "#### 1475"
   ]
  },
  {
   "cell_type": "code",
   "execution_count": 43,
   "metadata": {},
   "outputs": [
    {
     "name": "stdout",
     "output_type": "stream",
     "text": [
      "3\n"
     ]
    }
   ],
   "source": [
    "from collections import Counter\n",
    "\n",
    "\n",
    "counts = Counter(input())\n",
    "\n",
    "six, nine = 0, 0\n",
    "if counts.get(\"9\"):\n",
    "    nine += counts.pop(\"9\")\n",
    "if counts.get(\"6\"):\n",
    "    six += counts.pop(\"6\")\n",
    "counts[\"69\"] = -(-(six + nine)//2)\n",
    "\n",
    "most = counts.most_common(1)[0]\n",
    "\n",
    "print(most[1])"
   ]
  },
  {
   "cell_type": "code",
   "execution_count": 54,
   "metadata": {},
   "outputs": [
    {
     "name": "stdout",
     "output_type": "stream",
     "text": [
      "2\n"
     ]
    }
   ],
   "source": [
    "room_number = input()\n",
    "\n",
    "numbers = [0] * 10\n",
    "for i in range(10):\n",
    "    numbers[i] += room_number.count(str(i))\n",
    "\n",
    "numbers[6] = -(-(numbers[6] + numbers.pop())//2)\n",
    "\n",
    "print(max(numbers))"
   ]
  },
  {
   "cell_type": "markdown",
   "metadata": {},
   "source": [
    "#### 11328"
   ]
  },
  {
   "cell_type": "code",
   "execution_count": 4,
   "metadata": {},
   "outputs": [
    {
     "name": "stdout",
     "output_type": "stream",
     "text": [
      "Possible\n",
      "Possible\n",
      "Possible\n",
      "Impossible\n"
     ]
    }
   ],
   "source": [
    "# import sys\n",
    "# input = sys.stdin.readline\n",
    "\n",
    "n = int(input())\n",
    "alphabet_A, alphabet_B = [0] * 26, [0] * 26\n",
    "\n",
    "for _ in range(n):\n",
    "    str_A, str_B = input().split()\n",
    "    if len(str_A) != len(str_B):\n",
    "        print(\"Impossible\")\n",
    "        continue\n",
    "    for i in range(97, 123):\n",
    "        alphabet_A[i - 97] += str_A.count(chr(i))\n",
    "        alphabet_B[i - 97] += str_B.count(chr(i))\n",
    "\n",
    "    if alphabet_A == alphabet_B:\n",
    "        print(\"Possible\")\n",
    "    else:\n",
    "        print(\"Impossible\")\n",
    "        \n",
    "    alphabet_A, alphabet_B = [0] * 26, [0] * 26"
   ]
  },
  {
   "cell_type": "markdown",
   "metadata": {},
   "source": [
    "#### 5397"
   ]
  },
  {
   "cell_type": "code",
   "execution_count": 30,
   "metadata": {},
   "outputs": [
    {
     "name": "stdout",
     "output_type": "stream",
     "text": [
      "ThIsIsS3Cr3t\n"
     ]
    }
   ],
   "source": [
    "## 시간 초과\n",
    "# import sys\n",
    "# input = sys.stdin.readline\n",
    "\n",
    "\n",
    "n = int(input())\n",
    "\n",
    "for _ in range(n):\n",
    "    password = []\n",
    "    cursor = 0\n",
    "    log = input()\n",
    "    for key in log:\n",
    "        if key == \">\":\n",
    "            cursor = min(len(password), cursor+1)\n",
    "        elif key == \"<\":\n",
    "            cursor = max(0, cursor-1)\n",
    "        elif key == \"-\" and cursor > 1:\n",
    "            password.pop(cursor-1)\n",
    "            cursor -= 1\n",
    "        else:\n",
    "            password.insert(cursor, key)\n",
    "            cursor += 1\n",
    "    print(\"\".join(password))"
   ]
  },
  {
   "cell_type": "code",
   "execution_count": 33,
   "metadata": {},
   "outputs": [
    {
     "name": "stdout",
     "output_type": "stream",
     "text": [
      "ThIsIsS3Cr3t\n"
     ]
    }
   ],
   "source": [
    "# import sys\n",
    "# input = sys.stdin.readline\n",
    "\n",
    "\n",
    "n = int(input())\n",
    "\n",
    "for _ in range(n):\n",
    "    cursor_left, cursor_right = [], []\n",
    "    log = input()\n",
    "    for key in log:\n",
    "        if key.isalnum():\n",
    "            cursor_left.append(key)\n",
    "        elif cursor_left and key == \"<\":\n",
    "            cursor_right.append(cursor_left.pop())\n",
    "        elif cursor_right and key == \">\":\n",
    "            cursor_left.append(cursor_right.pop())\n",
    "        elif cursor_left and key == \"-\":\n",
    "            cursor_left.pop()\n",
    "    print(\"\".join(cursor_left+cursor_right[::-1]))"
   ]
  },
  {
   "cell_type": "markdown",
   "metadata": {},
   "source": [
    "#### 1406"
   ]
  },
  {
   "cell_type": "code",
   "execution_count": 34,
   "metadata": {},
   "outputs": [
    {
     "name": "stdout",
     "output_type": "stream",
     "text": [
      "abcdyx\n"
     ]
    }
   ],
   "source": [
    "# import sys\n",
    "# input = sys.stdin.readline\n",
    "\n",
    "\n",
    "left, right = list(input()), []\n",
    "n = int(input())\n",
    "\n",
    "for _ in range(n):\n",
    "    command = input().split()\n",
    "    if command[0] == \"P\":\n",
    "        left.append(command[1])\n",
    "    elif left and command[0] == \"L\":\n",
    "        right.append(left.pop())\n",
    "    elif right and command[0] == \"D\":\n",
    "        left.append(right.pop())\n",
    "    elif left and command[0] == \"B\":\n",
    "        left.pop()\n",
    "print(\"\".join(left + right[::-1]))"
   ]
  },
  {
   "cell_type": "markdown",
   "metadata": {},
   "source": [
    "#### 3273"
   ]
  },
  {
   "cell_type": "code",
   "execution_count": 9,
   "metadata": {},
   "outputs": [
    {
     "name": "stdout",
     "output_type": "stream",
     "text": [
      "3\n"
     ]
    }
   ],
   "source": [
    "# import sys\n",
    "# input = sys.stdin.readline\n",
    "\n",
    "\n",
    "n = int(input())\n",
    "perm = sorted(map(int, input().split()))\n",
    "x = int(input())\n",
    "\n",
    "count = 0\n",
    "left, right = 0, len(perm)-1\n",
    "while left != right:\n",
    "    candidate = perm[left] + perm[right]\n",
    "    if candidate < x:\n",
    "        left += 1\n",
    "    elif candidate > x:\n",
    "        right -= 1\n",
    "    else:\n",
    "        count += 1\n",
    "        left += 1\n",
    "\n",
    "print(count)"
   ]
  },
  {
   "cell_type": "code",
   "execution_count": 3,
   "metadata": {},
   "outputs": [
    {
     "name": "stdout",
     "output_type": "stream",
     "text": [
      "3\n"
     ]
    }
   ],
   "source": [
    "# import sys\n",
    "# input = sys.stdin.readline\n",
    "\n",
    "\n",
    "n = int(input())\n",
    "perm = set(map(int, input().split()))\n",
    "x = int(input())\n",
    "\n",
    "count = 0\n",
    "for i in perm:\n",
    "    j = x - i\n",
    "    if j in perm:\n",
    "        count += 1\n",
    "\n",
    "print(count//2)"
   ]
  }
 ],
 "metadata": {
  "kernelspec": {
   "display_name": "base",
   "language": "python",
   "name": "python3"
  },
  "language_info": {
   "codemirror_mode": {
    "name": "ipython",
    "version": 3
   },
   "file_extension": ".py",
   "mimetype": "text/x-python",
   "name": "python",
   "nbconvert_exporter": "python",
   "pygments_lexer": "ipython3",
   "version": "3.10.13"
  }
 },
 "nbformat": 4,
 "nbformat_minor": 2
}
