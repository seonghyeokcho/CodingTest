{
 "cells": [
  {
   "cell_type": "markdown",
   "metadata": {},
   "source": [
    "#### 2583"
   ]
  },
  {
   "cell_type": "code",
   "execution_count": 8,
   "metadata": {},
   "outputs": [
    {
     "name": "stdout",
     "output_type": "stream",
     "text": [
      "3\n",
      "1 7 13\n"
     ]
    }
   ],
   "source": [
    "# import sys\n",
    "# input = sys.stdin.readline\n",
    "# sys.setrecursionlimit(10**6)\n",
    "\n",
    "m, n, k = map(int, input().split())\n",
    "graph = [[0]*n for _ in range(m)]\n",
    "\n",
    "for _ in range(k):\n",
    "    x1, y1, x2, y2 = map(int, input().split())\n",
    "    for i in range(y1, y2):\n",
    "        for j in range(x1, x2):\n",
    "            graph[i][j] = 1\n",
    "\n",
    "def dfs(x, y, m, n, graph):\n",
    "    if x < 0 or x > m-1 or y < 0 or y > n-1:\n",
    "        return False\n",
    "    \n",
    "    if graph[x][y] == 0:\n",
    "        graph[x][y] = 1\n",
    "        \n",
    "        global area\n",
    "        area += 1\n",
    "        \n",
    "        dfs(x-1, y, m, n, graph)\n",
    "        dfs(x, y-1, m, n, graph)\n",
    "        dfs(x+1, y, m, n, graph)\n",
    "        dfs(x, y+1, m, n, graph)\n",
    "        \n",
    "        return True\n",
    "    return False\n",
    "\n",
    "count = 0\n",
    "area_list = []\n",
    "area = 0\n",
    "for i in range(m):\n",
    "    for j in range(n):\n",
    "        if dfs(i, j, m, n, graph) == True:\n",
    "            area_list.append(area)\n",
    "            area = 0\n",
    "            count += 1\n",
    "\n",
    "print(count)\n",
    "print(*sorted(area_list))"
   ]
  },
  {
   "cell_type": "markdown",
   "metadata": {},
   "source": [
    "#### 10026"
   ]
  },
  {
   "cell_type": "code",
   "execution_count": null,
   "metadata": {},
   "outputs": [],
   "source": [
    "# 초기 버전\n",
    "\n",
    "import sys\n",
    "# input = sys.stdin.readline\n",
    "sys.setrecursionlimit(10**6)\n",
    "\n",
    "\n",
    "def dfs(x, y, n, graph, color, mode, visited):\n",
    "    if x < 0 or x > n-1 or y < 0 or y > n-1:\n",
    "        return False\n",
    "    \n",
    "    if visited[x][y]:\n",
    "        return False\n",
    "    \n",
    "    if mode == \"R-GB\":\n",
    "        if graph[x][y] == \"G\" and color == \"R\":\n",
    "            graph[x][y] = \"R\"\n",
    "        elif graph[x][y] == \"R\" and color == \"G\":\n",
    "            graph[x][y] = \"G\"\n",
    "    \n",
    "    if graph[x][y] == color:\n",
    "        visited[x][y] = True\n",
    "        dfs(x-1, y, n, graph, color, mode, visited)\n",
    "        dfs(x, y-1, n, graph, color, mode, visited)\n",
    "        dfs(x+1, y, n, graph, color, mode, visited)\n",
    "        dfs(x, y+1, n, graph, color, mode, visited)\n",
    "        return True\n",
    "    return False\n",
    "\n",
    "n = int(input())\n",
    "graph = [[i for i in input().rstrip()] for _ in range(n)]\n",
    "answer = []\n",
    "for mode in [\"RGB\", \"R-GB\"]:\n",
    "    count = 0\n",
    "    visited = [[False]*n for _ in range(n)]\n",
    "    for color in [\"R\", \"G\", \"B\"]:\n",
    "        area = 0\n",
    "        for i in range(n):\n",
    "            for j in range(n):\n",
    "                if dfs(i, j, n, graph, color, mode, visited) == True:\n",
    "                    area += 1\n",
    "        count += area\n",
    "    answer.append(count)\n",
    "\n",
    "print(*answer)"
   ]
  },
  {
   "cell_type": "code",
   "execution_count": null,
   "metadata": {},
   "outputs": [],
   "source": [
    "# 두번째 버전\n",
    "\n",
    "import sys\n",
    "# input = sys.stdin.readline\n",
    "sys.setrecursionlimit(10**6)\n",
    "\n",
    "\n",
    "def color_checker(a, b, RG_blind=False):\n",
    "    if RG_blind:\n",
    "        return (a > 66) ^ (b > 66)\n",
    "    else:\n",
    "        return a != b\n",
    "\n",
    "def solution(n, graph, visited, blind):\n",
    "    def dfs(x, y, n, graph, color, visited, blind, func):\n",
    "        if x < 0 or x > n-1 or y < 0 or y > n-1:\n",
    "            return False\n",
    "        \n",
    "        if visited[x][y] or func(graph[x][y], color, blind):\n",
    "            return False\n",
    "        else:\n",
    "            visited[x][y] = True\n",
    "            dfs(x-1, y, n, graph, color, visited, blind, func)\n",
    "            dfs(x, y-1, n, graph, color, visited, blind, func)\n",
    "            dfs(x+1, y, n, graph, color, visited, blind, func)\n",
    "            dfs(x, y+1, n, graph, color, visited, blind, func)\n",
    "            return True\n",
    "\n",
    "    count = 0\n",
    "    for i in range(n):\n",
    "        for j in range(n):\n",
    "            current_color = graph[i][j]\n",
    "            if dfs(i, j, n, graph, current_color, visited, blind, color_checker) == True:\n",
    "                count += 1\n",
    "    \n",
    "    return count\n",
    "\n",
    "n = int(input())\n",
    "graph = [[ord(i) for i in input().rstrip()] for _ in range(n)]\n",
    "visited = [[False]*n for _ in range(n)]\n",
    "\n",
    "print(solution(n, graph, visited), solution(n, graph, visited, True))"
   ]
  },
  {
   "cell_type": "markdown",
   "metadata": {},
   "source": [
    "#### 2667"
   ]
  },
  {
   "cell_type": "code",
   "execution_count": 29,
   "metadata": {},
   "outputs": [
    {
     "name": "stdout",
     "output_type": "stream",
     "text": [
      "3\n",
      "7\n",
      "8\n",
      "9\n"
     ]
    }
   ],
   "source": [
    "import sys\n",
    "# input = sys.stdin.readline\n",
    "sys.setrecursionlimit(10**6)\n",
    "\n",
    "\n",
    "def dfs(n, x, y, apt, visited):\n",
    "    if x < 0 or x > n-1 or y < 0 or y > n-1:\n",
    "        return False\n",
    "    \n",
    "    if not apt[x][y] or visited[x][y]:\n",
    "        return False\n",
    "    \n",
    "    global area\n",
    "    area += 1\n",
    "    visited[x][y] = 1\n",
    "    \n",
    "    dfs(n, x-1, y, apt, visited)\n",
    "    dfs(n, x, y-1, apt, visited)\n",
    "    dfs(n, x+1, y, apt, visited)\n",
    "    dfs(n, x, y+1, apt, visited)\n",
    "    return True\n",
    "\n",
    "n = 7\n",
    "sample = [\"0110100\", \"0110101\", \"1110101\", \"0000111\", \"0100000\", \"0111110\", \"0111000\"]\n",
    "apt = [[int(i) for i in j] for j in sample]\n",
    "# n = int(input())\n",
    "# apt = [[int(i) for i in input().rstrip()] for _ in range(n)]\n",
    "visited = [[0]*n for _ in range(n)]\n",
    "\n",
    "area = 0\n",
    "count = []\n",
    "\n",
    "for i in range(n):\n",
    "    for j in range(n):\n",
    "        if dfs(n, i, j, apt, visited):\n",
    "            count.append(area)\n",
    "            area = 0\n",
    "            \n",
    "print(*[len(count)]+sorted(count), sep=\"\\n\")"
   ]
  },
  {
   "cell_type": "code",
   "execution_count": 35,
   "metadata": {},
   "outputs": [
    {
     "name": "stdout",
     "output_type": "stream",
     "text": [
      "3\n",
      "7\n",
      "8\n",
      "9\n"
     ]
    }
   ],
   "source": [
    "import sys\n",
    "# input = sys.stdin.readline\n",
    "sys.setrecursionlimit(10**6)\n",
    "\n",
    "\n",
    "def dfs(x, y, apt, visited):\n",
    "    if not apt[x][y] or visited[x][y]:\n",
    "        return False\n",
    "    \n",
    "    global area\n",
    "    area += 1\n",
    "    visited[x][y] = 1\n",
    "    \n",
    "    dfs(x-1, y, apt, visited)\n",
    "    dfs(x, y-1, apt, visited)\n",
    "    dfs(x+1, y, apt, visited)\n",
    "    dfs(x, y+1, apt, visited)\n",
    "    return True\n",
    "\n",
    "n = 7\n",
    "sample = [\"0110100\", \"0110101\", \"1110101\", \"0000111\", \"0100000\", \"0111110\", \"0111000\"]\n",
    "apt = [[0]*(n+2)]\n",
    "apt += [[0]+[int(i) for i in j]+[0] for j in sample]\n",
    "apt += [[0]*(n+2)]\n",
    "# n = int(input())\n",
    "# apt = [[0]*(n+2)]\n",
    "# apt += [[0]+[int(i) for i in input().rstrip()]+[0] for _ in range(n)]\n",
    "# apt += [[0]*(n+2)]\n",
    "visited = [[1]*(n+2)]\n",
    "visited += [[1]+[0]*n+[1] for _ in range(n)]\n",
    "visited += [[1]*(n+2)]\n",
    "\n",
    "area = 0\n",
    "count = []\n",
    "\n",
    "for i in range(1, n+1):\n",
    "    for j in range(1, n+1):\n",
    "        if dfs(i, j, apt, visited):\n",
    "            count.append(area)\n",
    "            area = 0\n",
    "            \n",
    "print(*[len(count)]+sorted(count), sep=\"\\n\")"
   ]
  },
  {
   "cell_type": "markdown",
   "metadata": {},
   "source": [
    "#### 1012"
   ]
  },
  {
   "cell_type": "code",
   "execution_count": 53,
   "metadata": {},
   "outputs": [
    {
     "name": "stdout",
     "output_type": "stream",
     "text": [
      "5\n",
      "1\n"
     ]
    }
   ],
   "source": [
    "import sys\n",
    "# input = sys.stdin.readline\n",
    "sys.setrecursionlimit(10**6)\n",
    "\n",
    "\n",
    "def dfs(x, y, graph):\n",
    "    if not graph[x][y]:\n",
    "        return False\n",
    "    \n",
    "    graph[x][y] = 0\n",
    "    dfs(x-1, y, graph)\n",
    "    dfs(x, y-1, graph)\n",
    "    dfs(x+1, y, graph)\n",
    "    dfs(x, y+1, graph)\n",
    "    return True\n",
    "\n",
    "\n",
    "for _ in range(int(input())):\n",
    "    m, n, k = map(int, input().split())\n",
    "    field = [[0]*(m+2) for _ in range(n+2)]\n",
    "    dp = [[0]*(m+2) for _ in range(n+2)]\n",
    "    \n",
    "    cabbages = []\n",
    "    for _ in range(k):\n",
    "        j, i = map(int, input().split())\n",
    "        field[i+1][j+1] = 1\n",
    "        cabbages.append((i+1, j+1))\n",
    "        \n",
    "    count = 0\n",
    "    for i, j in cabbages:\n",
    "        if field[i][j]:\n",
    "            dfs(i, j, field)\n",
    "            count += 1\n",
    "    print(count)"
   ]
  },
  {
   "cell_type": "markdown",
   "metadata": {},
   "source": [
    "#### 2468"
   ]
  },
  {
   "cell_type": "code",
   "execution_count": 60,
   "metadata": {},
   "outputs": [
    {
     "name": "stdout",
     "output_type": "stream",
     "text": [
      "6\n"
     ]
    }
   ],
   "source": [
    "import sys\n",
    "sys.setrecursionlimit(10**6)\n",
    "# input = sys.stdin.readline\n",
    "\n",
    "\n",
    "def dfs(x, y, n, h, graph, dp):\n",
    "    if x < 0 or x > n-1 or y < 0 or y > n-1:\n",
    "        return False\n",
    "    \n",
    "    if dp[x][y]:\n",
    "        return False\n",
    "    \n",
    "    if graph[x][y] > h:\n",
    "        dp[x][y] = 1\n",
    "        dfs(x-1, y, n, h, graph, dp)\n",
    "        dfs(x, y-1, n, h, graph, dp)\n",
    "        dfs(x+1, y, n, h, graph, dp)\n",
    "        dfs(x, y+1, n, h, graph, dp)\n",
    "        return True\n",
    "    return False\n",
    "\n",
    "\n",
    "area = []\n",
    "heights = set()\n",
    "n = int(input())\n",
    "for _ in range(n):\n",
    "    temp = []\n",
    "    for h in map(int, input().split()):\n",
    "        temp.append(h)\n",
    "        heights.add(h)\n",
    "    area.append(temp)\n",
    "\n",
    "maximum_count = []\n",
    "for h in heights:\n",
    "    count = 0\n",
    "    dp = [[0]*n for _ in range(n)]\n",
    "    for i in range(n):\n",
    "        for j in range(n):\n",
    "            if area[i][j] > h-1 and dfs(i, j, n, h-1, area, dp):\n",
    "                count += 1\n",
    "    maximum_count.append(count)\n",
    "print(max(maximum_count))"
   ]
  },
  {
   "cell_type": "code",
   "execution_count": 63,
   "metadata": {},
   "outputs": [
    {
     "name": "stdout",
     "output_type": "stream",
     "text": [
      "5\n"
     ]
    }
   ],
   "source": [
    "import sys\n",
    "sys.setrecursionlimit(10**6)\n",
    "# input = sys.stdin.readline\n",
    "\n",
    "\n",
    "def dfs(x, y, n, h, graph, dp):\n",
    "    if dp[x][y]:\n",
    "        return False\n",
    "    \n",
    "    if graph[x][y] > h:\n",
    "        dp[x][y] = 1\n",
    "        dfs(x-1, y, n, h, graph, dp)\n",
    "        dfs(x, y-1, n, h, graph, dp)\n",
    "        dfs(x+1, y, n, h, graph, dp)\n",
    "        dfs(x, y+1, n, h, graph, dp)\n",
    "        return True\n",
    "    return False\n",
    "\n",
    "\n",
    "heights = set()\n",
    "n = int(input())\n",
    "area = [[0]*(n+2)]\n",
    "for _ in range(n):\n",
    "    temp = []\n",
    "    for h in map(int, input().split()):\n",
    "        temp.append(h)\n",
    "        heights.add(h)\n",
    "    area.append([0]+temp+[0])\n",
    "area += [[0]*(n+2)]\n",
    "\n",
    "maximum_count = []\n",
    "for h in heights:\n",
    "    count = 0\n",
    "    \n",
    "    dp = [[1]*(n+2)]\n",
    "    dp += [[1]+[0]*n+[1] for _ in range(n)]\n",
    "    dp += [[1]*(n+2)]\n",
    "    \n",
    "    for i in range(1, n+1):\n",
    "        for j in range(1, n+1):\n",
    "            if area[i][j] > h-1 and dfs(i, j, n, h-1, area, dp):\n",
    "                count += 1\n",
    "    maximum_count.append(count)\n",
    "print(max(maximum_count))"
   ]
  },
  {
   "cell_type": "markdown",
   "metadata": {},
   "source": [
    "#### 9466"
   ]
  },
  {
   "cell_type": "code",
   "execution_count": null,
   "metadata": {},
   "outputs": [
    {
     "name": "stdout",
     "output_type": "stream",
     "text": [
      "3\n"
     ]
    }
   ],
   "source": [
    "# import sys\n",
    "# sys.setrecursionlimit(10**6)\n",
    "# input = sys.stdin.readline\n",
    "\n",
    "\n",
    "def dfs(x, temp, array, dp):\n",
    "    global count\n",
    "    dp[x] = 1\n",
    "    temp.append(x)\n",
    "    select = array[x]\n",
    "    if dp[select]:\n",
    "        if select in temp:\n",
    "            count += len(temp[temp.index(select):])\n",
    "    else:\n",
    "        dfs(select, temp, array, dp)\n",
    "\n",
    "for _ in range(int(input())):\n",
    "    n = int(input())\n",
    "    selected = [0]+list(map(int, input().split()))\n",
    "    visited = [0]*(n+1)\n",
    "    count = 0\n",
    "    for i in range(1, n+1):\n",
    "        if visited[i] == 0:\n",
    "            team = []\n",
    "            dfs(i, team, selected, visited)\n",
    "    print(n - count)"
   ]
  },
  {
   "cell_type": "code",
   "execution_count": null,
   "metadata": {},
   "outputs": [],
   "source": []
  },
  {
   "cell_type": "code",
   "execution_count": null,
   "metadata": {},
   "outputs": [],
   "source": []
  },
  {
   "cell_type": "code",
   "execution_count": null,
   "metadata": {},
   "outputs": [],
   "source": []
  },
  {
   "cell_type": "code",
   "execution_count": null,
   "metadata": {},
   "outputs": [],
   "source": []
  },
  {
   "cell_type": "code",
   "execution_count": null,
   "metadata": {},
   "outputs": [],
   "source": []
  },
  {
   "cell_type": "code",
   "execution_count": null,
   "metadata": {},
   "outputs": [],
   "source": []
  },
  {
   "cell_type": "code",
   "execution_count": null,
   "metadata": {},
   "outputs": [],
   "source": []
  },
  {
   "cell_type": "code",
   "execution_count": null,
   "metadata": {},
   "outputs": [],
   "source": []
  },
  {
   "cell_type": "code",
   "execution_count": null,
   "metadata": {},
   "outputs": [],
   "source": []
  },
  {
   "cell_type": "code",
   "execution_count": null,
   "metadata": {},
   "outputs": [],
   "source": []
  },
  {
   "cell_type": "markdown",
   "metadata": {},
   "source": [
    "### 테케 랜덤 생성"
   ]
  },
  {
   "cell_type": "code",
   "execution_count": null,
   "metadata": {},
   "outputs": [],
   "source": [
    "# --------------------------------------- 테케 랜덤 생성\n",
    "import random\n",
    "from tqdm import tqdm\n",
    "\n",
    "random_range = random.randrange\n",
    "random_int = random.randint\n",
    "\n",
    "TOTAL = 10000\n",
    "cases = []\n",
    "with tqdm(total = TOTAL) as pbar:\n",
    "    i = 0\n",
    "    while i < TOTAL:\n",
    "        n, m, k = random_range(1, 1001), random_range(1, 1001), random_range(1, 11)\n",
    "        graph = []\n",
    "        for _ in range(n):\n",
    "            temp = []\n",
    "            for _ in range(m):\n",
    "                temp.append(random_int(0, 1))\n",
    "            graph.append(temp)\n",
    "        graph[0][0], graph[n-1][m-1] = 0, 0\n",
    "        \n",
    "        answer = bfs_csh(n, m, k, graph)\n",
    "        output = bfs_test(n, m, k, graph)\n",
    "        if not answer == output:\n",
    "            cases.append((n, m, k))\n",
    "            cases.append(graph)\n",
    "            cases.append(answer)\n",
    "            print(answer == output, f\"출력: {output}\", f\"정답: {answer}\", sep=\"\\n\")\n",
    "        pbar.update()\n",
    "        i += 1\n",
    "# ---------------------------------------"
   ]
  },
  {
   "cell_type": "markdown",
   "metadata": {},
   "source": [
    "### 테케 불러오기"
   ]
  },
  {
   "cell_type": "code",
   "execution_count": null,
   "metadata": {},
   "outputs": [],
   "source": [
    "# --------------------------------------- 테케 불러오기(메모장)\n",
    "TC = []\n",
    "with open(\"./test_cases/16933.txt\", \"r\") as f:\n",
    "    for _ in range(int(f.readline())):\n",
    "        temp = []\n",
    "        n, m, k = map(int, f.readline().split())\n",
    "        temp.append((n, m, k))\n",
    "        temp.append([list(map(int, f.readline().rstrip())) for _ in range(n)])\n",
    "        temp.append(int(f.readline()))\n",
    "        TC.append(temp)\n",
    "f.close()\n",
    "\n",
    "\n",
    "now = TC[6]\n",
    "n, m, k = now[0]\n",
    "graph = now[1]\n",
    "answer = now[2]\n",
    "output = bfs(n, m, k, graph)\n",
    "print(answer == output, f\"출력: {output}\", f\"정답: {answer}\", sep=\"\\n\")\n",
    "# ---------------------------------------"
   ]
  }
 ],
 "metadata": {
  "kernelspec": {
   "display_name": "base",
   "language": "python",
   "name": "python3"
  },
  "language_info": {
   "codemirror_mode": {
    "name": "ipython",
    "version": 3
   },
   "file_extension": ".py",
   "mimetype": "text/x-python",
   "name": "python",
   "nbconvert_exporter": "python",
   "pygments_lexer": "ipython3",
   "version": "3.10.13"
  }
 },
 "nbformat": 4,
 "nbformat_minor": 2
}
