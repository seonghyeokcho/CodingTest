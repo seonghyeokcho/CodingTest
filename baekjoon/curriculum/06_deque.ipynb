{
 "cells": [
  {
   "cell_type": "markdown",
   "metadata": {},
   "source": [
    "#### 1021"
   ]
  },
  {
   "cell_type": "code",
   "execution_count": 35,
   "metadata": {},
   "outputs": [
    {
     "ename": "ValueError",
     "evalue": "not enough values to unpack (expected 2, got 0)",
     "output_type": "error",
     "traceback": [
      "\u001b[0;31m---------------------------------------------------------------------------\u001b[0m",
      "\u001b[0;31mValueError\u001b[0m                                Traceback (most recent call last)",
      "Cell \u001b[0;32mIn[35], line 3\u001b[0m\n\u001b[1;32m      1\u001b[0m \u001b[38;5;28;01mfrom\u001b[39;00m \u001b[38;5;21;01mcollections\u001b[39;00m \u001b[38;5;28;01mimport\u001b[39;00m deque\n\u001b[0;32m----> 3\u001b[0m n, m \u001b[38;5;241m=\u001b[39m \u001b[38;5;28mmap\u001b[39m(\u001b[38;5;28mint\u001b[39m, \u001b[38;5;28minput\u001b[39m()\u001b[38;5;241m.\u001b[39msplit())\n\u001b[1;32m      4\u001b[0m q \u001b[38;5;241m=\u001b[39m deque(\u001b[38;5;28mrange\u001b[39m(\u001b[38;5;241m1\u001b[39m, n\u001b[38;5;241m+\u001b[39m\u001b[38;5;241m1\u001b[39m))\n\u001b[1;32m      5\u001b[0m positions \u001b[38;5;241m=\u001b[39m \u001b[38;5;28mmap\u001b[39m(\u001b[38;5;28mint\u001b[39m, \u001b[38;5;28minput\u001b[39m()\u001b[38;5;241m.\u001b[39msplit())\n",
      "\u001b[0;31mValueError\u001b[0m: not enough values to unpack (expected 2, got 0)"
     ]
    }
   ],
   "source": [
    "from collections import deque\n",
    "\n",
    "n, m = map(int, input().split())\n",
    "q = deque(range(1, n+1))\n",
    "positions = map(int, input().split())\n",
    "\n",
    "count = 0\n",
    "for pos in positions:\n",
    "    length_q = len(q)\n",
    "    while len(q) == length_q:\n",
    "        if q[0] == pos:\n",
    "            q.popleft()\n",
    "        else:\n",
    "            if (diff := q.index(pos)) <= len(q)//2:\n",
    "                q.rotate(-diff)\n",
    "                count += diff\n",
    "            else:\n",
    "                q.rotate(len(q)-diff)\n",
    "                count += len(q)-diff\n",
    "print(count)"
   ]
  },
  {
   "cell_type": "markdown",
   "metadata": {},
   "source": [
    "#### 5430"
   ]
  },
  {
   "cell_type": "code",
   "execution_count": 2,
   "metadata": {},
   "outputs": [
    {
     "name": "stdout",
     "output_type": "stream",
     "text": [
      "[1,2,3,5,8]\n"
     ]
    }
   ],
   "source": [
    "for _ in range(int(input())):\n",
    "    functions = input()\n",
    "    n = int(input())\n",
    "    \n",
    "    array = []\n",
    "    for i in input()[1:-1].split(\",\"):\n",
    "        if i.isdigit():\n",
    "            array.append(i)\n",
    "    \n",
    "    is_reversed = 0\n",
    "    for func in functions:\n",
    "        if func == \"R\":\n",
    "            is_reversed = (is_reversed + 1) % 2\n",
    "        elif func == \"D\":\n",
    "            if array:\n",
    "                array.pop(0 - is_reversed)\n",
    "            else:\n",
    "                print(\"error\")\n",
    "                break\n",
    "    else:\n",
    "        if is_reversed:\n",
    "            print(\"[\"+\",\".join(array[::-1])+\"]\")\n",
    "        else:\n",
    "            print(\"[\"+\",\".join(array)+\"]\")"
   ]
  },
  {
   "cell_type": "code",
   "execution_count": 1,
   "metadata": {},
   "outputs": [
    {
     "name": "stdout",
     "output_type": "stream",
     "text": [
      "[1,2,3,5,8]\n"
     ]
    }
   ],
   "source": [
    "for _ in range(int(input())):\n",
    "    functions = input()\n",
    "    n = int(input())\n",
    "    array = input().strip(\"[]\").split(\",\")\n",
    "    \n",
    "    if (n := n - functions.count(\"D\")) < 0:\n",
    "        print(\"error\")\n",
    "        continue\n",
    "    \n",
    "    k = 0\n",
    "    is_reversed = False\n",
    "    for func in functions:\n",
    "        if func == \"R\":\n",
    "            is_reversed = not is_reversed\n",
    "        elif not is_reversed:\n",
    "            k += 1\n",
    "            \n",
    "    array = array[k:k+n]\n",
    "    if is_reversed:\n",
    "        array = reversed(array)\n",
    "    print(\"[\"+\",\".join(array)+\"]\")"
   ]
  },
  {
   "cell_type": "markdown",
   "metadata": {},
   "source": [
    "#### 11003"
   ]
  },
  {
   "cell_type": "code",
   "execution_count": 1,
   "metadata": {},
   "outputs": [
    {
     "name": "stdout",
     "output_type": "stream",
     "text": [
      "1 1 1 2 2 2 2 2 3 3 2 2 "
     ]
    }
   ],
   "source": [
    "# import sys\n",
    "from collections import deque\n",
    "# input = sys.stdin.readline\n",
    "\n",
    "\n",
    "N, L = map(int, input().split())\n",
    "numbers = list(map(int, input().split()))\n",
    "queue = deque()\n",
    "for i in range(N):\n",
    "    if queue and queue[0][1] < i-L+1:\n",
    "        queue.popleft()\n",
    "    \n",
    "    while queue and queue[-1][0] > numbers[i]:\n",
    "        queue.pop()\n",
    "    \n",
    "    queue.append((numbers[i], i))\n",
    "    print(queue[0][0], end=\" \")"
   ]
  },
  {
   "cell_type": "code",
   "execution_count": null,
   "metadata": {},
   "outputs": [],
   "source": []
  },
  {
   "cell_type": "code",
   "execution_count": null,
   "metadata": {},
   "outputs": [],
   "source": []
  }
 ],
 "metadata": {
  "kernelspec": {
   "display_name": "base",
   "language": "python",
   "name": "python3"
  },
  "language_info": {
   "codemirror_mode": {
    "name": "ipython",
    "version": 3
   },
   "file_extension": ".py",
   "mimetype": "text/x-python",
   "name": "python",
   "nbconvert_exporter": "python",
   "pygments_lexer": "ipython3",
   "version": "3.10.13"
  }
 },
 "nbformat": 4,
 "nbformat_minor": 2
}
