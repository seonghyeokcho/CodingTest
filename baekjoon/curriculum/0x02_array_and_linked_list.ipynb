{
 "cells": [
  {
   "cell_type": "markdown",
   "metadata": {},
   "source": [
    "#### 10808"
   ]
  },
  {
   "cell_type": "code",
   "execution_count": 28,
   "metadata": {},
   "outputs": [
    {
     "name": "stdout",
     "output_type": "stream",
     "text": [
      "1 1 0 0 1 0 0 0 0 1 1 0 0 1 2 0 0 0 0 0 0 0 0 0 0 0\n"
     ]
    }
   ],
   "source": [
    "# word = input()\n",
    "word = \"baekjoon\"\n",
    "alphabet = [0] * 26\n",
    "\n",
    "for i in word:\n",
    "    alphabet[ord(i) - 97] += 1\n",
    "\n",
    "print(*alphabet)"
   ]
  },
  {
   "cell_type": "code",
   "execution_count": 29,
   "metadata": {},
   "outputs": [
    {
     "name": "stdout",
     "output_type": "stream",
     "text": [
      "1 1 0 0 1 0 0 0 0 1 1 0 0 1 2 0 0 0 0 0 0 0 0 0 0 0\n"
     ]
    }
   ],
   "source": [
    "# word = input()\n",
    "word = \"baekjoon\"\n",
    "alphabet = [0] * 26\n",
    "\n",
    "for i in range(97, 123):\n",
    "    alphabet[i - 97] += word.count(chr(i))\n",
    "\n",
    "print(*alphabet)"
   ]
  },
  {
   "cell_type": "code",
   "execution_count": 27,
   "metadata": {},
   "outputs": [
    {
     "name": "stdout",
     "output_type": "stream",
     "text": [
      "1 1 0 0 1 0 0 0 0 1 1 0 0 1 2 0 0 0 0 0 0 0 0 0 0 0\n"
     ]
    }
   ],
   "source": [
    "from collections import Counter\n",
    "\n",
    "\n",
    "# word = input()\n",
    "word = \"baekjoon\"\n",
    "alphabet = [0] * 26\n",
    "\n",
    "for key, value in Counter(word).items():\n",
    "    alphabet[ord(key)-97] += value\n",
    "\n",
    "print(*alphabet)"
   ]
  },
  {
   "cell_type": "markdown",
   "metadata": {},
   "source": [
    "#### 10807"
   ]
  },
  {
   "cell_type": "code",
   "execution_count": 52,
   "metadata": {},
   "outputs": [
    {
     "name": "stdout",
     "output_type": "stream",
     "text": [
      "3\n"
     ]
    }
   ],
   "source": [
    "# n = int(input())\n",
    "n = 11\n",
    "# integers = list(map(int, input().split()))\n",
    "integers = list(map(int, \"1 4 1 2 4 2 4 2 3 4 4\".split()))\n",
    "# v = int(input())\n",
    "v = 2\n",
    "\n",
    "print(integers.count(v))"
   ]
  },
  {
   "cell_type": "code",
   "execution_count": 53,
   "metadata": {},
   "outputs": [
    {
     "name": "stdout",
     "output_type": "stream",
     "text": [
      "3\n"
     ]
    }
   ],
   "source": [
    "# n = int(input())\n",
    "n = 11\n",
    "# integers = map(int, input().split())\n",
    "integers = map(int, \"1 4 1 2 4 2 4 2 3 4 4\".split())\n",
    "# v = int(input())\n",
    "v = 2\n",
    "answer = 0\n",
    "\n",
    "for i in integers:\n",
    "    if i == v:\n",
    "        answer += 1\n",
    "\n",
    "print(answer)"
   ]
  },
  {
   "cell_type": "markdown",
   "metadata": {},
   "source": [
    "#### 13300"
   ]
  },
  {
   "cell_type": "code",
   "execution_count": 69,
   "metadata": {},
   "outputs": [
    {
     "name": "stdout",
     "output_type": "stream",
     "text": [
      "[[0, 0], [0, 0], [0, 0], [0, 0], [0, 0], [0, 0]]\n",
      "[[0, 16], [0, 0], [0, 0], [0, 0], [0, 0], [0, 0]]\n",
      "8\n"
     ]
    }
   ],
   "source": [
    "# import sys\n",
    "# input = sys.stdin.readline\n",
    "\n",
    "n, k = map(int, input().split())\n",
    "students = [[0, 0] for _ in range(6)]\n",
    "print(students)\n",
    "for _ in range(n):\n",
    "    s, y = map(int, input().split())\n",
    "    students[y-1][s] += 1\n",
    "\n",
    "print(students)\n",
    "\n",
    "rooms = 0\n",
    "for grade in students:\n",
    "    for gender in grade:\n",
    "        rooms += -(-gender//k)\n",
    "\n",
    "print(rooms)"
   ]
  },
  {
   "cell_type": "markdown",
   "metadata": {},
   "source": [
    "#### 1919"
   ]
  },
  {
   "cell_type": "code",
   "execution_count": 93,
   "metadata": {},
   "outputs": [
    {
     "name": "stdout",
     "output_type": "stream",
     "text": [
      "8\n"
     ]
    }
   ],
   "source": [
    "# import sys\n",
    "# input = sys.stdin.readline\n",
    "from collections import Counter\n",
    "\n",
    "# word_A, word_B = input(), input()\n",
    "word_A, word_B = \"aabbcc\", \"xxbbyy\"\n",
    "hash_A, hash_B = Counter(word_A), Counter(word_B)\n",
    "\n",
    "intersection_keys = set(hash_A.keys()) & set(hash_B.keys())\n",
    "\n",
    "common_letters = 0\n",
    "for letter in intersection_keys:\n",
    "    common_letters += hash_A[letter] + hash_B[letter] - abs(hash_A[letter] - hash_B[letter])\n",
    "    \n",
    "print(len(word_A)+len(word_B)-common_letters)"
   ]
  },
  {
   "cell_type": "code",
   "execution_count": 95,
   "metadata": {},
   "outputs": [
    {
     "name": "stdout",
     "output_type": "stream",
     "text": [
      "8\n"
     ]
    }
   ],
   "source": [
    "# import sys\n",
    "# input = sys.stdin.readline\n",
    "\n",
    "# word_A, word_B = input(), input()\n",
    "word_A, word_B = \"aabbcc\", \"xxbbyy\"\n",
    "hash_A, hash_B = dict.fromkeys(set(word_A), 0), dict.fromkeys(set(word_B), 0)\n",
    "for letter_A in word_A:\n",
    "    hash_A[letter_A] += 1\n",
    "for letter_B in word_B:\n",
    "    hash_B[letter_B] += 1\n",
    "\n",
    "common_keys = set(hash_A.keys()) & set(hash_B.keys())\n",
    "\n",
    "common_letters = 0\n",
    "for key in common_keys:\n",
    "    common_letters += hash_A[key] + hash_B[key] - abs(hash_A[key] - hash_B[key])\n",
    "    \n",
    "print(len(word_A)+len(word_B)-common_letters)"
   ]
  },
  {
   "cell_type": "markdown",
   "metadata": {},
   "source": [
    "#### 1158\n",
    "\n",
    "- 참고\n",
    "    - 요세푸스 순열의 마지막 수 구하는 점화식: $f(n,k)=((f(n−1,k)+k−1)\\ mod\\ n)+1$"
   ]
  },
  {
   "cell_type": "code",
   "execution_count": 97,
   "metadata": {},
   "outputs": [
    {
     "name": "stdout",
     "output_type": "stream",
     "text": [
      "4\n"
     ]
    }
   ],
   "source": [
    "n = 7\n",
    "k = 3\n",
    "dp = [0] * n\n",
    "\n",
    "for i in range(1, n):\n",
    "    dp[i] = (dp[i-1] + k - 1) % n + 1\n",
    "\n",
    "print(dp[-1])"
   ]
  },
  {
   "cell_type": "code",
   "execution_count": 3,
   "metadata": {},
   "outputs": [
    {
     "name": "stdout",
     "output_type": "stream",
     "text": [
      "<3, 6, 2, 7, 5, 1, 4>\n"
     ]
    }
   ],
   "source": [
    "# import sys\n",
    "# input = sys.stdin.readline\n",
    "from collections import deque\n",
    "\n",
    "\n",
    "# n, k = map(int, input().split())\n",
    "n, k = 7, 3\n",
    "q = deque(range(1, n+1))\n",
    "\n",
    "perm = []\n",
    "i = 0\n",
    "while q:\n",
    "    i += 1\n",
    "    number = q.popleft()\n",
    "    if i == k:\n",
    "        i = 0\n",
    "        perm.append(str(number))\n",
    "    else:\n",
    "        q.append(number)\n",
    "        \n",
    "print(f\"<{', '.join(perm)}>\")"
   ]
  },
  {
   "cell_type": "code",
   "execution_count": null,
   "metadata": {},
   "outputs": [
    {
     "ename": "TypeError",
     "evalue": "'str' object cannot be interpreted as an integer",
     "output_type": "error",
     "traceback": [
      "\u001b[0;31m---------------------------------------------------------------------------\u001b[0m",
      "\u001b[0;31mTypeError\u001b[0m                                 Traceback (most recent call last)",
      "Cell \u001b[0;32mIn[5], line 13\u001b[0m\n\u001b[1;32m     11\u001b[0m \u001b[38;5;28;01mwhile\u001b[39;00m q:\n\u001b[1;32m     12\u001b[0m     i \u001b[38;5;241m=\u001b[39m (i \u001b[38;5;241m+\u001b[39m k \u001b[38;5;241m-\u001b[39m \u001b[38;5;241m1\u001b[39m) \u001b[38;5;241m%\u001b[39m \u001b[38;5;28mlen\u001b[39m(q)\n\u001b[0;32m---> 13\u001b[0m     perm\u001b[38;5;241m.\u001b[39mappend(\u001b[43mq\u001b[49m\u001b[38;5;241;43m.\u001b[39;49m\u001b[43mpop\u001b[49m\u001b[43m(\u001b[49m\u001b[38;5;28;43mstr\u001b[39;49m\u001b[43m(\u001b[49m\u001b[43mi\u001b[49m\u001b[43m)\u001b[49m\u001b[43m)\u001b[49m)\n\u001b[1;32m     15\u001b[0m \u001b[38;5;28mprint\u001b[39m(\u001b[38;5;124mf\u001b[39m\u001b[38;5;124m\"\u001b[39m\u001b[38;5;124m<\u001b[39m\u001b[38;5;132;01m{\u001b[39;00m\u001b[38;5;124m'\u001b[39m\u001b[38;5;124m, \u001b[39m\u001b[38;5;124m'\u001b[39m\u001b[38;5;241m.\u001b[39mjoin(perm)\u001b[38;5;132;01m}\u001b[39;00m\u001b[38;5;124m>\u001b[39m\u001b[38;5;124m\"\u001b[39m)\n",
      "\u001b[0;31mTypeError\u001b[0m: 'str' object cannot be interpreted as an integer"
     ]
    }
   ],
   "source": [
    "# import sys\n",
    "# input = sys.stdin.readline\n",
    "\n",
    "\n",
    "# n, k = map(int, input().split())\n",
    "n, k = 7, 3\n",
    "q = list(range(1, n+1))\n",
    "\n",
    "perm = []\n",
    "i = 0\n",
    "while q:\n",
    "    i = (i + k - 1) % len(q)\n",
    "    perm.append(str(q.pop(i)))\n",
    "        \n",
    "print(f\"<{', '.join(perm)}>\")"
   ]
  }
 ],
 "metadata": {
  "kernelspec": {
   "display_name": "base",
   "language": "python",
   "name": "python3"
  },
  "language_info": {
   "codemirror_mode": {
    "name": "ipython",
    "version": 3
   },
   "file_extension": ".py",
   "mimetype": "text/x-python",
   "name": "python",
   "nbconvert_exporter": "python",
   "pygments_lexer": "ipython3",
   "version": "3.10.13"
  }
 },
 "nbformat": 4,
 "nbformat_minor": 2
}
