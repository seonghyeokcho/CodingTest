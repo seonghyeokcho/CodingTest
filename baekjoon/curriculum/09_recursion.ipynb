{
 "cells": [
  {
   "cell_type": "markdown",
   "metadata": {},
   "source": [
    "#### 1629"
   ]
  },
  {
   "cell_type": "code",
   "execution_count": 50,
   "metadata": {},
   "outputs": [
    {
     "name": "stdout",
     "output_type": "stream",
     "text": [
      "99 [75, 4] 97 2\n"
     ]
    }
   ],
   "source": [
    "import random\n",
    "\n",
    "numbers = []\n",
    "while len(numbers) < 100:\n",
    "    number = random.randint(1, 100)\n",
    "    if number not in numbers:\n",
    "        numbers.append(number)\n",
    "\n",
    "target_index = []\n",
    "while len(target_index) < 2:\n",
    "    index = random.randint(0, 99)\n",
    "    if index not in target_index:\n",
    "        target_index.append(index)\n",
    "\n",
    "target = numbers[target_index[0]] + numbers[target_index[1]]\n",
    "print(target, target_index, numbers[target_index[0]], numbers[target_index[1]])"
   ]
  },
  {
   "cell_type": "code",
   "execution_count": 63,
   "metadata": {},
   "outputs": [
    {
     "name": "stdout",
     "output_type": "stream",
     "text": [
      "2.13 ms ± 92.9 µs per loop (mean ± std. dev. of 7 runs, 100 loops each)\n"
     ]
    }
   ],
   "source": [
    "import random\n",
    "random.seed(42)\n",
    "\n",
    "def main():\n",
    "    numbers = []\n",
    "    while len(numbers) < 100:\n",
    "        number = random.randint(1, 100)\n",
    "        if number not in numbers:\n",
    "            numbers.append(number)\n",
    "\n",
    "    target_index = []\n",
    "    while len(target_index) < 2:\n",
    "        index = random.randint(0, 99)\n",
    "        if index not in target_index:\n",
    "            target_index.append(index)\n",
    "    target = numbers[target_index[0]] + numbers[target_index[1]]\n",
    "    \n",
    "    L = len(numbers)\n",
    "    for i in range(L-1):\n",
    "        for j in range(i+1, L):\n",
    "            if numbers[i] + numbers[j] == target:\n",
    "                return (i, j), numbers[i] + numbers[j], target\n",
    "\n",
    "%timeit main()"
   ]
  },
  {
   "cell_type": "code",
   "execution_count": 64,
   "metadata": {},
   "outputs": [
    {
     "name": "stdout",
     "output_type": "stream",
     "text": [
      "2.04 ms ± 57 µs per loop (mean ± std. dev. of 7 runs, 100 loops each)\n"
     ]
    }
   ],
   "source": [
    "import random\n",
    "random.seed(42)\n",
    "\n",
    "def main():\n",
    "    numbers = []\n",
    "    while len(numbers) < 100:\n",
    "        number = random.randint(1, 100)\n",
    "        if number not in numbers:\n",
    "            numbers.append(number)\n",
    "\n",
    "    target_index = []\n",
    "    while len(target_index) < 2:\n",
    "        index = random.randint(0, 99)\n",
    "        if index not in target_index:\n",
    "            target_index.append(index)\n",
    "    target = numbers[target_index[0]] + numbers[target_index[1]]\n",
    "    \n",
    "    numbers.sort()\n",
    "    left, right = 0, len(numbers)-1\n",
    "    while left < right:\n",
    "        if numbers[left] + numbers[right] < target:\n",
    "            left += 1\n",
    "        elif numbers[left] + numbers[right] > target:\n",
    "            right -= 1\n",
    "        else:\n",
    "            return (left, right), numbers[left] + numbers[right], target\n",
    "\n",
    "%timeit main()"
   ]
  },
  {
   "cell_type": "code",
   "execution_count": 46,
   "metadata": {},
   "outputs": [
    {
     "data": {
      "text/plain": [
       "169"
      ]
     },
     "execution_count": 46,
     "metadata": {},
     "output_type": "execute_result"
    }
   ],
   "source": [
    "target"
   ]
  },
  {
   "cell_type": "code",
   "execution_count": null,
   "metadata": {},
   "outputs": [],
   "source": []
  },
  {
   "cell_type": "code",
   "execution_count": null,
   "metadata": {},
   "outputs": [],
   "source": []
  }
 ],
 "metadata": {
  "kernelspec": {
   "display_name": "base",
   "language": "python",
   "name": "python3"
  },
  "language_info": {
   "codemirror_mode": {
    "name": "ipython",
    "version": 3
   },
   "file_extension": ".py",
   "mimetype": "text/x-python",
   "name": "python",
   "nbconvert_exporter": "python",
   "pygments_lexer": "ipython3",
   "version": "3.10.13"
  }
 },
 "nbformat": 4,
 "nbformat_minor": 2
}
