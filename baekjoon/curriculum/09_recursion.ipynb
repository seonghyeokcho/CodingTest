{
 "cells": [
  {
   "cell_type": "markdown",
   "metadata": {},
   "source": [
    "### Recursion, 재귀\n",
    "- 하나의 함수에서 자기 자신을 다시 호출해 작업을 수행하는 알고리즘.\n",
    "- 재귀 함수의 조건\n",
    "    - 특정 입력에 대해서는 더이상 자기자신을 호출하지 않고 종료되어야 함(Base Condition or Base Case).\n",
    "    - 모든 입력은 Base Condition(Base Case)으로 수렴해야 함.\n",
    "- 재귀 함수의 구성 시 유의할 점\n",
    "    - 함수의 인자로 '어떤 것'을 받고, '어디까지' 계산한 후 자기자신에게 다시 넘겨줄지 명확하게 정해야 함.\n",
    "    - 모든 재귀 함수는 반복문으로 동일한 동작을 하도록 만들 수 있음.\n",
    "    - 재귀는 반복문 대비 코드가 간결하지만 메모리 및 실행 시간에서는 손해를 봄.\n",
    "    - 하나의 함수가 자기자신을 여러번 호출하게 되면 예상 외로 비효율 적일 수 있으므로, 현재 상황에서 재귀를 사용해도 되는지 판단할 수 있어야 함.\n",
    "        - 예시로 피보나치 수열을 반환하는 함수를 재귀로 구현 시 시간복잡도가 O(1.618^n)이다.\n",
    "    - 재귀 함수가 자기자신을 호출할 때마다 스택 영역에 누적됨.\n",
    "        - 여기서 말하는 스택 영역이란 메모리 구조에서의 스택 영역이다."
   ]
  },
  {
   "cell_type": "markdown",
   "metadata": {},
   "source": [
    "#### 재귀 함수 활용 예시\n",
    "\n",
    "- 재귀 함수의 예시로 들었던 피보나치 수열을 직접 재귀 함수로 구현해본 뒤, 한계를 극복할 수 있는 방법을 소개한다."
   ]
  },
  {
   "cell_type": "code",
   "execution_count": null,
   "metadata": {},
   "outputs": [],
   "source": [
    "# 재귀 함수를 이용한 피보나치 수열 구현\n",
    "def fibo(n):\n",
    "    if n <= 1:\n",
    "        return n\n",
    "    return fibo(n-1) + fibo(n-2)\n",
    "\n",
    "# fibo(200)  # 1.618**200 번의 연산이 필요함, 노트북 터짐"
   ]
  },
  {
   "cell_type": "code",
   "execution_count": 35,
   "metadata": {},
   "outputs": [
    {
     "data": {
      "text/plain": [
       "280571172992510140037611932413038677189525"
      ]
     },
     "execution_count": 35,
     "metadata": {},
     "output_type": "execute_result"
    }
   ],
   "source": [
    "# 메모이제이션 기능을 제공하는 lru_cache 함수를 추가\n",
    "from functools import lru_cache\n",
    "\n",
    "@lru_cache()\n",
    "def fibo1(n):\n",
    "    if n <= 1:\n",
    "        return n\n",
    "    return fibo1(n-1) + fibo1(n-2)\n",
    "\n",
    "fibo1(200)"
   ]
  },
  {
   "cell_type": "code",
   "execution_count": 34,
   "metadata": {},
   "outputs": [
    {
     "data": {
      "text/plain": [
       "280571172992510140037611932413038677189525"
      ]
     },
     "execution_count": 34,
     "metadata": {},
     "output_type": "execute_result"
    }
   ],
   "source": [
    "# 메모이제이션 기능을 직접 구현하여 추가\n",
    "def fibo2(n, cache=dict()):\n",
    "    if n in cache:\n",
    "        return cache[n]\n",
    "    if n <= 1:\n",
    "        return n\n",
    "    cache[n] = fibo2(n-1) + fibo2(n-2)\n",
    "    return fibo2(n-1) + fibo2(n-2)\n",
    "\n",
    "fibo2(200)"
   ]
  },
  {
   "cell_type": "code",
   "execution_count": 36,
   "metadata": {},
   "outputs": [
    {
     "data": {
      "text/plain": [
       "280571172992510140037611932413038677189525"
      ]
     },
     "execution_count": 36,
     "metadata": {},
     "output_type": "execute_result"
    }
   ],
   "source": [
    "# 다이나믹 프로그래밍 기법을 활용하여 피보나치 수열 구현\n",
    "def fibo3(n):\n",
    "    dp = [0, 1] + [0] * (n-1)\n",
    "    for i in range(2, n+1):\n",
    "        dp[i] = dp[i-1] + dp[i-2]\n",
    "    return dp[n]\n",
    "\n",
    "fibo3(200)"
   ]
  },
  {
   "cell_type": "markdown",
   "metadata": {},
   "source": [
    "#### 1629"
   ]
  },
  {
   "cell_type": "code",
   "execution_count": 77,
   "metadata": {},
   "outputs": [
    {
     "data": {
      "text/plain": [
       "4"
      ]
     },
     "execution_count": 77,
     "metadata": {},
     "output_type": "execute_result"
    }
   ],
   "source": [
    "def raise_power(a, b, c):\n",
    "    if b < 1:\n",
    "        return 1\n",
    "    return (a * raise_power(a, b/2, c)) % c\n",
    "\n",
    "raise_power(10, 11, 12)"
   ]
  },
  {
   "cell_type": "code",
   "execution_count": 97,
   "metadata": {},
   "outputs": [
    {
     "name": "stdout",
     "output_type": "stream",
     "text": [
      "11\n",
      "5.5\n",
      "2.75\n",
      "1.375\n",
      "0.6875\n",
      "0.6875\n",
      "1.375\n",
      "2.75\n",
      "5.5\n"
     ]
    },
    {
     "data": {
      "text/plain": [
       "4"
      ]
     },
     "execution_count": 97,
     "metadata": {},
     "output_type": "execute_result"
    }
   ],
   "source": [
    "def raise_power(a, b, c, cache=dict()):\n",
    "    if b in cache:\n",
    "        return cache[b]\n",
    "    if b < 1:\n",
    "        return 1\n",
    "    cache[b] = (a * raise_power(a, b//2, c)) % c\n",
    "    if b%2 == 0:\n",
    "        return cache[b]\n",
    "    return (a * raise_power(a, b//2, c)) % c\n",
    "\n",
    "raise_power(10, 11, 12)"
   ]
  },
  {
   "cell_type": "code",
   "execution_count": 88,
   "metadata": {},
   "outputs": [
    {
     "name": "stdout",
     "output_type": "stream",
     "text": [
      "[1, 10, 4, 4, 4, 4, 4, 4, 4, 4, 4, 4] 12\n"
     ]
    }
   ],
   "source": [
    "a, b, c = 10, 11, 12\n",
    "dp = [1] * (b+1)\n",
    "for i in range(1, b+1):\n",
    "    dp[i] = (dp[i-1] * a) % c\n",
    "\n",
    "print(dp, len(dp))"
   ]
  },
  {
   "cell_type": "code",
   "execution_count": 89,
   "metadata": {},
   "outputs": [
    {
     "name": "stdout",
     "output_type": "stream",
     "text": [
      "[1, 10, 4, 4, 4, 4] 6\n"
     ]
    }
   ],
   "source": [
    "a, b, c = 10, 11, 12\n",
    "dp = [1] * (b//2+b%2)\n",
    "\n",
    "for i in range(1, b//2+b%2):\n",
    "    dp[i] = (dp[i-1] * a) % c\n",
    "\n",
    "print(dp, len(dp))"
   ]
  },
  {
   "cell_type": "code",
   "execution_count": 113,
   "metadata": {},
   "outputs": [
    {
     "data": {
      "text/plain": [
       "3"
      ]
     },
     "execution_count": 113,
     "metadata": {},
     "output_type": "execute_result"
    }
   ],
   "source": [
    "int(15**0.5)"
   ]
  },
  {
   "cell_type": "code",
   "execution_count": 116,
   "metadata": {},
   "outputs": [
    {
     "data": {
      "text/plain": [
       "1"
      ]
     },
     "execution_count": 116,
     "metadata": {},
     "output_type": "execute_result"
    }
   ],
   "source": [
    "16//2//2//2//2"
   ]
  },
  {
   "cell_type": "code",
   "execution_count": 123,
   "metadata": {},
   "outputs": [
    {
     "data": {
      "text/plain": [
       "90"
      ]
     },
     "execution_count": 123,
     "metadata": {},
     "output_type": "execute_result"
    }
   ],
   "source": [
    "12+19+28+31"
   ]
  },
  {
   "cell_type": "code",
   "execution_count": 122,
   "metadata": {},
   "outputs": [
    {
     "data": {
      "text/plain": [
       "22"
      ]
     },
     "execution_count": 122,
     "metadata": {},
     "output_type": "execute_result"
    }
   ],
   "source": [
    "ord(\"V\") - 64"
   ]
  }
 ],
 "metadata": {
  "kernelspec": {
   "display_name": "base",
   "language": "python",
   "name": "python3"
  },
  "language_info": {
   "codemirror_mode": {
    "name": "ipython",
    "version": 3
   },
   "file_extension": ".py",
   "mimetype": "text/x-python",
   "name": "python",
   "nbconvert_exporter": "python",
   "pygments_lexer": "ipython3",
   "version": "3.10.13"
  }
 },
 "nbformat": 4,
 "nbformat_minor": 2
}
