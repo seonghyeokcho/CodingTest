{
 "cells": [
  {
   "cell_type": "markdown",
   "metadata": {},
   "source": [
    "### Recursion, 재귀\n",
    "- 하나의 함수에서 자기 자신을 다시 호출해 작업을 수행하는 알고리즘.\n",
    "- 재귀 함수의 조건\n",
    "    - 특정 입력에 대해서는 더이상 자기자신을 호출하지 않고 종료되어야 함(Base Condition or Base Case).\n",
    "    - 모든 입력은 Base Condition(Base Case)으로 수렴해야 함.\n",
    "- 재귀 함수의 구성 시 유의할 점\n",
    "    - 함수의 인자로 '어떤 것'을 받고, '어디까지' 계산한 후 자기자신에게 다시 넘겨줄지 명확하게 정해야 함.\n",
    "    - 모든 재귀 함수는 반복문으로 동일한 동작을 하도록 만들 수 있음.\n",
    "    - 재귀는 반복문 대비 코드가 간결하지만 메모리 및 실행 시간에서는 손해를 봄.\n",
    "    - 하나의 함수가 자기자신을 여러번 호출하게 되면 예상 외로 비효율 적일 수 있으므로, 현재 상황에서 재귀를 사용해도 되는지 판단할 수 있어야 함.\n",
    "        - 예시로 피보나치 수열을 반환하는 함수를 재귀로 구현 시 시간복잡도가 O(1.618^n)이다.\n",
    "    - 재귀 함수가 자기자신을 호출할 때마다 스택 영역에 누적됨.\n",
    "        - 여기서 말하는 스택 영역이란 메모리 구조에서의 스택 영역이다."
   ]
  },
  {
   "cell_type": "markdown",
   "metadata": {},
   "source": [
    "#### 재귀 함수 활용 예시\n",
    "\n",
    "- 재귀 함수의 예시로 들었던 피보나치 수열을 직접 재귀 함수로 구현해본 뒤, 한계를 극복할 수 있는 방법을 소개한다."
   ]
  },
  {
   "cell_type": "code",
   "execution_count": null,
   "metadata": {},
   "outputs": [],
   "source": [
    "# 재귀 함수를 이용한 피보나치 수열 구현\n",
    "def fibo(n):\n",
    "    if n <= 1:\n",
    "        return n\n",
    "    return fibo(n-1) + fibo(n-2)\n",
    "\n",
    "# fibo(200)  # 1.618**200 번의 연산이 필요함, 노트북 터짐"
   ]
  },
  {
   "cell_type": "code",
   "execution_count": 35,
   "metadata": {},
   "outputs": [
    {
     "data": {
      "text/plain": [
       "280571172992510140037611932413038677189525"
      ]
     },
     "execution_count": 35,
     "metadata": {},
     "output_type": "execute_result"
    }
   ],
   "source": [
    "# 메모이제이션 기능을 제공하는 lru_cache 함수를 추가\n",
    "from functools import lru_cache\n",
    "\n",
    "@lru_cache()\n",
    "def fibo1(n):\n",
    "    if n <= 1:\n",
    "        return n\n",
    "    return fibo1(n-1) + fibo1(n-2)\n",
    "\n",
    "fibo1(200)"
   ]
  },
  {
   "cell_type": "code",
   "execution_count": 34,
   "metadata": {},
   "outputs": [
    {
     "data": {
      "text/plain": [
       "280571172992510140037611932413038677189525"
      ]
     },
     "execution_count": 34,
     "metadata": {},
     "output_type": "execute_result"
    }
   ],
   "source": [
    "# 메모이제이션 기능을 직접 구현하여 추가\n",
    "def fibo2(n, cache=dict()):\n",
    "    if n in cache:\n",
    "        return cache[n]\n",
    "    if n <= 1:\n",
    "        return n\n",
    "    cache[n] = fibo2(n-1) + fibo2(n-2)\n",
    "    return fibo2(n-1) + fibo2(n-2)\n",
    "\n",
    "fibo2(200)"
   ]
  },
  {
   "cell_type": "code",
   "execution_count": 36,
   "metadata": {},
   "outputs": [
    {
     "data": {
      "text/plain": [
       "280571172992510140037611932413038677189525"
      ]
     },
     "execution_count": 36,
     "metadata": {},
     "output_type": "execute_result"
    }
   ],
   "source": [
    "# 다이나믹 프로그래밍 기법을 활용하여 피보나치 수열 구현\n",
    "def fibo3(n):\n",
    "    dp = [0, 1] + [0] * (n-1)\n",
    "    for i in range(2, n+1):\n",
    "        dp[i] = dp[i-1] + dp[i-2]\n",
    "    return dp[n]\n",
    "\n",
    "fibo3(200)"
   ]
  },
  {
   "cell_type": "markdown",
   "metadata": {},
   "source": [
    "#### 1629"
   ]
  },
  {
   "cell_type": "code",
   "execution_count": null,
   "metadata": {},
   "outputs": [
    {
     "name": "stdout",
     "output_type": "stream",
     "text": [
      "785 ns ± 52.2 ns per loop (mean ± std. dev. of 7 runs, 1,000,000 loops each)\n"
     ]
    }
   ],
   "source": [
    "import sys\n",
    "\n",
    "# input = sys.stdin.readline\n",
    "\n",
    "def raise_power(a, b, c):\n",
    "    if b == 1:\n",
    "        return a % c\n",
    "    value = raise_power(a, b//2, c) ** 2 % c\n",
    "    if b%2 == 0:\n",
    "        return value\n",
    "    return value * a % c\n",
    "\n",
    "a, b, c = map(int, input().split())\n",
    "print(raise_power(a, b, c))"
   ]
  },
  {
   "cell_type": "code",
   "execution_count": null,
   "metadata": {},
   "outputs": [
    {
     "name": "stdout",
     "output_type": "stream",
     "text": [
      "115 ns ± 0.844 ns per loop (mean ± std. dev. of 7 runs, 10,000,000 loops each)\n"
     ]
    }
   ],
   "source": [
    "import sys\n",
    "\n",
    "# input = sys.stdin.readline\n",
    "\n",
    "def raise_power(a, b, c, cache=dict()):\n",
    "    if b in cache:\n",
    "        return cache[b]\n",
    "    if b == 1:\n",
    "        return a % c\n",
    "    cache[b] = raise_power(a, b//2, c) ** 2 % c\n",
    "    if b%2 == 0:\n",
    "        return cache[b]\n",
    "    return cache[b] * a % c\n",
    "\n",
    "a, b, c = map(int, input().split())\n",
    "print(raise_power(a, b, c))"
   ]
  },
  {
   "cell_type": "markdown",
   "metadata": {},
   "source": [
    "#### 11729"
   ]
  },
  {
   "cell_type": "code",
   "execution_count": 178,
   "metadata": {},
   "outputs": [
    {
     "name": "stdout",
     "output_type": "stream",
     "text": [
      "7\n",
      "1 3\n",
      "1 2\n",
      "3 2\n",
      "1 3\n",
      "2 1\n",
      "2 3\n",
      "1 3\n"
     ]
    }
   ],
   "source": [
    "def tower_of_hanoi(a, b, n):\n",
    "    if n == 0:\n",
    "        return\n",
    "    tower_of_hanoi(a, 6-a-b, n-1)\n",
    "    print(a, b)\n",
    "    tower_of_hanoi(6-a-b, b, n-1)\n",
    "\n",
    "\n",
    "n = int(input())\n",
    "print((1<<n)-1)\n",
    "tower_of_hanoi(1, 3, n)"
   ]
  },
  {
   "cell_type": "markdown",
   "metadata": {},
   "source": [
    "#### 1074"
   ]
  },
  {
   "cell_type": "code",
   "execution_count": 170,
   "metadata": {},
   "outputs": [
    {
     "name": "stdout",
     "output_type": "stream",
     "text": [
      "11\n"
     ]
    }
   ],
   "source": [
    "def main(n, r, c):\n",
    "    if n == 0:\n",
    "        return 0\n",
    "    half = 1 << (n-1)\n",
    "    if r < half and c < half:\n",
    "        return main(n-1, r, c)\n",
    "    elif r < half and c >= half:\n",
    "        return half**2 + main(n-1, r, c - half)\n",
    "    elif r >= half and c < half:\n",
    "        return 2*(half**2) + main(n-1, r - half, c)\n",
    "    return 3*(half**2) + main(n-1, r - half, c - half)\n",
    "\n",
    "\n",
    "if __name__ == \"__main__\":\n",
    "    n, r, c = map(int, input().split())\n",
    "    print(main(n, r, c))"
   ]
  },
  {
   "cell_type": "code",
   "execution_count": 172,
   "metadata": {},
   "outputs": [
    {
     "name": "stdout",
     "output_type": "stream",
     "text": [
      "11\n"
     ]
    }
   ],
   "source": [
    "def main(n, r, c):\n",
    "    if n == 0:\n",
    "        return 0\n",
    "    half = 1 << (n-1)\n",
    "    match (r < half, c < half):\n",
    "        case (1, 1): return main(n-1, r, c)\n",
    "        case (1, 0): return half**2 + main(n-1, r, c - half)\n",
    "        case (0, 1): return 2*(half**2) + main(n-1, r - half, c)\n",
    "        case _: return 3*(half**2) + main(n-1, r - half, c - half)\n",
    "\n",
    "\n",
    "if __name__ == \"__main__\":\n",
    "    n, r, c = map(int, input().split())\n",
    "    print(main(n, r, c))"
   ]
  },
  {
   "cell_type": "markdown",
   "metadata": {},
   "source": [
    "#### 17478"
   ]
  },
  {
   "cell_type": "code",
   "execution_count": 184,
   "metadata": {},
   "outputs": [
    {
     "name": "stdout",
     "output_type": "stream",
     "text": [
      "어느 한 컴퓨터공학과 학생이 유명한 교수님을 찾아가 물었다.\n",
      "\"재귀함수가 뭔가요?\"\n",
      "\"잘 들어보게. 옛날옛날 한 산 꼭대기에 이세상 모든 지식을 통달한 선인이 있었어.\n",
      "마을 사람들은 모두 그 선인에게 수많은 질문을 했고, 모두 지혜롭게 대답해 주었지.\n",
      "그의 답은 대부분 옳았다고 하네. 그런데 어느 날, 그 선인에게 한 선비가 찾아와서 물었어.\"\n",
      "____\"재귀함수가 뭔가요?\"\n",
      "____\"재귀함수는 자기 자신을 호출하는 함수라네\"\n",
      "____라고 답변하였지.\n",
      "라고 답변하였지.\n"
     ]
    }
   ],
   "source": [
    "def chatbot(n, i):\n",
    "    print('____'*i+'\"재귀함수가 뭔가요?\"')\n",
    "    if n == 0:\n",
    "        print('____'*i+'\"재귀함수는 자기 자신을 호출하는 함수라네\"')\n",
    "        print('____'*i+'라고 답변하였지.')\n",
    "        return\n",
    "    print('____'*i+'\"잘 들어보게. 옛날옛날 한 산 꼭대기에 이세상 모든 지식을 통달한 선인이 있었어.')\n",
    "    print('____'*i+'마을 사람들은 모두 그 선인에게 수많은 질문을 했고, 모두 지혜롭게 대답해 주었지.')\n",
    "    print('____'*i+'그의 답은 대부분 옳았다고 하네. 그런데 어느 날, 그 선인에게 한 선비가 찾아와서 물었어.\"')\n",
    "    chatbot(n-1, i+1)\n",
    "    print('____'*i+'라고 답변하였지.')\n",
    "    return\n",
    "\n",
    "\n",
    "n = int(input())\n",
    "print(\"어느 한 컴퓨터공학과 학생이 유명한 교수님을 찾아가 물었다.\")\n",
    "chatbot(n, 0)"
   ]
  },
  {
   "cell_type": "markdown",
   "metadata": {},
   "source": [
    "#### 1780"
   ]
  },
  {
   "cell_type": "code",
   "execution_count": null,
   "metadata": {},
   "outputs": [],
   "source": [
    "# 1. 만약 종이가 모두 같은 수로 되어 있다면 이 종이를 그대로 사용한다.\n",
    "# 2. (1)이 아닌 경우에는 종이를 같은 크기의 종이 9개로 자르고, 각각의 잘린 종이에 대해서 (1)의 과정을 반복한다.\n",
    "# O(n^2logn)"
   ]
  },
  {
   "cell_type": "code",
   "execution_count": null,
   "metadata": {},
   "outputs": [],
   "source": [
    "def divide_and_conquer(n, arr):\n",
    "    \n",
    "    return\n",
    "\n",
    "x, y, z = 0, 0, 0\n",
    "n = int(input())\n",
    "arr = [list(map(int, input().split())) for _ in range(n)]\n",
    "divide_and_conquer(n, arr)\n",
    "print(x, y, z, sep=\"\\n\")"
   ]
  },
  {
   "cell_type": "code",
   "execution_count": 192,
   "metadata": {},
   "outputs": [
    {
     "data": {
      "text/plain": [
       "(2187, 33480783)"
      ]
     },
     "execution_count": 192,
     "metadata": {},
     "output_type": "execute_result"
    }
   ],
   "source": [
    "3**7, (2187**2)*7"
   ]
  },
  {
   "cell_type": "code",
   "execution_count": null,
   "metadata": {},
   "outputs": [],
   "source": []
  }
 ],
 "metadata": {
  "kernelspec": {
   "display_name": "base",
   "language": "python",
   "name": "python3"
  },
  "language_info": {
   "codemirror_mode": {
    "name": "ipython",
    "version": 3
   },
   "file_extension": ".py",
   "mimetype": "text/x-python",
   "name": "python",
   "nbconvert_exporter": "python",
   "pygments_lexer": "ipython3",
   "version": "3.10.13"
  }
 },
 "nbformat": 4,
 "nbformat_minor": 2
}
