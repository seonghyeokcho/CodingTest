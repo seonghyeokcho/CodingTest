{
 "cells": [
  {
   "cell_type": "markdown",
   "metadata": {},
   "source": [
    "#### 2750"
   ]
  },
  {
   "cell_type": "code",
   "execution_count": 6,
   "metadata": {},
   "outputs": [
    {
     "name": "stdout",
     "output_type": "stream",
     "text": [
      "1\n",
      "2\n",
      "3\n",
      "4\n",
      "5\n"
     ]
    }
   ],
   "source": [
    "import sys\n",
    "\n",
    "\n",
    "def quick_sort(L, low, high):\n",
    "    left, right = low, high\n",
    "    pivot = L[(left + right)//2]\n",
    "    \n",
    "    while left <= right:\n",
    "        while pivot > L[left]: left += 1\n",
    "        while pivot < L[right]: right -= 1\n",
    "        \n",
    "        if left <= right:\n",
    "            L[left], L[right] = L[right], L[left]\n",
    "            left += 1\n",
    "            right -= 1\n",
    "    \n",
    "    if low < right:\n",
    "        quick_sort(L, low, right)\n",
    "    if high > left:\n",
    "        quick_sort(L, left, high)\n",
    "    return L\n",
    "\n",
    "\n",
    "# input = sys.stdin.readline\n",
    "n = int(input())\n",
    "numbers = [int(input()) for _ in range(n)]\n",
    "print(*quick_sort(numbers, 0, len(numbers)-1), sep=\"\\n\")"
   ]
  },
  {
   "cell_type": "code",
   "execution_count": 31,
   "metadata": {},
   "outputs": [
    {
     "name": "stdout",
     "output_type": "stream",
     "text": [
      "[5, 2, 6, 3, 1, 4, 4, 7, 5, 6, 2, 1, 7, 5, 7, 9, 7, 5, 4, 3]\n",
      "[1, 1, 2, 2, 3, 3, 4, 4, 4, 5, 5, 5, 5, 6, 6, 7, 7, 7, 7, 9]\n",
      "1.27 s ± 16.1 ms per loop (mean ± std. dev. of 7 runs, 1 loop each)\n"
     ]
    }
   ],
   "source": [
    "# 직접 구현해본 삽입 정렬 알고리즘\n",
    "def insertion_sort(L):\n",
    "    for i in range(1, len(L)):\n",
    "        if L[i-1] > L[i]:\n",
    "            idx = i\n",
    "            temp = L[i]\n",
    "            while L[idx-1] > temp and idx > 0:\n",
    "                L[idx] = L[idx-1]\n",
    "                idx -= 1\n",
    "            L[idx] = temp\n",
    "    return L\n",
    "\n",
    "L = [5,2,6,3,1,4,4,7,5,6,2,1,7,5,7,9,7,5,4,3]\n",
    "result = insertion_sort(L.copy())\n",
    "print(L)\n",
    "print(result)\n",
    "%timeit insertion_sort(list(range(4000, 0, -1)))"
   ]
  },
  {
   "cell_type": "code",
   "execution_count": null,
   "metadata": {},
   "outputs": [],
   "source": []
  },
  {
   "cell_type": "code",
   "execution_count": null,
   "metadata": {},
   "outputs": [],
   "source": []
  }
 ],
 "metadata": {
  "kernelspec": {
   "display_name": "base",
   "language": "python",
   "name": "python3"
  },
  "language_info": {
   "codemirror_mode": {
    "name": "ipython",
    "version": 3
   },
   "file_extension": ".py",
   "mimetype": "text/x-python",
   "name": "python",
   "nbconvert_exporter": "python",
   "pygments_lexer": "ipython3",
   "version": "3.10.13"
  }
 },
 "nbformat": 4,
 "nbformat_minor": 2
}
