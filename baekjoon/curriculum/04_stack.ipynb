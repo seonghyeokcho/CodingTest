{
 "cells": [
  {
   "cell_type": "markdown",
   "metadata": {},
   "source": [
    "#### 1874"
   ]
  },
  {
   "cell_type": "code",
   "execution_count": null,
   "metadata": {},
   "outputs": [
    {
     "name": "stdout",
     "output_type": "stream",
     "text": [
      "NO\n"
     ]
    }
   ],
   "source": [
    "import sys\n",
    "# input = sys.stdin.readline\n",
    "\n",
    "n = int(input())\n",
    "answer = [int(input()) for _ in range(n)]\n",
    "numbers = [i for i in range(n, 0, -1)]\n",
    "\n",
    "stack = []\n",
    "sequence = []\n",
    "commands = []\n",
    "\n",
    "idx = 0\n",
    "while numbers:\n",
    "    stack.append(numbers.pop())\n",
    "    commands.append(\"+\")\n",
    "    if stack[-1] == answer[idx]:\n",
    "        while stack and stack[-1] == answer[idx]:\n",
    "            sequence.append(stack.pop())\n",
    "            commands.append(\"-\")\n",
    "            idx += 1\n",
    "            \n",
    "if len(sequence) == len(answer):\n",
    "    print(*commands, sep=\"\\n\")\n",
    "else:\n",
    "    print(\"NO\")"
   ]
  },
  {
   "cell_type": "markdown",
   "metadata": {},
   "source": [
    "#### 9012"
   ]
  },
  {
   "cell_type": "code",
   "execution_count": 44,
   "metadata": {},
   "outputs": [
    {
     "name": "stdout",
     "output_type": "stream",
     "text": [
      "YES\n"
     ]
    }
   ],
   "source": [
    "for _ in range(int(input())):\n",
    "    PS = input()\n",
    "    stack = []\n",
    "    for s in PS:\n",
    "        if stack[-1:] == [\"(\"] and s == \")\":\n",
    "            stack.pop()\n",
    "            continue\n",
    "        stack.append(s)\n",
    "    if stack:\n",
    "        print(\"NO\")\n",
    "    else:\n",
    "        print(\"YES\")"
   ]
  },
  {
   "cell_type": "markdown",
   "metadata": {},
   "source": [
    "#### 10799"
   ]
  },
  {
   "cell_type": "code",
   "execution_count": 19,
   "metadata": {},
   "outputs": [
    {
     "name": "stdout",
     "output_type": "stream",
     "text": [
      "17\n"
     ]
    }
   ],
   "source": [
    "parenthesis = input()\n",
    "stack, pieces = [], 0\n",
    "for idx in range(len(parenthesis)):\n",
    "    if parenthesis[idx] == \"(\":\n",
    "        stack.append(\"(\")\n",
    "    else:\n",
    "        stack.pop()\n",
    "        pieces += len(stack) if parenthesis[idx-1] == \"(\" else 1\n",
    "print(pieces)"
   ]
  },
  {
   "cell_type": "code",
   "execution_count": 13,
   "metadata": {},
   "outputs": [
    {
     "name": "stdout",
     "output_type": "stream",
     "text": [
      "17\n"
     ]
    }
   ],
   "source": [
    "parenthesis = input()\n",
    "stack, pieces = [], 0\n",
    "for idx in range(len(parenthesis)):\n",
    "    if parenthesis[idx] == \"(\":\n",
    "        stack.append(\"(\")\n",
    "    else:\n",
    "        stack.pop()\n",
    "        if parenthesis[idx-1] == \"(\":\n",
    "            pieces += len(stack)\n",
    "        else:\n",
    "            pieces += 1\n",
    "print(pieces)"
   ]
  },
  {
   "cell_type": "markdown",
   "metadata": {},
   "source": [
    "#### 2493"
   ]
  },
  {
   "cell_type": "code",
   "execution_count": null,
   "metadata": {},
   "outputs": [
    {
     "name": "stdout",
     "output_type": "stream",
     "text": [
      "0 0 2 2 4\n"
     ]
    }
   ],
   "source": [
    "n = int(input())\n",
    "tower_heights = list(map(int, input().split()))\n",
    "\n",
    "stack = []\n",
    "recieved_tower_numbers = []\n",
    "\n",
    "for idx in range(n):\n",
    "    while stack:\n",
    "        if stack[-1][1] > tower_heights[idx]:\n",
    "            recieved_tower_numbers.append(stack[-1][0])\n",
    "            break\n",
    "        else:\n",
    "            stack.pop()\n",
    "    else:\n",
    "        recieved_tower_numbers.append(0)\n",
    "    stack.append([idx+1, tower_heights[idx]])\n",
    "\n",
    "print(*recieved_tower_numbers)"
   ]
  },
  {
   "cell_type": "code",
   "execution_count": null,
   "metadata": {},
   "outputs": [],
   "source": [
    "n = int(input())\n",
    "\n",
    "stack = []\n",
    "recieved_tower_numbers = []\n",
    "\n",
    "for idx, height in enumerate(map(int, input().split()), 1):\n",
    "    while stack:\n",
    "        if stack[-1][1] > height:\n",
    "            recieved_tower_numbers.append(stack[-1][0])\n",
    "            break\n",
    "        else:\n",
    "            stack.pop()\n",
    "    else:\n",
    "        recieved_tower_numbers.append(0)\n",
    "    stack.append([idx, height])\n",
    "\n",
    "print(*recieved_tower_numbers)"
   ]
  },
  {
   "cell_type": "markdown",
   "metadata": {},
   "source": [
    "#### 2504"
   ]
  },
  {
   "cell_type": "code",
   "execution_count": null,
   "metadata": {},
   "outputs": [],
   "source": [
    "parenthesis = input()\n",
    "\n",
    "values = {\"(\":2, \"[\":3}\n",
    "stack = []\n",
    "temp = 1\n",
    "answer = 0\n",
    "\n",
    "for idx in range(len(parenthesis)):\n",
    "    if parenthesis[idx] in [\"(\", \"[\"]:\n",
    "        stack.append(parenthesis[idx])\n",
    "        temp *= values[parenthesis[idx]]\n",
    "    elif parenthesis[idx] == \")\":\n",
    "        if stack[-1:] != [\"(\"]:\n",
    "            answer = 0\n",
    "            break\n",
    "        if parenthesis[idx-1] == \"(\":\n",
    "            answer += temp\n",
    "        stack.pop()\n",
    "        temp //= 2\n",
    "    else:\n",
    "        if stack[-1:] != [\"[\"]:\n",
    "            answer = 0\n",
    "            break\n",
    "        if parenthesis[idx-1] == \"[\":\n",
    "            answer += temp\n",
    "        stack.pop()\n",
    "        temp //= 3\n",
    "\n",
    "print(0 if stack else answer)"
   ]
  },
  {
   "cell_type": "markdown",
   "metadata": {},
   "source": [
    "#### 10773"
   ]
  },
  {
   "cell_type": "code",
   "execution_count": null,
   "metadata": {},
   "outputs": [
    {
     "name": "stdout",
     "output_type": "stream",
     "text": [
      "7\n"
     ]
    }
   ],
   "source": [
    "# import sys\n",
    "# input = sys.stdin.readline\n",
    "\n",
    "k = int(input())\n",
    "\n",
    "money = 0\n",
    "history = []\n",
    "for _ in range(k):\n",
    "    number = int(input())\n",
    "    if not number:\n",
    "        money -= history.pop()\n",
    "        continue\n",
    "    money += number\n",
    "    history.append(number)\n",
    "print(money)"
   ]
  },
  {
   "cell_type": "code",
   "execution_count": null,
   "metadata": {},
   "outputs": [],
   "source": [
    "# import sys\n",
    "# input = sys.stdin.readline\n",
    "\n",
    "k = int(input())\n",
    "\n",
    "stack = []\n",
    "for _ in range(k):\n",
    "    number = int(input())\n",
    "    if not number:\n",
    "        stack.pop()\n",
    "        continue\n",
    "    stack.append(number)\n",
    "print(sum(money))"
   ]
  },
  {
   "cell_type": "markdown",
   "metadata": {},
   "source": [
    "#### 6198"
   ]
  },
  {
   "cell_type": "code",
   "execution_count": 5,
   "metadata": {},
   "outputs": [
    {
     "name": "stdout",
     "output_type": "stream",
     "text": [
      "5\n"
     ]
    }
   ],
   "source": [
    "# import sys\n",
    "# input = sys.stdin.readline\n",
    "\n",
    "count = 0\n",
    "stack = []\n",
    "for i in range(int(input())):\n",
    "    h = int(input())\n",
    "    while stack and stack[-1] <= h:\n",
    "        stack.pop()\n",
    "    stack.append(h)\n",
    "    count += len(stack) - 1\n",
    "print(count)"
   ]
  },
  {
   "cell_type": "markdown",
   "metadata": {},
   "source": [
    "#### 17298"
   ]
  },
  {
   "cell_type": "code",
   "execution_count": null,
   "metadata": {},
   "outputs": [
    {
     "name": "stdout",
     "output_type": "stream",
     "text": [
      "5 7 7 -1\n"
     ]
    }
   ],
   "source": [
    "n = int(input())\n",
    "A = list(map(int, input().split()))\n",
    "nge = [-1] * n\n",
    "stack = []\n",
    "for i in range(len(A)):\n",
    "    while stack and A[stack[-1]] < A[i]:\n",
    "        nge[stack.pop()] = A[i]\n",
    "    stack.append(i)\n",
    "print(*nge)"
   ]
  },
  {
   "cell_type": "markdown",
   "metadata": {},
   "source": [
    "#### 3015"
   ]
  },
  {
   "cell_type": "code",
   "execution_count": null,
   "metadata": {},
   "outputs": [],
   "source": [
    "# import sys\n",
    "# input = sys.stdin.readline\n",
    "\n",
    "HEIGHT, COUNT = 0, 1\n",
    "stack = []  # [[HEIGHT, COUNT], [HEIGHT, COUNT], ...]\n",
    "answer = 0\n",
    "\n",
    "for _ in range(int(input())):\n",
    "    height = int(input())\n",
    "    \n",
    "    while stack and stack[-1][HEIGHT] < height:\n",
    "        answer += stack.pop()[COUNT]\n",
    "    \n",
    "    if not stack:\n",
    "        stack.append((height, 1))\n",
    "        continue\n",
    "    \n",
    "    if stack[-1][HEIGHT] == height:\n",
    "        count = stack.pop()[COUNT]\n",
    "        answer += count\n",
    "        if stack:\n",
    "            answer += 1\n",
    "        stack.append((height, count+1))\n",
    "    else:\n",
    "        stack.append((height, 1))\n",
    "        answer += 1\n",
    "\n",
    "print(answer)"
   ]
  },
  {
   "cell_type": "markdown",
   "metadata": {},
   "source": [
    "#### 6549"
   ]
  },
  {
   "cell_type": "code",
   "execution_count": 12,
   "metadata": {},
   "outputs": [
    {
     "name": "stdout",
     "output_type": "stream",
     "text": [
      "21\n",
      "18\n"
     ]
    }
   ],
   "source": [
    "# import sys\n",
    "# input = sys.stdin.readline\n",
    "\n",
    "INDEX, HEIGHT = 0, 1\n",
    "while (case := input().rstrip()) != \"0\":\n",
    "    max_area = 0\n",
    "    stack = []\n",
    "    histogram = list(map(int, case.split()))\n",
    "    n = histogram[0]\n",
    "    for i in range(1, n+1):\n",
    "        if not stack or stack[-1][HEIGHT] <= histogram[i]:\n",
    "            stack.append((i, histogram[i]))\n",
    "        else:\n",
    "            while stack and stack[-1][HEIGHT] > histogram[i]:\n",
    "                stick = stack.pop()\n",
    "                width = i-1 if not stack else i-stack[-1][INDEX]-1\n",
    "                max_area = max(max_area, stick[HEIGHT] * width)\n",
    "            stack.append((i, histogram[i]))\n",
    "    \n",
    "    while stack:\n",
    "        stick = stack.pop()\n",
    "        width = n if not stack else n-stack[-1][INDEX]\n",
    "        max_area = max(max_area, stick[HEIGHT] * width)\n",
    "    print(max_area)"
   ]
  },
  {
   "cell_type": "markdown",
   "metadata": {},
   "source": [
    "#### 3986"
   ]
  },
  {
   "cell_type": "code",
   "execution_count": 5,
   "metadata": {},
   "outputs": [
    {
     "name": "stdout",
     "output_type": "stream",
     "text": [
      "2\n"
     ]
    }
   ],
   "source": [
    "# import sys\n",
    "# input = sys.stdin.readline\n",
    "\n",
    "\n",
    "count = 0\n",
    "for _ in range(int(input())):\n",
    "    word = input().rstrip()\n",
    "    stack = []\n",
    "    for w in word:\n",
    "        if stack[-1:] == [w]:\n",
    "            stack.pop()\n",
    "        else:\n",
    "            stack.append(w)\n",
    "    if not stack:\n",
    "        count += 1\n",
    "print(count)"
   ]
  },
  {
   "cell_type": "markdown",
   "metadata": {},
   "source": [
    "#### 4949"
   ]
  },
  {
   "cell_type": "code",
   "execution_count": 28,
   "metadata": {},
   "outputs": [
    {
     "name": "stdout",
     "output_type": "stream",
     "text": [
      "yes\n",
      "yes\n",
      "no\n",
      "no\n",
      "no\n",
      "yes\n",
      "yes\n"
     ]
    }
   ],
   "source": [
    "# import sys\n",
    "# input = sys.stdin.readline\n",
    "\n",
    "\n",
    "while (sentence := input().rstrip()) != \".\":\n",
    "    stack = []\n",
    "    for i in sentence:\n",
    "        if stack[-1:] == [\"(\"] and i == \")\":\n",
    "            stack.pop()\n",
    "        elif stack[-1:] == [\"[\"] and i == \"]\":\n",
    "            stack.pop()\n",
    "        elif i in [\"(\", \")\", \"[\", \"]\"]:\n",
    "            stack.append(i)\n",
    "    if stack:\n",
    "        print(\"no\")\n",
    "    else:\n",
    "        print(\"yes\")"
   ]
  },
  {
   "cell_type": "code",
   "execution_count": null,
   "metadata": {},
   "outputs": [],
   "source": []
  },
  {
   "cell_type": "code",
   "execution_count": null,
   "metadata": {},
   "outputs": [],
   "source": []
  }
 ],
 "metadata": {
  "kernelspec": {
   "display_name": "base",
   "language": "python",
   "name": "python3"
  },
  "language_info": {
   "codemirror_mode": {
    "name": "ipython",
    "version": 3
   },
   "file_extension": ".py",
   "mimetype": "text/x-python",
   "name": "python",
   "nbconvert_exporter": "python",
   "pygments_lexer": "ipython3",
   "version": "3.10.13"
  }
 },
 "nbformat": 4,
 "nbformat_minor": 2
}
