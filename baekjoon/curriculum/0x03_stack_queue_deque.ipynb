{
 "cells": [
  {
   "cell_type": "code",
   "execution_count": null,
   "metadata": {},
   "outputs": [],
   "source": [
    "#### 1021"
   ]
  },
  {
   "cell_type": "code",
   "execution_count": 10,
   "metadata": {},
   "outputs": [
    {
     "name": "stdout",
     "output_type": "stream",
     "text": [
      "14\n"
     ]
    }
   ],
   "source": [
    "from collections import deque\n",
    "\n",
    "n, m = map(int, input().split())\n",
    "q = deque(range(1, n+1))\n",
    "positions = map(int, input().split())\n",
    "\n",
    "count = 0\n",
    "for pos in positions:\n",
    "    length_q = len(q)\n",
    "    while len(q) == length_q:\n",
    "        if q[0] == pos:\n",
    "            q.popleft()\n",
    "        else:\n",
    "            if (diff := q.index(pos)) <= len(q)//2:\n",
    "                q.rotate(-diff)\n",
    "                count += diff\n",
    "            else:\n",
    "                q.rotate(len(q)-diff)\n",
    "                count += len(q)-diff\n",
    "print(count)"
   ]
  },
  {
   "cell_type": "code",
   "execution_count": 1,
   "metadata": {},
   "outputs": [
    {
     "data": {
      "text/plain": [
       "[1, 2, 3, 4, 5, 6, 7, 8, 9, 10]"
      ]
     },
     "execution_count": 1,
     "metadata": {},
     "output_type": "execute_result"
    }
   ],
   "source": [
    "from collections import deque\n",
    "\n",
    "n, m = map(int, input().split())\n",
    "q = deque(range(1, n+1))\n",
    "positions = map(int, input().split())\n",
    "\n",
    "count = 0\n",
    "for pos in positions:\n",
    "    length_q = len(q)\n",
    "    while len(q) == length_q:\n",
    "        if q[0] == pos:\n",
    "            q.popleft()\n",
    "        else:\n",
    "            diff = -(-len(q)//2) - (q.index(pos) % (len(q)//2)) + 1\n",
    "print(count)"
   ]
  },
  {
   "cell_type": "code",
   "execution_count": 28,
   "metadata": {},
   "outputs": [
    {
     "data": {
      "text/plain": [
       "4"
      ]
     },
     "execution_count": 28,
     "metadata": {},
     "output_type": "execute_result"
    }
   ],
   "source": []
  }
 ],
 "metadata": {
  "kernelspec": {
   "display_name": "base",
   "language": "python",
   "name": "python3"
  },
  "language_info": {
   "codemirror_mode": {
    "name": "ipython",
    "version": 3
   },
   "file_extension": ".py",
   "mimetype": "text/x-python",
   "name": "python",
   "nbconvert_exporter": "python",
   "pygments_lexer": "ipython3",
   "version": "3.10.13"
  }
 },
 "nbformat": 4,
 "nbformat_minor": 2
}
