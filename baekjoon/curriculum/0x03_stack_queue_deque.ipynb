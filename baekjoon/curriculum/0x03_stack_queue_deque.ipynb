{
 "cells": [
  {
   "cell_type": "markdown",
   "metadata": {},
   "source": [
    "#### 1021"
   ]
  },
  {
   "cell_type": "code",
   "execution_count": 35,
   "metadata": {},
   "outputs": [
    {
     "ename": "ValueError",
     "evalue": "not enough values to unpack (expected 2, got 0)",
     "output_type": "error",
     "traceback": [
      "\u001b[0;31m---------------------------------------------------------------------------\u001b[0m",
      "\u001b[0;31mValueError\u001b[0m                                Traceback (most recent call last)",
      "Cell \u001b[0;32mIn[35], line 3\u001b[0m\n\u001b[1;32m      1\u001b[0m \u001b[38;5;28;01mfrom\u001b[39;00m \u001b[38;5;21;01mcollections\u001b[39;00m \u001b[38;5;28;01mimport\u001b[39;00m deque\n\u001b[0;32m----> 3\u001b[0m n, m \u001b[38;5;241m=\u001b[39m \u001b[38;5;28mmap\u001b[39m(\u001b[38;5;28mint\u001b[39m, \u001b[38;5;28minput\u001b[39m()\u001b[38;5;241m.\u001b[39msplit())\n\u001b[1;32m      4\u001b[0m q \u001b[38;5;241m=\u001b[39m deque(\u001b[38;5;28mrange\u001b[39m(\u001b[38;5;241m1\u001b[39m, n\u001b[38;5;241m+\u001b[39m\u001b[38;5;241m1\u001b[39m))\n\u001b[1;32m      5\u001b[0m positions \u001b[38;5;241m=\u001b[39m \u001b[38;5;28mmap\u001b[39m(\u001b[38;5;28mint\u001b[39m, \u001b[38;5;28minput\u001b[39m()\u001b[38;5;241m.\u001b[39msplit())\n",
      "\u001b[0;31mValueError\u001b[0m: not enough values to unpack (expected 2, got 0)"
     ]
    }
   ],
   "source": [
    "from collections import deque\n",
    "\n",
    "n, m = map(int, input().split())\n",
    "q = deque(range(1, n+1))\n",
    "positions = map(int, input().split())\n",
    "\n",
    "count = 0\n",
    "for pos in positions:\n",
    "    length_q = len(q)\n",
    "    while len(q) == length_q:\n",
    "        if q[0] == pos:\n",
    "            q.popleft()\n",
    "        else:\n",
    "            if (diff := q.index(pos)) <= len(q)//2:\n",
    "                q.rotate(-diff)\n",
    "                count += diff\n",
    "            else:\n",
    "                q.rotate(len(q)-diff)\n",
    "                count += len(q)-diff\n",
    "print(count)"
   ]
  },
  {
   "cell_type": "markdown",
   "metadata": {},
   "source": [
    "#### 1874"
   ]
  },
  {
   "cell_type": "code",
   "execution_count": null,
   "metadata": {},
   "outputs": [
    {
     "name": "stdout",
     "output_type": "stream",
     "text": [
      "NO\n"
     ]
    }
   ],
   "source": [
    "import sys\n",
    "# input = sys.stdin.readline\n",
    "\n",
    "n = int(input())\n",
    "answer = [int(input()) for _ in range(n)]\n",
    "numbers = [i for i in range(n, 0, -1)]\n",
    "\n",
    "stack = []\n",
    "sequence = []\n",
    "commands = []\n",
    "\n",
    "idx = 0\n",
    "while numbers:\n",
    "    stack.append(numbers.pop())\n",
    "    commands.append(\"+\")\n",
    "    if stack[-1] == answer[idx]:\n",
    "        while stack and stack[-1] == answer[idx]:\n",
    "            sequence.append(stack.pop())\n",
    "            commands.append(\"-\")\n",
    "            idx += 1\n",
    "            \n",
    "if len(sequence) == len(answer):\n",
    "    print(*commands, sep=\"\\n\")\n",
    "else:\n",
    "    print(\"NO\")"
   ]
  },
  {
   "cell_type": "markdown",
   "metadata": {},
   "source": [
    "#### 9012"
   ]
  },
  {
   "cell_type": "code",
   "execution_count": 44,
   "metadata": {},
   "outputs": [
    {
     "name": "stdout",
     "output_type": "stream",
     "text": [
      "YES\n"
     ]
    }
   ],
   "source": [
    "for _ in range(int(input())):\n",
    "    PS = input()\n",
    "    stack = []\n",
    "    for s in PS:\n",
    "        if stack[-1:] == [\"(\"] and s == \")\":\n",
    "            stack.pop()\n",
    "            continue\n",
    "        stack.append(s)\n",
    "    if stack:\n",
    "        print(\"NO\")\n",
    "    else:\n",
    "        print(\"YES\")"
   ]
  },
  {
   "cell_type": "markdown",
   "metadata": {},
   "source": [
    "#### 5430"
   ]
  },
  {
   "cell_type": "code",
   "execution_count": 2,
   "metadata": {},
   "outputs": [
    {
     "name": "stdout",
     "output_type": "stream",
     "text": [
      "[1,2,3,5,8]\n"
     ]
    }
   ],
   "source": [
    "for _ in range(int(input())):\n",
    "    functions = input()\n",
    "    n = int(input())\n",
    "    \n",
    "    array = []\n",
    "    for i in input()[1:-1].split(\",\"):\n",
    "        if i.isdigit():\n",
    "            array.append(i)\n",
    "    \n",
    "    is_reversed = 0\n",
    "    for func in functions:\n",
    "        if func == \"R\":\n",
    "            is_reversed = (is_reversed + 1) % 2\n",
    "        elif func == \"D\":\n",
    "            if array:\n",
    "                array.pop(0 - is_reversed)\n",
    "            else:\n",
    "                print(\"error\")\n",
    "                break\n",
    "    else:\n",
    "        if is_reversed:\n",
    "            print(\"[\"+\",\".join(array[::-1])+\"]\")\n",
    "        else:\n",
    "            print(\"[\"+\",\".join(array)+\"]\")"
   ]
  },
  {
   "cell_type": "code",
   "execution_count": 1,
   "metadata": {},
   "outputs": [
    {
     "name": "stdout",
     "output_type": "stream",
     "text": [
      "[1,2,3,5,8]\n"
     ]
    }
   ],
   "source": [
    "for _ in range(int(input())):\n",
    "    functions = input()\n",
    "    n = int(input())\n",
    "    array = input().strip(\"[]\").split(\",\")\n",
    "    \n",
    "    if (n := n - functions.count(\"D\")) < 0:\n",
    "        print(\"error\")\n",
    "        continue\n",
    "    \n",
    "    k = 0\n",
    "    is_reversed = False\n",
    "    for func in functions:\n",
    "        if func == \"R\":\n",
    "            is_reversed = not is_reversed\n",
    "        elif not is_reversed:\n",
    "            k += 1\n",
    "            \n",
    "    array = array[k:k+n]\n",
    "    if is_reversed:\n",
    "        array = reversed(array)\n",
    "    print(\"[\"+\",\".join(array)+\"]\")"
   ]
  },
  {
   "cell_type": "markdown",
   "metadata": {},
   "source": [
    "#### 10799"
   ]
  },
  {
   "cell_type": "code",
   "execution_count": 13,
   "metadata": {},
   "outputs": [
    {
     "name": "stdout",
     "output_type": "stream",
     "text": [
      "17\n"
     ]
    }
   ],
   "source": [
    "parenthesis = input()\n",
    "stack, pieces = [], 0\n",
    "for idx in range(len(parenthesis)):\n",
    "    if parenthesis[idx] == \"(\":\n",
    "        stack.append(\"(\")\n",
    "    else:\n",
    "        stack.pop()\n",
    "        if parenthesis[idx-1] == \"(\":\n",
    "            pieces += len(stack)\n",
    "        else:\n",
    "            pieces += 1\n",
    "print(pieces)"
   ]
  },
  {
   "cell_type": "code",
   "execution_count": 19,
   "metadata": {},
   "outputs": [
    {
     "name": "stdout",
     "output_type": "stream",
     "text": [
      "17\n"
     ]
    }
   ],
   "source": [
    "parenthesis = input()\n",
    "stack, pieces = [], 0\n",
    "for idx in range(len(parenthesis)):\n",
    "    if parenthesis[idx] == \"(\":\n",
    "        stack.append(\"(\")\n",
    "    else:\n",
    "        stack.pop()\n",
    "        pieces += len(stack) if parenthesis[idx-1] == \"(\" else 1\n",
    "print(pieces)"
   ]
  },
  {
   "cell_type": "markdown",
   "metadata": {},
   "source": [
    "#### 2493"
   ]
  },
  {
   "cell_type": "code",
   "execution_count": null,
   "metadata": {},
   "outputs": [
    {
     "name": "stdout",
     "output_type": "stream",
     "text": [
      "0 0 2 2 4\n"
     ]
    }
   ],
   "source": [
    "n = int(input())\n",
    "tower_heights = list(map(int, input().split()))\n",
    "\n",
    "stack = []\n",
    "recieved_tower_numbers = []\n",
    "\n",
    "for idx in range(n):\n",
    "    while stack:\n",
    "        if stack[-1][1] > tower_heights[idx]:\n",
    "            recieved_tower_numbers.append(stack[-1][0])\n",
    "            break\n",
    "        else:\n",
    "            stack.pop()\n",
    "    else:\n",
    "        recieved_tower_numbers.append(0)\n",
    "    stack.append([idx+1, tower_heights[idx]])\n",
    "\n",
    "print(*recieved_tower_numbers)"
   ]
  },
  {
   "cell_type": "code",
   "execution_count": null,
   "metadata": {},
   "outputs": [],
   "source": [
    "n = int(input())\n",
    "\n",
    "stack = []\n",
    "recieved_tower_numbers = []\n",
    "\n",
    "for idx, height in enumerate(map(int, input().split()), 1):\n",
    "    while stack:\n",
    "        if stack[-1][1] > height:\n",
    "            recieved_tower_numbers.append(stack[-1][0])\n",
    "            break\n",
    "        else:\n",
    "            stack.pop()\n",
    "    else:\n",
    "        recieved_tower_numbers.append(0)\n",
    "    stack.append([idx, height])\n",
    "\n",
    "print(*recieved_tower_numbers)"
   ]
  },
  {
   "cell_type": "markdown",
   "metadata": {},
   "source": [
    "#### 2504"
   ]
  },
  {
   "cell_type": "code",
   "execution_count": null,
   "metadata": {},
   "outputs": [],
   "source": [
    "parenthesis = input()\n",
    "\n",
    "values = {\"(\":2, \"[\":3}\n",
    "stack = []\n",
    "temp = 1\n",
    "answer = 0\n",
    "\n",
    "for idx in range(len(parenthesis)):\n",
    "    if parenthesis[idx] in [\"(\", \"[\"]:\n",
    "        stack.append(parenthesis[idx])\n",
    "        temp *= values[parenthesis[idx]]\n",
    "    elif parenthesis[idx] == \")\":\n",
    "        if stack[-1:] != [\"(\"]:\n",
    "            answer = 0\n",
    "            break\n",
    "        if parenthesis[idx-1] == \"(\":\n",
    "            answer += temp\n",
    "        stack.pop()\n",
    "        temp //= 2\n",
    "    else:\n",
    "        if stack[-1:] != [\"[\"]:\n",
    "            answer = 0\n",
    "            break\n",
    "        if parenthesis[idx-1] == \"[\":\n",
    "            answer += temp\n",
    "        stack.pop()\n",
    "        temp //= 3\n",
    "\n",
    "print(0 if stack else answer)"
   ]
  },
  {
   "cell_type": "markdown",
   "metadata": {},
   "source": [
    "#### 10773"
   ]
  },
  {
   "cell_type": "code",
   "execution_count": null,
   "metadata": {},
   "outputs": [
    {
     "name": "stdout",
     "output_type": "stream",
     "text": [
      "7\n"
     ]
    }
   ],
   "source": [
    "# import sys\n",
    "# input = sys.stdin.readline\n",
    "\n",
    "k = int(input())\n",
    "\n",
    "money = 0\n",
    "history = []\n",
    "for _ in range(k):\n",
    "    number = int(input())\n",
    "    if not number:\n",
    "        money -= history.pop()\n",
    "        continue\n",
    "    money += number\n",
    "    history.append(number)\n",
    "print(money)"
   ]
  },
  {
   "cell_type": "code",
   "execution_count": null,
   "metadata": {},
   "outputs": [],
   "source": [
    "# import sys\n",
    "# input = sys.stdin.readline\n",
    "\n",
    "k = int(input())\n",
    "\n",
    "stack = []\n",
    "for _ in range(k):\n",
    "    number = int(input())\n",
    "    if not number:\n",
    "        stack.pop()\n",
    "        continue\n",
    "    stack.append(number)\n",
    "print(sum(money))"
   ]
  },
  {
   "cell_type": "markdown",
   "metadata": {},
   "source": [
    "#### 6198"
   ]
  },
  {
   "cell_type": "code",
   "execution_count": 5,
   "metadata": {},
   "outputs": [
    {
     "name": "stdout",
     "output_type": "stream",
     "text": [
      "5\n"
     ]
    }
   ],
   "source": [
    "# import sys\n",
    "# input = sys.stdin.readline\n",
    "\n",
    "count = 0\n",
    "stack = []\n",
    "for i in range(int(input())):\n",
    "    h = int(input())\n",
    "    while stack and stack[-1] <= h:\n",
    "        stack.pop()\n",
    "    stack.append(h)\n",
    "    count += len(stack) - 1\n",
    "print(count)"
   ]
  },
  {
   "cell_type": "markdown",
   "metadata": {},
   "source": [
    "#### 17298"
   ]
  },
  {
   "cell_type": "code",
   "execution_count": null,
   "metadata": {},
   "outputs": [
    {
     "name": "stdout",
     "output_type": "stream",
     "text": [
      "5 7 7 -1\n"
     ]
    }
   ],
   "source": [
    "n = int(input())\n",
    "A = list(map(int, input().split()))\n",
    "nge = [-1] * n\n",
    "stack = []\n",
    "for i in range(len(A)):\n",
    "    while stack and A[stack[-1]] < A[i]:\n",
    "        nge[stack.pop()] = A[i]\n",
    "    stack.append(i)\n",
    "print(*nge)"
   ]
  },
  {
   "cell_type": "markdown",
   "metadata": {},
   "source": [
    "#### 3015"
   ]
  },
  {
   "cell_type": "code",
   "execution_count": null,
   "metadata": {},
   "outputs": [
    {
     "name": "stdout",
     "output_type": "stream",
     "text": [
      "55\n"
     ]
    }
   ],
   "source": [
    "# import sys\n",
    "# input = sys.stdin.readline\n",
    "\n",
    "n = int(input())\n",
    "heights = [int(input()) for _ in range(n)]\n",
    "\n",
    "counts = 0\n",
    "stack = []\n",
    "\n",
    "for h in heights:\n",
    "    while stack and stack[-1][0] < h:\n",
    "        counts += stack.pop()[1]\n",
    "\n",
    "    if not stack:\n",
    "        stack.append((h, 1))\n",
    "        continue\n",
    "    \n",
    "    if stack[-1][0] == h:\n",
    "        count = stack.pop()[1]\n",
    "        counts += count\n",
    "        \n",
    "        if stack:\n",
    "            counts += 1\n",
    "            \n",
    "        stack.append((h, count+1))\n",
    "    else:\n",
    "        stack.append((h, 1))\n",
    "        counts += 1\n",
    "\n",
    "print(counts)"
   ]
  },
  {
   "cell_type": "markdown",
   "metadata": {},
   "source": [
    "#### 2164"
   ]
  },
  {
   "cell_type": "code",
   "execution_count": 50,
   "metadata": {},
   "outputs": [
    {
     "name": "stdout",
     "output_type": "stream",
     "text": [
      "4\n"
     ]
    }
   ],
   "source": [
    "from collections import deque\n",
    "\n",
    "\n",
    "cards = deque(range(1, int(input())+1))\n",
    "\n",
    "while len(cards) > 1:\n",
    "    cards.popleft()\n",
    "    cards.rotate(-1)\n",
    "\n",
    "print(cards[0])"
   ]
  },
  {
   "cell_type": "code",
   "execution_count": null,
   "metadata": {},
   "outputs": [],
   "source": [
    "\n",
    "_\\O/_\n"
   ]
  }
 ],
 "metadata": {
  "kernelspec": {
   "display_name": "base",
   "language": "python",
   "name": "python3"
  },
  "language_info": {
   "codemirror_mode": {
    "name": "ipython",
    "version": 3
   },
   "file_extension": ".py",
   "mimetype": "text/x-python",
   "name": "python",
   "nbconvert_exporter": "python",
   "pygments_lexer": "ipython3",
   "version": "3.10.13"
  }
 },
 "nbformat": 4,
 "nbformat_minor": 2
}
