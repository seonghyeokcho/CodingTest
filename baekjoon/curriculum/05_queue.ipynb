{
 "cells": [
  {
   "cell_type": "markdown",
   "metadata": {},
   "source": [
    "#### 2164"
   ]
  },
  {
   "cell_type": "code",
   "execution_count": 50,
   "metadata": {},
   "outputs": [
    {
     "name": "stdout",
     "output_type": "stream",
     "text": [
      "4\n"
     ]
    }
   ],
   "source": [
    "from collections import deque\n",
    "\n",
    "\n",
    "cards = deque(range(1, int(input())+1))\n",
    "\n",
    "while len(cards) > 1:\n",
    "    cards.popleft()\n",
    "    cards.rotate(-1)\n",
    "\n",
    "print(cards[0])"
   ]
  },
  {
   "cell_type": "markdown",
   "metadata": {},
   "source": [
    "#### 13335"
   ]
  },
  {
   "cell_type": "code",
   "execution_count": null,
   "metadata": {},
   "outputs": [],
   "source": [
    "import sys\n",
    "from collections import deque\n",
    "\n",
    "\n",
    "# input = sys.stdin.readline\n",
    "n, w, L = map(int, input().split())\n",
    "trucks = deque(map(int, input().split()))\n",
    "bridge = deque([0]*w, maxlen=w)\n",
    "weights, seconds = 0, 0\n",
    "\n",
    "if min(trucks) >= L:  # 항상 1대의 트럭만 건널수 있는 경우\n",
    "    print(w * len(trucks) + 1)\n",
    "    sys.exit(0)\n",
    "\n",
    "while trucks:\n",
    "    weights -= bridge[0]\n",
    "    if trucks[0] + weights <= L:\n",
    "        weights += trucks[0]\n",
    "        bridge.append(trucks.popleft())\n",
    "    else:\n",
    "        bridge.append(0)\n",
    "    seconds += 1\n",
    "    \n",
    "print(seconds + w)"
   ]
  },
  {
   "cell_type": "code",
   "execution_count": null,
   "metadata": {},
   "outputs": [],
   "source": []
  },
  {
   "cell_type": "code",
   "execution_count": null,
   "metadata": {},
   "outputs": [],
   "source": []
  }
 ],
 "metadata": {
  "kernelspec": {
   "display_name": "base",
   "language": "python",
   "name": "python3"
  },
  "language_info": {
   "codemirror_mode": {
    "name": "ipython",
    "version": 3
   },
   "file_extension": ".py",
   "mimetype": "text/x-python",
   "name": "python",
   "nbconvert_exporter": "python",
   "pygments_lexer": "ipython3",
   "version": "3.10.13"
  }
 },
 "nbformat": 4,
 "nbformat_minor": 2
}
