{
 "cells": [
  {
   "cell_type": "markdown",
   "metadata": {},
   "source": [
    "#### 1158\n",
    "\n",
    "- 참고\n",
    "    - 요세푸스 순열의 마지막 수 구하는 점화식: $f(n,k)=((f(n−1,k)+k−1)\\ mod\\ n)+1$\n",
    "\n",
    "```python3\n",
    "n = 7\n",
    "k = 3\n",
    "dp = [0] * n\n",
    "\n",
    "for i in range(1, n):\n",
    "    dp[i] = (dp[i-1] + k - 1) % n + 1\n",
    "\n",
    "print(dp[-1])\n",
    "```"
   ]
  },
  {
   "cell_type": "code",
   "execution_count": 7,
   "metadata": {},
   "outputs": [
    {
     "name": "stdout",
     "output_type": "stream",
     "text": [
      "<3, 6, 2, 7, 5, 1, 4>\n"
     ]
    }
   ],
   "source": [
    "from collections import deque\n",
    "\n",
    "\n",
    "# n, k = map(int, input().split())\n",
    "n, k = 7, 3\n",
    "q = deque(range(1, n+1))\n",
    "\n",
    "perm = []\n",
    "while q:\n",
    "    for _ in range(k):\n",
    "        q.append(q.popleft())\n",
    "    perm.append(str(q.pop()))\n",
    "    \n",
    "print(f\"<{', '.join(perm)}>\")"
   ]
  },
  {
   "cell_type": "code",
   "execution_count": 6,
   "metadata": {},
   "outputs": [
    {
     "name": "stdout",
     "output_type": "stream",
     "text": [
      "<3, 6, 2, 7, 5, 1, 4>\n"
     ]
    }
   ],
   "source": [
    "# n, k = map(int, input().split())\n",
    "n, k = 7, 3\n",
    "q = list(range(1, n+1))\n",
    "\n",
    "perm = []\n",
    "i = 0\n",
    "while q:\n",
    "    i = (i + k - 1) % len(q)\n",
    "    perm.append(str(q.pop(i)))\n",
    "        \n",
    "print(f\"<{', '.join(perm)}>\")"
   ]
  },
  {
   "cell_type": "markdown",
   "metadata": {},
   "source": [
    "#### 5397"
   ]
  },
  {
   "cell_type": "code",
   "execution_count": 30,
   "metadata": {},
   "outputs": [
    {
     "name": "stdout",
     "output_type": "stream",
     "text": [
      "ThIsIsS3Cr3t\n"
     ]
    }
   ],
   "source": [
    "## 시간 초과\n",
    "# import sys\n",
    "# input = sys.stdin.readline\n",
    "\n",
    "\n",
    "n = int(input())\n",
    "\n",
    "for _ in range(n):\n",
    "    password = []\n",
    "    cursor = 0\n",
    "    log = input()\n",
    "    for key in log:\n",
    "        if key == \">\":\n",
    "            cursor = min(len(password), cursor+1)\n",
    "        elif key == \"<\":\n",
    "            cursor = max(0, cursor-1)\n",
    "        elif key == \"-\" and cursor > 1:\n",
    "            password.pop(cursor-1)\n",
    "            cursor -= 1\n",
    "        else:\n",
    "            password.insert(cursor, key)\n",
    "            cursor += 1\n",
    "    print(\"\".join(password))"
   ]
  },
  {
   "cell_type": "code",
   "execution_count": 33,
   "metadata": {},
   "outputs": [
    {
     "name": "stdout",
     "output_type": "stream",
     "text": [
      "ThIsIsS3Cr3t\n"
     ]
    }
   ],
   "source": [
    "# import sys\n",
    "# input = sys.stdin.readline\n",
    "\n",
    "\n",
    "n = int(input())\n",
    "\n",
    "for _ in range(n):\n",
    "    cursor_left, cursor_right = [], []\n",
    "    log = input()\n",
    "    for key in log:\n",
    "        if key.isalnum():\n",
    "            cursor_left.append(key)\n",
    "        elif cursor_left and key == \"<\":\n",
    "            cursor_right.append(cursor_left.pop())\n",
    "        elif cursor_right and key == \">\":\n",
    "            cursor_left.append(cursor_right.pop())\n",
    "        elif cursor_left and key == \"-\":\n",
    "            cursor_left.pop()\n",
    "    print(\"\".join(cursor_left+cursor_right[::-1]))"
   ]
  },
  {
   "cell_type": "markdown",
   "metadata": {},
   "source": [
    "#### 1406"
   ]
  },
  {
   "cell_type": "code",
   "execution_count": 34,
   "metadata": {},
   "outputs": [
    {
     "name": "stdout",
     "output_type": "stream",
     "text": [
      "abcdyx\n"
     ]
    }
   ],
   "source": [
    "# import sys\n",
    "# input = sys.stdin.readline\n",
    "\n",
    "\n",
    "left, right = list(input()), []\n",
    "n = int(input())\n",
    "\n",
    "for _ in range(n):\n",
    "    command = input().split()\n",
    "    if command[0] == \"P\":\n",
    "        left.append(command[1])\n",
    "    elif left and command[0] == \"L\":\n",
    "        right.append(left.pop())\n",
    "    elif right and command[0] == \"D\":\n",
    "        left.append(right.pop())\n",
    "    elif left and command[0] == \"B\":\n",
    "        left.pop()\n",
    "print(\"\".join(left + right[::-1]))"
   ]
  },
  {
   "cell_type": "code",
   "execution_count": null,
   "metadata": {},
   "outputs": [],
   "source": []
  }
 ],
 "metadata": {
  "kernelspec": {
   "display_name": "base",
   "language": "python",
   "name": "python3"
  },
  "language_info": {
   "codemirror_mode": {
    "name": "ipython",
    "version": 3
   },
   "file_extension": ".py",
   "mimetype": "text/x-python",
   "name": "python",
   "nbconvert_exporter": "python",
   "pygments_lexer": "ipython3",
   "version": "3.10.13"
  }
 },
 "nbformat": 4,
 "nbformat_minor": 2
}
