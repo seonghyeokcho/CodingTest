{
 "cells": [
  {
   "cell_type": "markdown",
   "metadata": {},
   "source": [
    "#### 1717"
   ]
  },
  {
   "cell_type": "code",
   "execution_count": null,
   "metadata": {},
   "outputs": [],
   "source": [
    "# --------------------------------------- 테케 불러오기(메모장)\n",
    "TC = []\n",
    "with open(\"./test_cases/1717.txt\", \"r\") as f:\n",
    "    for _ in range(int(f.readline())):\n",
    "        temp = []\n",
    "        n, m = map(int, f.readline().split())\n",
    "        temp.append((n, m))\n",
    "        temp.append([list(map(int, f.readline().split())) for _ in range(m)])\n",
    "        temp.append(list(f.readline().split()))\n",
    "        TC.append(temp)\n",
    "f.close()\n",
    "\n",
    "now = TC[0]\n",
    "n, m = now[0]\n",
    "orders = now[1]\n",
    "answer = now[2]\n",
    "output = []\n",
    "\n",
    "# parents = [-1] * (n+1)  # Union by Rank 만 적용 시\n",
    "parents = list(range(n+1))\n",
    "ranks = [-1] * (n+1)\n",
    "for op, a, b in orders:\n",
    "    if op == 1:\n",
    "        result = find(a) == find(b)\n",
    "        if result:\n",
    "            output.append(\"YES\")\n",
    "        else:\n",
    "            output.append(\"NO\")\n",
    "    else:\n",
    "        union(a, b)\n",
    "\n",
    "print(answer == output, f\"출력: {output}\", f\"정답: {answer}\", sep=\"\\n\")\n",
    "# ---------------------------------------"
   ]
  },
  {
   "cell_type": "code",
   "execution_count": 7,
   "metadata": {},
   "outputs": [
    {
     "name": "stdout",
     "output_type": "stream",
     "text": [
      "True\n",
      "출력: ['NO', 'NO', 'YES']\n",
      "정답: ['NO', 'NO', 'YES']\n"
     ]
    }
   ],
   "source": [
    "# import sys\n",
    "\n",
    "\n",
    "def find(x):\n",
    "    while parents[x] > -1:\n",
    "        x = parents[x]\n",
    "    return x\n",
    "\n",
    "\n",
    "# Union by Rank\n",
    "def union(u, v):\n",
    "    u = find(u)  # u의 root 노드\n",
    "    v = find(v)  # v의 root 노드\n",
    "    \n",
    "    if u != v:\n",
    "        if parents[v] < parents[u]:\n",
    "            u, v = v, u\n",
    "        elif parents[u] == parents[v]:\n",
    "            parents[u] -= 1\n",
    "        parents[v] = u\n",
    "\n",
    "\n",
    "# input = sys.stdin.readline\n",
    "n, m = map(int, input().split())\n",
    "parents = [-1] * (n+1)\n",
    "\n",
    "for _ in range(m):\n",
    "    op, a, b = map(int, input().split())\n",
    "    if op == 1:\n",
    "        result = find(a) == find(b)\n",
    "        if result:\n",
    "            print(\"YES\")\n",
    "        else:\n",
    "            print(\"NO\")\n",
    "    else:\n",
    "        union(a, b)"
   ]
  },
  {
   "cell_type": "code",
   "execution_count": 10,
   "metadata": {},
   "outputs": [
    {
     "name": "stdout",
     "output_type": "stream",
     "text": [
      "True\n",
      "출력: ['NO', 'NO', 'YES']\n",
      "정답: ['NO', 'NO', 'YES']\n"
     ]
    }
   ],
   "source": [
    "# import sys\n",
    "\n",
    "\n",
    "# Path Compression\n",
    "def find(x):\n",
    "    if parents[x] != x:\n",
    "        parents[x] = find(parents[x])\n",
    "    return parents[x]\n",
    "\n",
    "\n",
    "# Union by Rank\n",
    "def union(u, v):\n",
    "    u = find(u)  # u의 root 노드\n",
    "    v = find(v)  # v의 root 노드\n",
    "    \n",
    "    if u != v:\n",
    "        if ranks[v] < ranks[u]:\n",
    "            u, v = v, u\n",
    "        elif ranks[u] == ranks[v]:\n",
    "            ranks[u] -= 1\n",
    "        parents[v] = u\n",
    "\n",
    "\n",
    "# input = sys.stdin.readline\n",
    "n, m = map(int, input().split())\n",
    "parents = list(range(n+1))\n",
    "ranks = [-1] * (n+1)\n",
    "\n",
    "for _ in range(m):\n",
    "    op, a, b = map(int, input().split())\n",
    "    if op == 1:\n",
    "        result = find(a) == find(b)\n",
    "        if result:\n",
    "            print(\"YES\")\n",
    "        else:\n",
    "            print(\"NO\")\n",
    "    else:\n",
    "        union(a, b)"
   ]
  },
  {
   "cell_type": "markdown",
   "metadata": {},
   "source": [
    "#### 7511"
   ]
  },
  {
   "cell_type": "code",
   "execution_count": null,
   "metadata": {},
   "outputs": [],
   "source": []
  },
  {
   "cell_type": "code",
   "execution_count": null,
   "metadata": {},
   "outputs": [],
   "source": []
  },
  {
   "cell_type": "code",
   "execution_count": null,
   "metadata": {},
   "outputs": [],
   "source": []
  }
 ],
 "metadata": {
  "kernelspec": {
   "display_name": "base",
   "language": "python",
   "name": "python3"
  },
  "language_info": {
   "codemirror_mode": {
    "name": "ipython",
    "version": 3
   },
   "file_extension": ".py",
   "mimetype": "text/x-python",
   "name": "python",
   "nbconvert_exporter": "python",
   "pygments_lexer": "ipython3",
   "version": "3.10.13"
  }
 },
 "nbformat": 4,
 "nbformat_minor": 2
}
