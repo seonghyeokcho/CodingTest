{
 "cells": [
  {
   "cell_type": "markdown",
   "metadata": {},
   "source": [
    "#### 11723"
   ]
  },
  {
   "cell_type": "code",
   "execution_count": null,
   "metadata": {},
   "outputs": [],
   "source": [
    "import sys\n",
    "\n",
    "\n",
    "# input = sys.stdin.readline\n",
    "S = 1 << 21\n",
    "for _ in range(int(input())):\n",
    "    op = input().rstrip().split()\n",
    "    if len(op) == 1:\n",
    "        if op[0] == \"all\":\n",
    "            S = (1 << 21) - 1\n",
    "        elif op[0] == \"empty\":\n",
    "            S = 1 << 21\n",
    "    else:\n",
    "        x = int(op[1])\n",
    "        if op[0] == \"add\":\n",
    "            S |= (1 << x)\n",
    "        elif op[0] == \"remove\":\n",
    "            S &= ~(1 << x)\n",
    "        elif op[0] == \"check\":\n",
    "            print(1 if S & (1 << x) else 0)\n",
    "        elif op[0] == \"toggle\":\n",
    "            S ^= (1 << x)"
   ]
  },
  {
   "cell_type": "code",
   "execution_count": null,
   "metadata": {},
   "outputs": [],
   "source": [
    "import sys\n",
    "\n",
    "\n",
    "def bit_masking(S, op):\n",
    "    if len(op) == 1:\n",
    "        if op[0] == \"all\":\n",
    "            S = (1 << 21) - 1\n",
    "        elif op[0] == \"empty\":\n",
    "            S = 1 << 21\n",
    "    else:\n",
    "        x = int(op[1])\n",
    "        if op[0] == \"add\":\n",
    "            S |= (1 << x)\n",
    "        elif op[0] == \"remove\":\n",
    "            S &= ~(1 << x)\n",
    "        elif op[0] == \"check\":\n",
    "            print(1 if S & (1 << x) else 0)\n",
    "        elif op[0] == \"toggle\":\n",
    "            S ^= (1 << x)\n",
    "    return S\n",
    "\n",
    "\n",
    "# input = sys.stdin.readline\n",
    "S = 1 << 21\n",
    "for _ in range(int(input())):\n",
    "    S = bit_masking(S, input().rstrip().split())"
   ]
  },
  {
   "cell_type": "code",
   "execution_count": null,
   "metadata": {},
   "outputs": [],
   "source": [
    "import sys\n",
    "\n",
    "\n",
    "def bit_masking(op):\n",
    "    global S\n",
    "    if len(op) == 1:\n",
    "        if op[0] == \"all\":\n",
    "            S = (1 << 20) - 1\n",
    "        elif op[0] == \"empty\":\n",
    "            S = 0\n",
    "    else:\n",
    "        x = int(op[1]) - 1\n",
    "        if op[0] == \"add\":\n",
    "            S |= (1 << x)\n",
    "        elif op[0] == \"remove\":\n",
    "            S &= ~(1 << x)\n",
    "        elif op[0] == \"check\":\n",
    "            output(\"1\\n\" if S & (1 << x) else \"0\\n\")\n",
    "        elif op[0] == \"toggle\":\n",
    "            S ^= (1 << x)\n",
    "\n",
    "\n",
    "if __name__ == \"__main__\":\n",
    "    input = sys.stdin.readline\n",
    "    output = sys.stdout.write\n",
    "    S = 0\n",
    "    for _ in range(int(input())):\n",
    "        bit_masking(input().split())"
   ]
  },
  {
   "cell_type": "code",
   "execution_count": null,
   "metadata": {},
   "outputs": [],
   "source": [
    "import sys\n",
    "\n",
    "\n",
    "def bit_masking():\n",
    "    S = 0\n",
    "    for _ in range(int(input())):\n",
    "        op = input().split()\n",
    "        \n",
    "        if len(op) == 2:\n",
    "            op[1] = int(op[1]) - 1\n",
    "        \n",
    "        match op[0]:\n",
    "            case \"add\": S |= (1 << op[1])\n",
    "            case \"remove\": S &= ~(1 << op[1])\n",
    "            case \"check\": output(\"1\\n\" if S & (1 << op[1]) else \"0\\n\")\n",
    "            case \"toggle\": S ^= (1 << op[1])\n",
    "            case \"all\": S = (1 << 20) - 1\n",
    "            case \"empty\": S = 0\n",
    "\n",
    "\n",
    "if __name__ == \"__main__\":\n",
    "    input = sys.stdin.readline\n",
    "    output = sys.stdout.write\n",
    "    bit_masking()"
   ]
  },
  {
   "cell_type": "markdown",
   "metadata": {},
   "source": [
    "#### 1094"
   ]
  },
  {
   "cell_type": "code",
   "execution_count": null,
   "metadata": {},
   "outputs": [
    {
     "name": "stdout",
     "output_type": "stream",
     "text": [
      "4\n"
     ]
    }
   ],
   "source": [
    "x = int(input())\n",
    "count = 0\n",
    "for i in range(7):\n",
    "    if x & (1 << i):\n",
    "        count += 1\n",
    "print(count)"
   ]
  },
  {
   "cell_type": "code",
   "execution_count": 82,
   "metadata": {},
   "outputs": [
    {
     "data": {
      "text/plain": [
       "'0b10111'"
      ]
     },
     "execution_count": 82,
     "metadata": {},
     "output_type": "execute_result"
    }
   ],
   "source": [
    "print(int(input()).bit_count())"
   ]
  },
  {
   "cell_type": "code",
   "execution_count": 108,
   "metadata": {},
   "outputs": [
    {
     "data": {
      "text/plain": [
       "3"
      ]
     },
     "execution_count": 108,
     "metadata": {},
     "output_type": "execute_result"
    }
   ],
   "source": [
    "int(\"11\", 2)"
   ]
  },
  {
   "cell_type": "code",
   "execution_count": 135,
   "metadata": {},
   "outputs": [
    {
     "name": "stdout",
     "output_type": "stream",
     "text": [
      "0b11110\n",
      "30\n",
      "28\n",
      "24\n",
      "16\n",
      "0\n"
     ]
    }
   ],
   "source": [
    "# 1. (~K)+1\n",
    "# 2. K & ()\n",
    "# 3. K - ()\n",
    "\n",
    "K = 30\n",
    "print(bin(K))\n",
    "print(K)\n",
    "while K > 0:\n",
    "    K = K - (K & (~K + 1))\n",
    "    print(K)"
   ]
  },
  {
   "cell_type": "code",
   "execution_count": null,
   "metadata": {},
   "outputs": [],
   "source": []
  },
  {
   "cell_type": "markdown",
   "metadata": {},
   "source": [
    "### 테케 불러오기"
   ]
  },
  {
   "cell_type": "code",
   "execution_count": 73,
   "metadata": {},
   "outputs": [
    {
     "name": "stdout",
     "output_type": "stream",
     "text": [
      "True\n",
      "출력: [1, 1, 0, 1, 0, 1, 0, 1, 0, 1, 1, 0, 0, 0, 1, 0]\n",
      "정답: [1, 1, 0, 1, 0, 1, 0, 1, 0, 1, 1, 0, 0, 0, 1, 0]\n"
     ]
    }
   ],
   "source": [
    "# --------------------------------------- 테케 불러오기(메모장)\n",
    "TC = []\n",
    "with open(\"./test_cases/11723.txt\", \"r\") as f:\n",
    "    for _ in range(int(f.readline())):\n",
    "        temp = []\n",
    "        m = int(f.readline())\n",
    "        temp.append(m)\n",
    "        temp.append([f.readline().rstrip().split() for _ in range(m)])\n",
    "        temp.append(list(map(int, f.readline().split())))\n",
    "        TC.append(temp)\n",
    "f.close()\n",
    "\n",
    "now = TC[0]\n",
    "answer = now[2]\n",
    "output = []\n",
    "S = 0\n",
    "for i in range(now[0]):\n",
    "    bit_masking(now[1][i])\n",
    "print(answer == output, f\"출력: {output}\", f\"정답: {answer}\", sep=\"\\n\")\n",
    "# ---------------------------------------"
   ]
  }
 ],
 "metadata": {
  "kernelspec": {
   "display_name": "base",
   "language": "python",
   "name": "python3"
  },
  "language_info": {
   "codemirror_mode": {
    "name": "ipython",
    "version": 3
   },
   "file_extension": ".py",
   "mimetype": "text/x-python",
   "name": "python",
   "nbconvert_exporter": "python",
   "pygments_lexer": "ipython3",
   "version": "3.10.13"
  }
 },
 "nbformat": 4,
 "nbformat_minor": 2
}
