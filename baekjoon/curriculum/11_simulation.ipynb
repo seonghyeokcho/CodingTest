{
 "cells": [
  {
   "cell_type": "markdown",
   "metadata": {},
   "source": [
    "#### 15683"
   ]
  },
  {
   "cell_type": "code",
   "execution_count": null,
   "metadata": {},
   "outputs": [],
   "source": [
    "# 1. cctv 위치 정보와 빈 칸의 개수를 저장한다.\n",
    "# 2. 4^k-1(k는 cctv 수) 만큼 반복하며 각 cctv마다 감시할 수 있는 구역을 표시하고 빈칸의 수에서 차감\n",
    "# 3. 2번에서 매번 사각지대의 크기를 갱신하여 최소 사각지대의 크기를 출력한다."
   ]
  },
  {
   "cell_type": "code",
   "execution_count": null,
   "metadata": {},
   "outputs": [],
   "source": [
    "# --------------------------------------- 테케 불러오기(메모장)\n",
    "TC = []\n",
    "with open(\"./test_cases/15683.txt\", \"r\") as f:\n",
    "    for _ in range(int(f.readline())):\n",
    "        temp = []\n",
    "        n, m = map(int, f.readline().split())\n",
    "        temp.append((n, m))\n",
    "        temp.append([list(map(int, f.readline().split())) for _ in range(n)])\n",
    "        temp.append(int(f.readline()))\n",
    "        TC.append(temp)\n",
    "f.close()\n",
    "\n",
    "\n",
    "now = TC[0]\n",
    "n, m = now[0]\n",
    "board = now[1]\n",
    "answer = now[2]\n",
    "cctv = []\n",
    "empty = 0\n",
    "dx = [-1, 0, 1, 0]\n",
    "dy = [0, -1, 0, 1]\n",
    "for i in range(n):\n",
    "    temp = []\n",
    "    for j in range(m):\n",
    "        if board[i][j] == 0:\n",
    "            empty += 1\n",
    "        elif board[i][j] != 6:\n",
    "            cctv.append((i, j))\n",
    "\n",
    "\n",
    "output = brute_force()\n",
    "print(answer == output, f\"출력: {output}\", f\"정답: {answer}\", sep=\"\\n\")\n",
    "# ---------------------------------------"
   ]
  },
  {
   "cell_type": "code",
   "execution_count": null,
   "metadata": {},
   "outputs": [
    {
     "name": "stdout",
     "output_type": "stream",
     "text": [
      "True\n",
      "출력: 20\n",
      "정답: 20\n"
     ]
    }
   ],
   "source": [
    "import sys\n",
    "\n",
    "\n",
    "# input = sys.stdin.readline\n",
    "\n",
    "\n",
    "def brute_force():\n",
    "    \n",
    "    def process(x, y, k):\n",
    "        nonlocal empty_case, visited\n",
    "        dx = [-1, 0, 1, 0]\n",
    "        dy = [0, -1, 0, 1]\n",
    "        k %= 4\n",
    "        while True:\n",
    "            x += dx[k]\n",
    "            y += dy[k]\n",
    "            if not (0 <= x < n and 0 <= y < m) or board[x][y] == 6:\n",
    "                return  # 사무실을 벗어나거나 벽을 만나면 종료\n",
    "            elif board[x][y] != 0 or x*m+y in visited:\n",
    "                continue\n",
    "            visited.add(x*m+y)\n",
    "            empty_case -= 1\n",
    "    \n",
    "    answer = empty\n",
    "    for i in range(1<<(2*len(cctv))):  # 4^k개의 경우의 수를 모두 탐색 (k는 cctv 수)\n",
    "        P_i = i\n",
    "        empty_case = empty\n",
    "        visited = set()\n",
    "        for x, y in cctv:  # 케이스 i에 대하여 모든 cctv를 순회\n",
    "            k = P_i % 4\n",
    "            P_i //= 4\n",
    "            match board[x][y]:\n",
    "                case 1:\n",
    "                    process(x, y, k)\n",
    "                case 2:\n",
    "                    process(x, y, k)\n",
    "                    process(x, y, k+2)\n",
    "                case 3:\n",
    "                    process(x, y, k)\n",
    "                    process(x, y, k+1)\n",
    "                case 4:\n",
    "                    process(x, y, k)\n",
    "                    process(x, y, k+1)\n",
    "                    process(x, y, k+2)\n",
    "                case _:\n",
    "                    process(x, y, k)\n",
    "                    process(x, y, k+1)\n",
    "                    process(x, y, k+2)\n",
    "                    process(x, y, k+3)\n",
    "        answer = min(answer, empty_case)\n",
    "    return answer\n",
    "\n",
    "\n",
    "n, m = map(int, input().split())\n",
    "board = []\n",
    "cctv = []\n",
    "empty = 0\n",
    "for i in range(n):\n",
    "    temp = []\n",
    "    for j, cell in enumerate(map(int, input().split())):\n",
    "        if cell == 0:\n",
    "            empty += 1\n",
    "        elif cell != 6:\n",
    "            cctv.append((i, j))\n",
    "        temp.append(cell)\n",
    "    board.append(temp)\n",
    "\n",
    "print(brute_force())"
   ]
  },
  {
   "cell_type": "code",
   "execution_count": null,
   "metadata": {},
   "outputs": [
    {
     "name": "stdout",
     "output_type": "stream",
     "text": [
      "True\n",
      "출력: 20\n",
      "정답: 20\n"
     ]
    }
   ],
   "source": [
    "import sys\n",
    "\n",
    "\n",
    "# input = sys.stdin.readline\n",
    "\n",
    "\n",
    "def brute_force():\n",
    "    \n",
    "    def process(x, y, queue):\n",
    "        nonlocal P_empty, visited\n",
    "        while queue:\n",
    "            k = queue.pop()\n",
    "            k %= 4\n",
    "            nx, ny = x, y\n",
    "            while True:\n",
    "                nx, ny = nx + dx[k], ny + dy[k]\n",
    "                if not (0 <= nx < n and 0 <= ny < m) or board[nx][ny] == 6:\n",
    "                    break  # 사무실을 벗어나거나 벽을 만나면 종료\n",
    "                elif board[nx][ny] != 0 or (idx := nx*m + ny) in visited:\n",
    "                    continue  # cctv이거나 이미 방문한 곳이라면 건너뜀\n",
    "                visited.add(idx)\n",
    "                P_empty -= 1\n",
    "    \n",
    "    answer = empty\n",
    "    for i in range(1<<(2*len(cctv))):  # 4^k개의 경우의 수를 모두 탐색 (k는 cctv 수)\n",
    "        P = i  # 임의의 경우의 수 P\n",
    "        P_empty = empty\n",
    "        visited = set()  # 방문 여부 기록을 위해 set 클래스 사용\n",
    "        for x, y in cctv:  # 임의의 경우의 수 P에 대하여 모든 cctv를 순회\n",
    "            k = P % 4  # 0 <= k <= 3\n",
    "            P //= 4  # 4진법으로 해체\n",
    "            match board[x][y]:  # cctv 1~5\n",
    "                case 1: process(x, y, [k])\n",
    "                case 2: process(x, y, [k+2, k])\n",
    "                case 3: process(x, y, [k+1, k])\n",
    "                case 4: process(x, y, [k+2, k+1, k])\n",
    "                case _: process(x, y, [k+3, k+2, k+1, k])\n",
    "        answer = min(answer, P_empty)  # 최소 사각 지대 갱신\n",
    "    return answer\n",
    "\n",
    "\n",
    "dx = [-1, 0, 1, 0]\n",
    "dy = [0, -1, 0, 1]\n",
    "n, m = map(int, input().split())\n",
    "board = []\n",
    "cctv = []\n",
    "empty = 0\n",
    "for i in range(n):\n",
    "    temp = []\n",
    "    for j, cell in enumerate(map(int, input().split())):\n",
    "        if cell == 0:\n",
    "            empty += 1\n",
    "        elif cell != 6:\n",
    "            cctv.append((i, j))\n",
    "        temp.append(cell)\n",
    "    board.append(temp)\n",
    "\n",
    "print(brute_force())"
   ]
  },
  {
   "cell_type": "markdown",
   "metadata": {},
   "source": [
    "#### 18808"
   ]
  },
  {
   "cell_type": "code",
   "execution_count": null,
   "metadata": {},
   "outputs": [],
   "source": [
    "# 필요한 함수\n",
    "# - 스티커 90도 회전시키는 함수\n",
    "# - 노트북에 스티커 붙이는 함수(동시에 확인 작업도 진행) + 최댓값 갱신\n",
    "#   - 참고사항: 새로 붙일 스티커의 가장 왼쪽 위 부분을 노트북 의 가장 왼쪽 위 부분에 부착\n",
    "#   -         이미 기존의 스티커가 부착되어 있다면, 기존 스티커의 가장 오른쪽 위 부분을 기준으로 새로운 스티커를 부착\n",
    "# - 브루트 포스 or 백트래킹 함수"
   ]
  },
  {
   "cell_type": "code",
   "execution_count": null,
   "metadata": {},
   "outputs": [
    {
     "name": "stdout",
     "output_type": "stream",
     "text": [
      "0\n"
     ]
    }
   ],
   "source": [
    "import sys\n",
    "\n",
    "\n",
    "def rotate(r, c, sticker):\n",
    "    return c, r, [(j, r-1-i) for i, j in sticker]\n",
    "\n",
    "\n",
    "def paste(x, y, note, sticker):\n",
    "    temp = set()\n",
    "    for i, j in sticker:\n",
    "        nx, ny = x + i, y + j\n",
    "        if nx*m + ny in note:\n",
    "            return False, note\n",
    "        temp.add(nx*m + ny)\n",
    "    return True, note | temp\n",
    "\n",
    "\n",
    "def main():\n",
    "    note = set()\n",
    "    for _ in range(k):\n",
    "        r, c = map(int, input().split())\n",
    "        sticker = []\n",
    "        for i in range(r):\n",
    "            for j, cell in enumerate(map(int, input().split())):\n",
    "                if cell == 1:\n",
    "                    sticker.append((i, j))\n",
    "        for _ in range(4):\n",
    "            is_pasted = False\n",
    "            for x in range(n-r+1):\n",
    "                for y in range(m-c+1):\n",
    "                    is_pasted, note = paste(x, y, note, sticker)\n",
    "                    if is_pasted:\n",
    "                        break\n",
    "                if is_pasted:\n",
    "                    break\n",
    "            if is_pasted:\n",
    "                break\n",
    "            r, c, sticker = rotate(r, c, sticker)\n",
    "    print(len(note))\n",
    "\n",
    "\n",
    "if __name__ == \"__main__\":\n",
    "    # input = sys.stdin.readline\n",
    "    n, m, k = map(int, input().split())\n",
    "    main()"
   ]
  },
  {
   "cell_type": "markdown",
   "metadata": {},
   "source": [
    "#### 12100"
   ]
  },
  {
   "cell_type": "code",
   "execution_count": null,
   "metadata": {},
   "outputs": [
    {
     "name": "stdout",
     "output_type": "stream",
     "text": [
      "32\n"
     ]
    }
   ],
   "source": [
    "import sys\n",
    "import copy\n",
    "\n",
    "\n",
    "def rotate(board):\n",
    "    return [[board[n-1-j][i] for j in range(n)] for i in range(n)]\n",
    "\n",
    "\n",
    "def move(k, board):\n",
    "    result = 0\n",
    "    while (k := k-1) > -1:\n",
    "        board = rotate(board)\n",
    "    for i in range(n):\n",
    "        row = [0] * n\n",
    "        idx = 0\n",
    "        for j in range(n):\n",
    "            if board[i][j] != 0:\n",
    "                if row[idx] == 0:\n",
    "                    row[idx] = board[i][j]\n",
    "                elif row[idx] == board[i][j]:\n",
    "                    row[idx] *= 2\n",
    "                    result = max(result, row[idx])\n",
    "                    idx += 1\n",
    "                else:\n",
    "                    row[(idx := idx+1)] = board[i][j]\n",
    "        board[i] = row\n",
    "    return result, board\n",
    "\n",
    "\n",
    "def brute_force(answer):\n",
    "    for i in range(1024):\n",
    "        P = i\n",
    "        P_board = copy.deepcopy(board)\n",
    "        for _ in range(5):\n",
    "            k = P % 4\n",
    "            P //= 4\n",
    "            P_maximum, P_board = move(k, P_board)\n",
    "        answer = max(answer, P_maximum)\n",
    "    print(answer)\n",
    "\n",
    "\n",
    "if __name__ == \"__main__\":\n",
    "    # input = sys.stdin.readline\n",
    "    dx = [-1, 0, 1, 0]\n",
    "    dy = [0, -1, 0, 1]\n",
    "    board = []\n",
    "    maximum = 0\n",
    "    n = int(input())\n",
    "    for i in range(n):\n",
    "        temp = []\n",
    "        for j, cell in enumerate(map(int, input().split())):\n",
    "            if cell != 0:\n",
    "                maximum = max(maximum, cell)\n",
    "            temp.append(cell)\n",
    "        board.append(temp)\n",
    "    brute_force(maximum)"
   ]
  },
  {
   "cell_type": "code",
   "execution_count": 77,
   "metadata": {},
   "outputs": [
    {
     "name": "stdout",
     "output_type": "stream",
     "text": [
      "128\n"
     ]
    }
   ],
   "source": [
    "import sys\n",
    "\n",
    "\n",
    "def move(d, board):\n",
    "    global maximum\n",
    "    merged = set()\n",
    "    for x, y in blocks:\n",
    "        nx, ny = x, y\n",
    "        while nx+dx[d] >= 0 and nx+dx[d] < n and ny+dy[d] >= 0 and ny+dy[d] < n:\n",
    "            nx += dx[d]\n",
    "            ny += dy[d]\n",
    "            if board[nx][ny] == 0:\n",
    "                swap = board[nx-dx[d]][ny-dy[d]]\n",
    "                board[nx][ny], board[nx-dx[d]][ny-dy[d]] = swap, 0\n",
    "            elif board[nx][ny] == board[nx-dx[d]][ny-dy[d]]:\n",
    "                if nx*n + ny not in merged:\n",
    "                    merged.add(nx*n + ny)\n",
    "                    board[nx][ny] *= 2\n",
    "                    board[nx-dx[d]][ny-dy[d]] = 0\n",
    "                    maximum = max(maximum, board[nx][ny])\n",
    "            else:\n",
    "                break\n",
    "    return board\n",
    "\n",
    "\n",
    "def back_tracking(k, board):\n",
    "    # global maximum\n",
    "    if k == 5:\n",
    "        # maximum = max(maximum, max(max(row) for row in board))\n",
    "        return\n",
    "    for d in range(4):\n",
    "        back_tracking(k+1, move(d, board))\n",
    "\n",
    "\n",
    "if __name__ == \"__main__\":\n",
    "    # input = sys.stdin.readline\n",
    "    dx = [-1, 0, 1, 0]\n",
    "    dy = [0, -1, 0, 1]\n",
    "    board = []\n",
    "    blocks = []\n",
    "    maximum = 0\n",
    "    n = int(input())\n",
    "    for i in range(n):\n",
    "        temp = []\n",
    "        for j, cell in enumerate(map(int, input().split())):\n",
    "            if cell != 0:\n",
    "                maximum = max(maximum, cell)\n",
    "                blocks.append((i, j))\n",
    "            temp.append(cell)\n",
    "        board.append(temp)\n",
    "    back_tracking(0, [[board[i][j] for j in range(n)] for i in range(n)])\n",
    "    print(maximum)"
   ]
  },
  {
   "cell_type": "code",
   "execution_count": null,
   "metadata": {},
   "outputs": [],
   "source": [
    "3\n",
    "2 4 8\n",
    "4 8 16\n",
    "8 16 32\n",
    "32"
   ]
  },
  {
   "cell_type": "code",
   "execution_count": null,
   "metadata": {},
   "outputs": [],
   "source": [
    "5\n",
    "0 0 128 0 8\n",
    "64 0 0 2 2\n",
    "2 8 0 0 64\n",
    "2 32 4 8 8\n",
    "0 0 0 16 0\n",
    "256"
   ]
  },
  {
   "cell_type": "code",
   "execution_count": null,
   "metadata": {},
   "outputs": [],
   "source": [
    "3\n",
    "2 2 2\n",
    "4 4 4\n",
    "8 8 8\n",
    "16"
   ]
  },
  {
   "cell_type": "code",
   "execution_count": 8,
   "metadata": {},
   "outputs": [
    {
     "data": {
      "text/plain": [
       "256.0"
      ]
     },
     "execution_count": 8,
     "metadata": {},
     "output_type": "execute_result"
    }
   ],
   "source": [
    "(1<<10)/4"
   ]
  },
  {
   "cell_type": "code",
   "execution_count": 21,
   "metadata": {},
   "outputs": [
    {
     "data": {
      "text/plain": [
       "[[1, 2, 3], [4, 5, 6], [7, 8, 9]]"
      ]
     },
     "execution_count": 21,
     "metadata": {},
     "output_type": "execute_result"
    }
   ],
   "source": [
    "n = 3\n",
    "a = [[1,2,3],[4,5,6],[7,8,9]]\n",
    "a = [[a[n-1-j][i] for j in range(n)] for i in range(n)]\n",
    "a = [[a[n-1-j][i] for j in range(n)] for i in range(n)]\n",
    "a = [[a[n-1-j][i] for j in range(n)] for i in range(n)]\n",
    "a = [[a[n-1-j][i] for j in range(n)] for i in range(n)]\n",
    "a"
   ]
  },
  {
   "cell_type": "code",
   "execution_count": 34,
   "metadata": {},
   "outputs": [
    {
     "name": "stdout",
     "output_type": "stream",
     "text": [
      "rotate\n"
     ]
    }
   ],
   "source": [
    "a = 1\n",
    "while (a := a-1) > -1:\n",
    "    print(\"rotate\")"
   ]
  },
  {
   "cell_type": "code",
   "execution_count": 38,
   "metadata": {},
   "outputs": [
    {
     "data": {
      "text/plain": [
       "[1, 2, 3]"
      ]
     },
     "execution_count": 38,
     "metadata": {},
     "output_type": "execute_result"
    }
   ],
   "source": [
    "i = 0\n",
    "a = [[1,2,3],[4,5,6],[7,8,9]]\n",
    "b = [1,2,3]\n",
    "a[1] = b\n",
    "a[1]"
   ]
  },
  {
   "cell_type": "code",
   "execution_count": 64,
   "metadata": {},
   "outputs": [
    {
     "name": "stdout",
     "output_type": "stream",
     "text": [
      "1024\n"
     ]
    }
   ],
   "source": [
    "def test(k):\n",
    "    global result\n",
    "    if k == 5:\n",
    "        result.append(0)\n",
    "        return\n",
    "    for i in range(4):\n",
    "        test(k+1)\n",
    "\n",
    "result = []\n",
    "test(0)\n",
    "print(len(result))"
   ]
  },
  {
   "cell_type": "code",
   "execution_count": 59,
   "metadata": {},
   "outputs": [
    {
     "data": {
      "text/plain": [
       "1024"
      ]
     },
     "execution_count": 59,
     "metadata": {},
     "output_type": "execute_result"
    }
   ],
   "source": [
    "(4**5)"
   ]
  },
  {
   "cell_type": "code",
   "execution_count": null,
   "metadata": {},
   "outputs": [],
   "source": []
  },
  {
   "cell_type": "code",
   "execution_count": null,
   "metadata": {},
   "outputs": [],
   "source": []
  },
  {
   "cell_type": "code",
   "execution_count": null,
   "metadata": {},
   "outputs": [],
   "source": []
  },
  {
   "cell_type": "code",
   "execution_count": null,
   "metadata": {},
   "outputs": [],
   "source": []
  },
  {
   "cell_type": "markdown",
   "metadata": {},
   "source": [
    "#### 테케 불러오기"
   ]
  },
  {
   "cell_type": "code",
   "execution_count": null,
   "metadata": {},
   "outputs": [],
   "source": [
    "# --------------------------------------- 테케 불러오기(메모장)\n",
    "TC = []\n",
    "with open(\"./test_cases/16933.txt\", \"r\") as f:\n",
    "    for _ in range(int(f.readline())):\n",
    "        temp = []\n",
    "        n, m, k = map(int, f.readline().split())\n",
    "        temp.append((n, m, k))\n",
    "        temp.append([list(map(int, f.readline().rstrip())) for _ in range(n)])\n",
    "        temp.append(int(f.readline()))\n",
    "        TC.append(temp)\n",
    "f.close()\n",
    "\n",
    "\n",
    "now = TC[6]\n",
    "n, m, k = now[0]\n",
    "graph = now[1]\n",
    "answer = now[2]\n",
    "output = bfs(n, m, k, graph)\n",
    "print(answer == output, f\"출력: {output}\", f\"정답: {answer}\", sep=\"\\n\")\n",
    "# ---------------------------------------"
   ]
  }
 ],
 "metadata": {
  "kernelspec": {
   "display_name": "base",
   "language": "python",
   "name": "python3"
  },
  "language_info": {
   "codemirror_mode": {
    "name": "ipython",
    "version": 3
   },
   "file_extension": ".py",
   "mimetype": "text/x-python",
   "name": "python",
   "nbconvert_exporter": "python",
   "pygments_lexer": "ipython3",
   "version": "3.10.13"
  }
 },
 "nbformat": 4,
 "nbformat_minor": 2
}
