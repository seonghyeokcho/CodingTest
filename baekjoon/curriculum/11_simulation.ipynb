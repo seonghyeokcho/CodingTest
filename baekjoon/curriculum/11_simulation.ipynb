{
 "cells": [
  {
   "cell_type": "markdown",
   "metadata": {},
   "source": [
    "#### 15683"
   ]
  },
  {
   "cell_type": "code",
   "execution_count": null,
   "metadata": {},
   "outputs": [],
   "source": [
    "# 1. cctv 위치 정보와 빈 칸의 개수를 저장한다.\n",
    "# 2. 4^k-1(k는 cctv 수) 만큼 반복하며 각 cctv마다 감시할 수 있는 구역을 표시하고 빈칸의 수에서 차감\n",
    "# 3. 2번에서 매번 사각지대의 크기를 갱신하여 최소 사각지대의 크기를 출력한다."
   ]
  },
  {
   "cell_type": "code",
   "execution_count": null,
   "metadata": {},
   "outputs": [],
   "source": [
    "# --------------------------------------- 테케 불러오기(메모장)\n",
    "TC = []\n",
    "with open(\"./test_cases/15683.txt\", \"r\") as f:\n",
    "    for _ in range(int(f.readline())):\n",
    "        temp = []\n",
    "        n, m = map(int, f.readline().split())\n",
    "        temp.append((n, m))\n",
    "        temp.append([list(map(int, f.readline().split())) for _ in range(n)])\n",
    "        temp.append(int(f.readline()))\n",
    "        TC.append(temp)\n",
    "f.close()\n",
    "\n",
    "\n",
    "now = TC[0]\n",
    "n, m = now[0]\n",
    "board = now[1]\n",
    "answer = now[2]\n",
    "cctv = []\n",
    "empty = 0\n",
    "dx = [-1, 0, 1, 0]\n",
    "dy = [0, -1, 0, 1]\n",
    "for i in range(n):\n",
    "    temp = []\n",
    "    for j in range(m):\n",
    "        if board[i][j] == 0:\n",
    "            empty += 1\n",
    "        elif board[i][j] != 6:\n",
    "            cctv.append((i, j))\n",
    "\n",
    "\n",
    "output = brute_force()\n",
    "print(answer == output, f\"출력: {output}\", f\"정답: {answer}\", sep=\"\\n\")\n",
    "# ---------------------------------------"
   ]
  },
  {
   "cell_type": "code",
   "execution_count": null,
   "metadata": {},
   "outputs": [
    {
     "name": "stdout",
     "output_type": "stream",
     "text": [
      "True\n",
      "출력: 20\n",
      "정답: 20\n"
     ]
    }
   ],
   "source": [
    "import sys\n",
    "\n",
    "\n",
    "# input = sys.stdin.readline\n",
    "\n",
    "\n",
    "def brute_force():\n",
    "    \n",
    "    def process(x, y, k):\n",
    "        nonlocal empty_case, visited\n",
    "        dx = [-1, 0, 1, 0]\n",
    "        dy = [0, -1, 0, 1]\n",
    "        k %= 4\n",
    "        while True:\n",
    "            x += dx[k]\n",
    "            y += dy[k]\n",
    "            if not (0 <= x < n and 0 <= y < m) or board[x][y] == 6:\n",
    "                return  # 사무실을 벗어나거나 벽을 만나면 종료\n",
    "            elif board[x][y] != 0 or x*m+y in visited:\n",
    "                continue\n",
    "            visited.add(x*m+y)\n",
    "            empty_case -= 1\n",
    "    \n",
    "    answer = empty\n",
    "    for i in range(1<<(2*len(cctv))):  # 4^k개의 경우의 수를 모두 탐색 (k는 cctv 수)\n",
    "        P_i = i\n",
    "        empty_case = empty\n",
    "        visited = set()\n",
    "        for x, y in cctv:  # 케이스 i에 대하여 모든 cctv를 순회\n",
    "            k = P_i % 4\n",
    "            P_i //= 4\n",
    "            match board[x][y]:\n",
    "                case 1:\n",
    "                    process(x, y, k)\n",
    "                case 2:\n",
    "                    process(x, y, k)\n",
    "                    process(x, y, k+2)\n",
    "                case 3:\n",
    "                    process(x, y, k)\n",
    "                    process(x, y, k+1)\n",
    "                case 4:\n",
    "                    process(x, y, k)\n",
    "                    process(x, y, k+1)\n",
    "                    process(x, y, k+2)\n",
    "                case _:\n",
    "                    process(x, y, k)\n",
    "                    process(x, y, k+1)\n",
    "                    process(x, y, k+2)\n",
    "                    process(x, y, k+3)\n",
    "        answer = min(answer, empty_case)\n",
    "    return answer\n",
    "\n",
    "\n",
    "n, m = map(int, input().split())\n",
    "board = []\n",
    "cctv = []\n",
    "empty = 0\n",
    "for i in range(n):\n",
    "    temp = []\n",
    "    for j, cell in enumerate(map(int, input().split())):\n",
    "        if cell == 0:\n",
    "            empty += 1\n",
    "        elif cell != 6:\n",
    "            cctv.append((i, j))\n",
    "        temp.append(cell)\n",
    "    board.append(temp)\n",
    "\n",
    "print(brute_force())"
   ]
  },
  {
   "cell_type": "code",
   "execution_count": null,
   "metadata": {},
   "outputs": [
    {
     "name": "stdout",
     "output_type": "stream",
     "text": [
      "True\n",
      "출력: 20\n",
      "정답: 20\n"
     ]
    }
   ],
   "source": [
    "import sys\n",
    "\n",
    "\n",
    "# input = sys.stdin.readline\n",
    "\n",
    "\n",
    "def brute_force():\n",
    "    \n",
    "    def process(x, y, queue):\n",
    "        nonlocal P_empty, visited\n",
    "        while queue:\n",
    "            k = queue.pop()\n",
    "            k %= 4\n",
    "            nx, ny = x, y\n",
    "            while True:\n",
    "                nx, ny = nx + dx[k], ny + dy[k]\n",
    "                if not (0 <= nx < n and 0 <= ny < m) or board[nx][ny] == 6:\n",
    "                    break  # 사무실을 벗어나거나 벽을 만나면 종료\n",
    "                elif board[nx][ny] != 0 or (idx := nx*m + ny) in visited:\n",
    "                    continue  # cctv이거나 이미 방문한 곳이라면 건너뜀\n",
    "                visited.add(idx)\n",
    "                P_empty -= 1\n",
    "    \n",
    "    answer = empty\n",
    "    for i in range(1<<(2*len(cctv))):  # 4^k개의 경우의 수를 모두 탐색 (k는 cctv 수)\n",
    "        P = i  # 임의의 경우의 수 P\n",
    "        P_empty = empty\n",
    "        visited = set()  # 방문 여부 기록을 위해 set 클래스 사용\n",
    "        for x, y in cctv:  # 임의의 경우의 수 P에 대하여 모든 cctv를 순회\n",
    "            k = P % 4  # 0 <= k <= 3\n",
    "            P //= 4  # 4진법으로 해체\n",
    "            match board[x][y]:  # cctv 1~5\n",
    "                case 1: process(x, y, [k])\n",
    "                case 2: process(x, y, [k+2, k])\n",
    "                case 3: process(x, y, [k+1, k])\n",
    "                case 4: process(x, y, [k+2, k+1, k])\n",
    "                case _: process(x, y, [k+3, k+2, k+1, k])\n",
    "        answer = min(answer, P_empty)  # 최소 사각 지대 갱신\n",
    "    return answer\n",
    "\n",
    "\n",
    "dx = [-1, 0, 1, 0]\n",
    "dy = [0, -1, 0, 1]\n",
    "n, m = map(int, input().split())\n",
    "board = []\n",
    "cctv = []\n",
    "empty = 0\n",
    "for i in range(n):\n",
    "    temp = []\n",
    "    for j, cell in enumerate(map(int, input().split())):\n",
    "        if cell == 0:\n",
    "            empty += 1\n",
    "        elif cell != 6:\n",
    "            cctv.append((i, j))\n",
    "        temp.append(cell)\n",
    "    board.append(temp)\n",
    "\n",
    "print(brute_force())"
   ]
  },
  {
   "cell_type": "markdown",
   "metadata": {},
   "source": [
    "#### 18808"
   ]
  },
  {
   "cell_type": "code",
   "execution_count": null,
   "metadata": {},
   "outputs": [],
   "source": [
    "# 필요한 함수\n",
    "# - 스티커 90도 회전시키는 함수\n",
    "# - 노트북에 스티커 붙이는 함수(동시에 확인 작업도 진행) + 최댓값 갱신\n",
    "#   - 참고사항: 새로 붙일 스티커의 가장 왼쪽 위 부분을 노트북 의 가장 왼쪽 위 부분에 부착\n",
    "#   -         이미 기존의 스티커가 부착되어 있다면, 기존 스티커의 가장 오른쪽 위 부분을 기준으로 새로운 스티커를 부착\n",
    "# - 브루트 포스 or 백트래킹 함수"
   ]
  },
  {
   "cell_type": "code",
   "execution_count": null,
   "metadata": {},
   "outputs": [
    {
     "name": "stdout",
     "output_type": "stream",
     "text": [
      "0\n"
     ]
    }
   ],
   "source": [
    "import sys\n",
    "\n",
    "\n",
    "def rotate(r, c, sticker):\n",
    "    return c, r, [(j, r-1-i) for i, j in sticker]\n",
    "\n",
    "\n",
    "def paste(x, y, note, sticker):\n",
    "    temp = set()\n",
    "    for i, j in sticker:\n",
    "        nx, ny = x + i, y + j\n",
    "        if nx*m + ny in note:\n",
    "            return False, note\n",
    "        temp.add(nx*m + ny)\n",
    "    return True, note | temp\n",
    "\n",
    "\n",
    "def main():\n",
    "    note = set()\n",
    "    for _ in range(k):\n",
    "        r, c = map(int, input().split())\n",
    "        sticker = []\n",
    "        for i in range(r):\n",
    "            for j, cell in enumerate(map(int, input().split())):\n",
    "                if cell == 1:\n",
    "                    sticker.append((i, j))\n",
    "        for _ in range(4):\n",
    "            is_pasted = False\n",
    "            for x in range(n-r+1):\n",
    "                for y in range(m-c+1):\n",
    "                    is_pasted, note = paste(x, y, note, sticker)\n",
    "                    if is_pasted:\n",
    "                        break\n",
    "                if is_pasted:\n",
    "                    break\n",
    "            if is_pasted:\n",
    "                break\n",
    "            r, c, sticker = rotate(r, c, sticker)\n",
    "    print(len(note))\n",
    "\n",
    "\n",
    "if __name__ == \"__main__\":\n",
    "    # input = sys.stdin.readline\n",
    "    n, m, k = map(int, input().split())\n",
    "    main()"
   ]
  },
  {
   "cell_type": "markdown",
   "metadata": {},
   "source": [
    "#### 12100"
   ]
  },
  {
   "cell_type": "code",
   "execution_count": null,
   "metadata": {},
   "outputs": [
    {
     "name": "stdout",
     "output_type": "stream",
     "text": [
      "16\n",
      "[[2, 2, 2], [4, 4, 4], [8, 8, 8]]\n"
     ]
    }
   ],
   "source": [
    "import sys\n",
    "\n",
    "\n",
    "def rotate(board):\n",
    "    return list(zip(*board))[::-1]\n",
    "\n",
    "\n",
    "def move(k, maximum, board):\n",
    "    while (k := k-1) >= -1:\n",
    "        board = rotate(board)\n",
    "    for i in range(n):\n",
    "        row = [0] * n\n",
    "        idx = 0\n",
    "        for j in range(n):\n",
    "            if board[i][j] != 0:\n",
    "                if row[idx] == 0:\n",
    "                    row[idx] = board[i][j]\n",
    "                elif row[idx] == board[i][j]:\n",
    "                    row[idx] *= 2\n",
    "                    maximum = max(maximum, row[idx])\n",
    "                    idx += 1\n",
    "                else:\n",
    "                    row[(idx := idx+1)] = board[i][j]\n",
    "        board[i] = row\n",
    "    return maximum, board\n",
    "\n",
    "\n",
    "def brute_force(board, answer):\n",
    "    for i in range(1024):\n",
    "        P = i\n",
    "        P_maximum = 0\n",
    "        P_board = board  # move 함수에서 rotate 함수를 통해 새로 할당 받기 때문에 move 함수에 board를 전달할 때 copy 할 필요 없음.\n",
    "        for _ in range(5):\n",
    "            k = P % 4\n",
    "            P //= 4\n",
    "            P_maximum, P_board = move(k, P_maximum, P_board)\n",
    "        answer = max(answer, P_maximum)\n",
    "    print(answer)\n",
    "\n",
    "\n",
    "if __name__ == \"__main__\":\n",
    "    # input = sys.stdin.readline\n",
    "    dx = [-1, 0, 1, 0]\n",
    "    dy = [0, -1, 0, 1]\n",
    "    board = []\n",
    "    maximum = 0\n",
    "    n = int(input())\n",
    "    for i in range(n):\n",
    "        board.append(list(map(int, input().split())))\n",
    "        maximum = max(maximum, max(board[i]))\n",
    "    brute_force(board, maximum)"
   ]
  },
  {
   "cell_type": "markdown",
   "metadata": {},
   "source": [
    "#### 15686"
   ]
  },
  {
   "cell_type": "code",
   "execution_count": 5,
   "metadata": {},
   "outputs": [
    {
     "name": "stdout",
     "output_type": "stream",
     "text": [
      "5\n"
     ]
    }
   ],
   "source": [
    "import sys\n",
    "\n",
    "\n",
    "def get_distance():\n",
    "    distance = 0\n",
    "    for x, y in houses:\n",
    "        temp = 1e9\n",
    "        for a, b in selected:\n",
    "            temp = min(temp, abs(x-a) + abs(y-b))\n",
    "        distance += temp\n",
    "    return distance\n",
    "\n",
    "\n",
    "def back_tracking(k, idx):\n",
    "    global answer\n",
    "    if k == m:\n",
    "        distance = get_distance()\n",
    "        answer = min(answer, distance)\n",
    "        return\n",
    "    \n",
    "    for i in range(idx, len(chickens)):\n",
    "        selected[k] = chickens[i]\n",
    "        back_tracking(k+1, i+1)\n",
    "\n",
    "\n",
    "# input = sys.stdin.readline\n",
    "n, m = map(int, input().split())\n",
    "\n",
    "houses = []\n",
    "chickens = []\n",
    "selected = [0] * m\n",
    "answer = 1e9\n",
    "\n",
    "for i in range(n):\n",
    "    for j, cell in enumerate(map(int, input().split())):\n",
    "        if cell == 1:\n",
    "            houses.append((i, j))\n",
    "        elif cell == 2:\n",
    "            chickens.append((i, j))\n",
    "\n",
    "back_tracking(0, 0)\n",
    "print(answer)"
   ]
  },
  {
   "cell_type": "markdown",
   "metadata": {},
   "source": [
    "#### 14891"
   ]
  },
  {
   "cell_type": "code",
   "execution_count": 6,
   "metadata": {},
   "outputs": [
    {
     "name": "stdout",
     "output_type": "stream",
     "text": [
      "False\n",
      "출력: 4\n",
      "정답: 7\n"
     ]
    }
   ],
   "source": [
    "import sys\n",
    "from collections import deque\n",
    "\n",
    "\n",
    "def check(gears):\n",
    "    bit_mask = 0\n",
    "    for i in range(3):\n",
    "        if gears[i][2] != gears[i+1][-2]:\n",
    "            bit_mask |= (1<<i)\n",
    "    return bit_mask\n",
    "\n",
    "\n",
    "def rotate(n, dx, bit_mask, gears):\n",
    "    queue = list(map(int, bin(bit_mask)[2:].rjust(3, \"0\")))\n",
    "    if (n-2 > 0 and queue[n-2]) or queue[n-1]:\n",
    "        for i, x in enumerate(queue):\n",
    "            if x == 1:\n",
    "                gears[i].rotate(int(dx * ((-1)**(n-i-1))))\n",
    "                if i == 2:\n",
    "                    gears[3].rotate(int(dx * ((-1)**(n-4))))\n",
    "    return gears\n",
    "\n",
    "\n",
    "def main(rotations, gears):\n",
    "    # input = sys.stdin.readline\n",
    "    # gears = [deque(map(int, input().rstrip())) for _ in range(4)]\n",
    "\n",
    "    # for _ in range(int(input())):\n",
    "        # n, dx = map(int, input().split())\n",
    "    for n, dx in rotations:\n",
    "        bit_mask = check(gears)\n",
    "        gears = rotate(n, dx, bit_mask, gears)\n",
    "\n",
    "    # print(sum((1 << i)*int(gears[i][0] == 1) for i in range(4)))\n",
    "    return sum((1 << i)*int(gears[i][0] == 1) for i in range(4))\n",
    "\n",
    "\n",
    "# if __name__ == \"__main__\":\n",
    "#     main()\n",
    "# --------------------------------------- 테케 불러오기(메모장)\n",
    "TC = []\n",
    "with open(\"./test_cases/14891.txt\", \"r\") as f:\n",
    "    for _ in range(int(f.readline())):\n",
    "        temp = []\n",
    "        temp.append([deque(map(int, f.readline().rstrip())) for _ in range(4)])\n",
    "        k = int(f.readline())\n",
    "        temp.append([list(map(int, f.readline().rstrip().split())) for _ in range(k)])\n",
    "        temp.append(int(f.readline()))\n",
    "        TC.append(temp)\n",
    "f.close()\n",
    "\n",
    "\n",
    "now = TC[0]\n",
    "gears = now[0]\n",
    "rotations = now[1]\n",
    "answer = now[2]\n",
    "output = main(rotations, gears)\n",
    "print(answer == output, f\"출력: {output}\", f\"정답: {answer}\", sep=\"\\n\")\n",
    "# ---------------------------------------"
   ]
  },
  {
   "cell_type": "code",
   "execution_count": 91,
   "metadata": {},
   "outputs": [
    {
     "data": {
      "text/plain": [
       "-1.0"
      ]
     },
     "execution_count": 91,
     "metadata": {},
     "output_type": "execute_result"
    }
   ],
   "source": [
    "(-1)**(-1)"
   ]
  },
  {
   "cell_type": "code",
   "execution_count": 89,
   "metadata": {},
   "outputs": [
    {
     "data": {
      "text/plain": [
       "1"
      ]
     },
     "execution_count": 89,
     "metadata": {},
     "output_type": "execute_result"
    }
   ],
   "source": [
    "a = 0\n",
    "a | (1<<0)"
   ]
  },
  {
   "cell_type": "code",
   "execution_count": null,
   "metadata": {},
   "outputs": [],
   "source": [
    "10101111\n",
    "01111101\n",
    "11001110\n",
    "00000010\n",
    "2\n",
    "3 -1\n",
    "1 1"
   ]
  },
  {
   "cell_type": "code",
   "execution_count": 55,
   "metadata": {},
   "outputs": [
    {
     "data": {
      "text/plain": [
       "'0100'"
      ]
     },
     "execution_count": 55,
     "metadata": {},
     "output_type": "execute_result"
    }
   ],
   "source": [
    "bin(4)[2:].rjust(4, \"0\")"
   ]
  },
  {
   "cell_type": "code",
   "execution_count": 86,
   "metadata": {},
   "outputs": [
    {
     "data": {
      "text/plain": [
       "1"
      ]
     },
     "execution_count": 86,
     "metadata": {},
     "output_type": "execute_result"
    }
   ],
   "source": [
    "d = -1\n",
    "int(d**(1-3))"
   ]
  },
  {
   "cell_type": "code",
   "execution_count": 84,
   "metadata": {},
   "outputs": [
    {
     "ename": "TypeError",
     "evalue": "'float' object cannot be interpreted as an integer",
     "output_type": "error",
     "traceback": [
      "\u001b[0;31m---------------------------------------------------------------------------\u001b[0m",
      "\u001b[0;31mTypeError\u001b[0m                                 Traceback (most recent call last)",
      "Cell \u001b[0;32mIn[84], line 1\u001b[0m\n\u001b[0;32m----> 1\u001b[0m \u001b[43mdeque\u001b[49m\u001b[43m(\u001b[49m\u001b[43m[\u001b[49m\u001b[38;5;241;43m1\u001b[39;49m\u001b[43m,\u001b[49m\u001b[38;5;241;43m2\u001b[39;49m\u001b[43m,\u001b[49m\u001b[38;5;241;43m3\u001b[39;49m\u001b[43m]\u001b[49m\u001b[43m)\u001b[49m\u001b[38;5;241;43m.\u001b[39;49m\u001b[43mrotate\u001b[49m\u001b[43m(\u001b[49m\u001b[38;5;241;43m-\u001b[39;49m\u001b[38;5;241;43m1.0\u001b[39;49m\u001b[43m)\u001b[49m\n",
      "\u001b[0;31mTypeError\u001b[0m: 'float' object cannot be interpreted as an integer"
     ]
    }
   ],
   "source": [
    "deque([1,2,3]).rotate(-1.0)"
   ]
  },
  {
   "cell_type": "markdown",
   "metadata": {},
   "source": [
    "#### 테케 불러오기"
   ]
  },
  {
   "cell_type": "code",
   "execution_count": null,
   "metadata": {},
   "outputs": [],
   "source": [
    "# --------------------------------------- 테케 불러오기(메모장)\n",
    "TC = []\n",
    "with open(\"./test_cases/16933.txt\", \"r\") as f:\n",
    "    for _ in range(int(f.readline())):\n",
    "        temp = []\n",
    "        n, m, k = map(int, f.readline().split())\n",
    "        temp.append((n, m, k))\n",
    "        temp.append([list(map(int, f.readline().rstrip())) for _ in range(n)])\n",
    "        temp.append(int(f.readline()))\n",
    "        TC.append(temp)\n",
    "f.close()\n",
    "\n",
    "\n",
    "now = TC[6]\n",
    "n, m, k = now[0]\n",
    "graph = now[1]\n",
    "answer = now[2]\n",
    "output = bfs(n, m, k, graph)\n",
    "print(answer == output, f\"출력: {output}\", f\"정답: {answer}\", sep=\"\\n\")\n",
    "# ---------------------------------------"
   ]
  }
 ],
 "metadata": {
  "kernelspec": {
   "display_name": "base",
   "language": "python",
   "name": "python3"
  },
  "language_info": {
   "codemirror_mode": {
    "name": "ipython",
    "version": 3
   },
   "file_extension": ".py",
   "mimetype": "text/x-python",
   "name": "python",
   "nbconvert_exporter": "python",
   "pygments_lexer": "ipython3",
   "version": "3.10.13"
  }
 },
 "nbformat": 4,
 "nbformat_minor": 2
}
