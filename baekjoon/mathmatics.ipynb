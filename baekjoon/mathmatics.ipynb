{
 "cells": [
  {
   "cell_type": "code",
   "execution_count": 14,
   "metadata": {},
   "outputs": [
    {
     "name": "stdout",
     "output_type": "stream",
     "text": [
      "2\n",
      "2\n",
      "7\n"
     ]
    }
   ],
   "source": [
    "# 13458번, 시험감독, 브론즈2\n",
    "# n개의 시험장\n",
    "# 응시자 in 시험장\n",
    "# 감독관 -> 총감독관, 부감독관\n",
    "    # 총감독관: 감시 가능 B명, 시험장마다 오직 1명\n",
    "    # 부감독관: 감시 가능 C명, 여러 명 가능\n",
    "# 감독관 수의 최솟값을 구해라.\n",
    "\n",
    "\n",
    "N = int(input())  # 시험장의 개수\n",
    "A = list(map(int, input().split()))  # 각 시험장의 응시자 수\n",
    "B, C = map(int, input().split())\n",
    "\n",
    "answer = 0\n",
    "for number in A:\n",
    "    if number <= B:\n",
    "        answer += 1\n",
    "        continue\n",
    "    elif number > B:\n",
    "        answer += 1\n",
    "        p, q = divmod(number-B, C)\n",
    "        answer += p\n",
    "        if q:\n",
    "            answer += 1\n",
    "\n",
    "print(answer)"
   ]
  },
  {
   "cell_type": "code",
   "execution_count": null,
   "metadata": {},
   "outputs": [],
   "source": []
  }
 ],
 "metadata": {
  "kernelspec": {
   "display_name": "base",
   "language": "python",
   "name": "python3"
  },
  "language_info": {
   "codemirror_mode": {
    "name": "ipython",
    "version": 3
   },
   "file_extension": ".py",
   "mimetype": "text/x-python",
   "name": "python",
   "nbconvert_exporter": "python",
   "pygments_lexer": "ipython3",
   "version": "3.10.13"
  }
 },
 "nbformat": 4,
 "nbformat_minor": 2
}
