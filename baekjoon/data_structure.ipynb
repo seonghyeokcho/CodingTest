{
 "cells": [
  {
   "cell_type": "markdown",
   "metadata": {},
   "source": [
    "### Stack"
   ]
  },
  {
   "cell_type": "markdown",
   "metadata": {},
   "source": [
    "#### 스택(난이도: 실버 4)\n",
    "\n",
    "- 문제\n",
    "    - 정수를 저장하는 스택을 구현한 다음, 입력으로 주어지는 명령을 처리하는 프로그램을 작성하시오.\n",
    "    - 명령은 총 다섯 가지이다.\n",
    "        - push X: 정수 X를 스택에 넣는 연산이다.\n",
    "        - pop: 스택에서 가장 위에 있는 정수를 빼고, 그 수를 출력한다. 만약 스택에 들어있는 정수가 없는 경우에는 -1을 출력한다.\n",
    "        - size: 스택에 들어있는 정수의 개수를 출력한다.\n",
    "        - empty: 스택이 비어있으면 1, 아니면 0을 출력한다.\n",
    "        - top: 스택의 가장 위에 있는 정수를 출력한다. 만약 스택에 들어있는 정수가 없는 경우에는 -1을 출력한다.\n",
    "- 입력\n",
    "    - 첫째 줄에 주어지는 명령의 수 N (1 ≤ N ≤ 10,000)이 주어진다. 둘째 줄부터 N개의 줄에는 명령이 하나씩 주어진다. 주어지는 정수는 1보다 크거나 같고, 100,000보다 작거나 같다. 문제에 나와있지 않은 명령이 주어지는 경우는 없다.\n",
    "\n",
    "- 출력\n",
    "    - 출력해야하는 명령이 주어질 때마다, 한 줄에 하나씩 출력한다."
   ]
  },
  {
   "cell_type": "code",
   "execution_count": null,
   "metadata": {},
   "outputs": [],
   "source": [
    "from sys import stdin, stdout\n",
    "\n",
    "input = stdin.readline\n",
    "\n",
    "N = int(input())\n",
    "stack = []\n",
    "\n",
    "for _ in range(N):\n",
    "    order = input().split()\n",
    "    if order[0] == \"push\":\n",
    "        stack.append(order[1])\n",
    "    elif order[0] == \"pop\":\n",
    "        if stack:\n",
    "            print(stack.pop())\n",
    "        else:\n",
    "            print(\"-1\")\n",
    "    elif order[0] == \"size\":\n",
    "        print(len(stack))\n",
    "    elif order[0] == \"empty\":\n",
    "        if not stack:\n",
    "            print(\"1\")\n",
    "        else:\n",
    "            print(\"0\")\n",
    "    elif order[0] == \"top\":\n",
    "        if stack:\n",
    "            print(stack[-1])\n",
    "        else:\n",
    "            print(\"-1\")"
   ]
  },
  {
   "cell_type": "markdown",
   "metadata": {},
   "source": [
    "#### 괄호(난이도: 실버 4)\n",
    "\n",
    "- 문제\n",
    "    - 괄호 문자열(Parenthesis String, PS)은 두 개의 괄호 기호인 ‘(’ 와 ‘)’ 만으로 구성되어 있는 문자열이다. 그 중에서 괄호의 모양이 바르게 구성된 문자열을 올바른 괄호 문자열(Valid PS, VPS)이라고 부른다. 한 쌍의 괄호 기호로 된 “( )” 문자열은 기본 VPS 이라고 부른다. 만일 x 가 VPS 라면 이것을 하나의 괄호에 넣은 새로운 문자열 “(x)”도 VPS 가 된다. 그리고 두 VPS x 와 y를 접합(concatenation)시킨 새로운 문자열 xy도 VPS 가 된다. 예를 들어 “(())()”와 “((()))” 는 VPS 이지만 “(()(”, “(())()))” , 그리고 “(()” 는 모두 VPS 가 아닌 문자열이다. \n",
    "    - 여러분은 입력으로 주어진 괄호 문자열이 VPS 인지 아닌지를 판단해서 그 결과를 YES 와 NO 로 나타내어야 한다. \n",
    "\n",
    "- 입력\n",
    "    - 입력 데이터는 표준 입력을 사용한다. 입력은 T개의 테스트 데이터로 주어진다. 입력의 첫 번째 줄에는 입력 데이터의 수를 나타내는 정수 T가 주어진다. 각 테스트 데이터의 첫째 줄에는 괄호 문자열이 한 줄에 주어진다. 하나의 괄호 문자열의 길이는 2 이상 50 이하이다. \n",
    "\n",
    "- 출력\n",
    "    - 출력은 표준 출력을 사용한다. 만일 입력 괄호 문자열이 올바른 괄호 문자열(VPS)이면 “YES”, 아니면 “NO”를 한 줄에 하나씩 차례대로 출력해야 한다. "
   ]
  },
  {
   "cell_type": "code",
   "execution_count": null,
   "metadata": {},
   "outputs": [],
   "source": [
    "from sys import stdin, stdout\n",
    "\n",
    "input = stdin.readline\n",
    "\n",
    "\n",
    "N = int(input())\n",
    "\n",
    "for _ in range(N):\n",
    "    stack = []\n",
    "    parentheses = input().rstrip()\n",
    "\n",
    "    for p in parentheses:\n",
    "        if stack[-1:] == [\"(\"] and p == \")\":\n",
    "            stack.pop()\n",
    "            continue\n",
    "        stack.append(p)\n",
    "\n",
    "    stdout.write(\"YES\\n\") if not stack else stdout.write(\"NO\\n\")"
   ]
  },
  {
   "cell_type": "code",
   "execution_count": 32,
   "metadata": {},
   "outputs": [
    {
     "name": "stdout",
     "output_type": "stream",
     "text": [
      "NO\n",
      "NO\n",
      "YES\n",
      "NO\n",
      "YES\n",
      "NO\n"
     ]
    }
   ],
   "source": [
    "from sys import stdin, stdout\n",
    "\n",
    "\n",
    "# parentheses = stdin.readlines()[1:]\n",
    "parentheses = [\n",
    "    \"(())())\",\n",
    "    \"(((()())()\",\n",
    "    \"(()())((()))\",\n",
    "    \"((()()(()))(((())))()\",\n",
    "    \"()()()()(()()())()\",\n",
    "    \"(()((())()(\",\n",
    "]\n",
    "\n",
    "for p in parentheses:\n",
    "    p = p.rstrip()\n",
    "    while \"()\" in p:\n",
    "        p = p.replace(\"()\", \"\")\n",
    "    stdout.write(\"NO\\n\") if p else stdout.write(\"YES\\n\")"
   ]
  },
  {
   "cell_type": "code",
   "execution_count": 54,
   "metadata": {},
   "outputs": [
    {
     "data": {
      "text/plain": [
       "6"
      ]
     },
     "execution_count": 54,
     "metadata": {},
     "output_type": "execute_result"
    }
   ],
   "source": [
    "a = \"6\\n\"\n",
    "int(a)"
   ]
  },
  {
   "cell_type": "markdown",
   "metadata": {},
   "source": [
    "#### 제로(난이도: 실버 4)\n",
    "\n",
    "- 문제\n",
    "    - 나코더 기장 재민이는 동아리 회식을 준비하기 위해서 장부를 관리하는 중이다.\n",
    "    - 재현이는 재민이를 도와서 돈을 관리하는 중인데, 애석하게도 항상 정신없는 재현이는 돈을 실수로 잘못 부르는 사고를 치기 일쑤였다.\n",
    "    - 재현이는 잘못된 수를 부를 때마다 0을 외쳐서, 가장 최근에 재민이가 쓴 수를 지우게 시킨다.\n",
    "    - 재민이는 이렇게 모든 수를 받아 적은 후 그 수의 합을 알고 싶어 한다. 재민이를 도와주자!\n",
    "\n",
    "- 입력\n",
    "    - 첫 번째 줄에 정수 K가 주어진다. (1 ≤ K ≤ 100,000)\n",
    "    - 이후 K개의 줄에 정수가 1개씩 주어진다. 정수는 0에서 1,000,000 사이의 값을 가지며, 정수가 \"0\" 일 경우에는 가장 최근에 쓴 수를 지우고, 아닐 경우 해당 수를 쓴다.\n",
    "    - 정수가 \"0\"일 경우에 지울 수 있는 수가 있음을 보장할 수 있다.\n",
    "\n",
    "- 출력\n",
    "    - 재민이가 최종적으로 적어 낸 수의 합을 출력한다. 최종적으로 적어낸 수의 합은 2^31-1보다 작거나 같은 정수이다."
   ]
  },
  {
   "cell_type": "code",
   "execution_count": 59,
   "metadata": {},
   "outputs": [
    {
     "name": "stdout",
     "output_type": "stream",
     "text": [
      "0\n"
     ]
    },
    {
     "data": {
      "text/plain": [
       "2"
      ]
     },
     "execution_count": 59,
     "metadata": {},
     "output_type": "execute_result"
    }
   ],
   "source": [
    "from sys import stdin, stdout\n",
    "\n",
    "\n",
    "# numbers = stdin.readlines()[1:]\n",
    "numbers = [\"3\\n\", \"0\\n\", \"4\\n\", \"0\\n\"]\n",
    "\n",
    "stack = []\n",
    "for number in numbers:\n",
    "    number = int(number)\n",
    "    if number == 0:\n",
    "        stack.pop()\n",
    "    else:\n",
    "        stack.append(number)\n",
    "\n",
    "stdout.write(str(sum(stack)) + \"\\n\")"
   ]
  },
  {
   "cell_type": "code",
   "execution_count": null,
   "metadata": {},
   "outputs": [],
   "source": [
    "import sys\n",
    "\n",
    "\n",
    "input = sys.stdin.readline\n",
    "\n",
    "stack = []\n",
    "for _ in range(input()):\n",
    "    number = int(number)\n",
    "    if number == 0:\n",
    "        stack.pop()\n",
    "    else:\n",
    "        stack.append(number)\n",
    "\n",
    "stdout.write(str(sum(stack)) + \"\\n\")"
   ]
  },
  {
   "cell_type": "markdown",
   "metadata": {},
   "source": [
    "#### 후위 표기식2(난이도: 실버 3)\n",
    "\n",
    "- 문제\n",
    "    - 후위 표기식과 각 피연산자에 대응하는 값들이 주어져 있을 때, 그 식을 계산하는 프로그램을 작성하시오.\n",
    "\n",
    "- 입력\n",
    "    - 첫째 줄에 피연산자의 개수(1 ≤ N ≤ 26) 가 주어진다. 그리고 둘째 줄에는 후위 표기식이 주어진다. (여기서 피연산자는 A~Z의 영대문자이며, A부터 순서대로 N개의 영대문자만이 사용되며, 길이는 100을 넘지 않는다) 그리고 셋째 줄부터 N+2번째 줄까지는 각 피연산자에 대응하는 값이 주어진다. 3번째 줄에는 A에 해당하는 값, 4번째 줄에는 B에 해당하는값 , 5번째 줄에는 C ...이 주어진다, 그리고 피연산자에 대응 하는 값은 100보다 작거나 같은 자연수이다.\n",
    "    - 후위 표기식을 앞에서부터 계산했을 때, 식의 결과와 중간 결과가 -20억보다 크거나 같고, 20억보다 작거나 같은 입력만 주어진다.\n",
    "\n",
    "- 출력\n",
    "    - 계산 결과를 소숫점 둘째 자리까지 출력한다."
   ]
  },
  {
   "cell_type": "code",
   "execution_count": null,
   "metadata": {},
   "outputs": [],
   "source": [
    "import sys\n",
    "\n",
    "input = sys.stdin.readline\n",
    "\n",
    "N = int(input())\n",
    "postfix = input().rstrip()"
   ]
  },
  {
   "cell_type": "markdown",
   "metadata": {},
   "source": [
    "### Queue"
   ]
  },
  {
   "cell_type": "markdown",
   "metadata": {},
   "source": [
    "#### 10845번, 큐(난이도: 실버 4)"
   ]
  },
  {
   "cell_type": "code",
   "execution_count": 6,
   "metadata": {},
   "outputs": [
    {
     "name": "stdout",
     "output_type": "stream",
     "text": [
      "1\n",
      "2\n",
      "2\n",
      "0\n",
      "1\n",
      "2\n",
      "-1\n",
      "0\n",
      "1\n",
      "-1\n",
      "0\n",
      "3\n"
     ]
    }
   ],
   "source": [
    "from collections import deque\n",
    "from sys import stdin\n",
    "\n",
    "input = stdin.readline\n",
    "\n",
    "N = int(input())\n",
    "Q = deque()\n",
    "for _ in range(N):\n",
    "    order = list(input().split())\n",
    "    if order[0] == \"push\":\n",
    "        Q.append(int(order[1]))\n",
    "    elif order[0] == \"pop\":\n",
    "        print(Q.popleft() if Q else -1)\n",
    "    elif order[0] == \"size\":\n",
    "        print(len(Q))\n",
    "    elif order[0] == \"empty\":\n",
    "        print(0 if Q else 1)\n",
    "    elif order[0] == \"front\":\n",
    "        print(Q[0] if Q else -1)\n",
    "    elif order[0] == \"back\":\n",
    "        print(Q[-1] if Q else -1)"
   ]
  },
  {
   "cell_type": "markdown",
   "metadata": {},
   "source": [
    "#### 2164번, 카드 2(난이도: 실버 4)"
   ]
  },
  {
   "cell_type": "code",
   "execution_count": 3,
   "metadata": {},
   "outputs": [
    {
     "name": "stdout",
     "output_type": "stream",
     "text": [
      "4\n"
     ]
    }
   ],
   "source": [
    "from collections import deque\n",
    "\n",
    "\n",
    "N = int(input())\n",
    "Q = deque([i for i in range(1, N + 1)])\n",
    "\n",
    "while len(Q) > 1:\n",
    "    Q.popleft()\n",
    "    swap = Q.popleft()\n",
    "    Q.append(swap)\n",
    "\n",
    "print(Q[0])"
   ]
  },
  {
   "cell_type": "markdown",
   "metadata": {},
   "source": [
    "#### 11866번, 요세푸스 문제 0(난이도: 실버 5)"
   ]
  },
  {
   "cell_type": "code",
   "execution_count": 33,
   "metadata": {},
   "outputs": [
    {
     "name": "stdout",
     "output_type": "stream",
     "text": [
      "<3, 6, 2, 7, 5, 1, 4>\n"
     ]
    }
   ],
   "source": [
    "from collections import deque\n",
    "\n",
    "\n",
    "N, K = map(int, input().split())\n",
    "Q = deque([i for i in range(1, N + 1)])\n",
    "answer = []\n",
    "\n",
    "i = 1\n",
    "while Q:\n",
    "    if len(Q) == 1:\n",
    "        answer.append(Q.popleft())\n",
    "    elif i == K:\n",
    "        answer.append(Q.popleft())\n",
    "        i = 1\n",
    "    else:\n",
    "        Q.append(Q.popleft())\n",
    "        i += 1\n",
    "\n",
    "print(\"<\" + \", \".join(map(str, answer)) + \">\")"
   ]
  },
  {
   "cell_type": "code",
   "execution_count": 34,
   "metadata": {},
   "outputs": [
    {
     "name": "stdout",
     "output_type": "stream",
     "text": [
      "<3, 6, 2, 7, 5, 1, 4>\n"
     ]
    }
   ],
   "source": [
    "from collections import deque\n",
    "\n",
    "\n",
    "N, K = map(int, input().split())\n",
    "Q = deque([i for i in range(1, N + 1)])\n",
    "answer = []\n",
    "\n",
    "i = 1\n",
    "while Q:\n",
    "    if i != K:\n",
    "        Q.append(Q.popleft())\n",
    "        i += 1\n",
    "    else:\n",
    "        i = 1\n",
    "        answer.append(Q.popleft())\n",
    "\n",
    "print(\"<\" + \", \".join(map(str, answer)) + \">\")"
   ]
  },
  {
   "cell_type": "code",
   "execution_count": 45,
   "metadata": {},
   "outputs": [
    {
     "name": "stdout",
     "output_type": "stream",
     "text": [
      "(3, 3)\n"
     ]
    }
   ],
   "source": [
    "import numpy as np\n",
    "\n",
    "a = np.random.randn(3, 3)\n",
    "b = np.random.randn(3, 1)\n",
    "c = a * b\n",
    "print(c.shape)"
   ]
  },
  {
   "cell_type": "code",
   "execution_count": 41,
   "metadata": {},
   "outputs": [
    {
     "name": "stdout",
     "output_type": "stream",
     "text": [
      "[[3 3]\n",
      " [4 2]]\n"
     ]
    }
   ],
   "source": [
    "a = np.array([[1, 1], [1, -1]])\n",
    "b = np.array([[2], [3]])\n",
    "\n",
    "c = a + b\n",
    "\n",
    "print(c)"
   ]
  },
  {
   "cell_type": "code",
   "execution_count": 5,
   "metadata": {},
   "outputs": [],
   "source": [
    "import numpy as np\n",
    "\n",
    "\n",
    "def softmax(x):\n",
    "    x_exp = np.exp(x)\n",
    "    print(\"1\", x_exp)\n",
    "    x_sum = np.sum(x, axis=1, keepdims=True)\n",
    "    print(\"2\", x_sum)\n",
    "    s = x_exp / x_sum\n",
    "    return s"
   ]
  },
  {
   "cell_type": "code",
   "execution_count": 6,
   "metadata": {},
   "outputs": [
    {
     "name": "stdout",
     "output_type": "stream",
     "text": [
      "1 [[8.10308393e+03 7.38905610e+00 1.48413159e+02 1.00000000e+00\n",
      "  1.00000000e+00]\n",
      " [1.09663316e+03 1.48413159e+02 1.00000000e+00 1.00000000e+00\n",
      "  1.00000000e+00]]\n",
      "2 [[16]\n",
      " [12]]\n",
      "softmax(x) = [[5.06442745e+02 4.61816006e-01 9.27582244e+00 6.25000000e-02\n",
      "  6.25000000e-02]\n",
      " [9.13860965e+01 1.23677633e+01 8.33333333e-02 8.33333333e-02\n",
      "  8.33333333e-02]]\n"
     ]
    }
   ],
   "source": [
    "t_x = np.array([[9, 2, 5, 0, 0],\n",
    "                [7, 5, 0, 0 ,0]])\n",
    "print(\"softmax(x) = \" + str(softmax(t_x)))"
   ]
  },
  {
   "cell_type": "code",
   "execution_count": null,
   "metadata": {},
   "outputs": [],
   "source": []
  }
 ],
 "metadata": {
  "kernelspec": {
   "display_name": "base",
   "language": "python",
   "name": "python3"
  },
  "language_info": {
   "codemirror_mode": {
    "name": "ipython",
    "version": 3
   },
   "file_extension": ".py",
   "mimetype": "text/x-python",
   "name": "python",
   "nbconvert_exporter": "python",
   "pygments_lexer": "ipython3",
   "version": "3.10.13"
  },
  "orig_nbformat": 4
 },
 "nbformat": 4,
 "nbformat_minor": 2
}
