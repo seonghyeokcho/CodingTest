{
 "cells": [
  {
   "cell_type": "markdown",
   "metadata": {},
   "source": [
    "## Software Engineering"
   ]
  },
  {
   "cell_type": "code",
   "execution_count": 106,
   "metadata": {},
   "outputs": [
    {
     "name": "stdout",
     "output_type": "stream",
     "text": [
      "Calculator is ready.\n",
      "executing...\n",
      "expression confirmed\n",
      "=================\n",
      "Result: 1 * 1 = 1\n",
      "=================\n"
     ]
    }
   ],
   "source": [
    "# 계산기를 모듈화하여 구현\n",
    "import time\n",
    "\n",
    "\n",
    "class InputInterfaceModule:\n",
    "    def check_inputs(self, x, y, operator, verbose):\n",
    "        assert x.isnumeric(), \"x is must be integer or float. not string or any\"\n",
    "        assert y.isnumeric(), \"y is must be integer or float. not string or any\"\n",
    "        assert operator in [\"+\",\"-\",\"*\",\"/\",\"//\",\"%\"], \"operator is must be one of +,-,*,/,//,%\"\n",
    "        if verbose:\n",
    "            print(\"expression confirmed\")\n",
    "\n",
    "class ResultInterfaceModule:\n",
    "    def print_result(self, x, y, operator, result):\n",
    "        print_result = f\"Result: {x} {operator} {y} = {result}\"\n",
    "        print(\"=\"*len(print_result))\n",
    "        print(print_result)\n",
    "        print(\"=\"*len(print_result))\n",
    "\n",
    "class CalculateModule(ResultInterfaceModule):\n",
    "    def calculate(self, x, y, operator, verbose):\n",
    "        if operator == \"+\":\n",
    "            result = x + y\n",
    "        elif operator == \"-\":\n",
    "            result = x - y\n",
    "        elif operator == \"*\":\n",
    "            result = x * y\n",
    "        elif operator == \"/\":\n",
    "            result = x / y\n",
    "        elif operator == \"//\":\n",
    "            result = x // y\n",
    "        elif operator == \"%\":\n",
    "            result = x % y\n",
    "        \n",
    "        if verbose:\n",
    "            self.print_result(x, y, operator, result)\n",
    "        \n",
    "        return result\n",
    "\n",
    "class InputModule(InputInterfaceModule):\n",
    "    def split_expression(self, expression, verbose):\n",
    "        x, operator, y = expression.split()\n",
    "        self.check_inputs(x, y, operator, verbose)  # check expression\n",
    "        return int(x), int(y), operator\n",
    "\n",
    "class Calculator(InputModule, CalculateModule):\n",
    "    def __init__(self, verbose=1):\n",
    "        self.verbose = verbose\n",
    "        \n",
    "        if self.verbose:\n",
    "            print(\"Calculator is ready.\")\n",
    "        \n",
    "    def execute(self, expression:str):\n",
    "        if self.verbose:\n",
    "            print(\"executing...\")\n",
    "        \n",
    "        x, y, operator = self.split_expression(expression, self.verbose)\n",
    "        return self.calculate(x, y, operator, self.verbose)\n",
    "\n",
    "calculator = Calculator(verbose=1)\n",
    "result = calculator.execute(\"1 * 1\")"
   ]
  },
  {
   "cell_type": "markdown",
   "metadata": {},
   "source": [
    "#### with 문\n",
    "\n",
    "- @contextmanager, yield\n",
    "- class의 \\_\\_enter\\_\\_, \\_\\_exit\\_\\_"
   ]
  },
  {
   "cell_type": "code",
   "execution_count": 11,
   "metadata": {},
   "outputs": [
    {
     "name": "stdout",
     "output_type": "stream",
     "text": [
      "yield 윗 부분 실행 됐지롱\n",
      "Hello\n",
      "yield 아랫 부분 실행 됐지롱\n",
      "1.0012731552124023\n",
      "==========\n",
      "enter 시작 됐지롱\n",
      "World\n",
      "exit 시작 됐지롱\n",
      "1.0024480819702148\n"
     ]
    }
   ],
   "source": [
    "import time\n",
    "import contextlib\n",
    "\n",
    "# 데코레이터 사용\n",
    "@contextlib.contextmanager\n",
    "def timing():\n",
    "    print(\"yield 윗 부분 실행 됐지롱\")\n",
    "    t0 = time.time()  # with 문 시작할 때 실행\n",
    "    yield\n",
    "    print(\"yield 아랫 부분 실행 됐지롱\")\n",
    "    t1 = time.time()  # with 문 끝날 때 실행\n",
    "    print(t1 - t0)\n",
    "\n",
    "# 클래스 사용\n",
    "class timer:\n",
    "    def __init__(self):\n",
    "        pass\n",
    "    \n",
    "    def __enter__(self):  # with 문 시작할 때 실행\n",
    "        print(\"enter 시작 됐지롱\")\n",
    "        self.start = time.time()\n",
    "    \n",
    "    def __exit__(self, a, b, c):  # with 문 끝날 때 실행\n",
    "        print(\"exit 시작 됐지롱\")\n",
    "        print(time.time() - self.start)\n",
    "\n",
    "with timing():\n",
    "    print(\"Hello\")\n",
    "    time.sleep(1)\n",
    "\n",
    "time.sleep(0.5)\n",
    "print(\"=\"*10)\n",
    "time.sleep(0.5)\n",
    "\n",
    "with timer():\n",
    "    print(\"World\")\n",
    "    time.sleep(1)\n"
   ]
  },
  {
   "cell_type": "markdown",
   "metadata": {},
   "source": [
    "#### yield\n",
    "\n",
    "- 파이썬은 사용자 정의 함수 def 안에 yield가 있으면 generator 라고 취급한다.\n",
    "- def + return = function\n",
    "- def + yield = generator"
   ]
  },
  {
   "cell_type": "code",
   "execution_count": 11,
   "metadata": {},
   "outputs": [
    {
     "name": "stdout",
     "output_type": "stream",
     "text": [
      "r\n"
     ]
    },
    {
     "data": {
      "text/plain": [
       "<generator object range_s at 0x7fd943068270>"
      ]
     },
     "execution_count": 11,
     "metadata": {},
     "output_type": "execute_result"
    }
   ],
   "source": [
    "def range_r(number):\n",
    "    for num in range(number):\n",
    "        print(\"r\")\n",
    "        return num\n",
    "\n",
    "def range_s(number):\n",
    "    for num in range(number):\n",
    "        print(\"s\")\n",
    "        yield num\n",
    "\n",
    "range_r(10)\n",
    "range_s(10)"
   ]
  },
  {
   "cell_type": "markdown",
   "metadata": {},
   "source": [
    "- generator 는 반복문을 이용해서 사용한다."
   ]
  },
  {
   "cell_type": "code",
   "execution_count": 15,
   "metadata": {},
   "outputs": [
    {
     "name": "stdout",
     "output_type": "stream",
     "text": [
      "s\n",
      "item = 0\n",
      "s\n",
      "item = 1\n",
      "s\n",
      "item = 2\n",
      "s\n",
      "item = 3\n",
      "s\n",
      "item = 4\n",
      "s\n",
      "item = 5\n",
      "s\n",
      "item = 6\n",
      "s\n",
      "item = 7\n",
      "s\n",
      "item = 8\n",
      "s\n",
      "item = 9\n"
     ]
    }
   ],
   "source": [
    "for item in range_s(10):\n",
    "    print(f\"item = {item}\")"
   ]
  },
  {
   "cell_type": "markdown",
   "metadata": {},
   "source": [
    "- 여기서 중요한 것은 반복문이 실행 되면서 매 번 item을 가져올 때, yield가 실행된 시점을 기억한다는 점이다.\n",
    "    - ex) 첫번째 item을 가져오고 난 후 -> range_s(): \"첫번째 반복, i=0이었고, yield 0을 했음\"을 기억하고 다음 반복땐 yield가 끝난 지점부터 다시 시작한다.\n",
    "\n",
    "- yield 를 여러번 선언하여 반복문을 통해 순차적으로 선언된 값을 출력할 수도 있다."
   ]
  },
  {
   "cell_type": "code",
   "execution_count": 10,
   "metadata": {},
   "outputs": [
    {
     "name": "stdout",
     "output_type": "stream",
     "text": [
      "1\n",
      "12\n",
      "123\n"
     ]
    }
   ],
   "source": [
    "def yield_1():\n",
    "    yield 1\n",
    "    yield 12\n",
    "    yield 123\n",
    "\n",
    "for item in yield_1():\n",
    "    print(item)"
   ]
  },
  {
   "cell_type": "markdown",
   "metadata": {},
   "source": [
    "- 더이상 실행할 yield가 없거나 중간에 return 을 만난다면? -> generator 로써의 역할을 마침"
   ]
  },
  {
   "cell_type": "code",
   "execution_count": 12,
   "metadata": {},
   "outputs": [
    {
     "name": "stdout",
     "output_type": "stream",
     "text": [
      "1\n",
      "12\n",
      "123\n"
     ]
    }
   ],
   "source": [
    "# 이미 실행된 generator를 재사용하는 경우\n",
    "def yield_1():\n",
    "    yield 1\n",
    "    yield 12\n",
    "    yield 123\n",
    "\n",
    "function = yield_1()\n",
    "\n",
    "for item in function:\n",
    "    print(item)\n",
    "\n",
    "# function = yield_1()  # 한번 더 선언 해줘야 실행 가능\n",
    "\n",
    "for item in function:  # 실행 안됨\n",
    "    print(item)"
   ]
  },
  {
   "cell_type": "code",
   "execution_count": 14,
   "metadata": {},
   "outputs": [
    {
     "name": "stdout",
     "output_type": "stream",
     "text": [
      "1\n"
     ]
    }
   ],
   "source": [
    "# 중간에 return 이 선언된 경우\n",
    "def yield_2():\n",
    "    yield 1\n",
    "    return 12\n",
    "    yield 123  # pylance extension이 있다면 비활성화 표시가 보임\n",
    "\n",
    "for item in yield_2():\n",
    "    print(item)"
   ]
  },
  {
   "cell_type": "markdown",
   "metadata": {},
   "source": [
    "- generator에서 item을 하나씩 접근하고 싶다면? -> next() 함수 사용"
   ]
  },
  {
   "cell_type": "code",
   "execution_count": 26,
   "metadata": {},
   "outputs": [
    {
     "name": "stdout",
     "output_type": "stream",
     "text": [
      "item = 1\n",
      "item = 12\n",
      "item = 123\n"
     ]
    }
   ],
   "source": [
    "def yield_3():\n",
    "    yield 1\n",
    "    yield 12\n",
    "    yield 123\n",
    "\n",
    "function = yield_3()\n",
    "\n",
    "print(f\"item = {next(function)}\")\n",
    "print(f\"item = {next(function)}\")\n",
    "print(f\"item = {next(function)}\")"
   ]
  },
  {
   "cell_type": "markdown",
   "metadata": {},
   "source": [
    "- @contextmanager 와 yield를 사용하여 실사용 예제를 수행해보자."
   ]
  },
  {
   "cell_type": "code",
   "execution_count": 9,
   "metadata": {},
   "outputs": [
    {
     "name": "stdout",
     "output_type": "stream",
     "text": [
      "2\n",
      "4\n"
     ]
    }
   ],
   "source": [
    "# 예시) 밑에 === 로 구분해놓은 함수 부분을 utils.py 라는 파일에 넣어 놓고\n",
    "#      from utils import write_open 이런식으로 불러와 사용할 수 있다.\n",
    "# ========================================\n",
    "import os\n",
    "from contextlib import contextmanager\n",
    "\n",
    "@contextmanager\n",
    "def write_open(path):\n",
    "    dir_name = os.path.dirname(path)\n",
    "    if not os.path.isdir(dir_name):\n",
    "        os.makedirs(dir_name, exist_ok=True)\n",
    "    writer = open(path, \"w\")\n",
    "    print(1)  # 첫 번째 실행\n",
    "    \n",
    "    # -----------\n",
    "    yield writer  # 기준\n",
    "    # -----------\n",
    "    \n",
    "    writer.close()\n",
    "    print(3)  # 세 번째 실행\n",
    "# ========================================\n",
    "\n",
    "with write_open(\"./test/test.txt\") as f:\n",
    "    f.write(\"test\")\n",
    "    print(2)  # 두 번째 실행\n",
    "print(4)  # 네 번째 실행"
   ]
  },
  {
   "cell_type": "markdown",
   "metadata": {},
   "source": [
    "#### lru_cache()\n",
    "\n",
    "- 정의: \"그거 이미 해봄ㅋ\", \"안돼\""
   ]
  },
  {
   "cell_type": "code",
   "execution_count": 32,
   "metadata": {},
   "outputs": [],
   "source": [
    "import time\n",
    "from functools import lru_cache\n",
    "\n",
    "@lru_cache()\n",
    "def think(idea):\n",
    "    print(f\"Hmm... {idea}\")\n",
    "    time.sleep(3)\n",
    "    return \"안돼\""
   ]
  },
  {
   "cell_type": "markdown",
   "metadata": {},
   "source": [
    "- 이제 think 함수에 \"pineapple pizza\"와 \"mint chocolate\"을 전달 해보자."
   ]
  },
  {
   "cell_type": "code",
   "execution_count": 33,
   "metadata": {},
   "outputs": [
    {
     "name": "stdout",
     "output_type": "stream",
     "text": [
      "Hmm... pineapple pizza\n",
      "안돼\n",
      "Hmm... mint chocolate\n",
      "안돼\n"
     ]
    }
   ],
   "source": [
    "print(think(\"pineapple pizza\"))\n",
    "print(think(\"mint chocolate\"))"
   ]
  },
  {
   "cell_type": "markdown",
   "metadata": {},
   "source": [
    "- 위 두 번의 출력은 lru_cache()가 선언 되었든 아니든 상관 없이 기능상 문제가 없다.\n",
    "- 그런데 여기서 think 함수에 \"pineapple pizza\"를 한번 더 전달한다면? -> 묻지도 따지지도 않고 return 값인 \"안돼\"를 반환한다. \"mint chocolate\"도 마찬가지이다."
   ]
  },
  {
   "cell_type": "code",
   "execution_count": 36,
   "metadata": {},
   "outputs": [
    {
     "name": "stdout",
     "output_type": "stream",
     "text": [
      "안돼\n",
      "안돼\n",
      "안돼\n",
      "안돼\n"
     ]
    }
   ],
   "source": [
    "print(think(\"pineapple pizza\"))\n",
    "print(think(\"pineapple pizza\"))\n",
    "\n",
    "print(think(\"mint chocolate\"))\n",
    "print(think(\"mint chocolate\"))"
   ]
  },
  {
   "cell_type": "markdown",
   "metadata": {},
   "source": [
    "- 이것이 바로 lru_cache()의 기능이다. 이미 결과를 구했던 입력에 대해서 다음번에 호출할 때에는 이미 구했었던 결과를 바로 리턴해준다.\n",
    "- 이를 있어 보이는 말로 메모이제이션(memoization)이라고 부른다.\n",
    "- 그렇다면 이런 기능을 실제로는 어떤 때에 활용할 수 있을까? -> 대표적으로 코딩테스트에서 DP(Dynamic Programming)문제를 풀 때, 사용 되는 기법이다.\n",
    "- 또다른 편법은 lru_cache()를 재귀 함수와 함께 사용하면, 메모이제이션 효과를 내어 전체 실행 시간을 비약적으로 단축 시킬 수 있다."
   ]
  },
  {
   "cell_type": "code",
   "execution_count": 20,
   "metadata": {},
   "outputs": [
    {
     "name": "stdout",
     "output_type": "stream",
     "text": [
      "17.020562887191772\n",
      "9227465\n"
     ]
    }
   ],
   "source": [
    "# lru_cache() 미사용 -> SSAP 느림\n",
    "import time\n",
    "\n",
    "\n",
    "def fibonacci(x):\n",
    "    if x <= 1:\n",
    "        return x\n",
    "    return fibonacci(x-1) + fibonacci(x-2)\n",
    "\n",
    "start = time.time()\n",
    "answer = fibonacci(35)\n",
    "end = time.time()\n",
    "\n",
    "print(end - start)\n",
    "print(answer)"
   ]
  },
  {
   "cell_type": "code",
   "execution_count": 27,
   "metadata": {},
   "outputs": [
    {
     "name": "stdout",
     "output_type": "stream",
     "text": [
      "0 1 1 2 3 5 8 13 21 34 55 89 144 233 377 610 987 1597 2584 4181 6765 10946 17711 28657 46368 75025 121393 196418 317811 514229 832040 1346269 2178309 3524578 5702887 9227465 14930352 24157817 39088169 63245986 102334155 165580141 267914296 433494437 701408733 1134903170 1836311903 2971215073 4807526976 7778742049 12586269025 20365011074 32951280099 53316291173 86267571272 139583862445 225851433717 365435296162 591286729879 956722026041 1548008755920 2504730781961 4052739537881 6557470319842 10610209857723 17167680177565 27777890035288 44945570212853 72723460248141 117669030460994 190392490709135 \n",
      "0.0005571842193603516\n"
     ]
    }
   ],
   "source": [
    "# lru_cache() 사용 -> 이게 내가 알던 재귀함수가 맞나\n",
    "import time\n",
    "from functools import lru_cache\n",
    "\n",
    "\n",
    "@lru_cache()\n",
    "def fibonacci(x):\n",
    "    if x <= 1:\n",
    "        return x\n",
    "    return fibonacci(x-1) + fibonacci(x-2)\n",
    "\n",
    "start = time.time()\n",
    "for i in range(71):\n",
    "    print(fibonacci(i), end=\" \")\n",
    "end = time.time()\n",
    "\n",
    "print()\n",
    "print(end - start)"
   ]
  },
  {
   "cell_type": "code",
   "execution_count": 28,
   "metadata": {},
   "outputs": [
    {
     "name": "stdout",
     "output_type": "stream",
     "text": [
      "0 1 1 2 3 5 8 13 21 34 55 89 144 233 377 610 987 1597 2584 4181 6765 10946 17711 28657 46368 75025 121393 196418 317811 514229 832040 1346269 2178309 3524578 5702887 9227465 14930352 24157817 39088169 63245986 102334155 165580141 267914296 433494437 701408733 1134903170 1836311903 2971215073 4807526976 7778742049 12586269025 20365011074 32951280099 53316291173 86267571272 139583862445 225851433717 365435296162 591286729879 956722026041 1548008755920 2504730781961 4052739537881 6557470319842 10610209857723 17167680177565 27777890035288 44945570212853 72723460248141 117669030460994 190392490709135 \n",
      "0.0008327960968017578\n"
     ]
    }
   ],
   "source": [
    "# 메모이제이션 직접 구현 버젼 -> 이게 내가 알던 재귀함수가 맞나..22\n",
    "import time\n",
    "\n",
    "\n",
    "def fibonacci(x, cache=dict()):\n",
    "    if x in cache:\n",
    "        return cache[x]\n",
    "    if x <= 1:\n",
    "        return x\n",
    "    cache[x] = fibonacci(x-1) + fibonacci(x-2)\n",
    "    return fibonacci(x-1) + fibonacci(x-2)\n",
    "\n",
    "start = time.time()\n",
    "for i in range(71):\n",
    "    print(fibonacci(i), end=\" \")\n",
    "end = time.time()\n",
    "\n",
    "print()\n",
    "print(end - start)"
   ]
  },
  {
   "cell_type": "code",
   "execution_count": 29,
   "metadata": {},
   "outputs": [
    {
     "name": "stdout",
     "output_type": "stream",
     "text": [
      "0 1 1 2 3 5 8 13 21 34 55 89 144 233 377 610 987 1597 2584 4181 6765 10946 17711 28657 46368 75025 121393 196418 317811 514229 832040 1346269 2178309 3524578 5702887 9227465 14930352 24157817 39088169 63245986 102334155 165580141 267914296 433494437 701408733 1134903170 1836311903 2971215073 4807526976 7778742049 12586269025 20365011074 32951280099 53316291173 86267571272 139583862445 225851433717 365435296162 591286729879 956722026041 1548008755920 2504730781961 4052739537881 6557470319842 10610209857723 17167680177565 27777890035288 44945570212853 72723460248141 117669030460994 190392490709135 \n",
      "0.0005519390106201172\n"
     ]
    }
   ],
   "source": [
    "# 리스트를 활용한 메모이제이션 기법 적용 -> 사실상 n값이 커질 수록 이 방법이 가장 효율적\n",
    "import time\n",
    "\n",
    "\n",
    "n = 70\n",
    "start = time.time()\n",
    "f = [0, 1] + [0]*(n-1)\n",
    "for i in range(2, n+1):\n",
    "    f[i] = f[i-1] + f[i-2]\n",
    "for i in range(n+1):\n",
    "    print(f[i], end=\" \")\n",
    "end = time.time()\n",
    "\n",
    "print()\n",
    "print(end - start)"
   ]
  },
  {
   "cell_type": "markdown",
   "metadata": {},
   "source": [
    "#### Multi processing"
   ]
  },
  {
   "cell_type": "code",
   "execution_count": 1,
   "metadata": {},
   "outputs": [
    {
     "name": "stdout",
     "output_type": "stream",
     "text": [
      "s = 99980001\n",
      "time = 13.04424786567688\n"
     ]
    }
   ],
   "source": [
    "from square import square\n",
    "import time\n",
    "\n",
    "\n",
    "start = time.time()\n",
    "\n",
    "for i in range(10000):\n",
    "    print(f\"\\rs = {square(i)}\", end=\"\")\n",
    "\n",
    "end = time.time()\n",
    "print(f\"\\ntime = {end-start}\")"
   ]
  },
  {
   "cell_type": "code",
   "execution_count": 2,
   "metadata": {},
   "outputs": [
    {
     "name": "stdout",
     "output_type": "stream",
     "text": [
      "Number of CPU: 12\n"
     ]
    },
    {
     "name": "stdout",
     "output_type": "stream",
     "text": [
      "s = 99980001\n",
      "time = 1.2655439376831055\n"
     ]
    }
   ],
   "source": [
    "from multiprocessing import Pool, cpu_count\n",
    "from square import square\n",
    "import time\n",
    "\n",
    "\n",
    "n_cpu = cpu_count()\n",
    "print(\"Number of CPU:\", n_cpu)\n",
    "pools = Pool(n_cpu-1)\n",
    "\n",
    "start = time.time()\n",
    "\n",
    "for i in pools.imap(square, range(10000)):\n",
    "    print(f\"\\rs = {i}\", end=\"\")\n",
    "\n",
    "end = time.time()\n",
    "print(f\"\\ntime = {end-start}\")"
   ]
  },
  {
   "cell_type": "markdown",
   "metadata": {},
   "source": [
    "#### 딕셔너리 활용법"
   ]
  },
  {
   "cell_type": "code",
   "execution_count": 1,
   "metadata": {},
   "outputs": [
    {
     "name": "stdout",
     "output_type": "stream",
     "text": [
      "{'JOHN': 3, 'JAMES': 1}\n"
     ]
    }
   ],
   "source": [
    "# 라이브러리 미사용\n",
    "text = \"The policeman whose name is JOHN is going to the doughnut store \"+\\\n",
    "    \"JAMES aka doughnut master greeted JOHN and poke to JOHN\"\n",
    "\n",
    "words = text.split(\" \")\n",
    "name_count = {}\n",
    "for word in words:\n",
    "    if word.isupper():\n",
    "        if word in name_count:\n",
    "            name_count[word] += 1\n",
    "        else:\n",
    "            name_count[word] = 1\n",
    "        \n",
    "print(name_count)"
   ]
  },
  {
   "cell_type": "code",
   "execution_count": 2,
   "metadata": {},
   "outputs": [
    {
     "name": "stdout",
     "output_type": "stream",
     "text": [
      "defaultdict(<class 'int'>, {})\n",
      "{'JOHN': 3, 'JAMES': 1}\n"
     ]
    }
   ],
   "source": [
    "# defaultdict 라이브러리 사용\n",
    "from collections import defaultdict\n",
    "text = \"The policeman whose name is JOHN is going to the doughnut store \"+\\\n",
    "    \"JAMES aka doughnut master greeted JOHN and poke to JOHN\"\n",
    "\n",
    "words = text.split(\" \")\n",
    "# key가 없어서 에러가 발생하는 상황이라면 name_count[key] = 0을 몰래 미리 수행한다.\n",
    "name_count = defaultdict(int) # or lambda: n 으로 임의의 초기값을 설정할 수도 있다.\n",
    "print(name_count)\n",
    "for word in words:\n",
    "    if word.isupper():\n",
    "        name_count[word] += 1\n",
    "        \n",
    "print(dict(name_count))"
   ]
  },
  {
   "cell_type": "code",
   "execution_count": 28,
   "metadata": {},
   "outputs": [
    {
     "name": "stdout",
     "output_type": "stream",
     "text": [
      "{'JOHN': 3, 'JAMES': 1}\n"
     ]
    }
   ],
   "source": [
    "# defaultdict 없이 직접 구현 -> 잔기술\n",
    "text = \"The policeman whose name is JOHN is going to the doughnut store \"+\\\n",
    "    \"JAMES aka doughnut master greeted JOHN and poke to JOHN\"\n",
    "\n",
    "words = text.split(\" \")\n",
    "name_count = {}\n",
    "for word in words:\n",
    "    if word.isupper():\n",
    "        name_count.get(word) or name_count.update({word:0})  # and/or 연산자의 특성: 앞에서 이미 답이 정해졌다면, 뒤는 보지 않는다.\n",
    "        name_count[word] += 1\n",
    "        \n",
    "print(name_count)"
   ]
  },
  {
   "cell_type": "code",
   "execution_count": null,
   "metadata": {},
   "outputs": [
    {
     "name": "stdout",
     "output_type": "stream",
     "text": [
      "True\n"
     ]
    }
   ],
   "source": [
    "d = {1:1}\n",
    "if d.get(1) or 9/0:\n",
    "    print(True)"
   ]
  },
  {
   "cell_type": "code",
   "execution_count": 3,
   "metadata": {},
   "outputs": [],
   "source": [
    "d = {}\n",
    "if d.get(1) and 9/0:\n",
    "    print(True)"
   ]
  },
  {
   "cell_type": "code",
   "execution_count": 62,
   "metadata": {},
   "outputs": [
    {
     "data": {
      "text/plain": [
       "{2: 2}"
      ]
     },
     "execution_count": 62,
     "metadata": {},
     "output_type": "execute_result"
    }
   ],
   "source": [
    "d = {}\n",
    "a = \"apple\"\n",
    "a == \"apple\" and d.update({2:2})\n",
    "# if a == \"apple\":\n",
    "#   d.update({2:2})\n",
    "d"
   ]
  },
  {
   "cell_type": "code",
   "execution_count": 63,
   "metadata": {},
   "outputs": [
    {
     "data": {
      "text/plain": [
       "'pineapple'"
      ]
     },
     "execution_count": 63,
     "metadata": {},
     "output_type": "execute_result"
    }
   ],
   "source": [
    "a = \"apple\"\n",
    "b = \"\"\n",
    "a == \"apple\" and (b := \"pineapple\")\n",
    "# if a == \"apple\":\n",
    "#   d.update({2:2})\n",
    "b"
   ]
  },
  {
   "cell_type": "code",
   "execution_count": 72,
   "metadata": {},
   "outputs": [
    {
     "data": {
      "text/plain": [
       "True"
      ]
     },
     "execution_count": 72,
     "metadata": {},
     "output_type": "execute_result"
    }
   ],
   "source": [
    "a = None\n",
    "b = None\n",
    "class Node:\n",
    "    def __init__(self, value=0, left=None, right=None):\n",
    "        self.value = value\n",
    "        self.left = left\n",
    "        self.right = right\n",
    "\n",
    "class Solution:\n",
    "    def isSubtree(self, root, subRoot):\n",
    "        if root is None or subRoot is None:\n",
    "            return root is None and subRoot is None\n",
    "        \n",
    "        return self.is_equal(root, subRoot) or self.isSubtree(root.left, subRoot) or self.isSubtree(root.right, subRoot)\n",
    "\n",
    "    def is_equal(self, root, subRoot):\n",
    "        if root is None or subRoot is None:\n",
    "            return root is None and subRoot is None\n",
    "        \n",
    "        return root.value == subRoot.value and self.is_equal(root.left, subRoot.left) and self.is_equal(root.right, subRoot.right)"
   ]
  },
  {
   "cell_type": "code",
   "execution_count": null,
   "metadata": {},
   "outputs": [],
   "source": []
  },
  {
   "cell_type": "code",
   "execution_count": 36,
   "metadata": {},
   "outputs": [
    {
     "name": "stdout",
     "output_type": "stream",
     "text": [
      "0.3913\n"
     ]
    }
   ],
   "source": [
    "def calculate_intersection_over_union(bounding_box_a, bounding_box_b, epsilon=1e-6):\n",
    "    '''\n",
    "    PASCAL VOC format:\n",
    "    bounding_box = [class, confidence, x_min, y_min, x_max, y_max]\n",
    "    '''\n",
    "    \n",
    "    # intersection\n",
    "    x1 = max(bounding_box_a[2], bounding_box_b[2])\n",
    "    y1 = max(bounding_box_a[3], bounding_box_b[3])\n",
    "    x2 = min(bounding_box_a[4], bounding_box_b[4])\n",
    "    y2 = min(bounding_box_a[5], bounding_box_b[5])\n",
    "\n",
    "    width = x2 - x1\n",
    "    height = y2 - y1\n",
    "    \n",
    "    if width < 0 or height < 0:\n",
    "        return 0.0\n",
    "    \n",
    "    overlapped_area = width * height\n",
    "    \n",
    "    # union\n",
    "    bounding_box_a_width = bounding_box_a[4] - bounding_box_a[2]\n",
    "    bounding_box_a_height = bounding_box_a[5] - bounding_box_a[3]\n",
    "    area_bounding_box_a = bounding_box_a_width * bounding_box_a_height\n",
    "    \n",
    "    bounding_box_b_width = bounding_box_b[4] - bounding_box_b[2]\n",
    "    bounding_box_b_height = bounding_box_b[5] - bounding_box_b[3]\n",
    "    area_bounding_box_b = bounding_box_b_width * bounding_box_b_height\n",
    "    \n",
    "    combined_area = area_bounding_box_a + area_bounding_box_b - overlapped_area\n",
    "    \n",
    "    intersection_over_union = overlapped_area / (combined_area+epsilon)\n",
    "    return round(intersection_over_union, 4)\n",
    "\n",
    "prediction_bbox = [200, 200, 400, 400]\n",
    "ground_truth_bbox = [250, 250, 450, 450]\n",
    "\n",
    "iou = calculate_intersection_over_union(prediction_bbox, ground_truth_bbox)\n",
    "print(iou)"
   ]
  },
  {
   "cell_type": "code",
   "execution_count": 4,
   "metadata": {},
   "outputs": [
    {
     "name": "stdout",
     "output_type": "stream",
     "text": [
      "[[1, 0.58], [1, 0.95], [0, 0.5], [0, 0.12], [1, 0.33]]\n",
      "[[1, 0.95], [1, 0.58], [0, 0.5], [1, 0.33], [0, 0.12]]\n"
     ]
    }
   ],
   "source": [
    "def descending_confidences(detections):\n",
    "    '''\n",
    "    detection = [TP(1) or FP(0), confidence]\n",
    "    detections = [detection1, detection2, ...]\n",
    "    '''\n",
    "    result = []\n",
    "    # insertion sort\n",
    "    for detection in detections:\n",
    "        result.append(detection)\n",
    "        if len(result) > 1 and result[-2][1] < result[-1][1]:\n",
    "            i = -1\n",
    "            while i != -len(result) and result[i-1][1] < result[i][1]:\n",
    "                result[i-1], result[i] = result[i], result[i-1]\n",
    "                i -= 1\n",
    "    return result\n",
    "\n",
    "detections = [[1, 0.58], [1, 0.95], [0, 0.5], [0, 0.12], [1, 0.33]]\n",
    "print(detections)\n",
    "print(descending_confidences(detections))"
   ]
  },
  {
   "cell_type": "code",
   "execution_count": 2,
   "metadata": {},
   "outputs": [
    {
     "data": {
      "text/plain": [
       "[[1, 0.95], [1, 0.58], [0, 0.5], [1, 0.33], [0, 0.12]]"
      ]
     },
     "execution_count": 2,
     "metadata": {},
     "output_type": "execute_result"
    }
   ],
   "source": [
    "def get_precision(true_positives, detections, epsilon=1e-6):\n",
    "    return round(true_positives / (detections+epsilon), 4)\n",
    "\n",
    "def get_recall(true_positives, ground_truths, epsilon=1e-6):\n",
    "    return round(true_positives / (ground_truths+epsilon), 4)\n",
    "\n",
    "def get_precision_recall_curve(detections, ground_truths):\n",
    "    new_detections = []\n",
    "    for \n",
    "    pass\n"
   ]
  },
  {
   "cell_type": "code",
   "execution_count": 7,
   "metadata": {},
   "outputs": [
    {
     "name": "stdout",
     "output_type": "stream",
     "text": [
      "-1\n",
      "-2\n",
      "-3\n",
      "-4\n",
      "-5\n"
     ]
    }
   ],
   "source": [
    "detections = [[1, 0.58], [1, 0.95], [0, 0.5], [0, 0.12], [1, 0.33]]\n",
    "for i in range(-1, -11, -1):\n",
    "    print(i)\n",
    "    if i == -len(detections):\n",
    "        break\n"
   ]
  },
  {
   "cell_type": "code",
   "execution_count": 16,
   "metadata": {},
   "outputs": [
    {
     "name": "stdout",
     "output_type": "stream",
     "text": [
      "3 4\n"
     ]
    }
   ],
   "source": [
    "def forward(x, f, h, returns):\n",
    "    xf = x + f\n",
    "    fh = f + h\n",
    "    xfh = xf + fh\n",
    "    result = xfh // 2\n",
    "    \n",
    "    variables = locals()\n",
    "    return [variables[r] for r in returns]\n",
    "\n",
    "a, b = forward(1, 2, 3, [\"xf\", \"result\"])\n",
    "print(a, b)"
   ]
  },
  {
   "cell_type": "code",
   "execution_count": 17,
   "metadata": {},
   "outputs": [
    {
     "name": "stdout",
     "output_type": "stream",
     "text": [
      "40\n"
     ]
    }
   ],
   "source": [
    "# r: 공비\n",
    "# a_1: 초항\n",
    "# a_n: n차항\n",
    "r = 3\n",
    "a_1 = 1\n",
    "a_n = 27\n",
    "answer = (r * a_n - a_1) // (r - 1)\n",
    "print(answer)"
   ]
  },
  {
   "cell_type": "code",
   "execution_count": null,
   "metadata": {},
   "outputs": [],
   "source": []
  },
  {
   "cell_type": "code",
   "execution_count": null,
   "metadata": {},
   "outputs": [],
   "source": []
  }
 ],
 "metadata": {
  "kernelspec": {
   "display_name": "base",
   "language": "python",
   "name": "python3"
  },
  "language_info": {
   "codemirror_mode": {
    "name": "ipython",
    "version": 3
   },
   "file_extension": ".py",
   "mimetype": "text/x-python",
   "name": "python",
   "nbconvert_exporter": "python",
   "pygments_lexer": "ipython3",
   "version": "3.10.13"
  }
 },
 "nbformat": 4,
 "nbformat_minor": 2
}
